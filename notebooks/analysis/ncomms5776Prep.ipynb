{
 "cells": [
  {
   "cell_type": "markdown",
   "metadata": {},
   "source": [
    "# Map S-sulphenylated peptide fragments on 3D Structure"
   ]
  },
  {
   "cell_type": "markdown",
   "metadata": {},
   "source": [
    "The goal of this study is to systematically map the positions of S-sulphenylation of proteins onto 3D protein structures in the Protein Data Bank."
   ]
  },
  {
   "cell_type": "markdown",
   "metadata": {},
   "source": [
    "Data source:\n",
    "\n",
    "Site-specific mapping and quantification of protein S-sulphenylation in cells.\n",
    "Yang J, Gupta V, Carroll KS, Liebler DC (2014) Nat Commun. (2014), 5:4776. \n",
    "[DOI: 10.1038/ncomms5776](https://doi.org/10.1038/ncomms5776)\n",
    "\n",
    "Excerpts from abstract:\n",
    "Protein S-sulphenylation, the reversible oxidation of protein cysteinyl thiols to suphenic acids (R-SOH), has emerged as a potential mechanism to regulate protein functions, signal transduction and effects of oxidative stress.\n",
    "This study identified 1,000 S-sulphenylation sites on more than 700 proteins. Quantitative analysis of human cells stimulated with hydrogen peroxide or epidermal growth factor measured hundreds of site selective redox changes."
   ]
  },
  {
   "cell_type": "code",
   "execution_count": 1,
   "metadata": {},
   "outputs": [],
   "source": [
    "import xlrd\n",
    "import pandas as pd"
   ]
  },
  {
   "cell_type": "markdown",
   "metadata": {},
   "source": [
    "### Read dataset (SulfenM) from supplementary data 2 excel file"
   ]
  },
  {
   "cell_type": "code",
   "execution_count": 2,
   "metadata": {},
   "outputs": [],
   "source": [
    "df = pd.read_excel('https://media.nature.com/original/nature-assets/ncomms/2014/140901/ncomms5776/extref/ncomms5776-s3.xlsx', sheet_name='IDs from SulfenM')"
   ]
  },
  {
   "cell_type": "markdown",
   "metadata": {},
   "source": [
    "### Standardize representation of protein modification\n",
    "Here we use the following notation for modified residues (amino acid, delta mass), here (C,333)."
   ]
  },
  {
   "cell_type": "code",
   "execution_count": 3,
   "metadata": {},
   "outputs": [],
   "source": [
    "df['modPeptide'] = df['Modified Peptide Sequence'].map(lambda s: s.replace('C#', '(C,333)'))"
   ]
  },
  {
   "cell_type": "code",
   "execution_count": 4,
   "metadata": {},
   "outputs": [
    {
     "data": {
      "text/html": [
       "<div>\n",
       "<style scoped>\n",
       "    .dataframe tbody tr th:only-of-type {\n",
       "        vertical-align: middle;\n",
       "    }\n",
       "\n",
       "    .dataframe tbody tr th {\n",
       "        vertical-align: top;\n",
       "    }\n",
       "\n",
       "    .dataframe thead th {\n",
       "        text-align: right;\n",
       "    }\n",
       "</style>\n",
       "<table border=\"1\" class=\"dataframe\">\n",
       "  <thead>\n",
       "    <tr style=\"text-align: right;\">\n",
       "      <th></th>\n",
       "      <th>ID</th>\n",
       "      <th>Gene Name</th>\n",
       "      <th>Protein Description</th>\n",
       "      <th>Modified Site</th>\n",
       "      <th>Modification</th>\n",
       "      <th>Peptide Sequence</th>\n",
       "      <th>Modified Peptide Sequence</th>\n",
       "      <th>modPeptide</th>\n",
       "    </tr>\n",
       "  </thead>\n",
       "  <tbody>\n",
       "    <tr>\n",
       "      <th>0</th>\n",
       "      <td>41526</td>\n",
       "      <td>septin 9</td>\n",
       "      <td>septin-9 isoform a</td>\n",
       "      <td>C248</td>\n",
       "      <td>333@C248</td>\n",
       "      <td>SQEATEAAPSCVGDMADTPR</td>\n",
       "      <td>SQEATEAAPSC#VGDMADTPR</td>\n",
       "      <td>SQEATEAAPS(C,333)VGDMADTPR</td>\n",
       "    </tr>\n",
       "    <tr>\n",
       "      <th>1</th>\n",
       "      <td>41527</td>\n",
       "      <td>septin 10</td>\n",
       "      <td>septin-10 isoform 1</td>\n",
       "      <td>C22</td>\n",
       "      <td>333@C22</td>\n",
       "      <td>TTCMSSQGSDDEQIKR</td>\n",
       "      <td>TTC#MSSQGSDDEQIKR</td>\n",
       "      <td>TT(C,333)MSSQGSDDEQIKR</td>\n",
       "    </tr>\n",
       "    <tr>\n",
       "      <th>2</th>\n",
       "      <td>ABCB9</td>\n",
       "      <td>ATP-binding cassette, sub-family B (MDR/TAP), ...</td>\n",
       "      <td>ATP-binding cassette sub-family B member 9 iso...</td>\n",
       "      <td>C548</td>\n",
       "      <td>333@C548</td>\n",
       "      <td>SSCVNILENFYPLEGGR</td>\n",
       "      <td>SSC#VNILENFYPLEGGR</td>\n",
       "      <td>SS(C,333)VNILENFYPLEGGR</td>\n",
       "    </tr>\n",
       "    <tr>\n",
       "      <th>3</th>\n",
       "      <td>ABCE1</td>\n",
       "      <td>ATP-binding cassette, sub-family E (OABP), mem...</td>\n",
       "      <td>ATP-binding cassette sub-family E member 1</td>\n",
       "      <td>C38</td>\n",
       "      <td>333@C38</td>\n",
       "      <td>LCIEVTPQSK</td>\n",
       "      <td>LC#IEVTPQSK</td>\n",
       "      <td>L(C,333)IEVTPQSK</td>\n",
       "    </tr>\n",
       "    <tr>\n",
       "      <th>4</th>\n",
       "      <td>ABCE1</td>\n",
       "      <td>ATP-binding cassette, sub-family E (OABP), mem...</td>\n",
       "      <td>ATP-binding cassette sub-family E member 1</td>\n",
       "      <td>C88</td>\n",
       "      <td>333@C88</td>\n",
       "      <td>YCANAFK</td>\n",
       "      <td>YC#ANAFK</td>\n",
       "      <td>Y(C,333)ANAFK</td>\n",
       "    </tr>\n",
       "  </tbody>\n",
       "</table>\n",
       "</div>"
      ],
      "text/plain": [
       "      ID                                          Gene Name  \\\n",
       "0  41526                                           septin 9   \n",
       "1  41527                                          septin 10   \n",
       "2  ABCB9  ATP-binding cassette, sub-family B (MDR/TAP), ...   \n",
       "3  ABCE1  ATP-binding cassette, sub-family E (OABP), mem...   \n",
       "4  ABCE1  ATP-binding cassette, sub-family E (OABP), mem...   \n",
       "\n",
       "                                 Protein Description Modified Site  \\\n",
       "0                                septin-9 isoform a           C248   \n",
       "1                               septin-10 isoform 1            C22   \n",
       "2  ATP-binding cassette sub-family B member 9 iso...          C548   \n",
       "3        ATP-binding cassette sub-family E member 1            C38   \n",
       "4        ATP-binding cassette sub-family E member 1            C88   \n",
       "\n",
       "  Modification      Peptide Sequence Modified Peptide Sequence  \\\n",
       "0     333@C248  SQEATEAAPSCVGDMADTPR     SQEATEAAPSC#VGDMADTPR   \n",
       "1      333@C22      TTCMSSQGSDDEQIKR         TTC#MSSQGSDDEQIKR   \n",
       "2     333@C548     SSCVNILENFYPLEGGR        SSC#VNILENFYPLEGGR   \n",
       "3      333@C38            LCIEVTPQSK               LC#IEVTPQSK   \n",
       "4      333@C88               YCANAFK                  YC#ANAFK   \n",
       "\n",
       "                   modPeptide  \n",
       "0  SQEATEAAPS(C,333)VGDMADTPR  \n",
       "1      TT(C,333)MSSQGSDDEQIKR  \n",
       "2     SS(C,333)VNILENFYPLEGGR  \n",
       "3            L(C,333)IEVTPQSK  \n",
       "4               Y(C,333)ANAFK  "
      ]
     },
     "execution_count": 4,
     "metadata": {},
     "output_type": "execute_result"
    }
   ],
   "source": [
    "df.head()"
   ]
  },
  {
   "cell_type": "code",
   "execution_count": 5,
   "metadata": {},
   "outputs": [],
   "source": [
    "df.to_csv('../../data/ncomms5776-s3-m.csv')"
   ]
  }
 ],
 "metadata": {
  "kernelspec": {
   "display_name": "Python 3",
   "language": "python",
   "name": "python3"
  },
  "language_info": {
   "codemirror_mode": {
    "name": "ipython",
    "version": 3
   },
   "file_extension": ".py",
   "mimetype": "text/x-python",
   "name": "python",
   "nbconvert_exporter": "python",
   "pygments_lexer": "ipython3",
   "version": "3.7.3"
  }
 },
 "nbformat": 4,
 "nbformat_minor": 4
}

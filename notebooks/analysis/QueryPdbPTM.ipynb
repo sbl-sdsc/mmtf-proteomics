{
 "cells": [
  {
   "cell_type": "markdown",
   "metadata": {},
   "source": [
    "## Query Post-translational Modifications present in 3D Structures of the PDB.\n",
    "\n",
    "Post-translational modifications (PTMs) modulate protein function. By mapping the locations of modified amino acid residues onto 3D protein structures, insights into the effect of PTMs can be obtained.\n",
    "\n",
    "In this notebook PTMs present in PDB structures can be queried by residId, psimodId, uniprotId, and structureChainId. See examples below.\n",
    "\n",
    "Reference:\n",
    "\n",
    "BioJava-ModFinder: identification of protein modifications in 3D structures from the Protein Data Bank (2017) Bioinformatics 33: 2047–2049. [doi: doi.org/10.1093/bioinformatics/btx101](https://doi.org/10.1093/bioinformatics/btx101)"
   ]
  },
  {
   "cell_type": "code",
   "execution_count": 1,
   "metadata": {
    "code_folding": []
   },
   "outputs": [],
   "source": [
    "# imports\n",
    "from pyspark.sql import SparkSession\n",
    "from pyspark.sql.functions import collect_set, collect_list, col, concat_ws\n",
    "from ipywidgets import interact, IntSlider, widgets\n",
    "from IPython.display import display\n",
    "from mmtfPyspark.datasets import pdbToUniProt, pdbPtmDataset\n",
    "import py3Dmol\n",
    "import timeit"
   ]
  },
  {
   "cell_type": "code",
   "execution_count": 2,
   "metadata": {},
   "outputs": [],
   "source": [
    "start_time = timeit.default_timer()"
   ]
  },
  {
   "cell_type": "code",
   "execution_count": 3,
   "metadata": {},
   "outputs": [],
   "source": [
    "spark = SparkSession.builder.master(\"local[4]\").appName(\"QueryPdbPTM\").getOrCreate()"
   ]
  },
  {
   "cell_type": "markdown",
   "metadata": {},
   "source": [
    "## Query PTMs by an Identifier"
   ]
  },
  {
   "cell_type": "code",
   "execution_count": 4,
   "metadata": {},
   "outputs": [],
   "source": [
    "field = widgets.Dropdown(options=['residId', 'psimodId','uniProtId','structureChainId','all'],description='Select field:')\n",
    "selection = widgets.Textarea(description='Enter id(s):', value='AA0151')"
   ]
  },
  {
   "cell_type": "markdown",
   "metadata": {},
   "source": [
    "Select query field and enter a comma separated list of ids. Examples:\n",
    "\n",
    "residId: AA0151 (N4-(N-acetylamino)glucosyl-L-asparagine)\n",
    "\n",
    "psimodId: MOD:00046, MOD:00047, MOD:00048 (O-phospho-L-serine, O-phospho-L-threonine, O4'-phospho-L-tyrosine)\n",
    "\n",
    "uniProtId: P13569\n",
    "\n",
    "structureChainId: 4ZTN.C"
   ]
  },
  {
   "cell_type": "code",
   "execution_count": 5,
   "metadata": {},
   "outputs": [
    {
     "data": {
      "application/vnd.jupyter.widget-view+json": {
       "model_id": "035893b6424241a19d6481f103ae2f44",
       "version_major": 2,
       "version_minor": 0
      },
      "text/plain": [
       "Dropdown(description='Select field:', options=('residId', 'psimodId', 'uniProtId', 'structureChainId', 'all'),…"
      ]
     },
     "metadata": {},
     "output_type": "display_data"
    },
    {
     "data": {
      "application/vnd.jupyter.widget-view+json": {
       "model_id": "dce49f711cca40beb7cd66f4fbf44930",
       "version_major": 2,
       "version_minor": 0
      },
      "text/plain": [
       "Textarea(value='AA0151', description='Enter id(s):')"
      ]
     },
     "metadata": {},
     "output_type": "display_data"
    }
   ],
   "source": [
    "display(field)\n",
    "display(selection)"
   ]
  },
  {
   "cell_type": "markdown",
   "metadata": {},
   "source": [
    "## Create query string"
   ]
  },
  {
   "cell_type": "code",
   "execution_count": 6,
   "metadata": {},
   "outputs": [
    {
     "name": "stdout",
     "output_type": "stream",
     "text": [
      "Query: residId IN ('AA0151')\n"
     ]
    }
   ],
   "source": [
    "query = field.value + \" IN \" + str(selection.value.split(',')).replace(\"[\",'(').replace(\"]\",')').replace(\" \", \"\")\n",
    "print(\"Query: \" + query)"
   ]
  },
  {
   "cell_type": "markdown",
   "metadata": {},
   "source": [
    "## Read dataset of PTMs present in PDB"
   ]
  },
  {
   "cell_type": "code",
   "execution_count": 7,
   "metadata": {},
   "outputs": [
    {
     "name": "stdout",
     "output_type": "stream",
     "text": [
      "Total number of PTM records:  1138955\n"
     ]
    }
   ],
   "source": [
    "db_ptm = pdbPtmDataset.get_ptm_dataset()\n",
    "print(\"Total number of PTM records: \", db_ptm.count())"
   ]
  },
  {
   "cell_type": "markdown",
   "metadata": {},
   "source": [
    "Filter by PTM identifiers"
   ]
  },
  {
   "cell_type": "code",
   "execution_count": 8,
   "metadata": {
    "code_folding": [
     0,
     5
    ]
   },
   "outputs": [
    {
     "name": "stdout",
     "output_type": "stream",
     "text": [
      "Filtered by query: residId IN ('AA0151')\n",
      "Number of PTMs matching query: 58646\n",
      "+----------+---------+-------+---------+-------+----+----------+--------------+\n",
      "|pdbChainId|pdbResNum|residue| psimodId|residId|ccId|  category|modificationId|\n",
      "+----------+---------+-------+---------+-------+----+----------+--------------+\n",
      "|    1A0H.B|      373|    ASN|MOD:00831| AA0151| NAG|attachment|             2|\n",
      "|    1A0H.B|      584|    NAG|MOD:00831| AA0151| NAG|attachment|             2|\n",
      "|    1A0H.E|      373|    ASN|MOD:00831| AA0151| NAG|attachment|             2|\n",
      "|    1A0H.E|      584|    NAG|MOD:00831| AA0151| NAG|attachment|             2|\n",
      "|    1A14.N|     476A|    NAG|MOD:00831| AA0151| NAG|attachment|             2|\n",
      "+----------+---------+-------+---------+-------+----+----------+--------------+\n",
      "only showing top 5 rows\n",
      "\n"
     ]
    }
   ],
   "source": [
    "if field.value in ['residId','psimodId']:\n",
    "    df = db_ptm.filter(query)\n",
    "    print(\"Filtered by query:\", query)\n",
    "    print(\"Number of PTMs matching query:\", df.count())\n",
    "    df.show(5)\n",
    "else:\n",
    "    df = db_ptm"
   ]
  },
  {
   "cell_type": "markdown",
   "metadata": {},
   "source": [
    "## Get PDB to UniProt Residue Mappings"
   ]
  },
  {
   "cell_type": "raw",
   "metadata": {},
   "source": [
    "Download PDB to UniProt mappings and filter out residues that were not observed in the 3D structure."
   ]
  },
  {
   "cell_type": "code",
   "execution_count": 9,
   "metadata": {},
   "outputs": [
    {
     "name": "stdout",
     "output_type": "stream",
     "text": [
      "Number of PDB to UniProt mappings: 98498569\n"
     ]
    }
   ],
   "source": [
    "up = pdbToUniProt.get_cached_residue_mappings().filter(\"pdbResNum IS NOT NULL\")\n",
    "print(\"Number of PDB to UniProt mappings:\", up.count())"
   ]
  },
  {
   "cell_type": "markdown",
   "metadata": {},
   "source": [
    "Filter by UniProtID or structureChainIds"
   ]
  },
  {
   "cell_type": "code",
   "execution_count": 10,
   "metadata": {
    "code_folding": [
     0
    ]
   },
   "outputs": [],
   "source": [
    "if field.value in ['uniProtId','structureChainId']:\n",
    "    up = up.filter(query)\n",
    "    print(\"Filtered by query: \", query)\n",
    "    print(\"Number of records matching query:\", up.count())"
   ]
  },
  {
   "cell_type": "markdown",
   "metadata": {},
   "source": [
    "Find the intersection between the PTM dataset and PDB to UniProt mappings"
   ]
  },
  {
   "cell_type": "code",
   "execution_count": 11,
   "metadata": {},
   "outputs": [],
   "source": [
    "df = df.withColumnRenamed(\"pdbResNum\",\"resNum\")\n",
    "st = up.join(df, (up.structureChainId == df.pdbChainId) & (up.pdbResNum == df.resNum)).drop(\"pdbChainId\").drop(\"resNum\")"
   ]
  },
  {
   "cell_type": "markdown",
   "metadata": {},
   "source": [
    "Show some sample data"
   ]
  },
  {
   "cell_type": "code",
   "execution_count": 12,
   "metadata": {},
   "outputs": [
    {
     "name": "stdout",
     "output_type": "stream",
     "text": [
      "Hits: 27737\n"
     ]
    },
    {
     "data": {
      "text/html": [
       "<div>\n",
       "<style scoped>\n",
       "    .dataframe tbody tr th:only-of-type {\n",
       "        vertical-align: middle;\n",
       "    }\n",
       "\n",
       "    .dataframe tbody tr th {\n",
       "        vertical-align: top;\n",
       "    }\n",
       "\n",
       "    .dataframe thead th {\n",
       "        text-align: right;\n",
       "    }\n",
       "</style>\n",
       "<table border=\"1\" class=\"dataframe\">\n",
       "  <thead>\n",
       "    <tr style=\"text-align: right;\">\n",
       "      <th></th>\n",
       "      <th>structureChainId</th>\n",
       "      <th>pdbResNum</th>\n",
       "      <th>pdbSeqNum</th>\n",
       "      <th>uniprotId</th>\n",
       "      <th>uniprotNum</th>\n",
       "      <th>residue</th>\n",
       "      <th>psimodId</th>\n",
       "      <th>residId</th>\n",
       "      <th>ccId</th>\n",
       "      <th>category</th>\n",
       "      <th>modificationId</th>\n",
       "    </tr>\n",
       "  </thead>\n",
       "  <tbody>\n",
       "    <tr>\n",
       "      <th>0</th>\n",
       "      <td>2NY2.A</td>\n",
       "      <td>339</td>\n",
       "      <td>164</td>\n",
       "      <td>P19551</td>\n",
       "      <td>337</td>\n",
       "      <td>ASN</td>\n",
       "      <td>MOD:00831</td>\n",
       "      <td>AA0151</td>\n",
       "      <td>NAG</td>\n",
       "      <td>attachment</td>\n",
       "      <td>2</td>\n",
       "    </tr>\n",
       "    <tr>\n",
       "      <th>1</th>\n",
       "      <td>3I6S.A</td>\n",
       "      <td>376</td>\n",
       "      <td>264</td>\n",
       "      <td>O82777</td>\n",
       "      <td>376</td>\n",
       "      <td>ASN</td>\n",
       "      <td>MOD:00831</td>\n",
       "      <td>AA0151</td>\n",
       "      <td>NAG</td>\n",
       "      <td>attachment</td>\n",
       "      <td>2</td>\n",
       "    </tr>\n",
       "    <tr>\n",
       "      <th>2</th>\n",
       "      <td>3R5O.A</td>\n",
       "      <td>332</td>\n",
       "      <td>332</td>\n",
       "      <td>P80025</td>\n",
       "      <td>449</td>\n",
       "      <td>ASN</td>\n",
       "      <td>MOD:00831</td>\n",
       "      <td>AA0151</td>\n",
       "      <td>NAG</td>\n",
       "      <td>attachment</td>\n",
       "      <td>2</td>\n",
       "    </tr>\n",
       "    <tr>\n",
       "      <th>3</th>\n",
       "      <td>3ZK4.B</td>\n",
       "      <td>293</td>\n",
       "      <td>274</td>\n",
       "      <td>Q8VX11</td>\n",
       "      <td>318</td>\n",
       "      <td>ASN</td>\n",
       "      <td>MOD:00831</td>\n",
       "      <td>AA0151</td>\n",
       "      <td>NAG</td>\n",
       "      <td>attachment</td>\n",
       "      <td>2</td>\n",
       "    </tr>\n",
       "    <tr>\n",
       "      <th>4</th>\n",
       "      <td>4DKU.A</td>\n",
       "      <td>262</td>\n",
       "      <td>146</td>\n",
       "      <td>A0A0M3KKW9</td>\n",
       "      <td>146</td>\n",
       "      <td>ASN</td>\n",
       "      <td>MOD:00831</td>\n",
       "      <td>AA0151</td>\n",
       "      <td>NAG</td>\n",
       "      <td>attachment</td>\n",
       "      <td>2</td>\n",
       "    </tr>\n",
       "  </tbody>\n",
       "</table>\n",
       "</div>"
      ],
      "text/plain": [
       "  structureChainId pdbResNum  pdbSeqNum   uniprotId  uniprotNum residue  \\\n",
       "0           2NY2.A       339        164      P19551         337     ASN   \n",
       "1           3I6S.A       376        264      O82777         376     ASN   \n",
       "2           3R5O.A       332        332      P80025         449     ASN   \n",
       "3           3ZK4.B       293        274      Q8VX11         318     ASN   \n",
       "4           4DKU.A       262        146  A0A0M3KKW9         146     ASN   \n",
       "\n",
       "    psimodId residId ccId    category  modificationId  \n",
       "0  MOD:00831  AA0151  NAG  attachment               2  \n",
       "1  MOD:00831  AA0151  NAG  attachment               2  \n",
       "2  MOD:00831  AA0151  NAG  attachment               2  \n",
       "3  MOD:00831  AA0151  NAG  attachment               2  \n",
       "4  MOD:00831  AA0151  NAG  attachment               2  "
      ]
     },
     "execution_count": 12,
     "metadata": {},
     "output_type": "execute_result"
    }
   ],
   "source": [
    "hits = st.count()\n",
    "print(\"Hits:\", hits)\n",
    "fraction = min(10/hits, 1.0)\n",
    "st.sample(False, fraction).toPandas().head()"
   ]
  },
  {
   "cell_type": "markdown",
   "metadata": {},
   "source": [
    "## Aggregate PTM data by chain-level"
   ]
  },
  {
   "cell_type": "code",
   "execution_count": 13,
   "metadata": {
    "code_folding": [
     0
    ]
   },
   "outputs": [],
   "source": [
    "st = st.groupBy(\"structureChainId\",\"uniprotId\").agg(collect_list(\"pdbResNum\").alias(\"pdbResNum\"), \\\n",
    "                                                    collect_list(\"residId\").alias(\"residId\"), \\\n",
    "                                                    collect_list(\"psimodId\").alias(\"psimodId\"), \\\n",
    "                                                    collect_list(\"ccId\").alias(\"ccId\"))"
   ]
  },
  {
   "cell_type": "markdown",
   "metadata": {},
   "source": [
    "Convert aggregated data to Pandas and display some results"
   ]
  },
  {
   "cell_type": "code",
   "execution_count": 14,
   "metadata": {},
   "outputs": [
    {
     "data": {
      "text/html": [
       "<div>\n",
       "<style scoped>\n",
       "    .dataframe tbody tr th:only-of-type {\n",
       "        vertical-align: middle;\n",
       "    }\n",
       "\n",
       "    .dataframe tbody tr th {\n",
       "        vertical-align: top;\n",
       "    }\n",
       "\n",
       "    .dataframe thead th {\n",
       "        text-align: right;\n",
       "    }\n",
       "</style>\n",
       "<table border=\"1\" class=\"dataframe\">\n",
       "  <thead>\n",
       "    <tr style=\"text-align: right;\">\n",
       "      <th></th>\n",
       "      <th>structureChainId</th>\n",
       "      <th>uniprotId</th>\n",
       "      <th>pdbResNum</th>\n",
       "      <th>residId</th>\n",
       "      <th>psimodId</th>\n",
       "      <th>ccId</th>\n",
       "    </tr>\n",
       "  </thead>\n",
       "  <tbody>\n",
       "    <tr>\n",
       "      <th>0</th>\n",
       "      <td>1LGC.J</td>\n",
       "      <td>None</td>\n",
       "      <td>[512]</td>\n",
       "      <td>[AA0151]</td>\n",
       "      <td>[MOD:00831]</td>\n",
       "      <td>[NAG]</td>\n",
       "    </tr>\n",
       "    <tr>\n",
       "      <th>1</th>\n",
       "      <td>2HOD.B</td>\n",
       "      <td>P02675</td>\n",
       "      <td>[364]</td>\n",
       "      <td>[AA0151]</td>\n",
       "      <td>[MOD:00831]</td>\n",
       "      <td>[NAG]</td>\n",
       "    </tr>\n",
       "    <tr>\n",
       "      <th>2</th>\n",
       "      <td>2R5L.A</td>\n",
       "      <td>A3F9D6</td>\n",
       "      <td>[95, 205, 241, 332]</td>\n",
       "      <td>[AA0151, AA0151, AA0151, AA0151]</td>\n",
       "      <td>[MOD:00831, MOD:00831, MOD:00831, MOD:00831]</td>\n",
       "      <td>[NAG, NAG, NAG, NAG]</td>\n",
       "    </tr>\n",
       "    <tr>\n",
       "      <th>3</th>\n",
       "      <td>3ABG.B</td>\n",
       "      <td>Q12737</td>\n",
       "      <td>[472, 482]</td>\n",
       "      <td>[AA0151, AA0151]</td>\n",
       "      <td>[MOD:00831, MOD:00831]</td>\n",
       "      <td>[NAG, NAG]</td>\n",
       "    </tr>\n",
       "    <tr>\n",
       "      <th>4</th>\n",
       "      <td>3AL4.C</td>\n",
       "      <td>C3W5S1</td>\n",
       "      <td>[17, 29, 93, 282]</td>\n",
       "      <td>[AA0151, AA0151, AA0151, AA0151]</td>\n",
       "      <td>[MOD:00831, MOD:00831, MOD:00831, MOD:00831]</td>\n",
       "      <td>[NAG, NAG, NAG, NAG]</td>\n",
       "    </tr>\n",
       "    <tr>\n",
       "      <th>5</th>\n",
       "      <td>3MJ7.B</td>\n",
       "      <td>P97792</td>\n",
       "      <td>[87]</td>\n",
       "      <td>[AA0151]</td>\n",
       "      <td>[MOD:00831]</td>\n",
       "      <td>[NAG]</td>\n",
       "    </tr>\n",
       "    <tr>\n",
       "      <th>6</th>\n",
       "      <td>3W4R.A</td>\n",
       "      <td>Q2V6H4</td>\n",
       "      <td>[87, 305]</td>\n",
       "      <td>[AA0151, AA0151]</td>\n",
       "      <td>[MOD:00831, MOD:00831]</td>\n",
       "      <td>[NAG, NAG]</td>\n",
       "    </tr>\n",
       "    <tr>\n",
       "      <th>7</th>\n",
       "      <td>4GJ9.A</td>\n",
       "      <td>P00797</td>\n",
       "      <td>[67]</td>\n",
       "      <td>[AA0151]</td>\n",
       "      <td>[MOD:00831]</td>\n",
       "      <td>[NAG]</td>\n",
       "    </tr>\n",
       "    <tr>\n",
       "      <th>8</th>\n",
       "      <td>4KN0.A</td>\n",
       "      <td>P14207</td>\n",
       "      <td>[115, 195]</td>\n",
       "      <td>[AA0151, AA0151]</td>\n",
       "      <td>[MOD:00831, MOD:00831]</td>\n",
       "      <td>[NAG, NAG]</td>\n",
       "    </tr>\n",
       "    <tr>\n",
       "      <th>9</th>\n",
       "      <td>4OF3.B</td>\n",
       "      <td>B1Q236</td>\n",
       "      <td>[93]</td>\n",
       "      <td>[AA0151]</td>\n",
       "      <td>[MOD:00831]</td>\n",
       "      <td>[NAG]</td>\n",
       "    </tr>\n",
       "  </tbody>\n",
       "</table>\n",
       "</div>"
      ],
      "text/plain": [
       "  structureChainId uniprotId            pdbResNum  \\\n",
       "0           1LGC.J      None                [512]   \n",
       "1           2HOD.B    P02675                [364]   \n",
       "2           2R5L.A    A3F9D6  [95, 205, 241, 332]   \n",
       "3           3ABG.B    Q12737           [472, 482]   \n",
       "4           3AL4.C    C3W5S1    [17, 29, 93, 282]   \n",
       "5           3MJ7.B    P97792                 [87]   \n",
       "6           3W4R.A    Q2V6H4            [87, 305]   \n",
       "7           4GJ9.A    P00797                 [67]   \n",
       "8           4KN0.A    P14207           [115, 195]   \n",
       "9           4OF3.B    B1Q236                 [93]   \n",
       "\n",
       "                            residId  \\\n",
       "0                          [AA0151]   \n",
       "1                          [AA0151]   \n",
       "2  [AA0151, AA0151, AA0151, AA0151]   \n",
       "3                  [AA0151, AA0151]   \n",
       "4  [AA0151, AA0151, AA0151, AA0151]   \n",
       "5                          [AA0151]   \n",
       "6                  [AA0151, AA0151]   \n",
       "7                          [AA0151]   \n",
       "8                  [AA0151, AA0151]   \n",
       "9                          [AA0151]   \n",
       "\n",
       "                                       psimodId                  ccId  \n",
       "0                                   [MOD:00831]                 [NAG]  \n",
       "1                                   [MOD:00831]                 [NAG]  \n",
       "2  [MOD:00831, MOD:00831, MOD:00831, MOD:00831]  [NAG, NAG, NAG, NAG]  \n",
       "3                        [MOD:00831, MOD:00831]            [NAG, NAG]  \n",
       "4  [MOD:00831, MOD:00831, MOD:00831, MOD:00831]  [NAG, NAG, NAG, NAG]  \n",
       "5                                   [MOD:00831]                 [NAG]  \n",
       "6                        [MOD:00831, MOD:00831]            [NAG, NAG]  \n",
       "7                                   [MOD:00831]                 [NAG]  \n",
       "8                        [MOD:00831, MOD:00831]            [NAG, NAG]  \n",
       "9                                   [MOD:00831]                 [NAG]  "
      ]
     },
     "execution_count": 14,
     "metadata": {},
     "output_type": "execute_result"
    }
   ],
   "source": [
    "pst = st.toPandas()\n",
    "pst.head(10)"
   ]
  },
  {
   "cell_type": "code",
   "execution_count": 15,
   "metadata": {},
   "outputs": [
    {
     "name": "stdout",
     "output_type": "stream",
     "text": [
      "Time to process data: 113 seconds\n"
     ]
    }
   ],
   "source": [
    "print(\"Time to process data:\", int(round(timeit.default_timer() - start_time,0)), \"seconds\")"
   ]
  },
  {
   "cell_type": "markdown",
   "metadata": {},
   "source": [
    "Setup custom visualization"
   ]
  },
  {
   "cell_type": "code",
   "execution_count": 16,
   "metadata": {
    "code_folding": [
     0
    ]
   },
   "outputs": [],
   "source": [
    "def view_modifications(df, cutoff_distance, *args):\n",
    "\n",
    "    def view3d(show_labels=True,show_bio_assembly=False, show_surface=False, i=0):\n",
    "        pdb_id, chain_id = df.iloc[i]['structureChainId'].split('.')\n",
    "        res_num = df.iloc[i]['pdbResNum']\n",
    "        lab1 = df.iloc[i]['residId']\n",
    "        lab2 = df.iloc[i]['psimodId']\n",
    "        lab3 = df.iloc[i]['ccId']\n",
    "        \n",
    "        # print header\n",
    "        print (\"PDB Id: \" + pdb_id + \" chain Id: \" + chain_id)\n",
    "        \n",
    "        # print any specified additional columns from the dataframe\n",
    "        for a in args:\n",
    "            if df.iloc[i][a]:\n",
    "                print(a + \": \" + df.iloc[i][a])\n",
    "        \n",
    "        mod_res = {'chain': chain_id, 'resi': res_num}  \n",
    "        \n",
    "        # select neigboring residues by distance\n",
    "        surroundings = {'chain': chain_id, 'resi': res_num, 'byres': True, 'expand': cutoff_distance}\n",
    "        \n",
    "        viewer = py3Dmol.view(query='pdb:' + pdb_id, options={'doAssembly': show_bio_assembly})\n",
    "    \n",
    "        # polymer style\n",
    "        viewer.setStyle({'cartoon': {'color': 'spectrum', 'width': 0.6, 'opacity':0.8}})\n",
    "        # non-polymer style\n",
    "        viewer.setStyle({'hetflag': True}, {'stick':{'radius': 0.3, 'singleBond': False}})\n",
    "        \n",
    "        # style for modifications\n",
    "        viewer.addStyle(surroundings,{'stick':{'colorscheme':'orangeCarbon', 'radius': 0.15}})\n",
    "        viewer.addStyle(mod_res, {'stick':{'colorscheme':'redCarbon', 'radius': 0.4}})\n",
    "        viewer.addStyle(mod_res, {'sphere':{'colorscheme':'gray', 'opacity': 0.7}})\n",
    "        \n",
    "        # set residue labels    \n",
    "        if show_labels:\n",
    "            for residue, l1, l2, l3 in zip(res_num, lab1, lab2, lab3):\n",
    "                viewer.addLabel(residue + \": \" + l1 + \" \" + l2 + \" \" + l3, \\\n",
    "                                {'fontColor':'black', 'fontSize': 10, 'backgroundColor': 'lightgray'}, \\\n",
    "                                {'chain': chain_id, 'resi': residue})\n",
    "\n",
    "        viewer.zoomTo(surroundings)\n",
    "        \n",
    "        if show_surface:\n",
    "            viewer.addSurface(py3Dmol.SES,{'opacity':0.8,'color':'lightblue'})\n",
    "\n",
    "        return viewer.show()\n",
    "       \n",
    "    s_widget = IntSlider(min=0, max=len(df)-1, description='Structure', continuous_update=False)\n",
    "    \n",
    "    return interact(view3d, show_labels=True, show_bio_assembly=False, show_surface=False, i=s_widget)"
   ]
  },
  {
   "cell_type": "markdown",
   "metadata": {},
   "source": [
    "## Visualize Results\n",
    "Residues with reported modifications are shown in an all atom prepresentation as red sticks with transparent spheres. Each modified residue position is labeled by the PDB residue number and the type of the modification. Residues surrounding modified residue (within 6 A) are highlighted as yellow sticks. Small molecules within the structure are rendered as gray sticks."
   ]
  },
  {
   "cell_type": "code",
   "execution_count": 17,
   "metadata": {},
   "outputs": [
    {
     "data": {
      "application/vnd.jupyter.widget-view+json": {
       "model_id": "c97a982e9f864fc08c6cab4da0554174",
       "version_major": 2,
       "version_minor": 0
      },
      "text/plain": [
       "interactive(children=(Checkbox(value=True, description='show_labels'), Checkbox(value=False, description='show…"
      ]
     },
     "metadata": {},
     "output_type": "display_data"
    }
   ],
   "source": [
    "view_modifications(pst, 6, 'uniprotId');"
   ]
  },
  {
   "cell_type": "markdown",
   "metadata": {},
   "source": [
    "Most PTMs occur at the protein surface. To visualize the surface, check the show_surface checkbox above."
   ]
  },
  {
   "cell_type": "code",
   "execution_count": 18,
   "metadata": {},
   "outputs": [],
   "source": [
    "spark.stop()"
   ]
  },
  {
   "cell_type": "code",
   "execution_count": null,
   "metadata": {},
   "outputs": [],
   "source": []
  }
 ],
 "metadata": {
  "kernelspec": {
   "display_name": "Python 3",
   "language": "python",
   "name": "python3"
  },
  "language_info": {
   "codemirror_mode": {
    "name": "ipython",
    "version": 3
   },
   "file_extension": ".py",
   "mimetype": "text/x-python",
   "name": "python",
   "nbconvert_exporter": "python",
   "pygments_lexer": "ipython3",
   "version": "3.7.1"
  },
  "widgets": {
   "application/vnd.jupyter.widget-state+json": {
    "state": {
     "0202913cd76e4841af8e40b94a9b016b": {
      "model_module": "@jupyter-widgets/controls",
      "model_module_version": "1.4.0",
      "model_name": "DescriptionStyleModel",
      "state": {
       "description_width": ""
      }
     },
     "06a8a3bca4d9451ca9b33b9cd0287442": {
      "model_module": "@jupyter-widgets/base",
      "model_module_version": "1.1.0",
      "model_name": "LayoutModel",
      "state": {}
     },
     "0a9522caa3534f14977bc160b0f98736": {
      "model_module": "@jupyter-widgets/controls",
      "model_module_version": "1.4.0",
      "model_name": "DropdownModel",
      "state": {
       "_options_labels": [
        "residId",
        "psimodId",
        "uniProtId",
        "structureChainId",
        "all"
       ],
       "description": "Select field:",
       "index": 0,
       "layout": "IPY_MODEL_adc1dfb495ce4911a9f66fc46d30461f",
       "style": "IPY_MODEL_dfa65c34574741efbfb9f1bd449adda7"
      }
     },
     "0ddbe4f179d340be90d3b3f14dcf9b00": {
      "model_module": "@jupyter-widgets/base",
      "model_module_version": "1.1.0",
      "model_name": "LayoutModel",
      "state": {}
     },
     "0eca2b1b3df6420dbd43b8a177e10789": {
      "model_module": "@jupyter-widgets/controls",
      "model_module_version": "1.4.0",
      "model_name": "DescriptionStyleModel",
      "state": {
       "description_width": ""
      }
     },
     "14e1d425dff44d0f8f8a65e5a018c2fe": {
      "model_module": "@jupyter-widgets/controls",
      "model_module_version": "1.4.0",
      "model_name": "CheckboxModel",
      "state": {
       "description": "show_bio_assembly",
       "disabled": false,
       "layout": "IPY_MODEL_daa3e8b7f5b344dea69cc03f3c23e131",
       "style": "IPY_MODEL_ce32ef438f934a368fabdb33ff35df59",
       "value": false
      }
     },
     "1a15cd65f484443a81aad4f83229606c": {
      "model_module": "@jupyter-widgets/controls",
      "model_module_version": "1.4.0",
      "model_name": "VBoxModel",
      "state": {
       "_dom_classes": [
        "widget-interact"
       ],
       "children": [
        "IPY_MODEL_aff2b1063907419fa53d7c06dd477992",
        "IPY_MODEL_febb9f566d354ff4950cccc00871d6b3",
        "IPY_MODEL_96d873eda34f496fa0a4e9d4d09c2cc4",
        "IPY_MODEL_d4eae0776f3c4b92a100375dde7467fd",
        "IPY_MODEL_a5cf56e7f93c4e3e8f7bb8a10d0241ab"
       ],
       "layout": "IPY_MODEL_72bd996929c74b129db64b68ba6d219d"
      }
     },
     "1b43e319f34d42e08293d0e79bd5248a": {
      "model_module": "@jupyter-widgets/base",
      "model_module_version": "1.1.0",
      "model_name": "LayoutModel",
      "state": {}
     },
     "22aa15911a544ac1800d69a8dd7e6201": {
      "model_module": "@jupyter-widgets/base",
      "model_module_version": "1.1.0",
      "model_name": "LayoutModel",
      "state": {}
     },
     "2488f675c7224708be37c6c86d7e8cf8": {
      "model_module": "@jupyter-widgets/controls",
      "model_module_version": "1.4.0",
      "model_name": "SliderStyleModel",
      "state": {
       "description_width": ""
      }
     },
     "2b7d67d15cf248548bd107892be110d9": {
      "model_module": "@jupyter-widgets/controls",
      "model_module_version": "1.4.0",
      "model_name": "DescriptionStyleModel",
      "state": {
       "description_width": ""
      }
     },
     "2bb292836a3e483aaa7942fd5b3c61c2": {
      "model_module": "@jupyter-widgets/base",
      "model_module_version": "1.1.0",
      "model_name": "LayoutModel",
      "state": {}
     },
     "474fb9bbb98e435087afa406ee51247a": {
      "model_module": "@jupyter-widgets/controls",
      "model_module_version": "1.4.0",
      "model_name": "DescriptionStyleModel",
      "state": {
       "description_width": ""
      }
     },
     "478fbb25ed1c4feb92617aa91718d8e9": {
      "model_module": "@jupyter-widgets/base",
      "model_module_version": "1.1.0",
      "model_name": "LayoutModel",
      "state": {}
     },
     "5aababedd3e542a4840e67665434b56e": {
      "model_module": "@jupyter-widgets/controls",
      "model_module_version": "1.4.0",
      "model_name": "DescriptionStyleModel",
      "state": {
       "description_width": ""
      }
     },
     "656fc22eb3b348dc9dbc004872e7ffd7": {
      "model_module": "@jupyter-widgets/output",
      "model_module_version": "1.0.0",
      "model_name": "OutputModel",
      "state": {
       "layout": "IPY_MODEL_0ddbe4f179d340be90d3b3f14dcf9b00",
       "outputs": [
        {
         "name": "stdout",
         "output_type": "stream",
         "text": "PDB Id: 1LGC chain Id: J\n"
        },
        {
         "data": {
          "application/3dmoljs_load.v0": "<div id=\"3dmolviewer_1536727835566772\"  style=\"position: relative; width: 640px; height: 480px\">\n        <p id=\"3dmolwarning_1536727835566772\" style=\"background-color:#ffcccc;color:black\">You appear to be running in JupyterLab (or JavaScript failed to load for some other reason).  You need to install the 3dmol extension: <br>\n        <tt>jupyter labextension install jupyterlab_3dmol</tt></p>\n        </div>\n<script>\n\nvar loadScriptAsync = function(uri){\n  return new Promise((resolve, reject) => {\n    var tag = document.createElement('script');\n    tag.src = uri;\n    tag.async = true;\n    tag.onload = () => {\n      resolve();\n    };\n  var firstScriptTag = document.getElementsByTagName('script')[0];\n  firstScriptTag.parentNode.insertBefore(tag, firstScriptTag);\n});\n};\n\nif(typeof $3Dmolpromise === 'undefined') {\n$3Dmolpromise = null;\n  $3Dmolpromise = loadScriptAsync('https://3dmol.csb.pitt.edu/build/3Dmol.js');\n}\n\nvar viewer_1536727835566772 = null;\nvar warn = document.getElementById(\"3dmolwarning_1536727835566772\");\nif(warn) {\n    warn.parentNode.removeChild(warn);\n}\n$3Dmolpromise.then(function() {\nviewer_1536727835566772 = $3Dmol.createViewer($(\"#3dmolviewer_1536727835566772\"),{backgroundColor:\"white\"});\n$3Dmol.download(\"pdb:1LGC\", viewer_1536727835566772, {\"doAssembly\": false}, function() {\n\tviewer_1536727835566772.setStyle({\"cartoon\": {\"color\": \"spectrum\", \"width\": 0.6, \"opacity\": 0.8}});\n\tviewer_1536727835566772.setStyle({\"hetflag\": true},{\"stick\": {\"radius\": 0.3, \"singleBond\": false}});\n\tviewer_1536727835566772.addStyle({\"chain\": \"J\", \"resi\": [\"512\"], \"byres\": true, \"expand\": 6},{\"stick\": {\"colorscheme\": \"orangeCarbon\", \"radius\": 0.15}});\n\tviewer_1536727835566772.addStyle({\"chain\": \"J\", \"resi\": [\"512\"]},{\"stick\": {\"colorscheme\": \"redCarbon\", \"radius\": 0.4}});\n\tviewer_1536727835566772.addStyle({\"chain\": \"J\", \"resi\": [\"512\"]},{\"sphere\": {\"colorscheme\": \"gray\", \"opacity\": 0.7}});\n\tviewer_1536727835566772.addLabel(\"512: AA0151 MOD:00831 NAG\",{\"fontColor\": \"black\", \"fontSize\": 10, \"backgroundColor\": \"lightgray\"},{\"chain\": \"J\", \"resi\": \"512\"});\n\tviewer_1536727835566772.zoomTo({\"chain\": \"J\", \"resi\": [\"512\"], \"byres\": true, \"expand\": 6});\nviewer_1536727835566772.render();\n})\n});\n</script>",
          "text/html": "<div id=\"3dmolviewer_1536727835566772\"  style=\"position: relative; width: 640px; height: 480px\">\n        <p id=\"3dmolwarning_1536727835566772\" style=\"background-color:#ffcccc;color:black\">You appear to be running in JupyterLab (or JavaScript failed to load for some other reason).  You need to install the 3dmol extension: <br>\n        <tt>jupyter labextension install jupyterlab_3dmol</tt></p>\n        </div>\n<script>\n\nvar loadScriptAsync = function(uri){\n  return new Promise((resolve, reject) => {\n    var tag = document.createElement('script');\n    tag.src = uri;\n    tag.async = true;\n    tag.onload = () => {\n      resolve();\n    };\n  var firstScriptTag = document.getElementsByTagName('script')[0];\n  firstScriptTag.parentNode.insertBefore(tag, firstScriptTag);\n});\n};\n\nif(typeof $3Dmolpromise === 'undefined') {\n$3Dmolpromise = null;\n  $3Dmolpromise = loadScriptAsync('https://3dmol.csb.pitt.edu/build/3Dmol.js');\n}\n\nvar viewer_1536727835566772 = null;\nvar warn = document.getElementById(\"3dmolwarning_1536727835566772\");\nif(warn) {\n    warn.parentNode.removeChild(warn);\n}\n$3Dmolpromise.then(function() {\nviewer_1536727835566772 = $3Dmol.createViewer($(\"#3dmolviewer_1536727835566772\"),{backgroundColor:\"white\"});\n$3Dmol.download(\"pdb:1LGC\", viewer_1536727835566772, {\"doAssembly\": false}, function() {\n\tviewer_1536727835566772.setStyle({\"cartoon\": {\"color\": \"spectrum\", \"width\": 0.6, \"opacity\": 0.8}});\n\tviewer_1536727835566772.setStyle({\"hetflag\": true},{\"stick\": {\"radius\": 0.3, \"singleBond\": false}});\n\tviewer_1536727835566772.addStyle({\"chain\": \"J\", \"resi\": [\"512\"], \"byres\": true, \"expand\": 6},{\"stick\": {\"colorscheme\": \"orangeCarbon\", \"radius\": 0.15}});\n\tviewer_1536727835566772.addStyle({\"chain\": \"J\", \"resi\": [\"512\"]},{\"stick\": {\"colorscheme\": \"redCarbon\", \"radius\": 0.4}});\n\tviewer_1536727835566772.addStyle({\"chain\": \"J\", \"resi\": [\"512\"]},{\"sphere\": {\"colorscheme\": \"gray\", \"opacity\": 0.7}});\n\tviewer_1536727835566772.addLabel(\"512: AA0151 MOD:00831 NAG\",{\"fontColor\": \"black\", \"fontSize\": 10, \"backgroundColor\": \"lightgray\"},{\"chain\": \"J\", \"resi\": \"512\"});\n\tviewer_1536727835566772.zoomTo({\"chain\": \"J\", \"resi\": [\"512\"], \"byres\": true, \"expand\": 6});\nviewer_1536727835566772.render();\n})\n});\n</script>"
         },
         "metadata": {},
         "output_type": "display_data"
        }
       ]
      }
     },
     "6657bd3ddde14b4aac5eb1461ae5811d": {
      "model_module": "@jupyter-widgets/controls",
      "model_module_version": "1.4.0",
      "model_name": "TextareaModel",
      "state": {
       "description": "Enter id(s):",
       "layout": "IPY_MODEL_c010807fb30049cc87a0b60970f10172",
       "style": "IPY_MODEL_cdea639b3b3c487cb2f7c9c63b29d5ce",
       "value": "AA0151"
      }
     },
     "67dd7fac36f746d18a5235b7bf7bc9aa": {
      "model_module": "@jupyter-widgets/controls",
      "model_module_version": "1.4.0",
      "model_name": "DropdownModel",
      "state": {
       "_options_labels": [
        "residId",
        "psimodId",
        "uniProtId",
        "structureChainId",
        "all"
       ],
       "description": "Select field:",
       "index": 0,
       "layout": "IPY_MODEL_478fbb25ed1c4feb92617aa91718d8e9",
       "style": "IPY_MODEL_0eca2b1b3df6420dbd43b8a177e10789"
      }
     },
     "67ef71458b6b488abf74d28887da56e8": {
      "model_module": "@jupyter-widgets/base",
      "model_module_version": "1.1.0",
      "model_name": "LayoutModel",
      "state": {}
     },
     "695f45152ee54620b0534ae360ecf179": {
      "model_module": "@jupyter-widgets/controls",
      "model_module_version": "1.4.0",
      "model_name": "VBoxModel",
      "state": {
       "_dom_classes": [
        "widget-interact"
       ],
       "children": [
        "IPY_MODEL_91b6e28daa1b458e956dc03984f4cd10",
        "IPY_MODEL_14e1d425dff44d0f8f8a65e5a018c2fe",
        "IPY_MODEL_86542afd69fc4d2189ff1f508bc647cd",
        "IPY_MODEL_e7e63b66f7d54fa0b2dffc6f8dec190f",
        "IPY_MODEL_656fc22eb3b348dc9dbc004872e7ffd7"
       ],
       "layout": "IPY_MODEL_b297ed3415b54c77bd87c3ae6dfd9e49"
      }
     },
     "6dfa2c5f9c514df4ad22c4163f837d42": {
      "model_module": "@jupyter-widgets/base",
      "model_module_version": "1.1.0",
      "model_name": "LayoutModel",
      "state": {}
     },
     "72bd996929c74b129db64b68ba6d219d": {
      "model_module": "@jupyter-widgets/base",
      "model_module_version": "1.1.0",
      "model_name": "LayoutModel",
      "state": {}
     },
     "86542afd69fc4d2189ff1f508bc647cd": {
      "model_module": "@jupyter-widgets/controls",
      "model_module_version": "1.4.0",
      "model_name": "CheckboxModel",
      "state": {
       "description": "show_surface",
       "disabled": false,
       "layout": "IPY_MODEL_9f98b1e0108b4a6fa48bc066525a9897",
       "style": "IPY_MODEL_2b7d67d15cf248548bd107892be110d9",
       "value": false
      }
     },
     "91b6e28daa1b458e956dc03984f4cd10": {
      "model_module": "@jupyter-widgets/controls",
      "model_module_version": "1.4.0",
      "model_name": "CheckboxModel",
      "state": {
       "description": "show_labels",
       "disabled": false,
       "layout": "IPY_MODEL_22aa15911a544ac1800d69a8dd7e6201",
       "style": "IPY_MODEL_0202913cd76e4841af8e40b94a9b016b",
       "value": true
      }
     },
     "96d873eda34f496fa0a4e9d4d09c2cc4": {
      "model_module": "@jupyter-widgets/controls",
      "model_module_version": "1.4.0",
      "model_name": "CheckboxModel",
      "state": {
       "description": "show_surface",
       "disabled": false,
       "layout": "IPY_MODEL_1b43e319f34d42e08293d0e79bd5248a",
       "style": "IPY_MODEL_b40eda7cc3e7463eb4eb4ccfdf432760",
       "value": false
      }
     },
     "973890a97a6b4985963d0b4b80f9c374": {
      "model_module": "@jupyter-widgets/controls",
      "model_module_version": "1.4.0",
      "model_name": "SliderStyleModel",
      "state": {
       "description_width": ""
      }
     },
     "9f98b1e0108b4a6fa48bc066525a9897": {
      "model_module": "@jupyter-widgets/base",
      "model_module_version": "1.1.0",
      "model_name": "LayoutModel",
      "state": {}
     },
     "a5cf56e7f93c4e3e8f7bb8a10d0241ab": {
      "model_module": "@jupyter-widgets/output",
      "model_module_version": "1.0.0",
      "model_name": "OutputModel",
      "state": {
       "layout": "IPY_MODEL_2bb292836a3e483aaa7942fd5b3c61c2",
       "outputs": [
        {
         "name": "stdout",
         "output_type": "stream",
         "text": "PDB Id: 1LGC chain Id: J\n"
        },
        {
         "data": {
          "application/3dmoljs_load.v0": "<div id=\"3dmolviewer_1536732274492024\"  style=\"position: relative; width: 640px; height: 480px\">\n        <p id=\"3dmolwarning_1536732274492024\" style=\"background-color:#ffcccc;color:black\">You appear to be running in JupyterLab (or JavaScript failed to load for some other reason).  You need to install the 3dmol extension: <br>\n        <tt>jupyter labextension install jupyterlab_3dmol</tt></p>\n        </div>\n<script>\n\nvar loadScriptAsync = function(uri){\n  return new Promise((resolve, reject) => {\n    var tag = document.createElement('script');\n    tag.src = uri;\n    tag.async = true;\n    tag.onload = () => {\n      resolve();\n    };\n  var firstScriptTag = document.getElementsByTagName('script')[0];\n  firstScriptTag.parentNode.insertBefore(tag, firstScriptTag);\n});\n};\n\nif(typeof $3Dmolpromise === 'undefined') {\n$3Dmolpromise = null;\n  $3Dmolpromise = loadScriptAsync('https://3dmol.csb.pitt.edu/build/3Dmol.js');\n}\n\nvar viewer_1536732274492024 = null;\nvar warn = document.getElementById(\"3dmolwarning_1536732274492024\");\nif(warn) {\n    warn.parentNode.removeChild(warn);\n}\n$3Dmolpromise.then(function() {\nviewer_1536732274492024 = $3Dmol.createViewer($(\"#3dmolviewer_1536732274492024\"),{backgroundColor:\"white\"});\n$3Dmol.download(\"pdb:1LGC\", viewer_1536732274492024, {\"doAssembly\": false}, function() {\n\tviewer_1536732274492024.setStyle({\"cartoon\": {\"color\": \"spectrum\", \"width\": 0.6, \"opacity\": 0.8}});\n\tviewer_1536732274492024.setStyle({\"hetflag\": true},{\"stick\": {\"radius\": 0.3, \"singleBond\": false}});\n\tviewer_1536732274492024.addStyle({\"chain\": \"J\", \"resi\": [\"512\"], \"byres\": true, \"expand\": 6},{\"stick\": {\"colorscheme\": \"orangeCarbon\", \"radius\": 0.15}});\n\tviewer_1536732274492024.addStyle({\"chain\": \"J\", \"resi\": [\"512\"]},{\"stick\": {\"colorscheme\": \"redCarbon\", \"radius\": 0.4}});\n\tviewer_1536732274492024.addStyle({\"chain\": \"J\", \"resi\": [\"512\"]},{\"sphere\": {\"colorscheme\": \"gray\", \"opacity\": 0.7}});\n\tviewer_1536732274492024.addLabel(\"512: AA0151 MOD:00831 NAG\",{\"fontColor\": \"black\", \"fontSize\": 10, \"backgroundColor\": \"lightgray\"},{\"chain\": \"J\", \"resi\": \"512\"});\n\tviewer_1536732274492024.zoomTo({\"chain\": \"J\", \"resi\": [\"512\"], \"byres\": true, \"expand\": 6});\nviewer_1536732274492024.render();\n})\n});\n</script>",
          "text/html": "<div id=\"3dmolviewer_1536732274492024\"  style=\"position: relative; width: 640px; height: 480px\">\n        <p id=\"3dmolwarning_1536732274492024\" style=\"background-color:#ffcccc;color:black\">You appear to be running in JupyterLab (or JavaScript failed to load for some other reason).  You need to install the 3dmol extension: <br>\n        <tt>jupyter labextension install jupyterlab_3dmol</tt></p>\n        </div>\n<script>\n\nvar loadScriptAsync = function(uri){\n  return new Promise((resolve, reject) => {\n    var tag = document.createElement('script');\n    tag.src = uri;\n    tag.async = true;\n    tag.onload = () => {\n      resolve();\n    };\n  var firstScriptTag = document.getElementsByTagName('script')[0];\n  firstScriptTag.parentNode.insertBefore(tag, firstScriptTag);\n});\n};\n\nif(typeof $3Dmolpromise === 'undefined') {\n$3Dmolpromise = null;\n  $3Dmolpromise = loadScriptAsync('https://3dmol.csb.pitt.edu/build/3Dmol.js');\n}\n\nvar viewer_1536732274492024 = null;\nvar warn = document.getElementById(\"3dmolwarning_1536732274492024\");\nif(warn) {\n    warn.parentNode.removeChild(warn);\n}\n$3Dmolpromise.then(function() {\nviewer_1536732274492024 = $3Dmol.createViewer($(\"#3dmolviewer_1536732274492024\"),{backgroundColor:\"white\"});\n$3Dmol.download(\"pdb:1LGC\", viewer_1536732274492024, {\"doAssembly\": false}, function() {\n\tviewer_1536732274492024.setStyle({\"cartoon\": {\"color\": \"spectrum\", \"width\": 0.6, \"opacity\": 0.8}});\n\tviewer_1536732274492024.setStyle({\"hetflag\": true},{\"stick\": {\"radius\": 0.3, \"singleBond\": false}});\n\tviewer_1536732274492024.addStyle({\"chain\": \"J\", \"resi\": [\"512\"], \"byres\": true, \"expand\": 6},{\"stick\": {\"colorscheme\": \"orangeCarbon\", \"radius\": 0.15}});\n\tviewer_1536732274492024.addStyle({\"chain\": \"J\", \"resi\": [\"512\"]},{\"stick\": {\"colorscheme\": \"redCarbon\", \"radius\": 0.4}});\n\tviewer_1536732274492024.addStyle({\"chain\": \"J\", \"resi\": [\"512\"]},{\"sphere\": {\"colorscheme\": \"gray\", \"opacity\": 0.7}});\n\tviewer_1536732274492024.addLabel(\"512: AA0151 MOD:00831 NAG\",{\"fontColor\": \"black\", \"fontSize\": 10, \"backgroundColor\": \"lightgray\"},{\"chain\": \"J\", \"resi\": \"512\"});\n\tviewer_1536732274492024.zoomTo({\"chain\": \"J\", \"resi\": [\"512\"], \"byres\": true, \"expand\": 6});\nviewer_1536732274492024.render();\n})\n});\n</script>"
         },
         "metadata": {},
         "output_type": "display_data"
        }
       ]
      }
     },
     "ab0f1c022c794ce89ba66f0d5d99d562": {
      "model_module": "@jupyter-widgets/controls",
      "model_module_version": "1.4.0",
      "model_name": "DescriptionStyleModel",
      "state": {
       "description_width": ""
      }
     },
     "adc1dfb495ce4911a9f66fc46d30461f": {
      "model_module": "@jupyter-widgets/base",
      "model_module_version": "1.1.0",
      "model_name": "LayoutModel",
      "state": {}
     },
     "aff2b1063907419fa53d7c06dd477992": {
      "model_module": "@jupyter-widgets/controls",
      "model_module_version": "1.4.0",
      "model_name": "CheckboxModel",
      "state": {
       "description": "show_labels",
       "disabled": false,
       "layout": "IPY_MODEL_bc6cc3dab9f74470bbaf492c5b387743",
       "style": "IPY_MODEL_474fb9bbb98e435087afa406ee51247a",
       "value": true
      }
     },
     "b297ed3415b54c77bd87c3ae6dfd9e49": {
      "model_module": "@jupyter-widgets/base",
      "model_module_version": "1.1.0",
      "model_name": "LayoutModel",
      "state": {}
     },
     "b40eda7cc3e7463eb4eb4ccfdf432760": {
      "model_module": "@jupyter-widgets/controls",
      "model_module_version": "1.4.0",
      "model_name": "DescriptionStyleModel",
      "state": {
       "description_width": ""
      }
     },
     "bc6cc3dab9f74470bbaf492c5b387743": {
      "model_module": "@jupyter-widgets/base",
      "model_module_version": "1.1.0",
      "model_name": "LayoutModel",
      "state": {}
     },
     "bde1914cfde64cd599fd5b9885179a09": {
      "model_module": "@jupyter-widgets/controls",
      "model_module_version": "1.4.0",
      "model_name": "TextareaModel",
      "state": {
       "description": "Enter id(s):",
       "layout": "IPY_MODEL_feca8c063a7f433c96dfe33763d57ca8",
       "style": "IPY_MODEL_ab0f1c022c794ce89ba66f0d5d99d562",
       "value": "AA0151"
      }
     },
     "c010807fb30049cc87a0b60970f10172": {
      "model_module": "@jupyter-widgets/base",
      "model_module_version": "1.1.0",
      "model_name": "LayoutModel",
      "state": {}
     },
     "cdea639b3b3c487cb2f7c9c63b29d5ce": {
      "model_module": "@jupyter-widgets/controls",
      "model_module_version": "1.4.0",
      "model_name": "DescriptionStyleModel",
      "state": {
       "description_width": ""
      }
     },
     "ce32ef438f934a368fabdb33ff35df59": {
      "model_module": "@jupyter-widgets/controls",
      "model_module_version": "1.4.0",
      "model_name": "DescriptionStyleModel",
      "state": {
       "description_width": ""
      }
     },
     "d4eae0776f3c4b92a100375dde7467fd": {
      "model_module": "@jupyter-widgets/controls",
      "model_module_version": "1.4.0",
      "model_name": "IntSliderModel",
      "state": {
       "continuous_update": false,
       "description": "Structure",
       "layout": "IPY_MODEL_06a8a3bca4d9451ca9b33b9cd0287442",
       "max": 10932,
       "style": "IPY_MODEL_973890a97a6b4985963d0b4b80f9c374"
      }
     },
     "daa3e8b7f5b344dea69cc03f3c23e131": {
      "model_module": "@jupyter-widgets/base",
      "model_module_version": "1.1.0",
      "model_name": "LayoutModel",
      "state": {}
     },
     "dfa65c34574741efbfb9f1bd449adda7": {
      "model_module": "@jupyter-widgets/controls",
      "model_module_version": "1.4.0",
      "model_name": "DescriptionStyleModel",
      "state": {
       "description_width": ""
      }
     },
     "e7e63b66f7d54fa0b2dffc6f8dec190f": {
      "model_module": "@jupyter-widgets/controls",
      "model_module_version": "1.4.0",
      "model_name": "IntSliderModel",
      "state": {
       "continuous_update": false,
       "description": "Structure",
       "layout": "IPY_MODEL_67ef71458b6b488abf74d28887da56e8",
       "max": 10932,
       "style": "IPY_MODEL_2488f675c7224708be37c6c86d7e8cf8"
      }
     },
     "febb9f566d354ff4950cccc00871d6b3": {
      "model_module": "@jupyter-widgets/controls",
      "model_module_version": "1.4.0",
      "model_name": "CheckboxModel",
      "state": {
       "description": "show_bio_assembly",
       "disabled": false,
       "layout": "IPY_MODEL_6dfa2c5f9c514df4ad22c4163f837d42",
       "style": "IPY_MODEL_5aababedd3e542a4840e67665434b56e",
       "value": false
      }
     },
     "feca8c063a7f433c96dfe33763d57ca8": {
      "model_module": "@jupyter-widgets/base",
      "model_module_version": "1.1.0",
      "model_name": "LayoutModel",
      "state": {}
     }
    },
    "version_major": 2,
    "version_minor": 0
   }
  }
 },
 "nbformat": 4,
 "nbformat_minor": 2
}

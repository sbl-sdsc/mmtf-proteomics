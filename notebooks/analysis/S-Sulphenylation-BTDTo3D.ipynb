{
 "cells": [
  {
   "cell_type": "markdown",
   "metadata": {},
   "source": [
    "# Map S-sulphenylated peptide fragments on 3D Structure"
   ]
  },
  {
   "cell_type": "markdown",
   "metadata": {},
   "source": [
    "The goal of this study is to systematically map the positions of .... of proteins onto 3D protein structures in the Protein Data Bank."
   ]
  },
  {
   "cell_type": "markdown",
   "metadata": {},
   "source": [
    "Data source:\n",
    "\n",
    "Gupta V, Yang J, Liebler DC, Carroll KS. Diverse Redoxome Reactivity Profiles \n",
    "of Carbon Nucleophiles. J Am Chem Soc. 2017 Apr 19;139(15):5588-5595. [doi:\n",
    "10.1021/jacs.7b01791](https://doi.org/10.1021/jacs.7b01791)\n",
    "\n",
    "Excerpts from abstract:\n",
    "Analysis of sulfenic acid-reactive C-nucleophile fragments screened against a colon cancer cell proteome. Covalent ligands were identified for >1280 S-sulfenylated cysteines present in \"druggable\" proteins and orphan targets, revealing disparate reactivity profiles and target preferences. "
   ]
  },
  {
   "cell_type": "code",
   "execution_count": 1,
   "metadata": {},
   "outputs": [],
   "source": [
    "#import warnings\n",
    "#warnings.filterwarnings(\"ignore\") # numpy version issue?\n",
    "from pyspark.sql import SparkSession\n",
    "from pyspark.sql.functions import explode, split, substring_index,regexp_extract\n",
    "from mmtfPyspark.datasets import pdbToUniProt\n",
    "from ipywidgets import interact, IntSlider, widgets\n",
    "import requests\n",
    "from PIL import Image\n",
    "from io import BytesIO\n",
    "import xlrd\n",
    "import pandas as pd\n",
    "import numpy as np\n",
    "import py3Dmol"
   ]
  },
  {
   "cell_type": "code",
   "execution_count": 2,
   "metadata": {},
   "outputs": [],
   "source": [
    "spark = SparkSession.builder.master(\"local[4]\").appName(\"S-Sulphenylation\").getOrCreate()"
   ]
  },
  {
   "cell_type": "code",
   "execution_count": 3,
   "metadata": {
    "code_folding": []
   },
   "outputs": [],
   "source": [
    "dataset = {'BTD':  'https://pubs.acs.org/doi/suppl/10.1021/jacs.7b01791/suppl_file/ja7b01791_si_002.xlsx', \n",
    "           'DYn-2':'https://pubs.acs.org/doi/suppl/10.1021/jacs.7b01791/suppl_file/ja7b01791_si_003.xlsx',\n",
    "           'PRD':  'https://pubs.acs.org/doi/suppl/10.1021/jacs.7b01791/suppl_file/ja7b01791_si_004.xlsx',\n",
    "           'PYD':  'https://pubs.acs.org/doi/suppl/10.1021/jacs.7b01791/suppl_file/ja7b01791_si_005.xlsx',\n",
    "           'TD':   'https://pubs.acs.org/doi/suppl/10.1021/jacs.7b01791/suppl_file/ja7b01791_si_006.xlsx'}\n"
   ]
  },
  {
   "cell_type": "code",
   "execution_count": 4,
   "metadata": {},
   "outputs": [],
   "source": [
    "dataset = {'BTD':  ('https://pubs.acs.org/doi/suppl/10.1021/jacs.7b01791/suppl_file/ja7b01791_si_002.xlsx', '418@C'), \n",
    "           'DYn-2':('https://pubs.acs.org/doi/suppl/10.1021/jacs.7b01791/suppl_file/ja7b01791_si_003.xlsx', '333@C'),\n",
    "           'PRD':  ('https://pubs.acs.org/doi/suppl/10.1021/jacs.7b01791/suppl_file/ja7b01791_si_004.xlsx', '333@C'),\n",
    "           'PYD':  ('https://pubs.acs.org/doi/suppl/10.1021/jacs.7b01791/suppl_file/ja7b01791_si_005.xlsx', '333@C'),\n",
    "           'TD':   ('https://pubs.acs.org/doi/suppl/10.1021/jacs.7b01791/suppl_file/ja7b01791_si_006.xlsx', '333@C')}"
   ]
  },
  {
   "cell_type": "code",
   "execution_count": 5,
   "metadata": {},
   "outputs": [],
   "source": [
    "w = widgets.ToggleButtons(options=dataset.keys(), description='Dataset:', disabled=False)"
   ]
  },
  {
   "cell_type": "markdown",
   "metadata": {},
   "source": [
    "## Select dataset"
   ]
  },
  {
   "cell_type": "code",
   "execution_count": 6,
   "metadata": {},
   "outputs": [
    {
     "data": {
      "application/vnd.jupyter.widget-view+json": {
       "model_id": "2a27dea1efdd40d392ab5b4063e096a7",
       "version_major": 2,
       "version_minor": 0
      },
      "text/plain": [
       "ToggleButtons(description='Dataset:', options=('BTD', 'DYn-2', 'PRD', 'PYD', 'TD'), value='BTD')"
      ]
     },
     "metadata": {},
     "output_type": "display_data"
    }
   ],
   "source": [
    "display(w)"
   ]
  },
  {
   "cell_type": "code",
   "execution_count": 7,
   "metadata": {},
   "outputs": [
    {
     "name": "stdout",
     "output_type": "stream",
     "text": [
      "https://pubs.acs.org/doi/suppl/10.1021/jacs.7b01791/suppl_file/ja7b01791_si_002.xlsx 418@C\n"
     ]
    }
   ],
   "source": [
    "dataset[w.value]\n",
    "url = dataset[w.value][0]\n",
    "mod_string = dataset[w.value][1]\n",
    "print(url, mod_string)"
   ]
  },
  {
   "cell_type": "markdown",
   "metadata": {},
   "source": [
    "### Read dataset from supplementary data excel file"
   ]
  },
  {
   "cell_type": "code",
   "execution_count": 8,
   "metadata": {},
   "outputs": [
    {
     "name": "stdout",
     "output_type": "stream",
     "text": [
      "Dataset: BTD\n"
     ]
    },
    {
     "data": {
      "text/html": [
       "<div>\n",
       "<style scoped>\n",
       "    .dataframe tbody tr th:only-of-type {\n",
       "        vertical-align: middle;\n",
       "    }\n",
       "\n",
       "    .dataframe tbody tr th {\n",
       "        vertical-align: top;\n",
       "    }\n",
       "\n",
       "    .dataframe thead th {\n",
       "        text-align: right;\n",
       "    }\n",
       "</style>\n",
       "<table border=\"1\" class=\"dataframe\">\n",
       "  <thead>\n",
       "    <tr style=\"text-align: right;\">\n",
       "      <th></th>\n",
       "      <th>Accession</th>\n",
       "      <th>Cluster</th>\n",
       "      <th>Count</th>\n",
       "      <th>Coverage</th>\n",
       "      <th>Protein Group</th>\n",
       "      <th>Gene Id</th>\n",
       "      <th>Gene Name</th>\n",
       "      <th>Chromosome</th>\n",
       "      <th>Gene Family</th>\n",
       "      <th>Distinct Peptides</th>\n",
       "      <th>Distinct Matches</th>\n",
       "      <th>Filtered Spectra</th>\n",
       "      <th>Description</th>\n",
       "      <th>Modified Sites</th>\n",
       "    </tr>\n",
       "  </thead>\n",
       "  <tbody>\n",
       "    <tr>\n",
       "      <th>0</th>\n",
       "      <td>NP_008835.5|,NP_001075109.1|</td>\n",
       "      <td>56.0</td>\n",
       "      <td>2.0</td>\n",
       "      <td>7.221987</td>\n",
       "      <td>68.0</td>\n",
       "      <td>PRKDC</td>\n",
       "      <td>protein kinase, DNA-activated, catalytic polyp...</td>\n",
       "      <td>8q11</td>\n",
       "      <td>NaN</td>\n",
       "      <td>26.0</td>\n",
       "      <td>41.0</td>\n",
       "      <td>73.0</td>\n",
       "      <td>|PRKDC|5591|P78527|DNA-dependent protein kinas...</td>\n",
       "      <td>418@C25,418@C4061,418@C4030,418@C2469,418@C190...</td>\n",
       "    </tr>\n",
       "    <tr>\n",
       "      <th>1</th>\n",
       "      <td>NP_008835.5|</td>\n",
       "      <td>NaN</td>\n",
       "      <td>NaN</td>\n",
       "      <td>7.194767</td>\n",
       "      <td>NaN</td>\n",
       "      <td>PRKDC</td>\n",
       "      <td>protein kinase, DNA-activated, catalytic polyp...</td>\n",
       "      <td>8q11</td>\n",
       "      <td>NaN</td>\n",
       "      <td>NaN</td>\n",
       "      <td>NaN</td>\n",
       "      <td>NaN</td>\n",
       "      <td>|PRKDC|5591|P78527|DNA-dependent protein kinas...</td>\n",
       "      <td>418@C25,418@C223,418@C232,418@C373,418@C458,41...</td>\n",
       "    </tr>\n",
       "    <tr>\n",
       "      <th>2</th>\n",
       "      <td>NP_001075109.1|</td>\n",
       "      <td>NaN</td>\n",
       "      <td>NaN</td>\n",
       "      <td>7.249207</td>\n",
       "      <td>NaN</td>\n",
       "      <td>PRKDC</td>\n",
       "      <td>protein kinase, DNA-activated, catalytic polyp...</td>\n",
       "      <td>8q11</td>\n",
       "      <td>NaN</td>\n",
       "      <td>NaN</td>\n",
       "      <td>NaN</td>\n",
       "      <td>NaN</td>\n",
       "      <td>|PRKDC|5591|P78527|DNA-dependent protein kinas...</td>\n",
       "      <td>418@C25,418@C223,418@C232,418@C373,418@C458,41...</td>\n",
       "    </tr>\n",
       "    <tr>\n",
       "      <th>3</th>\n",
       "      <td>NP_001447.2|,NP_001104026.1|</td>\n",
       "      <td>249.0</td>\n",
       "      <td>2.0</td>\n",
       "      <td>12.561512</td>\n",
       "      <td>308.0</td>\n",
       "      <td>FLNA</td>\n",
       "      <td>filamin A, alpha</td>\n",
       "      <td>Xq28</td>\n",
       "      <td>NaN</td>\n",
       "      <td>16.0</td>\n",
       "      <td>22.0</td>\n",
       "      <td>41.0</td>\n",
       "      <td>|FLNA|2316|P21333;Q60FE5;Q6NXF2|filamin-A isof...</td>\n",
       "      <td>418@C1018,418@C2152,418@C2160,418@C2535,418@C2...</td>\n",
       "    </tr>\n",
       "    <tr>\n",
       "      <th>4</th>\n",
       "      <td>NP_001447.2|</td>\n",
       "      <td>NaN</td>\n",
       "      <td>NaN</td>\n",
       "      <td>12.580523</td>\n",
       "      <td>NaN</td>\n",
       "      <td>FLNA</td>\n",
       "      <td>filamin A, alpha</td>\n",
       "      <td>Xq28</td>\n",
       "      <td>NaN</td>\n",
       "      <td>NaN</td>\n",
       "      <td>NaN</td>\n",
       "      <td>NaN</td>\n",
       "      <td>|FLNA|2316|P21333;Q60FE5;Q6NXF2|filamin-A isof...</td>\n",
       "      <td>418@C53,418@C478,418@C574,418@C1018,418@C1157,...</td>\n",
       "    </tr>\n",
       "  </tbody>\n",
       "</table>\n",
       "</div>"
      ],
      "text/plain": [
       "                      Accession  Cluster  Count   Coverage  Protein Group  \\\n",
       "0  NP_008835.5|,NP_001075109.1|     56.0    2.0   7.221987           68.0   \n",
       "1                  NP_008835.5|      NaN    NaN   7.194767            NaN   \n",
       "2               NP_001075109.1|      NaN    NaN   7.249207            NaN   \n",
       "3  NP_001447.2|,NP_001104026.1|    249.0    2.0  12.561512          308.0   \n",
       "4                  NP_001447.2|      NaN    NaN  12.580523            NaN   \n",
       "\n",
       "  Gene Id                                          Gene Name Chromosome  \\\n",
       "0   PRKDC  protein kinase, DNA-activated, catalytic polyp...       8q11   \n",
       "1   PRKDC  protein kinase, DNA-activated, catalytic polyp...       8q11   \n",
       "2   PRKDC  protein kinase, DNA-activated, catalytic polyp...       8q11   \n",
       "3    FLNA                                   filamin A, alpha       Xq28   \n",
       "4    FLNA                                   filamin A, alpha       Xq28   \n",
       "\n",
       "  Gene Family  Distinct Peptides  Distinct Matches  Filtered Spectra  \\\n",
       "0         NaN               26.0              41.0              73.0   \n",
       "1         NaN                NaN               NaN               NaN   \n",
       "2         NaN                NaN               NaN               NaN   \n",
       "3         NaN               16.0              22.0              41.0   \n",
       "4         NaN                NaN               NaN               NaN   \n",
       "\n",
       "                                         Description  \\\n",
       "0  |PRKDC|5591|P78527|DNA-dependent protein kinas...   \n",
       "1  |PRKDC|5591|P78527|DNA-dependent protein kinas...   \n",
       "2  |PRKDC|5591|P78527|DNA-dependent protein kinas...   \n",
       "3  |FLNA|2316|P21333;Q60FE5;Q6NXF2|filamin-A isof...   \n",
       "4  |FLNA|2316|P21333;Q60FE5;Q6NXF2|filamin-A isof...   \n",
       "\n",
       "                                      Modified Sites  \n",
       "0  418@C25,418@C4061,418@C4030,418@C2469,418@C190...  \n",
       "1  418@C25,418@C223,418@C232,418@C373,418@C458,41...  \n",
       "2  418@C25,418@C223,418@C232,418@C373,418@C458,41...  \n",
       "3  418@C1018,418@C2152,418@C2160,418@C2535,418@C2...  \n",
       "4  418@C53,418@C478,418@C574,418@C1018,418@C1157,...  "
      ]
     },
     "execution_count": 8,
     "metadata": {},
     "output_type": "execute_result"
    }
   ],
   "source": [
    "req = requests.get(url) # get redirected content\n",
    "df = pd.read_excel(BytesIO(req.content), sheet_name='Protein View')\n",
    "print(\"Dataset:\",w.value)\n",
    "df.head()"
   ]
  },
  {
   "cell_type": "markdown",
   "metadata": {},
   "source": [
    "### Standardize representation of protein modification\n",
    "Here we use the following notation for modified residues (amino acid, delta mass), here (C,333)."
   ]
  },
  {
   "cell_type": "code",
   "execution_count": 9,
   "metadata": {},
   "outputs": [
    {
     "data": {
      "text/html": [
       "<div>\n",
       "<style scoped>\n",
       "    .dataframe tbody tr th:only-of-type {\n",
       "        vertical-align: middle;\n",
       "    }\n",
       "\n",
       "    .dataframe tbody tr th {\n",
       "        vertical-align: top;\n",
       "    }\n",
       "\n",
       "    .dataframe thead th {\n",
       "        text-align: right;\n",
       "    }\n",
       "</style>\n",
       "<table border=\"1\" class=\"dataframe\">\n",
       "  <thead>\n",
       "    <tr style=\"text-align: right;\">\n",
       "      <th></th>\n",
       "      <th>Accession</th>\n",
       "      <th>Cluster</th>\n",
       "      <th>Count</th>\n",
       "      <th>Coverage</th>\n",
       "      <th>Protein Group</th>\n",
       "      <th>Gene Id</th>\n",
       "      <th>Gene Name</th>\n",
       "      <th>Chromosome</th>\n",
       "      <th>Gene Family</th>\n",
       "      <th>Distinct Peptides</th>\n",
       "      <th>Distinct Matches</th>\n",
       "      <th>Filtered Spectra</th>\n",
       "      <th>Description</th>\n",
       "      <th>Modified Sites</th>\n",
       "      <th>ptms</th>\n",
       "      <th>modSites</th>\n",
       "    </tr>\n",
       "  </thead>\n",
       "  <tbody>\n",
       "    <tr>\n",
       "      <th>0</th>\n",
       "      <td>NP_008835.5|,NP_001075109.1|</td>\n",
       "      <td>56.0</td>\n",
       "      <td>2.0</td>\n",
       "      <td>7.221987</td>\n",
       "      <td>68.0</td>\n",
       "      <td>PRKDC</td>\n",
       "      <td>protein kinase, DNA-activated, catalytic polyp...</td>\n",
       "      <td>8q11</td>\n",
       "      <td>NaN</td>\n",
       "      <td>26.0</td>\n",
       "      <td>41.0</td>\n",
       "      <td>73.0</td>\n",
       "      <td>|PRKDC|5591|P78527|DNA-dependent protein kinas...</td>\n",
       "      <td>418@C25,418@C4061,418@C4030,418@C2469,418@C190...</td>\n",
       "      <td>BTD</td>\n",
       "      <td>25,4061,4030,2469,1904,3837,3806,1128,1127,234...</td>\n",
       "    </tr>\n",
       "    <tr>\n",
       "      <th>1</th>\n",
       "      <td>NP_008835.5|</td>\n",
       "      <td>NaN</td>\n",
       "      <td>NaN</td>\n",
       "      <td>7.194767</td>\n",
       "      <td>NaN</td>\n",
       "      <td>PRKDC</td>\n",
       "      <td>protein kinase, DNA-activated, catalytic polyp...</td>\n",
       "      <td>8q11</td>\n",
       "      <td>NaN</td>\n",
       "      <td>NaN</td>\n",
       "      <td>NaN</td>\n",
       "      <td>NaN</td>\n",
       "      <td>|PRKDC|5591|P78527|DNA-dependent protein kinas...</td>\n",
       "      <td>418@C25,418@C223,418@C232,418@C373,418@C458,41...</td>\n",
       "      <td>BTD</td>\n",
       "      <td>25,223,232,373,458,457,478,491,1128,1127,1183,...</td>\n",
       "    </tr>\n",
       "    <tr>\n",
       "      <th>2</th>\n",
       "      <td>NP_001075109.1|</td>\n",
       "      <td>NaN</td>\n",
       "      <td>NaN</td>\n",
       "      <td>7.249207</td>\n",
       "      <td>NaN</td>\n",
       "      <td>PRKDC</td>\n",
       "      <td>protein kinase, DNA-activated, catalytic polyp...</td>\n",
       "      <td>8q11</td>\n",
       "      <td>NaN</td>\n",
       "      <td>NaN</td>\n",
       "      <td>NaN</td>\n",
       "      <td>NaN</td>\n",
       "      <td>|PRKDC|5591|P78527|DNA-dependent protein kinas...</td>\n",
       "      <td>418@C25,418@C223,418@C232,418@C373,418@C458,41...</td>\n",
       "      <td>BTD</td>\n",
       "      <td>25,223,232,373,458,457,478,491,1128,1127,1183,...</td>\n",
       "    </tr>\n",
       "    <tr>\n",
       "      <th>3</th>\n",
       "      <td>NP_001447.2|,NP_001104026.1|</td>\n",
       "      <td>249.0</td>\n",
       "      <td>2.0</td>\n",
       "      <td>12.561512</td>\n",
       "      <td>308.0</td>\n",
       "      <td>FLNA</td>\n",
       "      <td>filamin A, alpha</td>\n",
       "      <td>Xq28</td>\n",
       "      <td>NaN</td>\n",
       "      <td>16.0</td>\n",
       "      <td>22.0</td>\n",
       "      <td>41.0</td>\n",
       "      <td>|FLNA|2316|P21333;Q60FE5;Q6NXF2|filamin-A isof...</td>\n",
       "      <td>418@C1018,418@C2152,418@C2160,418@C2535,418@C2...</td>\n",
       "      <td>BTD</td>\n",
       "      <td>1018,2152,2160,2535,2543,2191,2199,1157,1453,5...</td>\n",
       "    </tr>\n",
       "    <tr>\n",
       "      <th>4</th>\n",
       "      <td>NP_001447.2|</td>\n",
       "      <td>NaN</td>\n",
       "      <td>NaN</td>\n",
       "      <td>12.580523</td>\n",
       "      <td>NaN</td>\n",
       "      <td>FLNA</td>\n",
       "      <td>filamin A, alpha</td>\n",
       "      <td>Xq28</td>\n",
       "      <td>NaN</td>\n",
       "      <td>NaN</td>\n",
       "      <td>NaN</td>\n",
       "      <td>NaN</td>\n",
       "      <td>|FLNA|2316|P21333;Q60FE5;Q6NXF2|filamin-A isof...</td>\n",
       "      <td>418@C53,418@C478,418@C574,418@C1018,418@C1157,...</td>\n",
       "      <td>BTD</td>\n",
       "      <td>53,478,574,1018,1157,1165,1402,1453,1715,1989,...</td>\n",
       "    </tr>\n",
       "  </tbody>\n",
       "</table>\n",
       "</div>"
      ],
      "text/plain": [
       "                      Accession  Cluster  Count   Coverage  Protein Group  \\\n",
       "0  NP_008835.5|,NP_001075109.1|     56.0    2.0   7.221987           68.0   \n",
       "1                  NP_008835.5|      NaN    NaN   7.194767            NaN   \n",
       "2               NP_001075109.1|      NaN    NaN   7.249207            NaN   \n",
       "3  NP_001447.2|,NP_001104026.1|    249.0    2.0  12.561512          308.0   \n",
       "4                  NP_001447.2|      NaN    NaN  12.580523            NaN   \n",
       "\n",
       "  Gene Id                                          Gene Name Chromosome  \\\n",
       "0   PRKDC  protein kinase, DNA-activated, catalytic polyp...       8q11   \n",
       "1   PRKDC  protein kinase, DNA-activated, catalytic polyp...       8q11   \n",
       "2   PRKDC  protein kinase, DNA-activated, catalytic polyp...       8q11   \n",
       "3    FLNA                                   filamin A, alpha       Xq28   \n",
       "4    FLNA                                   filamin A, alpha       Xq28   \n",
       "\n",
       "  Gene Family  Distinct Peptides  Distinct Matches  Filtered Spectra  \\\n",
       "0         NaN               26.0              41.0              73.0   \n",
       "1         NaN                NaN               NaN               NaN   \n",
       "2         NaN                NaN               NaN               NaN   \n",
       "3         NaN               16.0              22.0              41.0   \n",
       "4         NaN                NaN               NaN               NaN   \n",
       "\n",
       "                                         Description  \\\n",
       "0  |PRKDC|5591|P78527|DNA-dependent protein kinas...   \n",
       "1  |PRKDC|5591|P78527|DNA-dependent protein kinas...   \n",
       "2  |PRKDC|5591|P78527|DNA-dependent protein kinas...   \n",
       "3  |FLNA|2316|P21333;Q60FE5;Q6NXF2|filamin-A isof...   \n",
       "4  |FLNA|2316|P21333;Q60FE5;Q6NXF2|filamin-A isof...   \n",
       "\n",
       "                                      Modified Sites ptms  \\\n",
       "0  418@C25,418@C4061,418@C4030,418@C2469,418@C190...  BTD   \n",
       "1  418@C25,418@C223,418@C232,418@C373,418@C458,41...  BTD   \n",
       "2  418@C25,418@C223,418@C232,418@C373,418@C458,41...  BTD   \n",
       "3  418@C1018,418@C2152,418@C2160,418@C2535,418@C2...  BTD   \n",
       "4  418@C53,418@C478,418@C574,418@C1018,418@C1157,...  BTD   \n",
       "\n",
       "                                            modSites  \n",
       "0  25,4061,4030,2469,1904,3837,3806,1128,1127,234...  \n",
       "1  25,223,232,373,458,457,478,491,1128,1127,1183,...  \n",
       "2  25,223,232,373,458,457,478,491,1128,1127,1183,...  \n",
       "3  1018,2152,2160,2535,2543,2191,2199,1157,1453,5...  \n",
       "4  53,478,574,1018,1157,1165,1402,1453,1715,1989,...  "
      ]
     },
     "execution_count": 9,
     "metadata": {},
     "output_type": "execute_result"
    }
   ],
   "source": [
    "#%%time\n",
    "df = df.assign(ptms=np.full((df.shape[0], 1), w.value))\n",
    "df['modSites'] = df['Modified Sites'].map(lambda s: str(s).replace(mod_string, ''))\n",
    "df.head()"
   ]
  },
  {
   "cell_type": "code",
   "execution_count": 10,
   "metadata": {
    "scrolled": true
   },
   "outputs": [],
   "source": [
    "# convert columns to string\n",
    "df[['Gene Family', 'Gene Name', 'Chromosome','Description', 'Modified Sites']] = df[['Gene Family', 'Gene Name', 'Chromosome','Description', 'Modified Sites']].astype(str)\n",
    "ds = spark.createDataFrame(df)\n",
    "ds = ds.filter(\"Accession = 'NP_001243284.1|,NP_001243285.1|,NP_003338.1|'\")"
   ]
  },
  {
   "cell_type": "code",
   "execution_count": 11,
   "metadata": {},
   "outputs": [
    {
     "data": {
      "text/html": [
       "<div>\n",
       "<style scoped>\n",
       "    .dataframe tbody tr th:only-of-type {\n",
       "        vertical-align: middle;\n",
       "    }\n",
       "\n",
       "    .dataframe tbody tr th {\n",
       "        vertical-align: top;\n",
       "    }\n",
       "\n",
       "    .dataframe thead th {\n",
       "        text-align: right;\n",
       "    }\n",
       "</style>\n",
       "<table border=\"1\" class=\"dataframe\">\n",
       "  <thead>\n",
       "    <tr style=\"text-align: right;\">\n",
       "      <th></th>\n",
       "      <th>Accession</th>\n",
       "      <th>Cluster</th>\n",
       "      <th>Count</th>\n",
       "      <th>Coverage</th>\n",
       "      <th>Protein Group</th>\n",
       "      <th>Gene Id</th>\n",
       "      <th>Gene Name</th>\n",
       "      <th>Chromosome</th>\n",
       "      <th>Gene Family</th>\n",
       "      <th>Distinct Peptides</th>\n",
       "      <th>Distinct Matches</th>\n",
       "      <th>Filtered Spectra</th>\n",
       "      <th>Description</th>\n",
       "      <th>ptms</th>\n",
       "      <th>modSites</th>\n",
       "      <th>unpName</th>\n",
       "      <th>unpId</th>\n",
       "      <th>name</th>\n",
       "    </tr>\n",
       "  </thead>\n",
       "  <tbody>\n",
       "    <tr>\n",
       "      <th>0</th>\n",
       "      <td>NP_001243284.1|,NP_001243285.1|,NP_003338.1|</td>\n",
       "      <td>629.0</td>\n",
       "      <td>3.0</td>\n",
       "      <td>17.466488</td>\n",
       "      <td>784.0</td>\n",
       "      <td>UBE2L3</td>\n",
       "      <td>ubiquitin-conjugating enzyme E2L 3</td>\n",
       "      <td>22q11.2</td>\n",
       "      <td>UBE2</td>\n",
       "      <td>2.0</td>\n",
       "      <td>3.0</td>\n",
       "      <td>6.0</td>\n",
       "      <td>[, UBE2L3, 7332, P68036, ubiquitin-conjugating...</td>\n",
       "      <td>BTD</td>\n",
       "      <td>144</td>\n",
       "      <td>UBE2L3</td>\n",
       "      <td>P68036</td>\n",
       "      <td>ubiquitin-conjugating enzyme E2 L3 isoform 1 [...</td>\n",
       "    </tr>\n",
       "    <tr>\n",
       "      <th>1</th>\n",
       "      <td>NP_001243284.1|,NP_001243285.1|,NP_003338.1|</td>\n",
       "      <td>629.0</td>\n",
       "      <td>3.0</td>\n",
       "      <td>17.466488</td>\n",
       "      <td>784.0</td>\n",
       "      <td>UBE2L3</td>\n",
       "      <td>ubiquitin-conjugating enzyme E2L 3</td>\n",
       "      <td>22q11.2</td>\n",
       "      <td>UBE2</td>\n",
       "      <td>2.0</td>\n",
       "      <td>3.0</td>\n",
       "      <td>6.0</td>\n",
       "      <td>[, UBE2L3, 7332, P68036, ubiquitin-conjugating...</td>\n",
       "      <td>BTD</td>\n",
       "      <td>54</td>\n",
       "      <td>UBE2L3</td>\n",
       "      <td>P68036</td>\n",
       "      <td>ubiquitin-conjugating enzyme E2 L3 isoform 1 [...</td>\n",
       "    </tr>\n",
       "    <tr>\n",
       "      <th>2</th>\n",
       "      <td>NP_001243284.1|,NP_001243285.1|,NP_003338.1|</td>\n",
       "      <td>629.0</td>\n",
       "      <td>3.0</td>\n",
       "      <td>17.466488</td>\n",
       "      <td>784.0</td>\n",
       "      <td>UBE2L3</td>\n",
       "      <td>ubiquitin-conjugating enzyme E2L 3</td>\n",
       "      <td>22q11.2</td>\n",
       "      <td>UBE2</td>\n",
       "      <td>2.0</td>\n",
       "      <td>3.0</td>\n",
       "      <td>6.0</td>\n",
       "      <td>[, UBE2L3, 7332, P68036, ubiquitin-conjugating...</td>\n",
       "      <td>BTD</td>\n",
       "      <td>86</td>\n",
       "      <td>UBE2L3</td>\n",
       "      <td>P68036</td>\n",
       "      <td>ubiquitin-conjugating enzyme E2 L3 isoform 1 [...</td>\n",
       "    </tr>\n",
       "  </tbody>\n",
       "</table>\n",
       "</div>"
      ],
      "text/plain": [
       "                                      Accession  Cluster  Count   Coverage  \\\n",
       "0  NP_001243284.1|,NP_001243285.1|,NP_003338.1|    629.0    3.0  17.466488   \n",
       "1  NP_001243284.1|,NP_001243285.1|,NP_003338.1|    629.0    3.0  17.466488   \n",
       "2  NP_001243284.1|,NP_001243285.1|,NP_003338.1|    629.0    3.0  17.466488   \n",
       "\n",
       "   Protein Group Gene Id                           Gene Name Chromosome  \\\n",
       "0          784.0  UBE2L3  ubiquitin-conjugating enzyme E2L 3    22q11.2   \n",
       "1          784.0  UBE2L3  ubiquitin-conjugating enzyme E2L 3    22q11.2   \n",
       "2          784.0  UBE2L3  ubiquitin-conjugating enzyme E2L 3    22q11.2   \n",
       "\n",
       "  Gene Family  Distinct Peptides  Distinct Matches  Filtered Spectra  \\\n",
       "0        UBE2                2.0               3.0               6.0   \n",
       "1        UBE2                2.0               3.0               6.0   \n",
       "2        UBE2                2.0               3.0               6.0   \n",
       "\n",
       "                                         Description ptms modSites unpName  \\\n",
       "0  [, UBE2L3, 7332, P68036, ubiquitin-conjugating...  BTD      144  UBE2L3   \n",
       "1  [, UBE2L3, 7332, P68036, ubiquitin-conjugating...  BTD       54  UBE2L3   \n",
       "2  [, UBE2L3, 7332, P68036, ubiquitin-conjugating...  BTD       86  UBE2L3   \n",
       "\n",
       "    unpId                                               name  \n",
       "0  P68036  ubiquitin-conjugating enzyme E2 L3 isoform 1 [...  \n",
       "1  P68036  ubiquitin-conjugating enzyme E2 L3 isoform 1 [...  \n",
       "2  P68036  ubiquitin-conjugating enzyme E2 L3 isoform 1 [...  "
      ]
     },
     "execution_count": 11,
     "metadata": {},
     "output_type": "execute_result"
    }
   ],
   "source": [
    "ds = ds.withColumn('Description', split(ds.Description, \"\\|\"))\n",
    "ds = ds.withColumn(\"unpName\", ds.Description.getItem(1))\n",
    "ds = ds.withColumn(\"unpId\", ds.Description.getItem(3))\n",
    "ds = ds.withColumn(\"name\", ds.Description.getItem(4))\n",
    "ds = ds.withColumn('modSites', split(ds.modSites, \",\"))\n",
    "ds = ds.withColumn('modSites', explode(ds.modSites))\n",
    "ds = ds.drop('Modified Sites')\n",
    "ds.toPandas().head(10)"
   ]
  },
  {
   "cell_type": "markdown",
   "metadata": {},
   "source": [
    "## Get PDB to UniProt Residue Mappings"
   ]
  },
  {
   "cell_type": "markdown",
   "metadata": {},
   "source": [
    "Download PDB to UniProt mappings and filter out residues that were not observed in the 3D structure."
   ]
  },
  {
   "cell_type": "code",
   "execution_count": 12,
   "metadata": {},
   "outputs": [
    {
     "ename": "KeyboardInterrupt",
     "evalue": "",
     "output_type": "error",
     "traceback": [
      "\u001b[0;31m---------------------------------------------------------------------------\u001b[0m",
      "\u001b[0;31mKeyboardInterrupt\u001b[0m                         Traceback (most recent call last)",
      "\u001b[0;32m<ipython-input-12-62f6ef8cac98>\u001b[0m in \u001b[0;36m<module>\u001b[0;34m()\u001b[0m\n\u001b[0;32m----> 1\u001b[0;31m \u001b[0mup\u001b[0m \u001b[0;34m=\u001b[0m \u001b[0mpdbToUniProt\u001b[0m\u001b[0;34m.\u001b[0m\u001b[0mget_cached_residue_mappings\u001b[0m\u001b[0;34m(\u001b[0m\u001b[0;34m)\u001b[0m\u001b[0;34m.\u001b[0m\u001b[0mfilter\u001b[0m\u001b[0;34m(\u001b[0m\u001b[0;34m\"pdbResNum IS NOT NULL\"\u001b[0m\u001b[0;34m)\u001b[0m\u001b[0;34m\u001b[0m\u001b[0m\n\u001b[0m",
      "\u001b[0;32m~/PycharmProjects/mmtf-pyspark/mmtfPyspark/datasets/pdbToUniProt.py\u001b[0m in \u001b[0;36mget_cached_residue_mappings\u001b[0;34m()\u001b[0m\n\u001b[1;32m    114\u001b[0m \u001b[0;34m\u001b[0m\u001b[0m\n\u001b[1;32m    115\u001b[0m     \u001b[0;31m# download cached dataset\u001b[0m\u001b[0;34m\u001b[0m\u001b[0;34m\u001b[0m\u001b[0m\n\u001b[0;32m--> 116\u001b[0;31m     \u001b[0mspark\u001b[0m\u001b[0;34m.\u001b[0m\u001b[0msparkContext\u001b[0m\u001b[0;34m.\u001b[0m\u001b[0maddFile\u001b[0m\u001b[0;34m(\u001b[0m\u001b[0mCACHED_FILE_URL\u001b[0m\u001b[0;34m)\u001b[0m\u001b[0;34m\u001b[0m\u001b[0m\n\u001b[0m\u001b[1;32m    117\u001b[0m \u001b[0;34m\u001b[0m\u001b[0m\n\u001b[1;32m    118\u001b[0m     \u001b[0;31m# read dataset\u001b[0m\u001b[0;34m\u001b[0m\u001b[0;34m\u001b[0m\u001b[0m\n",
      "\u001b[0;32m~/anaconda3/lib/python3.6/site-packages/pyspark/context.py\u001b[0m in \u001b[0;36maddFile\u001b[0;34m(self, path, recursive)\u001b[0m\n\u001b[1;32m    860\u001b[0m         \u001b[0;34m[\u001b[0m\u001b[0;36m100\u001b[0m\u001b[0;34m,\u001b[0m \u001b[0;36m200\u001b[0m\u001b[0;34m,\u001b[0m \u001b[0;36m300\u001b[0m\u001b[0;34m,\u001b[0m \u001b[0;36m400\u001b[0m\u001b[0;34m]\u001b[0m\u001b[0;34m\u001b[0m\u001b[0m\n\u001b[1;32m    861\u001b[0m         \"\"\"\n\u001b[0;32m--> 862\u001b[0;31m         \u001b[0mself\u001b[0m\u001b[0;34m.\u001b[0m\u001b[0m_jsc\u001b[0m\u001b[0;34m.\u001b[0m\u001b[0msc\u001b[0m\u001b[0;34m(\u001b[0m\u001b[0;34m)\u001b[0m\u001b[0;34m.\u001b[0m\u001b[0maddFile\u001b[0m\u001b[0;34m(\u001b[0m\u001b[0mpath\u001b[0m\u001b[0;34m,\u001b[0m \u001b[0mrecursive\u001b[0m\u001b[0;34m)\u001b[0m\u001b[0;34m\u001b[0m\u001b[0m\n\u001b[0m\u001b[1;32m    863\u001b[0m \u001b[0;34m\u001b[0m\u001b[0m\n\u001b[1;32m    864\u001b[0m     \u001b[0;32mdef\u001b[0m \u001b[0maddPyFile\u001b[0m\u001b[0;34m(\u001b[0m\u001b[0mself\u001b[0m\u001b[0;34m,\u001b[0m \u001b[0mpath\u001b[0m\u001b[0;34m)\u001b[0m\u001b[0;34m:\u001b[0m\u001b[0;34m\u001b[0m\u001b[0m\n",
      "\u001b[0;32m~/anaconda3/lib/python3.6/site-packages/py4j/java_gateway.py\u001b[0m in \u001b[0;36m__call__\u001b[0;34m(self, *args)\u001b[0m\n\u001b[1;32m   1253\u001b[0m             \u001b[0mproto\u001b[0m\u001b[0;34m.\u001b[0m\u001b[0mEND_COMMAND_PART\u001b[0m\u001b[0;34m\u001b[0m\u001b[0m\n\u001b[1;32m   1254\u001b[0m \u001b[0;34m\u001b[0m\u001b[0m\n\u001b[0;32m-> 1255\u001b[0;31m         \u001b[0manswer\u001b[0m \u001b[0;34m=\u001b[0m \u001b[0mself\u001b[0m\u001b[0;34m.\u001b[0m\u001b[0mgateway_client\u001b[0m\u001b[0;34m.\u001b[0m\u001b[0msend_command\u001b[0m\u001b[0;34m(\u001b[0m\u001b[0mcommand\u001b[0m\u001b[0;34m)\u001b[0m\u001b[0;34m\u001b[0m\u001b[0m\n\u001b[0m\u001b[1;32m   1256\u001b[0m         return_value = get_return_value(\n\u001b[1;32m   1257\u001b[0m             answer, self.gateway_client, self.target_id, self.name)\n",
      "\u001b[0;32m~/anaconda3/lib/python3.6/site-packages/py4j/java_gateway.py\u001b[0m in \u001b[0;36msend_command\u001b[0;34m(self, command, retry, binary)\u001b[0m\n\u001b[1;32m    983\u001b[0m         \u001b[0mconnection\u001b[0m \u001b[0;34m=\u001b[0m \u001b[0mself\u001b[0m\u001b[0;34m.\u001b[0m\u001b[0m_get_connection\u001b[0m\u001b[0;34m(\u001b[0m\u001b[0;34m)\u001b[0m\u001b[0;34m\u001b[0m\u001b[0m\n\u001b[1;32m    984\u001b[0m         \u001b[0;32mtry\u001b[0m\u001b[0;34m:\u001b[0m\u001b[0;34m\u001b[0m\u001b[0m\n\u001b[0;32m--> 985\u001b[0;31m             \u001b[0mresponse\u001b[0m \u001b[0;34m=\u001b[0m \u001b[0mconnection\u001b[0m\u001b[0;34m.\u001b[0m\u001b[0msend_command\u001b[0m\u001b[0;34m(\u001b[0m\u001b[0mcommand\u001b[0m\u001b[0;34m)\u001b[0m\u001b[0;34m\u001b[0m\u001b[0m\n\u001b[0m\u001b[1;32m    986\u001b[0m             \u001b[0;32mif\u001b[0m \u001b[0mbinary\u001b[0m\u001b[0;34m:\u001b[0m\u001b[0;34m\u001b[0m\u001b[0m\n\u001b[1;32m    987\u001b[0m                 \u001b[0;32mreturn\u001b[0m \u001b[0mresponse\u001b[0m\u001b[0;34m,\u001b[0m \u001b[0mself\u001b[0m\u001b[0;34m.\u001b[0m\u001b[0m_create_connection_guard\u001b[0m\u001b[0;34m(\u001b[0m\u001b[0mconnection\u001b[0m\u001b[0;34m)\u001b[0m\u001b[0;34m\u001b[0m\u001b[0m\n",
      "\u001b[0;32m~/anaconda3/lib/python3.6/site-packages/py4j/java_gateway.py\u001b[0m in \u001b[0;36msend_command\u001b[0;34m(self, command)\u001b[0m\n\u001b[1;32m   1150\u001b[0m \u001b[0;34m\u001b[0m\u001b[0m\n\u001b[1;32m   1151\u001b[0m         \u001b[0;32mtry\u001b[0m\u001b[0;34m:\u001b[0m\u001b[0;34m\u001b[0m\u001b[0m\n\u001b[0;32m-> 1152\u001b[0;31m             \u001b[0manswer\u001b[0m \u001b[0;34m=\u001b[0m \u001b[0msmart_decode\u001b[0m\u001b[0;34m(\u001b[0m\u001b[0mself\u001b[0m\u001b[0;34m.\u001b[0m\u001b[0mstream\u001b[0m\u001b[0;34m.\u001b[0m\u001b[0mreadline\u001b[0m\u001b[0;34m(\u001b[0m\u001b[0;34m)\u001b[0m\u001b[0;34m[\u001b[0m\u001b[0;34m:\u001b[0m\u001b[0;34m-\u001b[0m\u001b[0;36m1\u001b[0m\u001b[0;34m]\u001b[0m\u001b[0;34m)\u001b[0m\u001b[0;34m\u001b[0m\u001b[0m\n\u001b[0m\u001b[1;32m   1153\u001b[0m             \u001b[0mlogger\u001b[0m\u001b[0;34m.\u001b[0m\u001b[0mdebug\u001b[0m\u001b[0;34m(\u001b[0m\u001b[0;34m\"Answer received: {0}\"\u001b[0m\u001b[0;34m.\u001b[0m\u001b[0mformat\u001b[0m\u001b[0;34m(\u001b[0m\u001b[0manswer\u001b[0m\u001b[0;34m)\u001b[0m\u001b[0;34m)\u001b[0m\u001b[0;34m\u001b[0m\u001b[0m\n\u001b[1;32m   1154\u001b[0m             \u001b[0;32mif\u001b[0m \u001b[0manswer\u001b[0m\u001b[0;34m.\u001b[0m\u001b[0mstartswith\u001b[0m\u001b[0;34m(\u001b[0m\u001b[0mproto\u001b[0m\u001b[0;34m.\u001b[0m\u001b[0mRETURN_MESSAGE\u001b[0m\u001b[0;34m)\u001b[0m\u001b[0;34m:\u001b[0m\u001b[0;34m\u001b[0m\u001b[0m\n",
      "\u001b[0;32m~/anaconda3/lib/python3.6/socket.py\u001b[0m in \u001b[0;36mreadinto\u001b[0;34m(self, b)\u001b[0m\n\u001b[1;32m    584\u001b[0m         \u001b[0;32mwhile\u001b[0m \u001b[0;32mTrue\u001b[0m\u001b[0;34m:\u001b[0m\u001b[0;34m\u001b[0m\u001b[0m\n\u001b[1;32m    585\u001b[0m             \u001b[0;32mtry\u001b[0m\u001b[0;34m:\u001b[0m\u001b[0;34m\u001b[0m\u001b[0m\n\u001b[0;32m--> 586\u001b[0;31m                 \u001b[0;32mreturn\u001b[0m \u001b[0mself\u001b[0m\u001b[0;34m.\u001b[0m\u001b[0m_sock\u001b[0m\u001b[0;34m.\u001b[0m\u001b[0mrecv_into\u001b[0m\u001b[0;34m(\u001b[0m\u001b[0mb\u001b[0m\u001b[0;34m)\u001b[0m\u001b[0;34m\u001b[0m\u001b[0m\n\u001b[0m\u001b[1;32m    587\u001b[0m             \u001b[0;32mexcept\u001b[0m \u001b[0mtimeout\u001b[0m\u001b[0;34m:\u001b[0m\u001b[0;34m\u001b[0m\u001b[0m\n\u001b[1;32m    588\u001b[0m                 \u001b[0mself\u001b[0m\u001b[0;34m.\u001b[0m\u001b[0m_timeout_occurred\u001b[0m \u001b[0;34m=\u001b[0m \u001b[0;32mTrue\u001b[0m\u001b[0;34m\u001b[0m\u001b[0m\n",
      "\u001b[0;31mKeyboardInterrupt\u001b[0m: "
     ]
    }
   ],
   "source": [
    "up = pdbToUniProt.get_cached_residue_mappings().filter(\"pdbResNum IS NOT NULL\")"
   ]
  },
  {
   "cell_type": "code",
   "execution_count": null,
   "metadata": {},
   "outputs": [],
   "source": [
    "st = up.join(ds, (up.uniprotId == ds.unpId) & (up.uniprotNum == ds.modSites))"
   ]
  },
  {
   "cell_type": "code",
   "execution_count": null,
   "metadata": {
    "code_folding": [
     0
    ]
   },
   "outputs": [],
   "source": [
    "def view_modifications(df, cutoff_distance, *args):\n",
    "\n",
    "    def view3d(show_labels=True,show_bio_assembly=False, show_surface=False, i=0):\n",
    "        pdb_id, chain_id = df.iloc[i]['structureChainId'].split('.')\n",
    "        res_num = df.iloc[i]['pdbResNum']\n",
    "        labels = df.iloc[i]['ptms']\n",
    "        \n",
    "        # print header\n",
    "        print (\"PDB Id: \" + pdb_id + \" chain Id: \" + chain_id)\n",
    "        \n",
    "        # print any specified additional columns from the dataframe\n",
    "        for a in args:\n",
    "            print(a + \": \" + df.iloc[i][a])\n",
    "        \n",
    "        mod_res = {'chain': chain_id, 'resi': res_num}  \n",
    "        \n",
    "        # select neigboring residues by distance\n",
    "        surroundings = {'chain': chain_id, 'resi': res_num, 'byres': True, 'expand': cutoff_distance}\n",
    "        \n",
    "        viewer = py3Dmol.view(query='pdb:' + pdb_id, options={'doAssembly': show_bio_assembly})\n",
    "    \n",
    "        # polymer style\n",
    "        viewer.setStyle({'cartoon': {'color': 'spectrum', 'width': 0.6, 'opacity':0.8}})\n",
    "        # non-polymer style\n",
    "        viewer.setStyle({'hetflag': True}, {'stick':{'radius': 0.3, 'singleBond': False}})\n",
    "        \n",
    "        # style for modifications\n",
    "        viewer.addStyle(surroundings,{'stick':{'colorscheme':'orangeCarbon', 'radius': 0.15}})\n",
    "        viewer.addStyle(mod_res, {'stick':{'colorscheme':'redCarbon', 'radius': 0.4}})\n",
    "        viewer.addStyle(mod_res, {'sphere':{'colorscheme':'gray', 'opacity': 0.7}})\n",
    "        \n",
    "        # set residue labels    \n",
    "        if show_labels:\n",
    "            for residue, label in zip(res_num, labels):\n",
    "                viewer.addLabel(residue + \": \" + label, \\\n",
    "                                {'fontColor':'black', 'fontSize': 8, 'backgroundColor': 'lightgray'}, \\\n",
    "                                {'chain': chain_id, 'resi': residue})\n",
    "\n",
    "        viewer.zoomTo(surroundings)\n",
    "        \n",
    "        if show_surface:\n",
    "            viewer.addSurface(py3Dmol.SES,{'opacity':0.8,'color':'lightblue'})\n",
    "\n",
    "        return viewer.show()\n",
    "       \n",
    "    s_widget = IntSlider(min=0, max=len(df)-1, description='Structure', continuous_update=False)\n",
    "    \n",
    "    return interact(view3d, show_labels=True, show_bio_assembly=False, show_surface=False, i=s_widget)"
   ]
  },
  {
   "cell_type": "code",
   "execution_count": null,
   "metadata": {},
   "outputs": [],
   "source": [
    "st = st.filter(\"structureChainId = '5TTE.E'\")\n",
    "sp = st.toPandas()\n",
    "view_modifications(sp, 6, 'uniprotId', 'unpName', 'name','Accession','modSites')"
   ]
  },
  {
   "cell_type": "code",
   "execution_count": null,
   "metadata": {},
   "outputs": [],
   "source": [
    "sp.head(20)"
   ]
  },
  {
   "cell_type": "code",
   "execution_count": null,
   "metadata": {},
   "outputs": [],
   "source": []
  },
  {
   "cell_type": "code",
   "execution_count": null,
   "metadata": {},
   "outputs": [],
   "source": []
  },
  {
   "cell_type": "code",
   "execution_count": null,
   "metadata": {},
   "outputs": [],
   "source": []
  }
 ],
 "metadata": {
  "kernelspec": {
   "display_name": "Python 3",
   "language": "python",
   "name": "python3"
  },
  "language_info": {
   "codemirror_mode": {
    "name": "ipython",
    "version": 3
   },
   "file_extension": ".py",
   "mimetype": "text/x-python",
   "name": "python",
   "nbconvert_exporter": "python",
   "pygments_lexer": "ipython3",
   "version": "3.6.3"
  }
 },
 "nbformat": 4,
 "nbformat_minor": 2
}

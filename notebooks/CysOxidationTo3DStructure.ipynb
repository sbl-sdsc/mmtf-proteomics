{
 "cells": [
  {
   "cell_type": "markdown",
   "metadata": {},
   "source": [
    "## Mapping of Cysteine Oxidative PTMs to 3D structures.\n",
    "\n",
    "Under oxidative stress Cysteines can undergo oxidative post-translational modifications (PTMs). The study by Akter, et al. compares the differences between S-Sulfinylations (R-SO2H) and S-Sulfenylations (R-SOH) in A549 and HeLa cell lines.\n",
    "\n",
    "In this notebook we map the positions of these PTMs on available 3D structures in the Protein Data Bank.\n",
    "\n",
    "We use the datasets provided in the supplementary materials of the following paper:\n",
    "\n",
    "Chemical proteomics reveals new targets of cysteine sulfinic acid reductase.\n",
    "Akter S, Fu L, Jung Y, Conte ML, Lawson JR, Lowther WT, Sun, Liu, Yang J, Carroll KS.\n",
    "Nat Chem Biol. 2018 Sep 3. doi: [10.1038/s41589-018-0116-2](https://doi.org/10.1038/s41589-018-0116-2)"
   ]
  },
  {
   "cell_type": "code",
   "execution_count": 1,
   "metadata": {
    "code_folding": [
     0
    ]
   },
   "outputs": [],
   "source": [
    "import pandas as pd\n",
    "import numpy as np\n",
    "from io import BytesIO\n",
    "import xlrd\n",
    "from ipywidgets import interact, IntSlider, widgets\n",
    "import py3Dmol\n",
    "from pyspark.sql import SparkSession\n",
    "from pyspark.sql.functions import asc, collect_set, collect_list, col, concat_ws, sort_array\n",
    "from mmtfPyspark.datasets import pdbToUniProt, pdbPtmDataset"
   ]
  },
  {
   "cell_type": "code",
   "execution_count": 2,
   "metadata": {
    "code_folding": [
     0
    ]
   },
   "outputs": [],
   "source": [
    "# setup checkboxes for datasets\n",
    "w1 = widgets.Checkbox(value=True, description='A549-RSO2H',disabled=False)\n",
    "w2 = widgets.Checkbox(value=False, description='HeLa-RSO2H',disabled=False)\n",
    "w3 = widgets.Checkbox(value=True, description='A549-RSOH',disabled=False)\n",
    "w4 = widgets.Checkbox(value=False, description='HeLa-RSOH',disabled=False)"
   ]
  },
  {
   "cell_type": "markdown",
   "metadata": {},
   "source": [
    "## Select one or more datasets (cell line-PTM)"
   ]
  },
  {
   "cell_type": "code",
   "execution_count": 3,
   "metadata": {
    "scrolled": true
   },
   "outputs": [
    {
     "data": {
      "application/vnd.jupyter.widget-view+json": {
       "model_id": "d7da37d4fa7d4833ab1fb9084a363427",
       "version_major": 2,
       "version_minor": 0
      },
      "text/plain": [
       "Checkbox(value=True, description='A549-RSO2H')"
      ]
     },
     "metadata": {},
     "output_type": "display_data"
    },
    {
     "data": {
      "application/vnd.jupyter.widget-view+json": {
       "model_id": "9b3cfa390933475e9e0586a72719d13c",
       "version_major": 2,
       "version_minor": 0
      },
      "text/plain": [
       "Checkbox(value=False, description='HeLa-RSO2H')"
      ]
     },
     "metadata": {},
     "output_type": "display_data"
    },
    {
     "data": {
      "application/vnd.jupyter.widget-view+json": {
       "model_id": "4a57184a606e4b45bc56d5005471e6d8",
       "version_major": 2,
       "version_minor": 0
      },
      "text/plain": [
       "Checkbox(value=True, description='A549-RSOH')"
      ]
     },
     "metadata": {},
     "output_type": "display_data"
    },
    {
     "data": {
      "application/vnd.jupyter.widget-view+json": {
       "model_id": "ac967c34ea39488693fbbe739ca62716",
       "version_major": 2,
       "version_minor": 0
      },
      "text/plain": [
       "Checkbox(value=False, description='HeLa-RSOH')"
      ]
     },
     "metadata": {},
     "output_type": "display_data"
    }
   ],
   "source": [
    "display(w1, w2, w3, w4)"
   ]
  },
  {
   "cell_type": "markdown",
   "metadata": {},
   "source": [
    "## Read and process datasets from supplementary materials"
   ]
  },
  {
   "cell_type": "code",
   "execution_count": 4,
   "metadata": {
    "code_folding": [
     0
    ]
   },
   "outputs": [],
   "source": [
    "def read_datasets():\n",
    "    dfs = []\n",
    "    if w1.value:\n",
    "        df1 = pd.read_excel('https://static-content.springer.com/esm/art%3A10.1038%2Fs41589-018-0116-2/MediaObjects/41589_2018_116_MOESM32_ESM.xlsx', sheet_name='A549', dtype=str)\n",
    "        df1 = df1.assign(ptms=np.full((df1.shape[0], 1), \"A549-RSO2H\"))\n",
    "        df1 = df1.rename(index=str, columns={\"Modified site\": \"modifiedSite\", \"Uniprot Accession #\": \"uniprotAccession\"})\n",
    "        dfs.append(df1)\n",
    "\n",
    "    if w2.value:\n",
    "        df2 = pd.read_excel('https://static-content.springer.com/esm/art%3A10.1038%2Fs41589-018-0116-2/MediaObjects/41589_2018_116_MOESM32_ESM.xlsx', sheet_name='HeLa', dtype=str)\n",
    "        df2 = df2.assign(ptms=np.full((df2.shape[0], 1), \"HeLa-RSO2H\"))\n",
    "        df2 = df2.rename(index=str, columns={\"Modified site\": \"modifiedSite\", \"Uniprot Accession #\": \"uniprotAccession\"})\n",
    "        dfs.append(df2)\n",
    "\n",
    "    if w3.value:\n",
    "        df3 = pd.read_excel('https://static-content.springer.com/esm/art%3A10.1038%2Fs41589-018-0116-2/MediaObjects/41589_2018_116_MOESM33_ESM.xlsx', sheet_name='A549', dtype=str)\n",
    "        df3 = df3.assign(ptms=np.full((df3.shape[0], 1), \"A549-RSOH\"))\n",
    "        df3 = df3.rename(index=str, columns={\"Site #\": \"modifiedSite\", \"Uniprot Accession #\": \"uniprotAccession\"})\n",
    "        dfs.append(df3)\n",
    "\n",
    "    if w4.value:\n",
    "        df4 = pd.read_excel('https://static-content.springer.com/esm/art%3A10.1038%2Fs41589-018-0116-2/MediaObjects/41589_2018_116_MOESM33_ESM.xlsx', sheet_name='HeLa', dtype=str)\n",
    "        df4 = df4.assign(ptms=np.full((df4.shape[0], 1), \"HeLa-RSOH\"))\n",
    "        df4 = df4.rename(index=str, columns={\"Site #\": \"modifiedSite\", \"Uniprot Accession #\": \"uniprotAccession\"})\n",
    "        dfs.append(df4)\n",
    "        \n",
    "    return dfs"
   ]
  },
  {
   "cell_type": "code",
   "execution_count": 5,
   "metadata": {
    "code_folding": [
     0
    ]
   },
   "outputs": [
    {
     "data": {
      "text/html": [
       "<div>\n",
       "<style scoped>\n",
       "    .dataframe tbody tr th:only-of-type {\n",
       "        vertical-align: middle;\n",
       "    }\n",
       "\n",
       "    .dataframe tbody tr th {\n",
       "        vertical-align: top;\n",
       "    }\n",
       "\n",
       "    .dataframe thead th {\n",
       "        text-align: right;\n",
       "    }\n",
       "</style>\n",
       "<table border=\"1\" class=\"dataframe\">\n",
       "  <thead>\n",
       "    <tr style=\"text-align: right;\">\n",
       "      <th></th>\n",
       "      <th>ptms</th>\n",
       "      <th>modifiedSite</th>\n",
       "      <th>uniprotAccession</th>\n",
       "      <th>Description</th>\n",
       "    </tr>\n",
       "  </thead>\n",
       "  <tbody>\n",
       "    <tr>\n",
       "      <th>0</th>\n",
       "      <td>A549-RSO2H</td>\n",
       "      <td>25</td>\n",
       "      <td>P63104</td>\n",
       "      <td>14-3-3 protein zeta/delta OS=Homo sapiens GN=Y...</td>\n",
       "    </tr>\n",
       "    <tr>\n",
       "      <th>1</th>\n",
       "      <td>A549-RSO2H</td>\n",
       "      <td>171</td>\n",
       "      <td>P52209</td>\n",
       "      <td>6-phosphogluconate dehydrogenase, decarboxylat...</td>\n",
       "    </tr>\n",
       "    <tr>\n",
       "      <th>2</th>\n",
       "      <td>A549-RSO2H</td>\n",
       "      <td>122</td>\n",
       "      <td>Q9H7C9</td>\n",
       "      <td>Mth938 domain-containing protein OS=Homo sapie...</td>\n",
       "    </tr>\n",
       "    <tr>\n",
       "      <th>3</th>\n",
       "      <td>A549-RSO2H</td>\n",
       "      <td>187</td>\n",
       "      <td>P00505</td>\n",
       "      <td>Aspartate aminotransferase, mitochondrial OS=H...</td>\n",
       "    </tr>\n",
       "    <tr>\n",
       "      <th>4</th>\n",
       "      <td>A549-RSO2H</td>\n",
       "      <td>477</td>\n",
       "      <td>P49748</td>\n",
       "      <td>Very long-chain specific acyl-CoA dehydrogenas...</td>\n",
       "    </tr>\n",
       "  </tbody>\n",
       "</table>\n",
       "</div>"
      ],
      "text/plain": [
       "         ptms  modifiedSite uniprotAccession  \\\n",
       "0  A549-RSO2H            25           P63104   \n",
       "1  A549-RSO2H           171           P52209   \n",
       "2  A549-RSO2H           122           Q9H7C9   \n",
       "3  A549-RSO2H           187           P00505   \n",
       "4  A549-RSO2H           477           P49748   \n",
       "\n",
       "                                         Description  \n",
       "0  14-3-3 protein zeta/delta OS=Homo sapiens GN=Y...  \n",
       "1  6-phosphogluconate dehydrogenase, decarboxylat...  \n",
       "2  Mth938 domain-containing protein OS=Homo sapie...  \n",
       "3  Aspartate aminotransferase, mitochondrial OS=H...  \n",
       "4  Very long-chain specific acyl-CoA dehydrogenas...  "
      ]
     },
     "execution_count": 5,
     "metadata": {},
     "output_type": "execute_result"
    }
   ],
   "source": [
    "# concatenate and process dataset\n",
    "dfs = read_datasets()\n",
    "df = pd.concat(dfs, ignore_index=True, sort=False)\n",
    "df = df[['ptms', 'modifiedSite', 'uniprotAccession', 'Description']]\n",
    "df['modifiedSite'] = df['modifiedSite'].astype(np.int64)\n",
    "df.head()"
   ]
  },
  {
   "cell_type": "markdown",
   "metadata": {},
   "source": [
    "## Map PTM locations to residues in PDB structures"
   ]
  },
  {
   "cell_type": "code",
   "execution_count": 6,
   "metadata": {
    "code_folding": []
   },
   "outputs": [],
   "source": [
    "# convert Pandas dataframe to a Spark dataframe\n",
    "spark = SparkSession.builder.appName(\"CysOxidationTo3DStructure\").getOrCreate()\n",
    "ds = spark.createDataFrame(df)\n",
    "ds = ds.sort(ds.uniprotAccession, ds.modifiedSite)"
   ]
  },
  {
   "cell_type": "markdown",
   "metadata": {},
   "source": [
    "Download PDB to UniProt mappings and filter out residues that were not observed in the 3D structure."
   ]
  },
  {
   "cell_type": "code",
   "execution_count": 7,
   "metadata": {},
   "outputs": [],
   "source": [
    "up = pdbToUniProt.get_cached_residue_mappings().filter(\"pdbResNum IS NOT NULL\")"
   ]
  },
  {
   "cell_type": "markdown",
   "metadata": {},
   "source": [
    "Joint PTM with PDB data if the UniProt Id and UniProt residue numbers match"
   ]
  },
  {
   "cell_type": "code",
   "execution_count": 8,
   "metadata": {},
   "outputs": [],
   "source": [
    "st = up.join(ds, (up.uniprotId == ds.uniprotAccession) & (up.uniprotNum == ds.modifiedSite))"
   ]
  },
  {
   "cell_type": "markdown",
   "metadata": {},
   "source": [
    "## Aggregate PTM data on a per residue and per chain basis"
   ]
  },
  {
   "cell_type": "code",
   "execution_count": 9,
   "metadata": {
    "code_folding": [
     0
    ]
   },
   "outputs": [],
   "source": [
    "# Aggregate data\n",
    "st = st.groupBy(\"structureChainId\",\"pdbResNum\",\"uniprotAccession\",\"uniprotNum\",\"Description\").agg(collect_list(\"ptms\").alias(\"ptms\"))\n",
    "st = st.withColumn(\"ptms\", concat_ws((\",\"), col(\"ptms\")))\n",
    "st = st.groupBy(\"structureChainId\",\"uniprotAccession\",\"Description\").agg(collect_list(\"ptms\").alias(\"ptms\"), collect_list(\"pdbResNum\").alias(\"pdbResNum\"),  collect_list(\"uniprotNum\").alias(\"uniprotNum\"))"
   ]
  },
  {
   "cell_type": "markdown",
   "metadata": {
    "code_folding": []
   },
   "source": [
    "Keep only a single structural representative"
   ]
  },
  {
   "cell_type": "code",
   "execution_count": 10,
   "metadata": {},
   "outputs": [],
   "source": [
    "st = st.drop_duplicates([\"uniprotAccession\",\"uniprotNum\"])"
   ]
  },
  {
   "cell_type": "markdown",
   "metadata": {},
   "source": [
    "## Show Table with PDB mappings"
   ]
  },
  {
   "cell_type": "markdown",
   "metadata": {},
   "source": [
    "PDB residue numbers do not always match UniProt residue numbers. The table below shows the mapping for each protein chain."
   ]
  },
  {
   "cell_type": "code",
   "execution_count": 11,
   "metadata": {
    "code_folding": [
     0
    ]
   },
   "outputs": [
    {
     "data": {
      "text/html": [
       "<div>\n",
       "<style scoped>\n",
       "    .dataframe tbody tr th:only-of-type {\n",
       "        vertical-align: middle;\n",
       "    }\n",
       "\n",
       "    .dataframe tbody tr th {\n",
       "        vertical-align: top;\n",
       "    }\n",
       "\n",
       "    .dataframe thead th {\n",
       "        text-align: right;\n",
       "    }\n",
       "</style>\n",
       "<table border=\"1\" class=\"dataframe\">\n",
       "  <thead>\n",
       "    <tr style=\"text-align: right;\">\n",
       "      <th></th>\n",
       "      <th>structureChainId</th>\n",
       "      <th>uniprotAccession</th>\n",
       "      <th>Description</th>\n",
       "      <th>ptms</th>\n",
       "      <th>pdbResNum</th>\n",
       "      <th>uniprotNum</th>\n",
       "    </tr>\n",
       "  </thead>\n",
       "  <tbody>\n",
       "    <tr>\n",
       "      <th>0</th>\n",
       "      <td>1K4Q.A</td>\n",
       "      <td>P00390</td>\n",
       "      <td>Glutathione reductase, mitochondrial OS=Homo s...</td>\n",
       "      <td>[A549-RSOH, A549-RSOH, A549-RSOH]</td>\n",
       "      <td>[63, 417, 423]</td>\n",
       "      <td>[107, 461, 467]</td>\n",
       "    </tr>\n",
       "    <tr>\n",
       "      <th>1</th>\n",
       "      <td>1DGB.D</td>\n",
       "      <td>P04040</td>\n",
       "      <td>Catalase OS=Homo sapiens GN=CAT PE=1 SV=3</td>\n",
       "      <td>[A549-RSO2H,A549-RSOH, A549-RSO2H,A549-RSOH]</td>\n",
       "      <td>[460, 232]</td>\n",
       "      <td>[460, 232]</td>\n",
       "    </tr>\n",
       "    <tr>\n",
       "      <th>2</th>\n",
       "      <td>1QKI.D</td>\n",
       "      <td>P11413</td>\n",
       "      <td>Glucose-6-phosphate 1-dehydrogenase OS=Homo sa...</td>\n",
       "      <td>[A549-RSOH, A549-RSOH, A549-RSOH, A549-RSOH]</td>\n",
       "      <td>[13, 385, 158, 294]</td>\n",
       "      <td>[13, 385, 158, 294]</td>\n",
       "    </tr>\n",
       "    <tr>\n",
       "      <th>3</th>\n",
       "      <td>2O8E.B</td>\n",
       "      <td>P52701</td>\n",
       "      <td>DNA mismatch repair protein Msh6 OS=Homo sapie...</td>\n",
       "      <td>[A549-RSO2H,A549-RSOH]</td>\n",
       "      <td>[765]</td>\n",
       "      <td>[765]</td>\n",
       "    </tr>\n",
       "    <tr>\n",
       "      <th>4</th>\n",
       "      <td>2KTV.A</td>\n",
       "      <td>P62495</td>\n",
       "      <td>Eukaryotic peptide chain release factor subuni...</td>\n",
       "      <td>[A549-RSOH, A549-RSOH]</td>\n",
       "      <td>[335, 302]</td>\n",
       "      <td>[335, 302]</td>\n",
       "    </tr>\n",
       "  </tbody>\n",
       "</table>\n",
       "</div>"
      ],
      "text/plain": [
       "  structureChainId uniprotAccession  \\\n",
       "0           1K4Q.A           P00390   \n",
       "1           1DGB.D           P04040   \n",
       "2           1QKI.D           P11413   \n",
       "3           2O8E.B           P52701   \n",
       "4           2KTV.A           P62495   \n",
       "\n",
       "                                         Description  \\\n",
       "0  Glutathione reductase, mitochondrial OS=Homo s...   \n",
       "1          Catalase OS=Homo sapiens GN=CAT PE=1 SV=3   \n",
       "2  Glucose-6-phosphate 1-dehydrogenase OS=Homo sa...   \n",
       "3  DNA mismatch repair protein Msh6 OS=Homo sapie...   \n",
       "4  Eukaryotic peptide chain release factor subuni...   \n",
       "\n",
       "                                           ptms            pdbResNum  \\\n",
       "0             [A549-RSOH, A549-RSOH, A549-RSOH]       [63, 417, 423]   \n",
       "1  [A549-RSO2H,A549-RSOH, A549-RSO2H,A549-RSOH]           [460, 232]   \n",
       "2  [A549-RSOH, A549-RSOH, A549-RSOH, A549-RSOH]  [13, 385, 158, 294]   \n",
       "3                        [A549-RSO2H,A549-RSOH]                [765]   \n",
       "4                        [A549-RSOH, A549-RSOH]           [335, 302]   \n",
       "\n",
       "            uniprotNum  \n",
       "0      [107, 461, 467]  \n",
       "1           [460, 232]  \n",
       "2  [13, 385, 158, 294]  \n",
       "3                [765]  \n",
       "4           [335, 302]  "
      ]
     },
     "execution_count": 11,
     "metadata": {},
     "output_type": "execute_result"
    }
   ],
   "source": [
    "# convert Spark dataframe back to a Pandas dataframe\n",
    "sp = st.toPandas()\n",
    "sp.head()"
   ]
  },
  {
   "cell_type": "markdown",
   "metadata": {},
   "source": [
    "## Visualize Results\n",
    "Residues with reported modifications are shown in an all atom prepresentation as red sticks with transparent spheres. Each modified residue position is labeled by the PDB residue number and the type of the modification. Residues surrounding modified residue (within 6 A) are highlighted as yellow sticks. Small molecules within the structure are rendered as gray sticks.\n",
    "\n",
    "* Move slider to browse through the results\n",
    "* To rotate the structure, hold down the left mouse button and move the mouse."
   ]
  },
  {
   "cell_type": "code",
   "execution_count": 12,
   "metadata": {
    "code_folding": [
     0
    ],
    "jupyter": {
     "source_hidden": true
    }
   },
   "outputs": [],
   "source": [
    "def view_modifications(df, cutoff_distance, *args):\n",
    "\n",
    "    def view3d(show_labels=True,show_bio_assembly=False, show_surface=False, i=0):\n",
    "        pdb_id, chain_id = df.iloc[i]['structureChainId'].split('.')\n",
    "        res_num = df.iloc[i]['pdbResNum']\n",
    "        labels = df.iloc[i]['ptms']\n",
    "        \n",
    "        # print header\n",
    "        print (\"PDB Id: \" + pdb_id + \" chain Id: \" + chain_id)\n",
    "        \n",
    "        # print any specified additional columns from the dataframe\n",
    "        for a in args:\n",
    "            print(a + \": \" + df.iloc[i][a])\n",
    "        \n",
    "        mod_res = {'chain': chain_id, 'resi': res_num}  \n",
    "        \n",
    "        # select neigboring residues by distance\n",
    "        surroundings = {'chain': chain_id, 'resi': res_num, 'byres': True, 'expand': cutoff_distance}\n",
    "        \n",
    "        viewer = py3Dmol.view(query='pdb:' + pdb_id, options={'doAssembly': show_bio_assembly})\n",
    "    \n",
    "        # polymer style\n",
    "        viewer.setStyle({'cartoon': {'color': 'spectrum', 'width': 0.6, 'opacity':0.8}})\n",
    "        # non-polymer style\n",
    "        viewer.setStyle({'hetflag': True}, {'stick':{'radius': 0.3, 'singleBond': False}})\n",
    "        \n",
    "        # style for modifications\n",
    "        viewer.addStyle(surroundings,{'stick':{'colorscheme':'orangeCarbon', 'radius': 0.15}})\n",
    "        viewer.addStyle(mod_res, {'stick':{'colorscheme':'redCarbon', 'radius': 0.4}})\n",
    "        viewer.addStyle(mod_res, {'sphere':{'colorscheme':'gray', 'opacity': 0.7}})\n",
    "        \n",
    "        # set residue labels    \n",
    "        if show_labels:\n",
    "            for residue, label in zip(res_num, labels):\n",
    "                viewer.addLabel(residue + \": \" + label, \\\n",
    "                                {'fontColor':'black', 'fontSize': 9, 'backgroundColor': 'lightgray'}, \\\n",
    "                                {'chain': chain_id, 'resi': residue})\n",
    "\n",
    "        viewer.zoomTo(surroundings)\n",
    "        \n",
    "        if show_surface:\n",
    "            viewer.addSurface(py3Dmol.SES,{'opacity':0.8,'color':'lightblue'})\n",
    "\n",
    "        return viewer.show()\n",
    "       \n",
    "    s_widget = IntSlider(min=0, max=len(df)-1, description='Structure', continuous_update=False)\n",
    "    \n",
    "    return interact(view3d, show_labels=True, show_bio_assembly=False, show_surface=False, i=s_widget)"
   ]
  },
  {
   "cell_type": "code",
   "execution_count": 13,
   "metadata": {},
   "outputs": [
    {
     "name": "stdout",
     "output_type": "stream",
     "text": [
      "PDB Id: 1K4Q chain Id: A\n",
      "uniprotAccession: P00390\n",
      "Description: Glutathione reductase, mitochondrial OS=Homo sapiens GN=GSR PE=1 SV=2\n"
     ]
    },
    {
     "data": {
      "application/3dmoljs_load.v0": "<div id=\"3dmolviewer_15793051528812969\"  style=\"position: relative; width: 640px; height: 480px\">\n        <p id=\"3dmolwarning_15793051528812969\" style=\"background-color:#ffcccc;color:black\">You appear to be running in JupyterLab (or JavaScript failed to load for some other reason).  You need to install the 3dmol extension: <br>\n        <tt>jupyter labextension install jupyterlab_3dmol</tt></p>\n        </div>\n<script>\n\nvar loadScriptAsync = function(uri){\n  return new Promise((resolve, reject) => {\n    var tag = document.createElement('script');\n    tag.src = uri;\n    tag.async = true;\n    tag.onload = () => {\n      resolve();\n    };\n  var firstScriptTag = document.getElementsByTagName('script')[0];\n  firstScriptTag.parentNode.insertBefore(tag, firstScriptTag);\n});\n};\n\nif(typeof $3Dmolpromise === 'undefined') {\n$3Dmolpromise = null;\n  $3Dmolpromise = loadScriptAsync('https://3dmol.csb.pitt.edu/build/3Dmol.js');\n}\n\nvar viewer_15793051528812969 = null;\nvar warn = document.getElementById(\"3dmolwarning_15793051528812969\");\nif(warn) {\n    warn.parentNode.removeChild(warn);\n}\n$3Dmolpromise.then(function() {\nviewer_15793051528812969 = $3Dmol.createViewer($(\"#3dmolviewer_15793051528812969\"),{backgroundColor:\"white\"});\n$3Dmol.download(\"pdb:1K4Q\", viewer_15793051528812969, {\"doAssembly\": false}, function() {\n\tviewer_15793051528812969.setStyle({\"cartoon\": {\"color\": \"spectrum\", \"width\": 0.6, \"opacity\": 0.8}});\n\tviewer_15793051528812969.setStyle({\"hetflag\": true},{\"stick\": {\"radius\": 0.3, \"singleBond\": false}});\n\tviewer_15793051528812969.addStyle({\"chain\": \"A\", \"resi\": [\"63\", \"417\", \"423\"], \"byres\": true, \"expand\": 6},{\"stick\": {\"colorscheme\": \"orangeCarbon\", \"radius\": 0.15}});\n\tviewer_15793051528812969.addStyle({\"chain\": \"A\", \"resi\": [\"63\", \"417\", \"423\"]},{\"stick\": {\"colorscheme\": \"redCarbon\", \"radius\": 0.4}});\n\tviewer_15793051528812969.addStyle({\"chain\": \"A\", \"resi\": [\"63\", \"417\", \"423\"]},{\"sphere\": {\"colorscheme\": \"gray\", \"opacity\": 0.7}});\n\tviewer_15793051528812969.addLabel(\"63: A549-RSOH\",{\"fontColor\": \"black\", \"fontSize\": 9, \"backgroundColor\": \"lightgray\"},{\"chain\": \"A\", \"resi\": \"63\"});\n\tviewer_15793051528812969.addLabel(\"417: A549-RSOH\",{\"fontColor\": \"black\", \"fontSize\": 9, \"backgroundColor\": \"lightgray\"},{\"chain\": \"A\", \"resi\": \"417\"});\n\tviewer_15793051528812969.addLabel(\"423: A549-RSOH\",{\"fontColor\": \"black\", \"fontSize\": 9, \"backgroundColor\": \"lightgray\"},{\"chain\": \"A\", \"resi\": \"423\"});\n\tviewer_15793051528812969.zoomTo({\"chain\": \"A\", \"resi\": [\"63\", \"417\", \"423\"], \"byres\": true, \"expand\": 6});\nviewer_15793051528812969.render();\n})\n});\n</script>",
      "text/html": [
       "<div id=\"3dmolviewer_15793051528812969\"  style=\"position: relative; width: 640px; height: 480px\">\n",
       "        <p id=\"3dmolwarning_15793051528812969\" style=\"background-color:#ffcccc;color:black\">You appear to be running in JupyterLab (or JavaScript failed to load for some other reason).  You need to install the 3dmol extension: <br>\n",
       "        <tt>jupyter labextension install jupyterlab_3dmol</tt></p>\n",
       "        </div>\n",
       "<script>\n",
       "\n",
       "var loadScriptAsync = function(uri){\n",
       "  return new Promise((resolve, reject) => {\n",
       "    var tag = document.createElement('script');\n",
       "    tag.src = uri;\n",
       "    tag.async = true;\n",
       "    tag.onload = () => {\n",
       "      resolve();\n",
       "    };\n",
       "  var firstScriptTag = document.getElementsByTagName('script')[0];\n",
       "  firstScriptTag.parentNode.insertBefore(tag, firstScriptTag);\n",
       "});\n",
       "};\n",
       "\n",
       "if(typeof $3Dmolpromise === 'undefined') {\n",
       "$3Dmolpromise = null;\n",
       "  $3Dmolpromise = loadScriptAsync('https://3dmol.csb.pitt.edu/build/3Dmol.js');\n",
       "}\n",
       "\n",
       "var viewer_15793051528812969 = null;\n",
       "var warn = document.getElementById(\"3dmolwarning_15793051528812969\");\n",
       "if(warn) {\n",
       "    warn.parentNode.removeChild(warn);\n",
       "}\n",
       "$3Dmolpromise.then(function() {\n",
       "viewer_15793051528812969 = $3Dmol.createViewer($(\"#3dmolviewer_15793051528812969\"),{backgroundColor:\"white\"});\n",
       "$3Dmol.download(\"pdb:1K4Q\", viewer_15793051528812969, {\"doAssembly\": false}, function() {\n",
       "\tviewer_15793051528812969.setStyle({\"cartoon\": {\"color\": \"spectrum\", \"width\": 0.6, \"opacity\": 0.8}});\n",
       "\tviewer_15793051528812969.setStyle({\"hetflag\": true},{\"stick\": {\"radius\": 0.3, \"singleBond\": false}});\n",
       "\tviewer_15793051528812969.addStyle({\"chain\": \"A\", \"resi\": [\"63\", \"417\", \"423\"], \"byres\": true, \"expand\": 6},{\"stick\": {\"colorscheme\": \"orangeCarbon\", \"radius\": 0.15}});\n",
       "\tviewer_15793051528812969.addStyle({\"chain\": \"A\", \"resi\": [\"63\", \"417\", \"423\"]},{\"stick\": {\"colorscheme\": \"redCarbon\", \"radius\": 0.4}});\n",
       "\tviewer_15793051528812969.addStyle({\"chain\": \"A\", \"resi\": [\"63\", \"417\", \"423\"]},{\"sphere\": {\"colorscheme\": \"gray\", \"opacity\": 0.7}});\n",
       "\tviewer_15793051528812969.addLabel(\"63: A549-RSOH\",{\"fontColor\": \"black\", \"fontSize\": 9, \"backgroundColor\": \"lightgray\"},{\"chain\": \"A\", \"resi\": \"63\"});\n",
       "\tviewer_15793051528812969.addLabel(\"417: A549-RSOH\",{\"fontColor\": \"black\", \"fontSize\": 9, \"backgroundColor\": \"lightgray\"},{\"chain\": \"A\", \"resi\": \"417\"});\n",
       "\tviewer_15793051528812969.addLabel(\"423: A549-RSOH\",{\"fontColor\": \"black\", \"fontSize\": 9, \"backgroundColor\": \"lightgray\"},{\"chain\": \"A\", \"resi\": \"423\"});\n",
       "\tviewer_15793051528812969.zoomTo({\"chain\": \"A\", \"resi\": [\"63\", \"417\", \"423\"], \"byres\": true, \"expand\": 6});\n",
       "viewer_15793051528812969.render();\n",
       "})\n",
       "});\n",
       "</script>"
      ]
     },
     "metadata": {},
     "output_type": "display_data"
    }
   ],
   "source": [
    "view_modifications(sp, 6, 'uniprotAccession', 'Description');"
   ]
  },
  {
   "cell_type": "code",
   "execution_count": 14,
   "metadata": {},
   "outputs": [],
   "source": [
    "spark.stop()"
   ]
  }
 ],
 "metadata": {
  "kernelspec": {
   "display_name": "Python 3",
   "language": "python",
   "name": "python3"
  },
  "language_info": {
   "codemirror_mode": {
    "name": "ipython",
    "version": 3
   },
   "file_extension": ".py",
   "mimetype": "text/x-python",
   "name": "python",
   "nbconvert_exporter": "python",
   "pygments_lexer": "ipython3",
   "version": "3.7.3"
  },
  "widgets": {
   "application/vnd.jupyter.widget-state+json": {
    "state": {
     "025a61c83a294bd4a427446c95c956f8": {
      "model_module": "@jupyter-widgets/controls",
      "model_module_version": "1.4.0",
      "model_name": "DescriptionStyleModel",
      "state": {
       "description_width": ""
      }
     },
     "0394ace7a4594df28fbdf2f2dfb35c16": {
      "model_module": "@jupyter-widgets/controls",
      "model_module_version": "1.4.0",
      "model_name": "CheckboxModel",
      "state": {
       "description": "show_bio_assembly",
       "disabled": false,
       "layout": "IPY_MODEL_ea5adc9853e84d9ea684d2fbe56637c0",
       "style": "IPY_MODEL_60f48b9bcd424531a18980e57f9068cc",
       "value": false
      }
     },
     "03a6fe6e9da8498c978c4aa36834fa56": {
      "model_module": "@jupyter-widgets/controls",
      "model_module_version": "1.4.0",
      "model_name": "DescriptionStyleModel",
      "state": {
       "description_width": ""
      }
     },
     "0482e83f4986468cbd5569884f4c718b": {
      "model_module": "@jupyter-widgets/base",
      "model_module_version": "1.1.0",
      "model_name": "LayoutModel",
      "state": {}
     },
     "051944591e3040d38d5202b471ee02e8": {
      "model_module": "@jupyter-widgets/controls",
      "model_module_version": "1.4.0",
      "model_name": "DescriptionStyleModel",
      "state": {
       "description_width": ""
      }
     },
     "0579a400276f457795228fc4b86f4b65": {
      "model_module": "@jupyter-widgets/controls",
      "model_module_version": "1.4.0",
      "model_name": "CheckboxModel",
      "state": {
       "description": "show_labels",
       "disabled": false,
       "layout": "IPY_MODEL_34deb9c1071c4485afbf083c69aab252",
       "style": "IPY_MODEL_4815e61ebd0f4b1bb615b11d751b0714",
       "value": true
      }
     },
     "0bf52c6888964ab092ea7153f815b355": {
      "model_module": "@jupyter-widgets/controls",
      "model_module_version": "1.4.0",
      "model_name": "DescriptionStyleModel",
      "state": {
       "description_width": ""
      }
     },
     "0e73d931002544138e5e635977ec6fc4": {
      "model_module": "@jupyter-widgets/base",
      "model_module_version": "1.1.0",
      "model_name": "LayoutModel",
      "state": {}
     },
     "0f29d8bede884a9fb36ac44374621ff9": {
      "model_module": "@jupyter-widgets/controls",
      "model_module_version": "1.4.0",
      "model_name": "VBoxModel",
      "state": {
       "_dom_classes": [
        "widget-interact"
       ],
       "children": [
        "IPY_MODEL_37ef31179a5649ee83c159693c34159b",
        "IPY_MODEL_0394ace7a4594df28fbdf2f2dfb35c16",
        "IPY_MODEL_6610ff6e5ab44e0e96f8e44d94d85051",
        "IPY_MODEL_b07eace20a10420e87a23cbd362dca60",
        "IPY_MODEL_ad7e5c457b8947a4b11deebfb409d29b"
       ],
       "layout": "IPY_MODEL_f6b6328b4418430e97ef85ac94eff007"
      }
     },
     "0f9cc4a2e04749fba4495525d304a93d": {
      "model_module": "@jupyter-widgets/base",
      "model_module_version": "1.1.0",
      "model_name": "LayoutModel",
      "state": {}
     },
     "13f07072e4a84ad9882cce6753564b20": {
      "model_module": "@jupyter-widgets/controls",
      "model_module_version": "1.4.0",
      "model_name": "DescriptionStyleModel",
      "state": {
       "description_width": ""
      }
     },
     "140ac521bd364e238780d67967c5e62b": {
      "model_module": "@jupyter-widgets/controls",
      "model_module_version": "1.4.0",
      "model_name": "CheckboxModel",
      "state": {
       "description": "show_surface",
       "disabled": false,
       "layout": "IPY_MODEL_214f1a9d1d58483793cc601d5a3e9535",
       "style": "IPY_MODEL_3e1e339e07b34ada99dcd93b86424969",
       "value": false
      }
     },
     "156bf878f4c4480faabd0ede93809cc0": {
      "model_module": "@jupyter-widgets/controls",
      "model_module_version": "1.4.0",
      "model_name": "CheckboxModel",
      "state": {
       "description": "A549-RSOH",
       "disabled": false,
       "layout": "IPY_MODEL_0482e83f4986468cbd5569884f4c718b",
       "style": "IPY_MODEL_f3f872dd61a44106aab373bc774808b8",
       "value": true
      }
     },
     "169d72d3f0f74ce683113f1f9fd99a8c": {
      "model_module": "@jupyter-widgets/base",
      "model_module_version": "1.1.0",
      "model_name": "LayoutModel",
      "state": {}
     },
     "16ad61d1e1f64dfbaecdc00fbad86b7c": {
      "model_module": "@jupyter-widgets/controls",
      "model_module_version": "1.4.0",
      "model_name": "DescriptionStyleModel",
      "state": {
       "description_width": ""
      }
     },
     "16c111da17dd4e8aaf67dfcd82f68561": {
      "model_module": "@jupyter-widgets/base",
      "model_module_version": "1.1.0",
      "model_name": "LayoutModel",
      "state": {}
     },
     "17b452f982d4472bb1ba73840e98b068": {
      "model_module": "@jupyter-widgets/controls",
      "model_module_version": "1.4.0",
      "model_name": "DescriptionStyleModel",
      "state": {
       "description_width": ""
      }
     },
     "1a3bc02e92534ecfacb358f1c1538a22": {
      "model_module": "@jupyter-widgets/base",
      "model_module_version": "1.1.0",
      "model_name": "LayoutModel",
      "state": {}
     },
     "1aa6eaabb2854565952c929838844321": {
      "model_module": "@jupyter-widgets/base",
      "model_module_version": "1.1.0",
      "model_name": "LayoutModel",
      "state": {}
     },
     "1c57e8a6f88f4f1cbc5bb2a2d69c0016": {
      "model_module": "@jupyter-widgets/base",
      "model_module_version": "1.1.0",
      "model_name": "LayoutModel",
      "state": {}
     },
     "1e1189b6fd5945caafcb7a2ab434f78e": {
      "model_module": "@jupyter-widgets/base",
      "model_module_version": "1.1.0",
      "model_name": "LayoutModel",
      "state": {}
     },
     "214f1a9d1d58483793cc601d5a3e9535": {
      "model_module": "@jupyter-widgets/base",
      "model_module_version": "1.1.0",
      "model_name": "LayoutModel",
      "state": {}
     },
     "26a011dd3818470da17aa48c68a8a610": {
      "model_module": "@jupyter-widgets/base",
      "model_module_version": "1.1.0",
      "model_name": "LayoutModel",
      "state": {}
     },
     "2835a8764c0f4c67a23af077a323eea0": {
      "model_module": "@jupyter-widgets/controls",
      "model_module_version": "1.4.0",
      "model_name": "SliderStyleModel",
      "state": {
       "description_width": ""
      }
     },
     "2c7dd2b03f8045c58b585b0fa5842289": {
      "model_module": "@jupyter-widgets/base",
      "model_module_version": "1.1.0",
      "model_name": "LayoutModel",
      "state": {}
     },
     "2d7981f8c6e94a5ba75c3ea446991a3c": {
      "model_module": "@jupyter-widgets/base",
      "model_module_version": "1.1.0",
      "model_name": "LayoutModel",
      "state": {}
     },
     "2de0db917b24400ca5b6d9a4be0d945f": {
      "model_module": "@jupyter-widgets/base",
      "model_module_version": "1.1.0",
      "model_name": "LayoutModel",
      "state": {}
     },
     "2df93cdbafbe4f90bb0f5dae0492c24f": {
      "model_module": "@jupyter-widgets/controls",
      "model_module_version": "1.4.0",
      "model_name": "CheckboxModel",
      "state": {
       "description": "A549-RSOH",
       "disabled": false,
       "layout": "IPY_MODEL_a18e02c430114714994fbe828140f0a4",
       "style": "IPY_MODEL_77c1656eaf8b4c459600f453038b5600",
       "value": true
      }
     },
     "2f77cada7e7e479b86173c5dde6389ff": {
      "model_module": "@jupyter-widgets/controls",
      "model_module_version": "1.4.0",
      "model_name": "DescriptionStyleModel",
      "state": {
       "description_width": ""
      }
     },
     "304130816e614ce7bc943de6cbf61aba": {
      "model_module": "@jupyter-widgets/controls",
      "model_module_version": "1.4.0",
      "model_name": "CheckboxModel",
      "state": {
       "description": "A549-RSO2H",
       "disabled": false,
       "layout": "IPY_MODEL_1aa6eaabb2854565952c929838844321",
       "style": "IPY_MODEL_051944591e3040d38d5202b471ee02e8",
       "value": true
      }
     },
     "329803c474824181931359a8bc09fa08": {
      "model_module": "@jupyter-widgets/controls",
      "model_module_version": "1.4.0",
      "model_name": "DescriptionStyleModel",
      "state": {
       "description_width": ""
      }
     },
     "32daf1b5acf24741a8502319c0eb0632": {
      "model_module": "@jupyter-widgets/base",
      "model_module_version": "1.1.0",
      "model_name": "LayoutModel",
      "state": {}
     },
     "34dd929d0b0a4674b3a37067adc9c21a": {
      "model_module": "@jupyter-widgets/base",
      "model_module_version": "1.1.0",
      "model_name": "LayoutModel",
      "state": {}
     },
     "34deb9c1071c4485afbf083c69aab252": {
      "model_module": "@jupyter-widgets/base",
      "model_module_version": "1.1.0",
      "model_name": "LayoutModel",
      "state": {}
     },
     "37ef31179a5649ee83c159693c34159b": {
      "model_module": "@jupyter-widgets/controls",
      "model_module_version": "1.4.0",
      "model_name": "CheckboxModel",
      "state": {
       "description": "show_labels",
       "disabled": false,
       "layout": "IPY_MODEL_0e73d931002544138e5e635977ec6fc4",
       "style": "IPY_MODEL_8a2fa0b9c6414f2eb5ec6c9ed37ca62d",
       "value": true
      }
     },
     "381ec1fb147b4c59b86aac2e9d3d5b33": {
      "model_module": "@jupyter-widgets/controls",
      "model_module_version": "1.4.0",
      "model_name": "CheckboxModel",
      "state": {
       "description": "show_surface",
       "disabled": false,
       "layout": "IPY_MODEL_a9207b038d2c4a8cab193e96bf27efb2",
       "style": "IPY_MODEL_a1e8581c26b64b2f8bee77934b4e8685",
       "value": false
      }
     },
     "3db9c92e05bb4727afc7db8512cd8da7": {
      "model_module": "@jupyter-widgets/controls",
      "model_module_version": "1.4.0",
      "model_name": "SliderStyleModel",
      "state": {
       "description_width": ""
      }
     },
     "3e1e339e07b34ada99dcd93b86424969": {
      "model_module": "@jupyter-widgets/controls",
      "model_module_version": "1.4.0",
      "model_name": "DescriptionStyleModel",
      "state": {
       "description_width": ""
      }
     },
     "447b7b2b27a349168161c48197c93a57": {
      "model_module": "@jupyter-widgets/controls",
      "model_module_version": "1.4.0",
      "model_name": "DescriptionStyleModel",
      "state": {
       "description_width": ""
      }
     },
     "447c48285c6a43caaa37b1c6d57040ed": {
      "model_module": "@jupyter-widgets/controls",
      "model_module_version": "1.4.0",
      "model_name": "CheckboxModel",
      "state": {
       "description": "show_bio_assembly",
       "disabled": false,
       "layout": "IPY_MODEL_55ddfb774d974190a98dc6ff47c4c9e7",
       "style": "IPY_MODEL_329803c474824181931359a8bc09fa08",
       "value": false
      }
     },
     "4815e61ebd0f4b1bb615b11d751b0714": {
      "model_module": "@jupyter-widgets/controls",
      "model_module_version": "1.4.0",
      "model_name": "DescriptionStyleModel",
      "state": {
       "description_width": ""
      }
     },
     "4d9276771c9342dda3835495410b829f": {
      "model_module": "@jupyter-widgets/base",
      "model_module_version": "1.1.0",
      "model_name": "LayoutModel",
      "state": {}
     },
     "53f13f2561c84c55be39f121ebedd091": {
      "model_module": "@jupyter-widgets/controls",
      "model_module_version": "1.4.0",
      "model_name": "CheckboxModel",
      "state": {
       "description": "HeLa-RSOH",
       "disabled": false,
       "layout": "IPY_MODEL_86b0226714724fbe9adce77d54f680bf",
       "style": "IPY_MODEL_82cd132ca5a5439886a0edd045f210d5",
       "value": false
      }
     },
     "541b6a3194df4a3594e9bb04e90fc3eb": {
      "model_module": "@jupyter-widgets/controls",
      "model_module_version": "1.4.0",
      "model_name": "IntSliderModel",
      "state": {
       "continuous_update": false,
       "description": "Structure",
       "layout": "IPY_MODEL_26a011dd3818470da17aa48c68a8a610",
       "max": 946,
       "style": "IPY_MODEL_77b94a7a8f424b8294e12886f5f9244a",
       "value": 19
      }
     },
     "55ddfb774d974190a98dc6ff47c4c9e7": {
      "model_module": "@jupyter-widgets/base",
      "model_module_version": "1.1.0",
      "model_name": "LayoutModel",
      "state": {}
     },
     "5c020d42dd1b47ae81e9ab96f78c8b5d": {
      "model_module": "@jupyter-widgets/output",
      "model_module_version": "1.0.0",
      "model_name": "OutputModel",
      "state": {
       "layout": "IPY_MODEL_9174fc98cf0a4076aebd89e860b3ae1d",
       "outputs": [
        {
         "name": "stdout",
         "output_type": "stream",
         "text": "PDB Id: 1K4Q chain Id: A\nuniprotAccession: P00390\nDescription: Glutathione reductase, mitochondrial OS=Homo sapiens GN=GSR PE=1 SV=2\n"
        },
        {
         "data": {
          "application/3dmoljs_load.v0": "<div id=\"3dmolviewer_15366932193119009\"  style=\"position: relative; width: 640px; height: 480px\">\n        <p id=\"3dmolwarning_15366932193119009\" style=\"background-color:#ffcccc;color:black\">You appear to be running in JupyterLab (or JavaScript failed to load for some other reason).  You need to install the 3dmol extension: <br>\n        <tt>jupyter labextension install jupyterlab_3dmol</tt></p>\n        </div>\n<script>\n\nvar loadScriptAsync = function(uri){\n  return new Promise((resolve, reject) => {\n    var tag = document.createElement('script');\n    tag.src = uri;\n    tag.async = true;\n    tag.onload = () => {\n      resolve();\n    };\n  var firstScriptTag = document.getElementsByTagName('script')[0];\n  firstScriptTag.parentNode.insertBefore(tag, firstScriptTag);\n});\n};\n\nif(typeof $3Dmolpromise === 'undefined') {\n$3Dmolpromise = null;\n  $3Dmolpromise = loadScriptAsync('https://3dmol.csb.pitt.edu/build/3Dmol.js');\n}\n\nvar viewer_15366932193119009 = null;\nvar warn = document.getElementById(\"3dmolwarning_15366932193119009\");\nif(warn) {\n    warn.parentNode.removeChild(warn);\n}\n$3Dmolpromise.then(function() {\nviewer_15366932193119009 = $3Dmol.createViewer($(\"#3dmolviewer_15366932193119009\"),{backgroundColor:\"white\"});\n$3Dmol.download(\"pdb:1K4Q\", viewer_15366932193119009, {\"doAssembly\": false}, function() {\n\tviewer_15366932193119009.setStyle({\"cartoon\": {\"color\": \"spectrum\", \"width\": 0.6, \"opacity\": 0.8}});\n\tviewer_15366932193119009.setStyle({\"hetflag\": true},{\"stick\": {\"radius\": 0.3, \"singleBond\": false}});\n\tviewer_15366932193119009.addStyle({\"chain\": \"A\", \"resi\": [\"63\", \"417\", \"423\"], \"byres\": true, \"expand\": 6},{\"stick\": {\"colorscheme\": \"orangeCarbon\", \"radius\": 0.15}});\n\tviewer_15366932193119009.addStyle({\"chain\": \"A\", \"resi\": [\"63\", \"417\", \"423\"]},{\"stick\": {\"colorscheme\": \"redCarbon\", \"radius\": 0.4}});\n\tviewer_15366932193119009.addStyle({\"chain\": \"A\", \"resi\": [\"63\", \"417\", \"423\"]},{\"sphere\": {\"colorscheme\": \"gray\", \"opacity\": 0.7}});\n\tviewer_15366932193119009.addLabel(\"63: A549-RSOH\",{\"fontColor\": \"black\", \"fontSize\": 9, \"backgroundColor\": \"lightgray\"},{\"chain\": \"A\", \"resi\": \"63\"});\n\tviewer_15366932193119009.addLabel(\"417: A549-RSOH\",{\"fontColor\": \"black\", \"fontSize\": 9, \"backgroundColor\": \"lightgray\"},{\"chain\": \"A\", \"resi\": \"417\"});\n\tviewer_15366932193119009.addLabel(\"423: A549-RSOH\",{\"fontColor\": \"black\", \"fontSize\": 9, \"backgroundColor\": \"lightgray\"},{\"chain\": \"A\", \"resi\": \"423\"});\n\tviewer_15366932193119009.zoomTo({\"chain\": \"A\", \"resi\": [\"63\", \"417\", \"423\"], \"byres\": true, \"expand\": 6});\nviewer_15366932193119009.render();\n})\n});\n</script>",
          "text/html": "<div id=\"3dmolviewer_15366932193119009\"  style=\"position: relative; width: 640px; height: 480px\">\n        <p id=\"3dmolwarning_15366932193119009\" style=\"background-color:#ffcccc;color:black\">You appear to be running in JupyterLab (or JavaScript failed to load for some other reason).  You need to install the 3dmol extension: <br>\n        <tt>jupyter labextension install jupyterlab_3dmol</tt></p>\n        </div>\n<script>\n\nvar loadScriptAsync = function(uri){\n  return new Promise((resolve, reject) => {\n    var tag = document.createElement('script');\n    tag.src = uri;\n    tag.async = true;\n    tag.onload = () => {\n      resolve();\n    };\n  var firstScriptTag = document.getElementsByTagName('script')[0];\n  firstScriptTag.parentNode.insertBefore(tag, firstScriptTag);\n});\n};\n\nif(typeof $3Dmolpromise === 'undefined') {\n$3Dmolpromise = null;\n  $3Dmolpromise = loadScriptAsync('https://3dmol.csb.pitt.edu/build/3Dmol.js');\n}\n\nvar viewer_15366932193119009 = null;\nvar warn = document.getElementById(\"3dmolwarning_15366932193119009\");\nif(warn) {\n    warn.parentNode.removeChild(warn);\n}\n$3Dmolpromise.then(function() {\nviewer_15366932193119009 = $3Dmol.createViewer($(\"#3dmolviewer_15366932193119009\"),{backgroundColor:\"white\"});\n$3Dmol.download(\"pdb:1K4Q\", viewer_15366932193119009, {\"doAssembly\": false}, function() {\n\tviewer_15366932193119009.setStyle({\"cartoon\": {\"color\": \"spectrum\", \"width\": 0.6, \"opacity\": 0.8}});\n\tviewer_15366932193119009.setStyle({\"hetflag\": true},{\"stick\": {\"radius\": 0.3, \"singleBond\": false}});\n\tviewer_15366932193119009.addStyle({\"chain\": \"A\", \"resi\": [\"63\", \"417\", \"423\"], \"byres\": true, \"expand\": 6},{\"stick\": {\"colorscheme\": \"orangeCarbon\", \"radius\": 0.15}});\n\tviewer_15366932193119009.addStyle({\"chain\": \"A\", \"resi\": [\"63\", \"417\", \"423\"]},{\"stick\": {\"colorscheme\": \"redCarbon\", \"radius\": 0.4}});\n\tviewer_15366932193119009.addStyle({\"chain\": \"A\", \"resi\": [\"63\", \"417\", \"423\"]},{\"sphere\": {\"colorscheme\": \"gray\", \"opacity\": 0.7}});\n\tviewer_15366932193119009.addLabel(\"63: A549-RSOH\",{\"fontColor\": \"black\", \"fontSize\": 9, \"backgroundColor\": \"lightgray\"},{\"chain\": \"A\", \"resi\": \"63\"});\n\tviewer_15366932193119009.addLabel(\"417: A549-RSOH\",{\"fontColor\": \"black\", \"fontSize\": 9, \"backgroundColor\": \"lightgray\"},{\"chain\": \"A\", \"resi\": \"417\"});\n\tviewer_15366932193119009.addLabel(\"423: A549-RSOH\",{\"fontColor\": \"black\", \"fontSize\": 9, \"backgroundColor\": \"lightgray\"},{\"chain\": \"A\", \"resi\": \"423\"});\n\tviewer_15366932193119009.zoomTo({\"chain\": \"A\", \"resi\": [\"63\", \"417\", \"423\"], \"byres\": true, \"expand\": 6});\nviewer_15366932193119009.render();\n})\n});\n</script>"
         },
         "metadata": {},
         "output_type": "display_data"
        }
       ]
      }
     },
     "5c141377f628454497a33fd253cd9cce": {
      "model_module": "@jupyter-widgets/base",
      "model_module_version": "1.1.0",
      "model_name": "LayoutModel",
      "state": {}
     },
     "5c8057f5caa649108278a758b4214453": {
      "model_module": "@jupyter-widgets/controls",
      "model_module_version": "1.4.0",
      "model_name": "DescriptionStyleModel",
      "state": {
       "description_width": ""
      }
     },
     "5e9cbbb44a1f4725af98c395c053631c": {
      "model_module": "@jupyter-widgets/controls",
      "model_module_version": "1.4.0",
      "model_name": "DescriptionStyleModel",
      "state": {
       "description_width": ""
      }
     },
     "60f48b9bcd424531a18980e57f9068cc": {
      "model_module": "@jupyter-widgets/controls",
      "model_module_version": "1.4.0",
      "model_name": "DescriptionStyleModel",
      "state": {
       "description_width": ""
      }
     },
     "6239a1864d47488280b309317706392f": {
      "model_module": "@jupyter-widgets/controls",
      "model_module_version": "1.4.0",
      "model_name": "DescriptionStyleModel",
      "state": {
       "description_width": ""
      }
     },
     "6610ff6e5ab44e0e96f8e44d94d85051": {
      "model_module": "@jupyter-widgets/controls",
      "model_module_version": "1.4.0",
      "model_name": "CheckboxModel",
      "state": {
       "description": "show_surface",
       "disabled": false,
       "layout": "IPY_MODEL_1e1189b6fd5945caafcb7a2ab434f78e",
       "style": "IPY_MODEL_b625056d57bb498fbd6ed824de2e59bb",
       "value": false
      }
     },
     "685ea99457d747209f2d1d8aed72c9ec": {
      "model_module": "@jupyter-widgets/controls",
      "model_module_version": "1.4.0",
      "model_name": "DescriptionStyleModel",
      "state": {
       "description_width": ""
      }
     },
     "6fc48036191f4639af43aa5c27a00a23": {
      "model_module": "@jupyter-widgets/controls",
      "model_module_version": "1.4.0",
      "model_name": "CheckboxModel",
      "state": {
       "description": "A549-RSOH",
       "disabled": false,
       "layout": "IPY_MODEL_2c7dd2b03f8045c58b585b0fa5842289",
       "style": "IPY_MODEL_5e9cbbb44a1f4725af98c395c053631c",
       "value": true
      }
     },
     "70c6ac81fb04419fbdcbdd5ab9d41ad0": {
      "model_module": "@jupyter-widgets/controls",
      "model_module_version": "1.4.0",
      "model_name": "CheckboxModel",
      "state": {
       "description": "HeLa-RSO2H",
       "disabled": false,
       "layout": "IPY_MODEL_16c111da17dd4e8aaf67dfcd82f68561",
       "style": "IPY_MODEL_16ad61d1e1f64dfbaecdc00fbad86b7c",
       "value": false
      }
     },
     "72a74434ec62445584954155cbecccde": {
      "model_module": "@jupyter-widgets/base",
      "model_module_version": "1.1.0",
      "model_name": "LayoutModel",
      "state": {}
     },
     "72f49bf91a36459b8361f134a25ee1a7": {
      "model_module": "@jupyter-widgets/controls",
      "model_module_version": "1.4.0",
      "model_name": "DescriptionStyleModel",
      "state": {
       "description_width": ""
      }
     },
     "77b94a7a8f424b8294e12886f5f9244a": {
      "model_module": "@jupyter-widgets/controls",
      "model_module_version": "1.4.0",
      "model_name": "SliderStyleModel",
      "state": {
       "description_width": ""
      }
     },
     "77c1656eaf8b4c459600f453038b5600": {
      "model_module": "@jupyter-widgets/controls",
      "model_module_version": "1.4.0",
      "model_name": "DescriptionStyleModel",
      "state": {
       "description_width": ""
      }
     },
     "7ebd391819804cf3aa467c213dc67962": {
      "model_module": "@jupyter-widgets/base",
      "model_module_version": "1.1.0",
      "model_name": "LayoutModel",
      "state": {}
     },
     "81152f523116476d85bdae6a849cf31b": {
      "model_module": "@jupyter-widgets/controls",
      "model_module_version": "1.4.0",
      "model_name": "CheckboxModel",
      "state": {
       "description": "A549-RSO2H",
       "disabled": false,
       "layout": "IPY_MODEL_2d7981f8c6e94a5ba75c3ea446991a3c",
       "style": "IPY_MODEL_ac13f25d0c2842468282876a4dcacdb7",
       "value": true
      }
     },
     "81c775f89a7b4941952e906b1aff9b62": {
      "model_module": "@jupyter-widgets/base",
      "model_module_version": "1.1.0",
      "model_name": "LayoutModel",
      "state": {}
     },
     "8233f2abdea74bb2a93bfeb73c72d0f3": {
      "model_module": "@jupyter-widgets/controls",
      "model_module_version": "1.4.0",
      "model_name": "CheckboxModel",
      "state": {
       "description": "HeLa-RSOH",
       "disabled": false,
       "layout": "IPY_MODEL_2de0db917b24400ca5b6d9a4be0d945f",
       "style": "IPY_MODEL_447b7b2b27a349168161c48197c93a57",
       "value": false
      }
     },
     "82cd132ca5a5439886a0edd045f210d5": {
      "model_module": "@jupyter-widgets/controls",
      "model_module_version": "1.4.0",
      "model_name": "DescriptionStyleModel",
      "state": {
       "description_width": ""
      }
     },
     "86b0226714724fbe9adce77d54f680bf": {
      "model_module": "@jupyter-widgets/base",
      "model_module_version": "1.1.0",
      "model_name": "LayoutModel",
      "state": {}
     },
     "895982192e87401eb2d1157e8c55a955": {
      "model_module": "@jupyter-widgets/controls",
      "model_module_version": "1.4.0",
      "model_name": "DescriptionStyleModel",
      "state": {
       "description_width": ""
      }
     },
     "89f4e79132cf4c0899a837e9cbdc85a5": {
      "model_module": "@jupyter-widgets/base",
      "model_module_version": "1.1.0",
      "model_name": "LayoutModel",
      "state": {}
     },
     "8a2fa0b9c6414f2eb5ec6c9ed37ca62d": {
      "model_module": "@jupyter-widgets/controls",
      "model_module_version": "1.4.0",
      "model_name": "DescriptionStyleModel",
      "state": {
       "description_width": ""
      }
     },
     "8c23a512d9f14561ab7bd9c8c32a1426": {
      "model_module": "@jupyter-widgets/controls",
      "model_module_version": "1.4.0",
      "model_name": "DescriptionStyleModel",
      "state": {
       "description_width": ""
      }
     },
     "8e31f9fb2f67450f9ec85de09cfef750": {
      "model_module": "@jupyter-widgets/controls",
      "model_module_version": "1.4.0",
      "model_name": "DescriptionStyleModel",
      "state": {
       "description_width": ""
      }
     },
     "8f576fedbb614244adc36225a41695c3": {
      "model_module": "@jupyter-widgets/base",
      "model_module_version": "1.1.0",
      "model_name": "LayoutModel",
      "state": {}
     },
     "9174fc98cf0a4076aebd89e860b3ae1d": {
      "model_module": "@jupyter-widgets/base",
      "model_module_version": "1.1.0",
      "model_name": "LayoutModel",
      "state": {}
     },
     "964fcb11195b442f97dce598d1760e36": {
      "model_module": "@jupyter-widgets/controls",
      "model_module_version": "1.4.0",
      "model_name": "CheckboxModel",
      "state": {
       "description": "A549-RSO2H",
       "disabled": false,
       "layout": "IPY_MODEL_4d9276771c9342dda3835495410b829f",
       "style": "IPY_MODEL_c65ba7679a9d498281bbe28be003a560",
       "value": true
      }
     },
     "9ed4403b5581475b99f836763b4b4c8d": {
      "model_module": "@jupyter-widgets/base",
      "model_module_version": "1.1.0",
      "model_name": "LayoutModel",
      "state": {}
     },
     "9f5f23d73fe44606b56b4f497a7dbbb3": {
      "model_module": "@jupyter-widgets/controls",
      "model_module_version": "1.4.0",
      "model_name": "CheckboxModel",
      "state": {
       "description": "show_labels",
       "disabled": false,
       "layout": "IPY_MODEL_b3e853bd73024fafa029c257eca29fb6",
       "style": "IPY_MODEL_025a61c83a294bd4a427446c95c956f8",
       "value": true
      }
     },
     "9fb9204cf4fb4a9aa6ef6f46a875b44f": {
      "model_module": "@jupyter-widgets/controls",
      "model_module_version": "1.4.0",
      "model_name": "CheckboxModel",
      "state": {
       "description": "A549-RSOH",
       "disabled": false,
       "layout": "IPY_MODEL_34dd929d0b0a4674b3a37067adc9c21a",
       "style": "IPY_MODEL_17b452f982d4472bb1ba73840e98b068",
       "value": true
      }
     },
     "a1123cefa98d40cfa2caa77ded9ccac0": {
      "model_module": "@jupyter-widgets/controls",
      "model_module_version": "1.4.0",
      "model_name": "VBoxModel",
      "state": {
       "_dom_classes": [
        "widget-interact"
       ],
       "children": [
        "IPY_MODEL_0579a400276f457795228fc4b86f4b65",
        "IPY_MODEL_447c48285c6a43caaa37b1c6d57040ed",
        "IPY_MODEL_381ec1fb147b4c59b86aac2e9d3d5b33",
        "IPY_MODEL_f154cf3343004497811a07b8f29a1ad9",
        "IPY_MODEL_5c020d42dd1b47ae81e9ab96f78c8b5d"
       ],
       "layout": "IPY_MODEL_e1d2a36b36ac4d02b1c21025519aebe6"
      }
     },
     "a18e02c430114714994fbe828140f0a4": {
      "model_module": "@jupyter-widgets/base",
      "model_module_version": "1.1.0",
      "model_name": "LayoutModel",
      "state": {}
     },
     "a1e8581c26b64b2f8bee77934b4e8685": {
      "model_module": "@jupyter-widgets/controls",
      "model_module_version": "1.4.0",
      "model_name": "DescriptionStyleModel",
      "state": {
       "description_width": ""
      }
     },
     "a28b6ccc849642349f3460a8a5788d43": {
      "model_module": "@jupyter-widgets/controls",
      "model_module_version": "1.4.0",
      "model_name": "DescriptionStyleModel",
      "state": {
       "description_width": ""
      }
     },
     "a544e9b8fb004121b029fbde08f030ca": {
      "model_module": "@jupyter-widgets/controls",
      "model_module_version": "1.4.0",
      "model_name": "CheckboxModel",
      "state": {
       "description": "show_bio_assembly",
       "disabled": false,
       "layout": "IPY_MODEL_169d72d3f0f74ce683113f1f9fd99a8c",
       "style": "IPY_MODEL_72f49bf91a36459b8361f134a25ee1a7",
       "value": false
      }
     },
     "a5ff104f48ee42d09f9d4e43a6524cdb": {
      "model_module": "@jupyter-widgets/controls",
      "model_module_version": "1.4.0",
      "model_name": "CheckboxModel",
      "state": {
       "description": "A549-RSO2H",
       "disabled": false,
       "layout": "IPY_MODEL_1a3bc02e92534ecfacb358f1c1538a22",
       "style": "IPY_MODEL_c51d02593a014136863eecc2f98e1fc1",
       "value": true
      }
     },
     "a9207b038d2c4a8cab193e96bf27efb2": {
      "model_module": "@jupyter-widgets/base",
      "model_module_version": "1.1.0",
      "model_name": "LayoutModel",
      "state": {}
     },
     "aaa12b387bdb4166a7371a03a59c99ca": {
      "model_module": "@jupyter-widgets/controls",
      "model_module_version": "1.4.0",
      "model_name": "VBoxModel",
      "state": {
       "_dom_classes": [
        "widget-interact"
       ],
       "children": [
        "IPY_MODEL_9f5f23d73fe44606b56b4f497a7dbbb3",
        "IPY_MODEL_a544e9b8fb004121b029fbde08f030ca",
        "IPY_MODEL_140ac521bd364e238780d67967c5e62b",
        "IPY_MODEL_541b6a3194df4a3594e9bb04e90fc3eb",
        "IPY_MODEL_e5d1136f67d74a0c882d3ed58183b2d1"
       ],
       "layout": "IPY_MODEL_9ed4403b5581475b99f836763b4b4c8d"
      }
     },
     "ac13f25d0c2842468282876a4dcacdb7": {
      "model_module": "@jupyter-widgets/controls",
      "model_module_version": "1.4.0",
      "model_name": "DescriptionStyleModel",
      "state": {
       "description_width": ""
      }
     },
     "ad4c966a2fc64f14aed00eef4e8a9759": {
      "model_module": "@jupyter-widgets/base",
      "model_module_version": "1.1.0",
      "model_name": "LayoutModel",
      "state": {}
     },
     "ad7e5c457b8947a4b11deebfb409d29b": {
      "model_module": "@jupyter-widgets/output",
      "model_module_version": "1.0.0",
      "model_name": "OutputModel",
      "state": {
       "layout": "IPY_MODEL_ad4c966a2fc64f14aed00eef4e8a9759",
       "outputs": [
        {
         "name": "stdout",
         "output_type": "stream",
         "text": "PDB Id: 1K4Q chain Id: A\nuniprotAccession: P00390\nDescription: Glutathione reductase, mitochondrial OS=Homo sapiens GN=GSR PE=1 SV=2\n"
        },
        {
         "data": {
          "application/3dmoljs_load.v0": "<div id=\"3dmolviewer_1536692789494029\"  style=\"position: relative; width: 640px; height: 480px\">\n        <p id=\"3dmolwarning_1536692789494029\" style=\"background-color:#ffcccc;color:black\">You appear to be running in JupyterLab (or JavaScript failed to load for some other reason).  You need to install the 3dmol extension: <br>\n        <tt>jupyter labextension install jupyterlab_3dmol</tt></p>\n        </div>\n<script>\n\nvar loadScriptAsync = function(uri){\n  return new Promise((resolve, reject) => {\n    var tag = document.createElement('script');\n    tag.src = uri;\n    tag.async = true;\n    tag.onload = () => {\n      resolve();\n    };\n  var firstScriptTag = document.getElementsByTagName('script')[0];\n  firstScriptTag.parentNode.insertBefore(tag, firstScriptTag);\n});\n};\n\nif(typeof $3Dmolpromise === 'undefined') {\n$3Dmolpromise = null;\n  $3Dmolpromise = loadScriptAsync('https://3dmol.csb.pitt.edu/build/3Dmol.js');\n}\n\nvar viewer_1536692789494029 = null;\nvar warn = document.getElementById(\"3dmolwarning_1536692789494029\");\nif(warn) {\n    warn.parentNode.removeChild(warn);\n}\n$3Dmolpromise.then(function() {\nviewer_1536692789494029 = $3Dmol.createViewer($(\"#3dmolviewer_1536692789494029\"),{backgroundColor:\"white\"});\n$3Dmol.download(\"pdb:1K4Q\", viewer_1536692789494029, {\"doAssembly\": false}, function() {\n\tviewer_1536692789494029.setStyle({\"cartoon\": {\"color\": \"spectrum\", \"width\": 0.6, \"opacity\": 0.8}});\n\tviewer_1536692789494029.setStyle({\"hetflag\": true},{\"stick\": {\"radius\": 0.3, \"singleBond\": false}});\n\tviewer_1536692789494029.addStyle({\"chain\": \"A\", \"resi\": [\"63\", \"417\", \"423\"], \"byres\": true, \"expand\": 6},{\"stick\": {\"colorscheme\": \"orangeCarbon\", \"radius\": 0.15}});\n\tviewer_1536692789494029.addStyle({\"chain\": \"A\", \"resi\": [\"63\", \"417\", \"423\"]},{\"stick\": {\"colorscheme\": \"redCarbon\", \"radius\": 0.4}});\n\tviewer_1536692789494029.addStyle({\"chain\": \"A\", \"resi\": [\"63\", \"417\", \"423\"]},{\"sphere\": {\"colorscheme\": \"gray\", \"opacity\": 0.7}});\n\tviewer_1536692789494029.addLabel(\"63: A549-RSOH\",{\"fontColor\": \"black\", \"fontSize\": 9, \"backgroundColor\": \"lightgray\"},{\"chain\": \"A\", \"resi\": \"63\"});\n\tviewer_1536692789494029.addLabel(\"417: A549-RSOH\",{\"fontColor\": \"black\", \"fontSize\": 9, \"backgroundColor\": \"lightgray\"},{\"chain\": \"A\", \"resi\": \"417\"});\n\tviewer_1536692789494029.addLabel(\"423: A549-RSOH\",{\"fontColor\": \"black\", \"fontSize\": 9, \"backgroundColor\": \"lightgray\"},{\"chain\": \"A\", \"resi\": \"423\"});\n\tviewer_1536692789494029.zoomTo({\"chain\": \"A\", \"resi\": [\"63\", \"417\", \"423\"], \"byres\": true, \"expand\": 6});\nviewer_1536692789494029.render();\n})\n});\n</script>",
          "text/html": "<div id=\"3dmolviewer_1536692789494029\"  style=\"position: relative; width: 640px; height: 480px\">\n        <p id=\"3dmolwarning_1536692789494029\" style=\"background-color:#ffcccc;color:black\">You appear to be running in JupyterLab (or JavaScript failed to load for some other reason).  You need to install the 3dmol extension: <br>\n        <tt>jupyter labextension install jupyterlab_3dmol</tt></p>\n        </div>\n<script>\n\nvar loadScriptAsync = function(uri){\n  return new Promise((resolve, reject) => {\n    var tag = document.createElement('script');\n    tag.src = uri;\n    tag.async = true;\n    tag.onload = () => {\n      resolve();\n    };\n  var firstScriptTag = document.getElementsByTagName('script')[0];\n  firstScriptTag.parentNode.insertBefore(tag, firstScriptTag);\n});\n};\n\nif(typeof $3Dmolpromise === 'undefined') {\n$3Dmolpromise = null;\n  $3Dmolpromise = loadScriptAsync('https://3dmol.csb.pitt.edu/build/3Dmol.js');\n}\n\nvar viewer_1536692789494029 = null;\nvar warn = document.getElementById(\"3dmolwarning_1536692789494029\");\nif(warn) {\n    warn.parentNode.removeChild(warn);\n}\n$3Dmolpromise.then(function() {\nviewer_1536692789494029 = $3Dmol.createViewer($(\"#3dmolviewer_1536692789494029\"),{backgroundColor:\"white\"});\n$3Dmol.download(\"pdb:1K4Q\", viewer_1536692789494029, {\"doAssembly\": false}, function() {\n\tviewer_1536692789494029.setStyle({\"cartoon\": {\"color\": \"spectrum\", \"width\": 0.6, \"opacity\": 0.8}});\n\tviewer_1536692789494029.setStyle({\"hetflag\": true},{\"stick\": {\"radius\": 0.3, \"singleBond\": false}});\n\tviewer_1536692789494029.addStyle({\"chain\": \"A\", \"resi\": [\"63\", \"417\", \"423\"], \"byres\": true, \"expand\": 6},{\"stick\": {\"colorscheme\": \"orangeCarbon\", \"radius\": 0.15}});\n\tviewer_1536692789494029.addStyle({\"chain\": \"A\", \"resi\": [\"63\", \"417\", \"423\"]},{\"stick\": {\"colorscheme\": \"redCarbon\", \"radius\": 0.4}});\n\tviewer_1536692789494029.addStyle({\"chain\": \"A\", \"resi\": [\"63\", \"417\", \"423\"]},{\"sphere\": {\"colorscheme\": \"gray\", \"opacity\": 0.7}});\n\tviewer_1536692789494029.addLabel(\"63: A549-RSOH\",{\"fontColor\": \"black\", \"fontSize\": 9, \"backgroundColor\": \"lightgray\"},{\"chain\": \"A\", \"resi\": \"63\"});\n\tviewer_1536692789494029.addLabel(\"417: A549-RSOH\",{\"fontColor\": \"black\", \"fontSize\": 9, \"backgroundColor\": \"lightgray\"},{\"chain\": \"A\", \"resi\": \"417\"});\n\tviewer_1536692789494029.addLabel(\"423: A549-RSOH\",{\"fontColor\": \"black\", \"fontSize\": 9, \"backgroundColor\": \"lightgray\"},{\"chain\": \"A\", \"resi\": \"423\"});\n\tviewer_1536692789494029.zoomTo({\"chain\": \"A\", \"resi\": [\"63\", \"417\", \"423\"], \"byres\": true, \"expand\": 6});\nviewer_1536692789494029.render();\n})\n});\n</script>"
         },
         "metadata": {},
         "output_type": "display_data"
        }
       ]
      }
     },
     "aeea1aa2a3f4467283aefa08504bea55": {
      "model_module": "@jupyter-widgets/controls",
      "model_module_version": "1.4.0",
      "model_name": "CheckboxModel",
      "state": {
       "description": "A549-RSOH",
       "disabled": false,
       "layout": "IPY_MODEL_cc0319ad142e47a68201abe9ba9ed198",
       "style": "IPY_MODEL_8e31f9fb2f67450f9ec85de09cfef750",
       "value": true
      }
     },
     "afbcb9ea26f74d6e83dbb66e45cab0c7": {
      "model_module": "@jupyter-widgets/controls",
      "model_module_version": "1.4.0",
      "model_name": "CheckboxModel",
      "state": {
       "description": "HeLa-RSOH",
       "disabled": false,
       "layout": "IPY_MODEL_e04ad6c675d24919a83ff6d2335c7f7d",
       "style": "IPY_MODEL_13f07072e4a84ad9882cce6753564b20",
       "value": false
      }
     },
     "b07eace20a10420e87a23cbd362dca60": {
      "model_module": "@jupyter-widgets/controls",
      "model_module_version": "1.4.0",
      "model_name": "IntSliderModel",
      "state": {
       "continuous_update": false,
       "description": "Structure",
       "layout": "IPY_MODEL_d15eed065fc44e6795d01ee8d5eea40f",
       "max": 946,
       "style": "IPY_MODEL_3db9c92e05bb4727afc7db8512cd8da7"
      }
     },
     "b3e853bd73024fafa029c257eca29fb6": {
      "model_module": "@jupyter-widgets/base",
      "model_module_version": "1.1.0",
      "model_name": "LayoutModel",
      "state": {}
     },
     "b44763c58cf146c59b705a375cff5bb9": {
      "model_module": "@jupyter-widgets/controls",
      "model_module_version": "1.4.0",
      "model_name": "DescriptionStyleModel",
      "state": {
       "description_width": ""
      }
     },
     "b5e5c6bb59b1487a9c28145e2e1c90c4": {
      "model_module": "@jupyter-widgets/controls",
      "model_module_version": "1.4.0",
      "model_name": "CheckboxModel",
      "state": {
       "description": "A549-RSOH",
       "disabled": false,
       "layout": "IPY_MODEL_5c141377f628454497a33fd253cd9cce",
       "style": "IPY_MODEL_685ea99457d747209f2d1d8aed72c9ec",
       "value": true
      }
     },
     "b625056d57bb498fbd6ed824de2e59bb": {
      "model_module": "@jupyter-widgets/controls",
      "model_module_version": "1.4.0",
      "model_name": "DescriptionStyleModel",
      "state": {
       "description_width": ""
      }
     },
     "b7bf4f5422704c2bbbff41d63557ceb6": {
      "model_module": "@jupyter-widgets/controls",
      "model_module_version": "1.4.0",
      "model_name": "CheckboxModel",
      "state": {
       "description": "HeLa-RSO2H",
       "disabled": false,
       "layout": "IPY_MODEL_0f9cc4a2e04749fba4495525d304a93d",
       "style": "IPY_MODEL_03a6fe6e9da8498c978c4aa36834fa56",
       "value": false
      }
     },
     "b927dea10dac4313aedbbed7ddab7f79": {
      "model_module": "@jupyter-widgets/controls",
      "model_module_version": "1.4.0",
      "model_name": "CheckboxModel",
      "state": {
       "description": "HeLa-RSOH",
       "disabled": false,
       "layout": "IPY_MODEL_8f576fedbb614244adc36225a41695c3",
       "style": "IPY_MODEL_2f77cada7e7e479b86173c5dde6389ff",
       "value": false
      }
     },
     "bd1b8d9b778a4fb3a50e3bc4b14c2444": {
      "model_module": "@jupyter-widgets/controls",
      "model_module_version": "1.4.0",
      "model_name": "CheckboxModel",
      "state": {
       "description": "HeLa-RSO2H",
       "disabled": false,
       "layout": "IPY_MODEL_89f4e79132cf4c0899a837e9cbdc85a5",
       "style": "IPY_MODEL_f1824191663247ab8b55232576bb2161",
       "value": false
      }
     },
     "bda4c52e03944c5b83d8d6e1352a4743": {
      "model_module": "@jupyter-widgets/controls",
      "model_module_version": "1.4.0",
      "model_name": "CheckboxModel",
      "state": {
       "description": "A549-RSO2H",
       "disabled": false,
       "layout": "IPY_MODEL_7ebd391819804cf3aa467c213dc67962",
       "style": "IPY_MODEL_0bf52c6888964ab092ea7153f815b355",
       "value": true
      }
     },
     "bdb1d031bec247ecb791c161bce36ab8": {
      "model_module": "@jupyter-widgets/base",
      "model_module_version": "1.1.0",
      "model_name": "LayoutModel",
      "state": {}
     },
     "c3a791ab6f624fff86cf4e2c81f9b370": {
      "model_module": "@jupyter-widgets/controls",
      "model_module_version": "1.4.0",
      "model_name": "CheckboxModel",
      "state": {
       "description": "HeLa-RSO2H",
       "disabled": false,
       "layout": "IPY_MODEL_e3a0a2f9334c42948ede866582c008b6",
       "style": "IPY_MODEL_b44763c58cf146c59b705a375cff5bb9",
       "value": false
      }
     },
     "c51d02593a014136863eecc2f98e1fc1": {
      "model_module": "@jupyter-widgets/controls",
      "model_module_version": "1.4.0",
      "model_name": "DescriptionStyleModel",
      "state": {
       "description_width": ""
      }
     },
     "c55e61181ee34dfa9f946848aad8e77c": {
      "model_module": "@jupyter-widgets/controls",
      "model_module_version": "1.4.0",
      "model_name": "CheckboxModel",
      "state": {
       "description": "HeLa-RSO2H",
       "disabled": false,
       "layout": "IPY_MODEL_f8b1166950724bffbafa0ac345ae897d",
       "style": "IPY_MODEL_5c8057f5caa649108278a758b4214453",
       "value": false
      }
     },
     "c65ba7679a9d498281bbe28be003a560": {
      "model_module": "@jupyter-widgets/controls",
      "model_module_version": "1.4.0",
      "model_name": "DescriptionStyleModel",
      "state": {
       "description_width": ""
      }
     },
     "cc0319ad142e47a68201abe9ba9ed198": {
      "model_module": "@jupyter-widgets/base",
      "model_module_version": "1.1.0",
      "model_name": "LayoutModel",
      "state": {}
     },
     "d15eed065fc44e6795d01ee8d5eea40f": {
      "model_module": "@jupyter-widgets/base",
      "model_module_version": "1.1.0",
      "model_name": "LayoutModel",
      "state": {}
     },
     "d4da932600414f289989b0dc0c0a9c46": {
      "model_module": "@jupyter-widgets/controls",
      "model_module_version": "1.4.0",
      "model_name": "CheckboxModel",
      "state": {
       "description": "HeLa-RSOH",
       "disabled": false,
       "layout": "IPY_MODEL_f556e8b8db244da0b76490642383730c",
       "style": "IPY_MODEL_6239a1864d47488280b309317706392f",
       "value": true
      }
     },
     "dfb26b5d8012465a88e12e333c55fafe": {
      "model_module": "@jupyter-widgets/controls",
      "model_module_version": "1.4.0",
      "model_name": "CheckboxModel",
      "state": {
       "description": "HeLa-RSO2H",
       "disabled": false,
       "layout": "IPY_MODEL_1c57e8a6f88f4f1cbc5bb2a2d69c0016",
       "style": "IPY_MODEL_895982192e87401eb2d1157e8c55a955",
       "value": true
      }
     },
     "e04ad6c675d24919a83ff6d2335c7f7d": {
      "model_module": "@jupyter-widgets/base",
      "model_module_version": "1.1.0",
      "model_name": "LayoutModel",
      "state": {}
     },
     "e1d2a36b36ac4d02b1c21025519aebe6": {
      "model_module": "@jupyter-widgets/base",
      "model_module_version": "1.1.0",
      "model_name": "LayoutModel",
      "state": {}
     },
     "e3a0a2f9334c42948ede866582c008b6": {
      "model_module": "@jupyter-widgets/base",
      "model_module_version": "1.1.0",
      "model_name": "LayoutModel",
      "state": {}
     },
     "e5d1136f67d74a0c882d3ed58183b2d1": {
      "model_module": "@jupyter-widgets/output",
      "model_module_version": "1.0.0",
      "model_name": "OutputModel",
      "state": {
       "layout": "IPY_MODEL_bdb1d031bec247ecb791c161bce36ab8",
       "outputs": [
        {
         "name": "stdout",
         "output_type": "stream",
         "text": "PDB Id: 3IFW chain Id: A\nuniprotAccession: P09936\nDescription: Ubiquitin carboxyl-terminal hydrolase isozyme L1 OS=Homo sapiens GN=UCHL1 PE=1 SV=2\n"
        },
        {
         "data": {
          "application/3dmoljs_load.v0": "<div id=\"3dmolviewer_153669296426285\"  style=\"position: relative; width: 640px; height: 480px\">\n        <p id=\"3dmolwarning_153669296426285\" style=\"background-color:#ffcccc;color:black\">You appear to be running in JupyterLab (or JavaScript failed to load for some other reason).  You need to install the 3dmol extension: <br>\n        <tt>jupyter labextension install jupyterlab_3dmol</tt></p>\n        </div>\n<script>\n\nvar loadScriptAsync = function(uri){\n  return new Promise((resolve, reject) => {\n    var tag = document.createElement('script');\n    tag.src = uri;\n    tag.async = true;\n    tag.onload = () => {\n      resolve();\n    };\n  var firstScriptTag = document.getElementsByTagName('script')[0];\n  firstScriptTag.parentNode.insertBefore(tag, firstScriptTag);\n});\n};\n\nif(typeof $3Dmolpromise === 'undefined') {\n$3Dmolpromise = null;\n  $3Dmolpromise = loadScriptAsync('https://3dmol.csb.pitt.edu/build/3Dmol.js');\n}\n\nvar viewer_153669296426285 = null;\nvar warn = document.getElementById(\"3dmolwarning_153669296426285\");\nif(warn) {\n    warn.parentNode.removeChild(warn);\n}\n$3Dmolpromise.then(function() {\nviewer_153669296426285 = $3Dmol.createViewer($(\"#3dmolviewer_153669296426285\"),{backgroundColor:\"white\"});\n$3Dmol.download(\"pdb:3IFW\", viewer_153669296426285, {\"doAssembly\": false}, function() {\n\tviewer_153669296426285.setStyle({\"cartoon\": {\"color\": \"spectrum\", \"width\": 0.6, \"opacity\": 0.8}});\n\tviewer_153669296426285.setStyle({\"hetflag\": true},{\"stick\": {\"radius\": 0.3, \"singleBond\": false}});\n\tviewer_153669296426285.addStyle({\"chain\": \"A\", \"resi\": [\"220\", \"90\", \"132\", \"152\"], \"byres\": true, \"expand\": 6},{\"stick\": {\"colorscheme\": \"orangeCarbon\", \"radius\": 0.15}});\n\tviewer_153669296426285.addStyle({\"chain\": \"A\", \"resi\": [\"220\", \"90\", \"132\", \"152\"]},{\"stick\": {\"colorscheme\": \"redCarbon\", \"radius\": 0.4}});\n\tviewer_153669296426285.addStyle({\"chain\": \"A\", \"resi\": [\"220\", \"90\", \"132\", \"152\"]},{\"sphere\": {\"colorscheme\": \"gray\", \"opacity\": 0.7}});\n\tviewer_153669296426285.addLabel(\"220: A549-RSOH\",{\"fontColor\": \"black\", \"fontSize\": 9, \"backgroundColor\": \"lightgray\"},{\"chain\": \"A\", \"resi\": \"220\"});\n\tviewer_153669296426285.addLabel(\"90: A549-RSOH\",{\"fontColor\": \"black\", \"fontSize\": 9, \"backgroundColor\": \"lightgray\"},{\"chain\": \"A\", \"resi\": \"90\"});\n\tviewer_153669296426285.addLabel(\"132: A549-RSOH\",{\"fontColor\": \"black\", \"fontSize\": 9, \"backgroundColor\": \"lightgray\"},{\"chain\": \"A\", \"resi\": \"132\"});\n\tviewer_153669296426285.addLabel(\"152: A549-RSO2H,A549-RSOH\",{\"fontColor\": \"black\", \"fontSize\": 9, \"backgroundColor\": \"lightgray\"},{\"chain\": \"A\", \"resi\": \"152\"});\n\tviewer_153669296426285.zoomTo({\"chain\": \"A\", \"resi\": [\"220\", \"90\", \"132\", \"152\"], \"byres\": true, \"expand\": 6});\nviewer_153669296426285.render();\n})\n});\n</script>",
          "text/html": "<div id=\"3dmolviewer_153669296426285\"  style=\"position: relative; width: 640px; height: 480px\">\n        <p id=\"3dmolwarning_153669296426285\" style=\"background-color:#ffcccc;color:black\">You appear to be running in JupyterLab (or JavaScript failed to load for some other reason).  You need to install the 3dmol extension: <br>\n        <tt>jupyter labextension install jupyterlab_3dmol</tt></p>\n        </div>\n<script>\n\nvar loadScriptAsync = function(uri){\n  return new Promise((resolve, reject) => {\n    var tag = document.createElement('script');\n    tag.src = uri;\n    tag.async = true;\n    tag.onload = () => {\n      resolve();\n    };\n  var firstScriptTag = document.getElementsByTagName('script')[0];\n  firstScriptTag.parentNode.insertBefore(tag, firstScriptTag);\n});\n};\n\nif(typeof $3Dmolpromise === 'undefined') {\n$3Dmolpromise = null;\n  $3Dmolpromise = loadScriptAsync('https://3dmol.csb.pitt.edu/build/3Dmol.js');\n}\n\nvar viewer_153669296426285 = null;\nvar warn = document.getElementById(\"3dmolwarning_153669296426285\");\nif(warn) {\n    warn.parentNode.removeChild(warn);\n}\n$3Dmolpromise.then(function() {\nviewer_153669296426285 = $3Dmol.createViewer($(\"#3dmolviewer_153669296426285\"),{backgroundColor:\"white\"});\n$3Dmol.download(\"pdb:3IFW\", viewer_153669296426285, {\"doAssembly\": false}, function() {\n\tviewer_153669296426285.setStyle({\"cartoon\": {\"color\": \"spectrum\", \"width\": 0.6, \"opacity\": 0.8}});\n\tviewer_153669296426285.setStyle({\"hetflag\": true},{\"stick\": {\"radius\": 0.3, \"singleBond\": false}});\n\tviewer_153669296426285.addStyle({\"chain\": \"A\", \"resi\": [\"220\", \"90\", \"132\", \"152\"], \"byres\": true, \"expand\": 6},{\"stick\": {\"colorscheme\": \"orangeCarbon\", \"radius\": 0.15}});\n\tviewer_153669296426285.addStyle({\"chain\": \"A\", \"resi\": [\"220\", \"90\", \"132\", \"152\"]},{\"stick\": {\"colorscheme\": \"redCarbon\", \"radius\": 0.4}});\n\tviewer_153669296426285.addStyle({\"chain\": \"A\", \"resi\": [\"220\", \"90\", \"132\", \"152\"]},{\"sphere\": {\"colorscheme\": \"gray\", \"opacity\": 0.7}});\n\tviewer_153669296426285.addLabel(\"220: A549-RSOH\",{\"fontColor\": \"black\", \"fontSize\": 9, \"backgroundColor\": \"lightgray\"},{\"chain\": \"A\", \"resi\": \"220\"});\n\tviewer_153669296426285.addLabel(\"90: A549-RSOH\",{\"fontColor\": \"black\", \"fontSize\": 9, \"backgroundColor\": \"lightgray\"},{\"chain\": \"A\", \"resi\": \"90\"});\n\tviewer_153669296426285.addLabel(\"132: A549-RSOH\",{\"fontColor\": \"black\", \"fontSize\": 9, \"backgroundColor\": \"lightgray\"},{\"chain\": \"A\", \"resi\": \"132\"});\n\tviewer_153669296426285.addLabel(\"152: A549-RSO2H,A549-RSOH\",{\"fontColor\": \"black\", \"fontSize\": 9, \"backgroundColor\": \"lightgray\"},{\"chain\": \"A\", \"resi\": \"152\"});\n\tviewer_153669296426285.zoomTo({\"chain\": \"A\", \"resi\": [\"220\", \"90\", \"132\", \"152\"], \"byres\": true, \"expand\": 6});\nviewer_153669296426285.render();\n})\n});\n</script>"
         },
         "metadata": {},
         "output_type": "display_data"
        }
       ]
      }
     },
     "e8f42bd816474067ad4eee495cbbb02a": {
      "model_module": "@jupyter-widgets/controls",
      "model_module_version": "1.4.0",
      "model_name": "CheckboxModel",
      "state": {
       "description": "HeLa-RSOH",
       "disabled": false,
       "layout": "IPY_MODEL_32daf1b5acf24741a8502319c0eb0632",
       "style": "IPY_MODEL_a28b6ccc849642349f3460a8a5788d43",
       "value": false
      }
     },
     "ea5adc9853e84d9ea684d2fbe56637c0": {
      "model_module": "@jupyter-widgets/base",
      "model_module_version": "1.1.0",
      "model_name": "LayoutModel",
      "state": {}
     },
     "ec6d488da3ea47299f0ea3a8a90d11f3": {
      "model_module": "@jupyter-widgets/controls",
      "model_module_version": "1.4.0",
      "model_name": "CheckboxModel",
      "state": {
       "description": "A549-RSO2H",
       "disabled": false,
       "layout": "IPY_MODEL_81c775f89a7b4941952e906b1aff9b62",
       "style": "IPY_MODEL_8c23a512d9f14561ab7bd9c8c32a1426",
       "value": true
      }
     },
     "f154cf3343004497811a07b8f29a1ad9": {
      "model_module": "@jupyter-widgets/controls",
      "model_module_version": "1.4.0",
      "model_name": "IntSliderModel",
      "state": {
       "continuous_update": false,
       "description": "Structure",
       "layout": "IPY_MODEL_72a74434ec62445584954155cbecccde",
       "max": 946,
       "style": "IPY_MODEL_2835a8764c0f4c67a23af077a323eea0"
      }
     },
     "f1824191663247ab8b55232576bb2161": {
      "model_module": "@jupyter-widgets/controls",
      "model_module_version": "1.4.0",
      "model_name": "DescriptionStyleModel",
      "state": {
       "description_width": ""
      }
     },
     "f3f872dd61a44106aab373bc774808b8": {
      "model_module": "@jupyter-widgets/controls",
      "model_module_version": "1.4.0",
      "model_name": "DescriptionStyleModel",
      "state": {
       "description_width": ""
      }
     },
     "f556e8b8db244da0b76490642383730c": {
      "model_module": "@jupyter-widgets/base",
      "model_module_version": "1.1.0",
      "model_name": "LayoutModel",
      "state": {}
     },
     "f6b6328b4418430e97ef85ac94eff007": {
      "model_module": "@jupyter-widgets/base",
      "model_module_version": "1.1.0",
      "model_name": "LayoutModel",
      "state": {}
     },
     "f8b1166950724bffbafa0ac345ae897d": {
      "model_module": "@jupyter-widgets/base",
      "model_module_version": "1.1.0",
      "model_name": "LayoutModel",
      "state": {}
     }
    },
    "version_major": 2,
    "version_minor": 0
   }
  }
 },
 "nbformat": 4,
 "nbformat_minor": 4
}

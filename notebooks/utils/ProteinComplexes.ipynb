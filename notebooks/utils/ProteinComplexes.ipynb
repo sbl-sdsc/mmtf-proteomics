{
 "cells": [
  {
   "cell_type": "markdown",
   "metadata": {},
   "source": [
    "# Mine PDB for Protein Complexes\n",
    "This notebook creates a list of UniProt Id of protein homomer/heteromers in the PDB."
   ]
  },
  {
   "cell_type": "code",
   "execution_count": 1,
   "metadata": {},
   "outputs": [],
   "source": [
    "from pyspark.sql import SparkSession\n",
    "from ipywidgets import widgets\n",
    "from mmtfPyspark.webfilters import AdvancedQuery, PdbjMineSearch\n",
    "from mmtfPyspark.mappers import StructureToPolymerChains\n",
    "from mmtfPyspark.datasets import polymerSequenceExtractor, pdbjMineDataset, advancedSearchDataset\n",
    "from mmtfPyspark.io import mmtfReader"
   ]
  },
  {
   "cell_type": "markdown",
   "metadata": {},
   "source": [
    "#### Configure Spark"
   ]
  },
  {
   "cell_type": "code",
   "execution_count": 2,
   "metadata": {},
   "outputs": [],
   "source": [
    "spark =  SparkSession.builder.master(\"local[4]\").appName(\"ProteinComplexesV2\").getOrCreate()\n",
    "spark.conf.set(\"spark.sql.execution.arrow.enabled\", \"true\")"
   ]
  },
  {
   "cell_type": "markdown",
   "metadata": {},
   "source": [
    "## Select type of complex"
   ]
  },
  {
   "cell_type": "code",
   "execution_count": 3,
   "metadata": {},
   "outputs": [],
   "source": [
    "selection = widgets.RadioButtons(options=['homomer', 'heteromer'],description='Complex:')"
   ]
  },
  {
   "cell_type": "code",
   "execution_count": 4,
   "metadata": {},
   "outputs": [
    {
     "data": {
      "application/vnd.jupyter.widget-view+json": {
       "model_id": "ed70e39529a348b89f85dce06b2ca566",
       "version_major": 2,
       "version_minor": 0
      },
      "text/plain": [
       "RadioButtons(description='Complex:', options=('homomer', 'heteromer'), value='homomer')"
      ]
     },
     "metadata": {},
     "output_type": "display_data"
    }
   ],
   "source": [
    "selection"
   ]
  },
  {
   "cell_type": "code",
   "execution_count": 5,
   "metadata": {},
   "outputs": [],
   "source": [
    "complexType = selection.value"
   ]
  },
  {
   "cell_type": "code",
   "execution_count": 6,
   "metadata": {},
   "outputs": [
    {
     "data": {
      "text/plain": [
       "'homomer'"
      ]
     },
     "execution_count": 6,
     "metadata": {},
     "output_type": "execute_result"
    }
   ],
   "source": [
    "complexType"
   ]
  },
  {
   "cell_type": "markdown",
   "metadata": {},
   "source": [
    "## Find biological assemblies of the requested type"
   ]
  },
  {
   "cell_type": "code",
   "execution_count": 7,
   "metadata": {
    "scrolled": true
   },
   "outputs": [
    {
     "name": "stderr",
     "output_type": "stream",
     "text": [
      "/Users/peter/anaconda3/lib/python3.6/importlib/_bootstrap.py:219: RuntimeWarning: numpy.dtype size changed, may indicate binary incompatibility. Expected 96, got 88\n",
      "  return f(*args, **kwds)\n",
      "/Users/peter/anaconda3/lib/python3.6/importlib/_bootstrap.py:219: RuntimeWarning: numpy.dtype size changed, may indicate binary incompatibility. Expected 96, got 88\n",
      "  return f(*args, **kwds)\n"
     ]
    },
    {
     "name": "stdout",
     "output_type": "stream",
     "text": [
      "+-----------+\n",
      "|structureId|\n",
      "+-----------+\n",
      "|       10GS|\n",
      "|       117E|\n",
      "|       11AS|\n",
      "|       11BA|\n",
      "|       11BG|\n",
      "|       11GS|\n",
      "|       121P|\n",
      "|       12AS|\n",
      "|       12GS|\n",
      "|       137L|\n",
      "|       13GS|\n",
      "|       14GS|\n",
      "|       16GS|\n",
      "|       17GS|\n",
      "|       18GS|\n",
      "|       19GS|\n",
      "|       19HC|\n",
      "|       1A03|\n",
      "|       1A05|\n",
      "|       1A07|\n",
      "+-----------+\n",
      "only showing top 20 rows\n",
      "\n"
     ]
    },
    {
     "data": {
      "text/plain": [
       "51566"
      ]
     },
     "execution_count": 7,
     "metadata": {},
     "output_type": "execute_result"
    }
   ],
   "source": [
    "query = (\n",
    "    \"<orgPdbQuery>\"\n",
    "        \"<queryType>org.pdb.query.simple.StoichiometryQuery</queryType>\"\n",
    "        \"<stoichiometry>\" + complexType + \"</stoichiometry>\"\n",
    "    \"</orgPdbQuery>\"\n",
    ")\n",
    "\n",
    "complexes = advancedSearchDataset.get_dataset(query).cache()\n",
    "complexes.show()\n",
    "complexes.count()"
   ]
  },
  {
   "cell_type": "markdown",
   "metadata": {},
   "source": [
    "## Filter chains by taxonomy"
   ]
  },
  {
   "cell_type": "code",
   "execution_count": 8,
   "metadata": {},
   "outputs": [],
   "source": [
    "taxonomyQuery = \"SELECT * FROM sifts.pdb_chain_taxonomy WHERE scientific_name = 'Homo sampiens'\""
   ]
  },
  {
   "cell_type": "code",
   "execution_count": 9,
   "metadata": {
    "scrolled": true
   },
   "outputs": [
    {
     "name": "stdout",
     "output_type": "stream",
     "text": [
      "+-----+-----+------+---------------+----------------+\n",
      "|pdbid|chain|tax_id|scientific_name|structureChainId|\n",
      "+-----+-----+------+---------------+----------------+\n",
      "| 10GS|    A|  9606|  Homo sampiens|          10GS.A|\n",
      "| 10GS|    B|  9606|  Homo sampiens|          10GS.B|\n",
      "| 11GS|    A|  9606|  Homo sampiens|          11GS.A|\n",
      "| 11GS|    B|  9606|  Homo sampiens|          11GS.B|\n",
      "| 121P|    A|  9606|  Homo sampiens|          121P.A|\n",
      "| 12CA|    A|  9606|  Homo sampiens|          12CA.A|\n",
      "| 12GS|    A|  9606|  Homo sampiens|          12GS.A|\n",
      "| 12GS|    B|  9606|  Homo sampiens|          12GS.B|\n",
      "| 133L|    A|  9606|  Homo sampiens|          133L.A|\n",
      "| 134L|    A|  9606|  Homo sampiens|          134L.A|\n",
      "| 13GS|    A|  9606|  Homo sampiens|          13GS.A|\n",
      "| 13GS|    B|  9606|  Homo sampiens|          13GS.B|\n",
      "| 14GS|    A|  9606|  Homo sampiens|          14GS.A|\n",
      "| 14GS|    B|  9606|  Homo sampiens|          14GS.B|\n",
      "| 16GS|    A|  9606|  Homo sampiens|          16GS.A|\n",
      "| 16GS|    B|  9606|  Homo sampiens|          16GS.B|\n",
      "| 17GS|    A|  9606|  Homo sampiens|          17GS.A|\n",
      "| 17GS|    B|  9606|  Homo sampiens|          17GS.B|\n",
      "| 18GS|    A|  9606|  Homo sampiens|          18GS.A|\n",
      "| 18GS|    B|  9606|  Homo sampiens|          18GS.B|\n",
      "+-----+-----+------+---------------+----------------+\n",
      "only showing top 20 rows\n",
      "\n"
     ]
    }
   ],
   "source": [
    "taxonomy = pdbjMineDataset.get_dataset(taxonomyQuery).cache()\n",
    "taxonomy.show()"
   ]
  },
  {
   "cell_type": "code",
   "execution_count": 10,
   "metadata": {},
   "outputs": [
    {
     "name": "stdout",
     "output_type": "stream",
     "text": [
      "+-----+-----+------+---------------+----------------+\n",
      "|pdbid|chain|tax_id|scientific_name|structureChainId|\n",
      "+-----+-----+------+---------------+----------------+\n",
      "| 10GS|    A|  9606|  Homo sampiens|          10GS.A|\n",
      "| 10GS|    B|  9606|  Homo sampiens|          10GS.B|\n",
      "| 11GS|    A|  9606|  Homo sampiens|          11GS.A|\n",
      "| 11GS|    B|  9606|  Homo sampiens|          11GS.B|\n",
      "| 121P|    A|  9606|  Homo sampiens|          121P.A|\n",
      "| 12GS|    A|  9606|  Homo sampiens|          12GS.A|\n",
      "| 12GS|    B|  9606|  Homo sampiens|          12GS.B|\n",
      "| 13GS|    A|  9606|  Homo sampiens|          13GS.A|\n",
      "| 13GS|    B|  9606|  Homo sampiens|          13GS.B|\n",
      "| 14GS|    A|  9606|  Homo sampiens|          14GS.A|\n",
      "| 14GS|    B|  9606|  Homo sampiens|          14GS.B|\n",
      "| 16GS|    A|  9606|  Homo sampiens|          16GS.A|\n",
      "| 16GS|    B|  9606|  Homo sampiens|          16GS.B|\n",
      "| 17GS|    A|  9606|  Homo sampiens|          17GS.A|\n",
      "| 17GS|    B|  9606|  Homo sampiens|          17GS.B|\n",
      "| 18GS|    A|  9606|  Homo sampiens|          18GS.A|\n",
      "| 18GS|    B|  9606|  Homo sampiens|          18GS.B|\n",
      "| 19GS|    A|  9606|  Homo sampiens|          19GS.A|\n",
      "| 19GS|    B|  9606|  Homo sampiens|          19GS.B|\n",
      "| 1A07|    A|  9606|  Homo sampiens|          1A07.A|\n",
      "+-----+-----+------+---------------+----------------+\n",
      "only showing top 20 rows\n",
      "\n"
     ]
    },
    {
     "data": {
      "text/plain": [
       "24478"
      ]
     },
     "execution_count": 10,
     "metadata": {},
     "output_type": "execute_result"
    }
   ],
   "source": [
    "human_complexes = taxonomy.join(complexes, taxonomy.pdbid == complexes.structureId).drop(\"structureId\").cache()\n",
    "human_complexes.show()\n",
    "human_complexes.count()"
   ]
  },
  {
   "cell_type": "markdown",
   "metadata": {},
   "source": [
    "## Get list of chain ids with UniProt Id mappings"
   ]
  },
  {
   "cell_type": "code",
   "execution_count": 11,
   "metadata": {
    "scrolled": false
   },
   "outputs": [],
   "source": [
    "uniprotQuery = \"SELECT * FROM sifts.pdb_chain_uniprot\"\n",
    "uniprot = pdbjMineDataset.get_dataset(uniprotQuery)\n",
    "uniprot = uniprot.select(\"structureChainId\", \"sp_primary\").withColumnRenamed(\"structureChainId\", \"id\")"
   ]
  },
  {
   "cell_type": "markdown",
   "metadata": {},
   "source": [
    "## Join dataset with the UniProt ids"
   ]
  },
  {
   "cell_type": "code",
   "execution_count": 12,
   "metadata": {},
   "outputs": [],
   "source": [
    "human_complexes = human_complexes.join(uniprot, human_complexes.structureChainId == uniprot.id).drop(\"id\").cache()"
   ]
  },
  {
   "cell_type": "code",
   "execution_count": 13,
   "metadata": {
    "scrolled": true
   },
   "outputs": [
    {
     "name": "stdout",
     "output_type": "stream",
     "text": [
      "+-----+-----+------+---------------+----------------+----------+\n",
      "|pdbid|chain|tax_id|scientific_name|structureChainId|sp_primary|\n",
      "+-----+-----+------+---------------+----------------+----------+\n",
      "| 10GS|    A|  9606|  Homo sampiens|          10GS.A|    P09211|\n",
      "| 10GS|    B|  9606|  Homo sampiens|          10GS.B|    P09211|\n",
      "| 11GS|    A|  9606|  Homo sampiens|          11GS.A|    P09211|\n",
      "| 11GS|    B|  9606|  Homo sampiens|          11GS.B|    P09211|\n",
      "| 121P|    A|  9606|  Homo sampiens|          121P.A|    P01112|\n",
      "| 12GS|    A|  9606|  Homo sampiens|          12GS.A|    P09211|\n",
      "| 12GS|    B|  9606|  Homo sampiens|          12GS.B|    P09211|\n",
      "| 13GS|    A|  9606|  Homo sampiens|          13GS.A|    P09211|\n",
      "| 13GS|    B|  9606|  Homo sampiens|          13GS.B|    P09211|\n",
      "| 14GS|    A|  9606|  Homo sampiens|          14GS.A|    P09211|\n",
      "| 14GS|    B|  9606|  Homo sampiens|          14GS.B|    P09211|\n",
      "| 16GS|    A|  9606|  Homo sampiens|          16GS.A|    P09211|\n",
      "| 16GS|    B|  9606|  Homo sampiens|          16GS.B|    P09211|\n",
      "| 17GS|    A|  9606|  Homo sampiens|          17GS.A|    P09211|\n",
      "| 17GS|    B|  9606|  Homo sampiens|          17GS.B|    P09211|\n",
      "| 18GS|    A|  9606|  Homo sampiens|          18GS.A|    P09211|\n",
      "| 18GS|    B|  9606|  Homo sampiens|          18GS.B|    P09211|\n",
      "| 19GS|    A|  9606|  Homo sampiens|          19GS.A|    P09211|\n",
      "| 19GS|    B|  9606|  Homo sampiens|          19GS.B|    P09211|\n",
      "| 1A07|    A|  9606|  Homo sampiens|          1A07.A|    P12931|\n",
      "+-----+-----+------+---------------+----------------+----------+\n",
      "only showing top 20 rows\n",
      "\n"
     ]
    },
    {
     "data": {
      "text/plain": [
       "2336"
      ]
     },
     "execution_count": 13,
     "metadata": {},
     "output_type": "execute_result"
    }
   ],
   "source": [
    "human_complexes.show()\n",
    "human_complexes.select(\"sp_primary\").distinct().count()"
   ]
  },
  {
   "cell_type": "markdown",
   "metadata": {},
   "source": [
    "## Save unique list of uniProt Ids involved in PDB complexes"
   ]
  },
  {
   "cell_type": "code",
   "execution_count": 14,
   "metadata": {},
   "outputs": [],
   "source": [
    "human_complexes.select(\"sp_primary\").distinct().toPandas().to_csv(\"../../data/\" + complexType + \".csv\")"
   ]
  },
  {
   "cell_type": "code",
   "execution_count": 15,
   "metadata": {},
   "outputs": [],
   "source": [
    "spark.stop()"
   ]
  },
  {
   "cell_type": "code",
   "execution_count": null,
   "metadata": {},
   "outputs": [],
   "source": []
  }
 ],
 "metadata": {
  "kernelspec": {
   "display_name": "Python 3",
   "language": "python",
   "name": "python3"
  },
  "language_info": {
   "codemirror_mode": {
    "name": "ipython",
    "version": 3
   },
   "file_extension": ".py",
   "mimetype": "text/x-python",
   "name": "python",
   "nbconvert_exporter": "python",
   "pygments_lexer": "ipython3",
   "version": "3.6.3"
  }
 },
 "nbformat": 4,
 "nbformat_minor": 2
}

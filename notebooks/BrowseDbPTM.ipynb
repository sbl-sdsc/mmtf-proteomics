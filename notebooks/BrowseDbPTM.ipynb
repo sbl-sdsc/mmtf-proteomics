{
 "cells": [
  {
   "cell_type": "markdown",
   "metadata": {},
   "source": [
    "## Browse Post-translational Modifications from dbPTM mapped onto 3D Structure\n",
    "\n",
    "Post-translational modifications (PTMs) modulate protein function. By mapping the locations of modified amino acid residues onto 3D protein structures, insights into the effect of PTMs can be obtained.\n",
    "\n",
    "This notebook retrieves about 30 types of PTMs (~900,000 residues) from [dbPTM](http://dbptm.mbc.nctu.edu.tw/) and maps them to 3D Protein Structures from the [Protein Data Bank](https://www.wwpdb.org/).\n",
    "\n",
    "To visualize the results, run the notebook all the way past the spark.stop command.\n",
    "\n",
    "The dataset used in this notebook is a compressed and indexed version of the data from:\n",
    "\n",
    "dbPTM 2016: 10-year anniversary of a resource for post-translational modification of proteins.\n",
    "Huang KY, Su MG, Kao HJ, Hsieh YC, Jhong JH, Cheng KH, Huang HD, Lee TY.\n",
    "Nucleic Acids Res. (2016) 44(D1):D435-46. [doi: 10.1093/nar/gkv1240](https://doi.org/10.1093/nar/gkv1240)."
   ]
  },
  {
   "cell_type": "code",
   "execution_count": 1,
   "metadata": {},
   "outputs": [],
   "source": [
    "from pyspark.sql import Row, SparkSession\n",
    "from pyspark.sql.functions import collect_set, collect_list, col, concat_ws\n",
    "from ipywidgets import interact, IntSlider, widgets\n",
    "from IPython.display import display\n",
    "from mmtfPyspark.datasets import pdbToUniProt, dbPtmDataset\n",
    "import py3Dmol"
   ]
  },
  {
   "cell_type": "code",
   "execution_count": 2,
   "metadata": {},
   "outputs": [],
   "source": [
    "spark = SparkSession.builder.appName(\"BrowseDbPTM\").getOrCreate()"
   ]
  },
  {
   "cell_type": "markdown",
   "metadata": {},
   "source": [
    "## Read dbPTM dataset"
   ]
  },
  {
   "cell_type": "code",
   "execution_count": 3,
   "metadata": {},
   "outputs": [
    {
     "name": "stdout",
     "output_type": "stream",
     "text": [
      "Total number of PTMs: 906354\n"
     ]
    },
    {
     "data": {
      "text/html": [
       "<div>\n",
       "<style scoped>\n",
       "    .dataframe tbody tr th:only-of-type {\n",
       "        vertical-align: middle;\n",
       "    }\n",
       "\n",
       "    .dataframe tbody tr th {\n",
       "        vertical-align: top;\n",
       "    }\n",
       "\n",
       "    .dataframe thead th {\n",
       "        text-align: right;\n",
       "    }\n",
       "</style>\n",
       "<table border=\"1\" class=\"dataframe\">\n",
       "  <thead>\n",
       "    <tr style=\"text-align: right;\">\n",
       "      <th></th>\n",
       "      <th>uniProtName</th>\n",
       "      <th>uniProtId</th>\n",
       "      <th>uniProtSeqNum</th>\n",
       "      <th>ptmType</th>\n",
       "      <th>pubMedIds</th>\n",
       "      <th>sequenceSegment</th>\n",
       "    </tr>\n",
       "  </thead>\n",
       "  <tbody>\n",
       "    <tr>\n",
       "      <th>0</th>\n",
       "      <td>14310_ARATH</td>\n",
       "      <td>P48347</td>\n",
       "      <td>209</td>\n",
       "      <td>Phosphorylation</td>\n",
       "      <td>[23328941, 23572148]</td>\n",
       "      <td>AFDDAIAELDSLNEESYKDST</td>\n",
       "    </tr>\n",
       "    <tr>\n",
       "      <th>1</th>\n",
       "      <td>14310_ARATH</td>\n",
       "      <td>P48347</td>\n",
       "      <td>233</td>\n",
       "      <td>Phosphorylation</td>\n",
       "      <td>[23572148]</td>\n",
       "      <td>QLLRDNLTLWTSDLNEEGDER</td>\n",
       "    </tr>\n",
       "    <tr>\n",
       "      <th>2</th>\n",
       "      <td>14310_ARATH</td>\n",
       "      <td>P48347</td>\n",
       "      <td>234</td>\n",
       "      <td>Phosphorylation</td>\n",
       "      <td>[18463617]</td>\n",
       "      <td>LLRDNLTLWTSDLNEEGDERT</td>\n",
       "    </tr>\n",
       "    <tr>\n",
       "      <th>3</th>\n",
       "      <td>14310_ARATH</td>\n",
       "      <td>P48347</td>\n",
       "      <td>244</td>\n",
       "      <td>Phosphorylation</td>\n",
       "      <td>[23572148, 20466843, 20733066, 24243849, 19880...</td>\n",
       "      <td>SDLNEEGDERTKGADEPQDEN</td>\n",
       "    </tr>\n",
       "    <tr>\n",
       "      <th>4</th>\n",
       "      <td>14312_ARATH</td>\n",
       "      <td>Q9C5W6</td>\n",
       "      <td>41</td>\n",
       "      <td>Phosphorylation</td>\n",
       "      <td>[22631563, 24243849, 19880383]</td>\n",
       "      <td>ETMKKVARVNSELTVEERNLL</td>\n",
       "    </tr>\n",
       "  </tbody>\n",
       "</table>\n",
       "</div>"
      ],
      "text/plain": [
       "   uniProtName uniProtId  uniProtSeqNum          ptmType  \\\n",
       "0  14310_ARATH    P48347            209  Phosphorylation   \n",
       "1  14310_ARATH    P48347            233  Phosphorylation   \n",
       "2  14310_ARATH    P48347            234  Phosphorylation   \n",
       "3  14310_ARATH    P48347            244  Phosphorylation   \n",
       "4  14312_ARATH    Q9C5W6             41  Phosphorylation   \n",
       "\n",
       "                                           pubMedIds        sequenceSegment  \n",
       "0                               [23328941, 23572148]  AFDDAIAELDSLNEESYKDST  \n",
       "1                                         [23572148]  QLLRDNLTLWTSDLNEEGDER  \n",
       "2                                         [18463617]  LLRDNLTLWTSDLNEEGDERT  \n",
       "3  [23572148, 20466843, 20733066, 24243849, 19880...  SDLNEEGDERTKGADEPQDEN  \n",
       "4                     [22631563, 24243849, 19880383]  ETMKKVARVNSELTVEERNLL  "
      ]
     },
     "execution_count": 3,
     "metadata": {},
     "output_type": "execute_result"
    }
   ],
   "source": [
    "db_ptm = dbPtmDataset.get_ptm_dataset()\n",
    "print(\"Total number of PTMs:\", db_ptm.count())\n",
    "db_ptm.limit(5).toPandas()"
   ]
  },
  {
   "cell_type": "markdown",
   "metadata": {},
   "source": [
    "#### Create a unique list of all PTM types and an \"All\" type to represent all PTM types"
   ]
  },
  {
   "cell_type": "code",
   "execution_count": 4,
   "metadata": {},
   "outputs": [],
   "source": [
    "ptm_types = db_ptm.select('ptmType').distinct().sort('ptmType').toPandas()['ptmType'].tolist()\n",
    "ptm_types = ['All'] + ptm_types"
   ]
  },
  {
   "cell_type": "markdown",
   "metadata": {},
   "source": [
    "## Select PTM Type\n",
    "The default is set to N-linked Glycosylation. To rerun this notebook with a different PTM type, rerun this notebook from the top!"
   ]
  },
  {
   "cell_type": "code",
   "execution_count": 5,
   "metadata": {},
   "outputs": [],
   "source": [
    "field = widgets.Dropdown(options=ptm_types,description='Select PTM:',value='N-linked Glycosylation')"
   ]
  },
  {
   "cell_type": "code",
   "execution_count": 6,
   "metadata": {},
   "outputs": [
    {
     "data": {
      "application/vnd.jupyter.widget-view+json": {
       "model_id": "7b363ea7bec449b9a9252bc1b32ef0c9",
       "version_major": 2,
       "version_minor": 0
      },
      "text/plain": [
       "Dropdown(description='Select PTM:', index=15, options=('All', 'Acetylation', 'Amidation', 'C-linked Glycosylat…"
      ]
     },
     "metadata": {},
     "output_type": "display_data"
    }
   ],
   "source": [
    "display(field)"
   ]
  },
  {
   "cell_type": "code",
   "execution_count": 7,
   "metadata": {
    "jupyter": {
     "source_hidden": true
    }
   },
   "outputs": [
    {
     "name": "stdout",
     "output_type": "stream",
     "text": [
      "query: ptmType = 'N-linked Glycosylation'\n",
      "Number of PTMs that match query: 7915\n"
     ]
    }
   ],
   "source": [
    "if field.value == 'All':\n",
    "    df = db_ptm\n",
    "else:\n",
    "    query = \"ptmType = '\" + field.value + \"'\"\n",
    "    print(\"query:\", query)\n",
    "    df = db_ptm.filter(query)\n",
    "    print(\"Number of PTMs that match query:\", df.count())"
   ]
  },
  {
   "cell_type": "markdown",
   "metadata": {},
   "source": [
    "## Get PDB to UniProt Residue Mappings"
   ]
  },
  {
   "cell_type": "markdown",
   "metadata": {},
   "source": [
    "Download PDB to UniProt mappings and filter out residues that were not observed in the 3D structure."
   ]
  },
  {
   "cell_type": "code",
   "execution_count": 8,
   "metadata": {},
   "outputs": [],
   "source": [
    "up = pdbToUniProt.get_cached_residue_mappings().filter(\"pdbResNum IS NOT NULL\")"
   ]
  },
  {
   "cell_type": "markdown",
   "metadata": {},
   "source": [
    "Show some sample data"
   ]
  },
  {
   "cell_type": "code",
   "execution_count": 9,
   "metadata": {},
   "outputs": [
    {
     "name": "stdout",
     "output_type": "stream",
     "text": [
      "Mappings: 98498569\n"
     ]
    },
    {
     "data": {
      "text/html": [
       "<div>\n",
       "<style scoped>\n",
       "    .dataframe tbody tr th:only-of-type {\n",
       "        vertical-align: middle;\n",
       "    }\n",
       "\n",
       "    .dataframe tbody tr th {\n",
       "        vertical-align: top;\n",
       "    }\n",
       "\n",
       "    .dataframe thead th {\n",
       "        text-align: right;\n",
       "    }\n",
       "</style>\n",
       "<table border=\"1\" class=\"dataframe\">\n",
       "  <thead>\n",
       "    <tr style=\"text-align: right;\">\n",
       "      <th></th>\n",
       "      <th>structureChainId</th>\n",
       "      <th>pdbResNum</th>\n",
       "      <th>pdbSeqNum</th>\n",
       "      <th>uniprotId</th>\n",
       "      <th>uniprotNum</th>\n",
       "    </tr>\n",
       "  </thead>\n",
       "  <tbody>\n",
       "    <tr>\n",
       "      <th>0</th>\n",
       "      <td>1R8Y.A</td>\n",
       "      <td>34</td>\n",
       "      <td>34</td>\n",
       "      <td>Q9QXF8</td>\n",
       "      <td>35</td>\n",
       "    </tr>\n",
       "    <tr>\n",
       "      <th>1</th>\n",
       "      <td>5ON6.t</td>\n",
       "      <td>109</td>\n",
       "      <td>108</td>\n",
       "      <td>Q12690</td>\n",
       "      <td>109</td>\n",
       "    </tr>\n",
       "    <tr>\n",
       "      <th>2</th>\n",
       "      <td>4HYH.A</td>\n",
       "      <td>115</td>\n",
       "      <td>115</td>\n",
       "      <td>O14757</td>\n",
       "      <td>115</td>\n",
       "    </tr>\n",
       "    <tr>\n",
       "      <th>3</th>\n",
       "      <td>2FS2.B</td>\n",
       "      <td>92</td>\n",
       "      <td>93</td>\n",
       "      <td>P76084</td>\n",
       "      <td>92</td>\n",
       "    </tr>\n",
       "    <tr>\n",
       "      <th>4</th>\n",
       "      <td>2WRA.A</td>\n",
       "      <td>49</td>\n",
       "      <td>49</td>\n",
       "      <td>B4EH87</td>\n",
       "      <td>50</td>\n",
       "    </tr>\n",
       "  </tbody>\n",
       "</table>\n",
       "</div>"
      ],
      "text/plain": [
       "  structureChainId pdbResNum  pdbSeqNum uniprotId  uniprotNum\n",
       "0           1R8Y.A        34         34    Q9QXF8          35\n",
       "1           5ON6.t       109        108    Q12690         109\n",
       "2           4HYH.A       115        115    O14757         115\n",
       "3           2FS2.B        92         93    P76084          92\n",
       "4           2WRA.A        49         49    B4EH87          50"
      ]
     },
     "execution_count": 9,
     "metadata": {},
     "output_type": "execute_result"
    }
   ],
   "source": [
    "mappings = up.count()\n",
    "print(\"Mappings:\", mappings)\n",
    "up.sample(False, 5/mappings).toPandas().head()"
   ]
  },
  {
   "cell_type": "markdown",
   "metadata": {},
   "source": [
    "Find the intersection between the PTM dataset and PDB to UniProt mappings"
   ]
  },
  {
   "cell_type": "code",
   "execution_count": 10,
   "metadata": {},
   "outputs": [],
   "source": [
    "up = up.withColumnRenamed(\"uniprotId\",\"unpId\")\n",
    "st = up.join(df, (up.unpId == df.uniProtId) & (up.uniprotNum == df.uniProtSeqNum)).drop(\"unpId\")"
   ]
  },
  {
   "cell_type": "markdown",
   "metadata": {},
   "source": [
    "## Aggregate PTM data on a per residue and per chain basis"
   ]
  },
  {
   "cell_type": "code",
   "execution_count": 11,
   "metadata": {},
   "outputs": [],
   "source": [
    "st = st.groupBy(\"structureChainId\",\"pdbResNum\",\"uniProtId\",\"uniProtName\").agg(collect_set(\"ptmType\").alias(\"ptms\"))\n",
    "st = st.withColumn(\"ptms\", concat_ws((\",\"), col(\"ptms\")))\n",
    "st = st.groupBy(\"structureChainId\",\"uniProtId\",\"uniProtName\").agg(collect_list(\"pdbResNum\").alias(\"pdbResNum\"), collect_list(\"ptms\").alias(\"ptms\"))"
   ]
  },
  {
   "cell_type": "markdown",
   "metadata": {},
   "source": [
    "Convert aggregated data to Pandas and display some results"
   ]
  },
  {
   "cell_type": "code",
   "execution_count": 12,
   "metadata": {},
   "outputs": [
    {
     "data": {
      "text/html": [
       "<div>\n",
       "<style scoped>\n",
       "    .dataframe tbody tr th:only-of-type {\n",
       "        vertical-align: middle;\n",
       "    }\n",
       "\n",
       "    .dataframe tbody tr th {\n",
       "        vertical-align: top;\n",
       "    }\n",
       "\n",
       "    .dataframe thead th {\n",
       "        text-align: right;\n",
       "    }\n",
       "</style>\n",
       "<table border=\"1\" class=\"dataframe\">\n",
       "  <thead>\n",
       "    <tr style=\"text-align: right;\">\n",
       "      <th></th>\n",
       "      <th>structureChainId</th>\n",
       "      <th>uniProtId</th>\n",
       "      <th>uniProtName</th>\n",
       "      <th>pdbResNum</th>\n",
       "      <th>ptms</th>\n",
       "    </tr>\n",
       "  </thead>\n",
       "  <tbody>\n",
       "    <tr>\n",
       "      <th>0</th>\n",
       "      <td>4WJL.B</td>\n",
       "      <td>Q8N608</td>\n",
       "      <td>DPP10_HUMAN</td>\n",
       "      <td>[748, 90, 119, 342, 257, 111]</td>\n",
       "      <td>[N-linked Glycosylation, N-linked Glycosylatio...</td>\n",
       "    </tr>\n",
       "    <tr>\n",
       "      <th>1</th>\n",
       "      <td>1XKU.A</td>\n",
       "      <td>P21793</td>\n",
       "      <td>PGS2_BOVIN</td>\n",
       "      <td>[274, 182, 233]</td>\n",
       "      <td>[N-linked Glycosylation, N-linked Glycosylatio...</td>\n",
       "    </tr>\n",
       "    <tr>\n",
       "      <th>2</th>\n",
       "      <td>2Q7N.B</td>\n",
       "      <td>P15018</td>\n",
       "      <td>LIF_HUMAN</td>\n",
       "      <td>[34, 116, 96, 73, 9, 63]</td>\n",
       "      <td>[N-linked Glycosylation, N-linked Glycosylatio...</td>\n",
       "    </tr>\n",
       "    <tr>\n",
       "      <th>3</th>\n",
       "      <td>1E4M.M</td>\n",
       "      <td>P29736</td>\n",
       "      <td>MYRA_SINAL</td>\n",
       "      <td>[482, 361, 346, 244, 60, 292, 343, 90, 265, 21...</td>\n",
       "      <td>[N-linked Glycosylation, N-linked Glycosylatio...</td>\n",
       "    </tr>\n",
       "    <tr>\n",
       "      <th>4</th>\n",
       "      <td>3Q7D.A</td>\n",
       "      <td>Q05769</td>\n",
       "      <td>PGH2_MOUSE</td>\n",
       "      <td>[68, 144, 410]</td>\n",
       "      <td>[N-linked Glycosylation, N-linked Glycosylatio...</td>\n",
       "    </tr>\n",
       "  </tbody>\n",
       "</table>\n",
       "</div>"
      ],
      "text/plain": [
       "  structureChainId uniProtId  uniProtName  \\\n",
       "0           4WJL.B    Q8N608  DPP10_HUMAN   \n",
       "1           1XKU.A    P21793   PGS2_BOVIN   \n",
       "2           2Q7N.B    P15018    LIF_HUMAN   \n",
       "3           1E4M.M    P29736   MYRA_SINAL   \n",
       "4           3Q7D.A    Q05769   PGH2_MOUSE   \n",
       "\n",
       "                                           pdbResNum  \\\n",
       "0                      [748, 90, 119, 342, 257, 111]   \n",
       "1                                    [274, 182, 233]   \n",
       "2                           [34, 116, 96, 73, 9, 63]   \n",
       "3  [482, 361, 346, 244, 60, 292, 343, 90, 265, 21...   \n",
       "4                                     [68, 144, 410]   \n",
       "\n",
       "                                                ptms  \n",
       "0  [N-linked Glycosylation, N-linked Glycosylatio...  \n",
       "1  [N-linked Glycosylation, N-linked Glycosylatio...  \n",
       "2  [N-linked Glycosylation, N-linked Glycosylatio...  \n",
       "3  [N-linked Glycosylation, N-linked Glycosylatio...  \n",
       "4  [N-linked Glycosylation, N-linked Glycosylatio...  "
      ]
     },
     "execution_count": 12,
     "metadata": {},
     "output_type": "execute_result"
    }
   ],
   "source": [
    "pst = st.toPandas()\n",
    "pst.head()"
   ]
  },
  {
   "cell_type": "markdown",
   "metadata": {},
   "source": [
    "Setup custom visualization"
   ]
  },
  {
   "cell_type": "code",
   "execution_count": 13,
   "metadata": {
    "jupyter": {
     "source_hidden": true
    }
   },
   "outputs": [],
   "source": [
    "def view_modifications(df, cutoff_distance, *args):\n",
    "\n",
    "    def view3d(show_labels=True,show_bio_assembly=False, show_surface=False, i=0):\n",
    "        pdb_id, chain_id = df.iloc[i]['structureChainId'].split('.')\n",
    "        res_num = df.iloc[i]['pdbResNum']\n",
    "        labels = df.iloc[i]['ptms']\n",
    "        \n",
    "        # print header\n",
    "        print (\"PDB Id: \" + pdb_id + \" chain Id: \" + chain_id)\n",
    "        \n",
    "        # print any specified additional columns from the dataframe\n",
    "        for a in args:\n",
    "            print(a + \": \" + df.iloc[i][a])\n",
    "        \n",
    "        mod_res = {'chain': chain_id, 'resi': res_num}  \n",
    "        \n",
    "        # select neigboring residues by distance\n",
    "        surroundings = {'chain': chain_id, 'resi': res_num, 'byres': True, 'expand': cutoff_distance}\n",
    "        \n",
    "        viewer = py3Dmol.view(query='pdb:' + pdb_id, options={'doAssembly': show_bio_assembly})\n",
    "    \n",
    "        # polymer style\n",
    "        viewer.setStyle({'cartoon': {'color': 'spectrum', 'width': 0.6, 'opacity':0.8}})\n",
    "        # non-polymer style\n",
    "        viewer.setStyle({'hetflag': True}, {'stick':{'radius': 0.3, 'singleBond': False}})\n",
    "        \n",
    "        # style for modifications\n",
    "        viewer.addStyle(surroundings,{'stick':{'colorscheme':'orangeCarbon', 'radius': 0.15}})\n",
    "        viewer.addStyle(mod_res, {'stick':{'colorscheme':'redCarbon', 'radius': 0.4}})\n",
    "        viewer.addStyle(mod_res, {'sphere':{'colorscheme':'gray', 'opacity': 0.7}})\n",
    "        \n",
    "        # set residue labels    \n",
    "        if show_labels:\n",
    "            for residue, label in zip(res_num, labels):\n",
    "                viewer.addLabel(residue + \": \" + label, \\\n",
    "                                {'fontColor':'black', 'fontSize': 8, 'backgroundColor': 'lightgray'}, \\\n",
    "                                {'chain': chain_id, 'resi': residue})\n",
    "\n",
    "        viewer.zoomTo(surroundings)\n",
    "        \n",
    "        if show_surface:\n",
    "            viewer.addSurface(py3Dmol.SES,{'opacity':0.8,'color':'lightblue'})\n",
    "\n",
    "        return viewer.show()\n",
    "       \n",
    "    s_widget = IntSlider(min=0, max=len(df)-1, description='Structure', continuous_update=False)\n",
    "    \n",
    "    return interact(view3d, show_labels=True, show_bio_assembly=False, show_surface=False, i=s_widget)"
   ]
  },
  {
   "cell_type": "markdown",
   "metadata": {},
   "source": [
    "## Visualize Results\n",
    "Residues with reported modifications are shown in an all atom prepresentation as red sticks with transparent spheres. Each modified residue position is labeled by the PDB residue number and the type of the modification. Residues surrounding modified residue (within 6 A) are renderedas as thin orange sticks. Small molecules within the structure are rendered as gray sticks."
   ]
  },
  {
   "cell_type": "code",
   "execution_count": 14,
   "metadata": {},
   "outputs": [
    {
     "name": "stdout",
     "output_type": "stream",
     "text": [
      "PDB Id: 4WJL chain Id: B\n",
      "uniProtId: Q8N608\n",
      "uniProtName: DPP10_HUMAN\n"
     ]
    },
    {
     "data": {
      "application/3dmoljs_load.v0": "<div id=\"3dmolviewer_15793033584503438\"  style=\"position: relative; width: 640px; height: 480px\">\n        <p id=\"3dmolwarning_15793033584503438\" style=\"background-color:#ffcccc;color:black\">You appear to be running in JupyterLab (or JavaScript failed to load for some other reason).  You need to install the 3dmol extension: <br>\n        <tt>jupyter labextension install jupyterlab_3dmol</tt></p>\n        </div>\n<script>\n\nvar loadScriptAsync = function(uri){\n  return new Promise((resolve, reject) => {\n    var tag = document.createElement('script');\n    tag.src = uri;\n    tag.async = true;\n    tag.onload = () => {\n      resolve();\n    };\n  var firstScriptTag = document.getElementsByTagName('script')[0];\n  firstScriptTag.parentNode.insertBefore(tag, firstScriptTag);\n});\n};\n\nif(typeof $3Dmolpromise === 'undefined') {\n$3Dmolpromise = null;\n  $3Dmolpromise = loadScriptAsync('https://3dmol.csb.pitt.edu/build/3Dmol.js');\n}\n\nvar viewer_15793033584503438 = null;\nvar warn = document.getElementById(\"3dmolwarning_15793033584503438\");\nif(warn) {\n    warn.parentNode.removeChild(warn);\n}\n$3Dmolpromise.then(function() {\nviewer_15793033584503438 = $3Dmol.createViewer($(\"#3dmolviewer_15793033584503438\"),{backgroundColor:\"white\"});\n$3Dmol.download(\"pdb:4WJL\", viewer_15793033584503438, {\"doAssembly\": false}, function() {\n\tviewer_15793033584503438.setStyle({\"cartoon\": {\"color\": \"spectrum\", \"width\": 0.6, \"opacity\": 0.8}});\n\tviewer_15793033584503438.setStyle({\"hetflag\": true},{\"stick\": {\"radius\": 0.3, \"singleBond\": false}});\n\tviewer_15793033584503438.addStyle({\"chain\": \"B\", \"resi\": [\"748\", \"90\", \"119\", \"342\", \"257\", \"111\"], \"byres\": true, \"expand\": 6},{\"stick\": {\"colorscheme\": \"orangeCarbon\", \"radius\": 0.15}});\n\tviewer_15793033584503438.addStyle({\"chain\": \"B\", \"resi\": [\"748\", \"90\", \"119\", \"342\", \"257\", \"111\"]},{\"stick\": {\"colorscheme\": \"redCarbon\", \"radius\": 0.4}});\n\tviewer_15793033584503438.addStyle({\"chain\": \"B\", \"resi\": [\"748\", \"90\", \"119\", \"342\", \"257\", \"111\"]},{\"sphere\": {\"colorscheme\": \"gray\", \"opacity\": 0.7}});\n\tviewer_15793033584503438.addLabel(\"748: N-linked Glycosylation\",{\"fontColor\": \"black\", \"fontSize\": 8, \"backgroundColor\": \"lightgray\"},{\"chain\": \"B\", \"resi\": \"748\"});\n\tviewer_15793033584503438.addLabel(\"90: N-linked Glycosylation\",{\"fontColor\": \"black\", \"fontSize\": 8, \"backgroundColor\": \"lightgray\"},{\"chain\": \"B\", \"resi\": \"90\"});\n\tviewer_15793033584503438.addLabel(\"119: N-linked Glycosylation\",{\"fontColor\": \"black\", \"fontSize\": 8, \"backgroundColor\": \"lightgray\"},{\"chain\": \"B\", \"resi\": \"119\"});\n\tviewer_15793033584503438.addLabel(\"342: N-linked Glycosylation\",{\"fontColor\": \"black\", \"fontSize\": 8, \"backgroundColor\": \"lightgray\"},{\"chain\": \"B\", \"resi\": \"342\"});\n\tviewer_15793033584503438.addLabel(\"257: N-linked Glycosylation\",{\"fontColor\": \"black\", \"fontSize\": 8, \"backgroundColor\": \"lightgray\"},{\"chain\": \"B\", \"resi\": \"257\"});\n\tviewer_15793033584503438.addLabel(\"111: N-linked Glycosylation\",{\"fontColor\": \"black\", \"fontSize\": 8, \"backgroundColor\": \"lightgray\"},{\"chain\": \"B\", \"resi\": \"111\"});\n\tviewer_15793033584503438.zoomTo({\"chain\": \"B\", \"resi\": [\"748\", \"90\", \"119\", \"342\", \"257\", \"111\"], \"byres\": true, \"expand\": 6});\nviewer_15793033584503438.render();\n})\n});\n</script>",
      "text/html": [
       "<div id=\"3dmolviewer_15793033584503438\"  style=\"position: relative; width: 640px; height: 480px\">\n",
       "        <p id=\"3dmolwarning_15793033584503438\" style=\"background-color:#ffcccc;color:black\">You appear to be running in JupyterLab (or JavaScript failed to load for some other reason).  You need to install the 3dmol extension: <br>\n",
       "        <tt>jupyter labextension install jupyterlab_3dmol</tt></p>\n",
       "        </div>\n",
       "<script>\n",
       "\n",
       "var loadScriptAsync = function(uri){\n",
       "  return new Promise((resolve, reject) => {\n",
       "    var tag = document.createElement('script');\n",
       "    tag.src = uri;\n",
       "    tag.async = true;\n",
       "    tag.onload = () => {\n",
       "      resolve();\n",
       "    };\n",
       "  var firstScriptTag = document.getElementsByTagName('script')[0];\n",
       "  firstScriptTag.parentNode.insertBefore(tag, firstScriptTag);\n",
       "});\n",
       "};\n",
       "\n",
       "if(typeof $3Dmolpromise === 'undefined') {\n",
       "$3Dmolpromise = null;\n",
       "  $3Dmolpromise = loadScriptAsync('https://3dmol.csb.pitt.edu/build/3Dmol.js');\n",
       "}\n",
       "\n",
       "var viewer_15793033584503438 = null;\n",
       "var warn = document.getElementById(\"3dmolwarning_15793033584503438\");\n",
       "if(warn) {\n",
       "    warn.parentNode.removeChild(warn);\n",
       "}\n",
       "$3Dmolpromise.then(function() {\n",
       "viewer_15793033584503438 = $3Dmol.createViewer($(\"#3dmolviewer_15793033584503438\"),{backgroundColor:\"white\"});\n",
       "$3Dmol.download(\"pdb:4WJL\", viewer_15793033584503438, {\"doAssembly\": false}, function() {\n",
       "\tviewer_15793033584503438.setStyle({\"cartoon\": {\"color\": \"spectrum\", \"width\": 0.6, \"opacity\": 0.8}});\n",
       "\tviewer_15793033584503438.setStyle({\"hetflag\": true},{\"stick\": {\"radius\": 0.3, \"singleBond\": false}});\n",
       "\tviewer_15793033584503438.addStyle({\"chain\": \"B\", \"resi\": [\"748\", \"90\", \"119\", \"342\", \"257\", \"111\"], \"byres\": true, \"expand\": 6},{\"stick\": {\"colorscheme\": \"orangeCarbon\", \"radius\": 0.15}});\n",
       "\tviewer_15793033584503438.addStyle({\"chain\": \"B\", \"resi\": [\"748\", \"90\", \"119\", \"342\", \"257\", \"111\"]},{\"stick\": {\"colorscheme\": \"redCarbon\", \"radius\": 0.4}});\n",
       "\tviewer_15793033584503438.addStyle({\"chain\": \"B\", \"resi\": [\"748\", \"90\", \"119\", \"342\", \"257\", \"111\"]},{\"sphere\": {\"colorscheme\": \"gray\", \"opacity\": 0.7}});\n",
       "\tviewer_15793033584503438.addLabel(\"748: N-linked Glycosylation\",{\"fontColor\": \"black\", \"fontSize\": 8, \"backgroundColor\": \"lightgray\"},{\"chain\": \"B\", \"resi\": \"748\"});\n",
       "\tviewer_15793033584503438.addLabel(\"90: N-linked Glycosylation\",{\"fontColor\": \"black\", \"fontSize\": 8, \"backgroundColor\": \"lightgray\"},{\"chain\": \"B\", \"resi\": \"90\"});\n",
       "\tviewer_15793033584503438.addLabel(\"119: N-linked Glycosylation\",{\"fontColor\": \"black\", \"fontSize\": 8, \"backgroundColor\": \"lightgray\"},{\"chain\": \"B\", \"resi\": \"119\"});\n",
       "\tviewer_15793033584503438.addLabel(\"342: N-linked Glycosylation\",{\"fontColor\": \"black\", \"fontSize\": 8, \"backgroundColor\": \"lightgray\"},{\"chain\": \"B\", \"resi\": \"342\"});\n",
       "\tviewer_15793033584503438.addLabel(\"257: N-linked Glycosylation\",{\"fontColor\": \"black\", \"fontSize\": 8, \"backgroundColor\": \"lightgray\"},{\"chain\": \"B\", \"resi\": \"257\"});\n",
       "\tviewer_15793033584503438.addLabel(\"111: N-linked Glycosylation\",{\"fontColor\": \"black\", \"fontSize\": 8, \"backgroundColor\": \"lightgray\"},{\"chain\": \"B\", \"resi\": \"111\"});\n",
       "\tviewer_15793033584503438.zoomTo({\"chain\": \"B\", \"resi\": [\"748\", \"90\", \"119\", \"342\", \"257\", \"111\"], \"byres\": true, \"expand\": 6});\n",
       "viewer_15793033584503438.render();\n",
       "})\n",
       "});\n",
       "</script>"
      ]
     },
     "metadata": {},
     "output_type": "display_data"
    }
   ],
   "source": [
    "view_modifications(pst, 6, 'uniProtId', 'uniProtName');"
   ]
  },
  {
   "cell_type": "markdown",
   "metadata": {},
   "source": [
    "Most PTMs occur at the protein surface. To visualize the surface, check the show_surface checkbox above."
   ]
  },
  {
   "cell_type": "code",
   "execution_count": 15,
   "metadata": {},
   "outputs": [],
   "source": [
    "spark.stop()"
   ]
  }
 ],
 "metadata": {
  "kernelspec": {
   "display_name": "Python 3",
   "language": "python",
   "name": "python3"
  },
  "language_info": {
   "codemirror_mode": {
    "name": "ipython",
    "version": 3
   },
   "file_extension": ".py",
   "mimetype": "text/x-python",
   "name": "python",
   "nbconvert_exporter": "python",
   "pygments_lexer": "ipython3",
   "version": "3.7.3"
  }
 },
 "nbformat": 4,
 "nbformat_minor": 4
}

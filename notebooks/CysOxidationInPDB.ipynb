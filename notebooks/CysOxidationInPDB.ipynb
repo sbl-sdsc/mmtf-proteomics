{
 "cells": [
  {
   "cell_type": "markdown",
   "metadata": {},
   "source": [
    "# Cysteine Oxidative PTMs in 3D Protein Structures.\n",
    "\n",
    "Under oxidative stress Cysteines can undergo oxidative post-translational modifications (PTMs). \n",
    "\n",
    "This notebook retrieves oxidized forms of L-cysteine in the PDB using the [PSI-MOD Ontology](https://www.ebi.ac.uk/ols/ontologies/mod)\n",
    "* [MOD:00210](https://www.ebi.ac.uk/ols/ontologies/mod/terms?iri=http%3A%2F%2Fpurl.obolibrary.org%2Fobo%2FMOD_00210) - oxydation to L-cysteine sulfenic acid (RSOH)\n",
    "* [MOD:00267](https://www.ebi.ac.uk/ols/ontologies/mod/terms?iri=http%3A%2F%2Fpurl.obolibrary.org%2Fobo%2FMOD_00267) - oxydation to L-cysteine sulfinic acid (RSO2H)\n",
    "* [MOD:00460](https://www.ebi.ac.uk/ols/ontologies/mod/terms?iri=http%3A%2F%2Fpurl.obolibrary.org%2Fobo%2FMOD_00460) - oxydation to L-cysteine sulfonic acid (RSO3H)\n",
    "\n",
    "\n",
    "PTMs in the PDB are identified with BioJava-ModFinder:\n",
    "\n",
    "BioJava-ModFinder: identification of protein modifications in 3D structures from the Protein Data Bank. Gao J, Prlić A,  Bi C  Bluhm WF, Dimitropoulos D, Xu D  Bourne, PE, Rose PW, Bioinformatics 2017, 33: 2047–2049. [doi: doi.org/10.1093/bioinformatics/btx101](https://doi.org/10.1093/bioinformatics/btx101)"
   ]
  },
  {
   "cell_type": "code",
   "execution_count": 1,
   "metadata": {
    "code_folding": [
     0
    ]
   },
   "outputs": [],
   "source": [
    "import pandas as pd\n",
    "import numpy as np\n",
    "from io import BytesIO\n",
    "import xlrd\n",
    "from ipywidgets import interact, IntSlider, widgets\n",
    "import py3Dmol\n",
    "from pyspark.sql import SparkSession\n",
    "from pyspark.sql.functions import asc, collect_set, collect_list, col, concat_ws, sort_array\n",
    "from mmtfPyspark.datasets import pdbToUniProt, pdbPtmDataset"
   ]
  },
  {
   "cell_type": "markdown",
   "metadata": {},
   "source": [
    "Retrieve oxidized forms of L-cysteine in the PDB using a query by the [PSI-MOD Ontology](https://www.ebi.ac.uk/ols/ontologies/mod)\n",
    "* [MOD:00210](https://www.ebi.ac.uk/ols/ontologies/mod/terms?iri=http%3A%2F%2Fpurl.obolibrary.org%2Fobo%2FMOD_00210) - oxydation to L-cysteine sulfenic acid (RSOH)\n",
    "* [MOD:00267](https://www.ebi.ac.uk/ols/ontologies/mod/terms?iri=http%3A%2F%2Fpurl.obolibrary.org%2Fobo%2FMOD_00267) - oxydation to L-cysteine sulfinic acid (RSO2H)\n",
    "* [MOD:00460](https://www.ebi.ac.uk/ols/ontologies/mod/terms?iri=http%3A%2F%2Fpurl.obolibrary.org%2Fobo%2FMOD_00460) - oxydation to L-cysteine sulfonic acid (RSO3H)"
   ]
  },
  {
   "cell_type": "markdown",
   "metadata": {},
   "source": [
    "## Summary of oxidized Cysteines in the PDB"
   ]
  },
  {
   "cell_type": "code",
   "execution_count": 2,
   "metadata": {
    "code_folding": []
   },
   "outputs": [
    {
     "name": "stdout",
     "output_type": "stream",
     "text": [
      "Total number of oxidized cysteines in PDB:  4046\n",
      "   L-cysteine sulfenic acid (RSOH) : 1817\n",
      "   L-cysteine sulfinic acid (RSO2H): 1710\n",
      "   L-cysteine sulfonic acid (RSO3H): 519\n"
     ]
    }
   ],
   "source": [
    "# get PTM data\n",
    "spark = SparkSession.builder.appName(\"CysOxydationInPdb\").getOrCreate()\n",
    "pt = pdbPtmDataset.get_ptm_dataset()\n",
    "pt = pt.filter(\"psimodId = 'MOD:00210' OR psimodId = 'MOD:00267' OR psimodId = 'MOD:00460'\")\n",
    "print(\"Total number of oxidized cysteines in PDB: \", pt.count())\n",
    "print(\"   L-cysteine sulfenic acid (RSOH) :\", pt.filter(\"psimodId = 'MOD:00210'\").count())\n",
    "print(\"   L-cysteine sulfinic acid (RSO2H):\", pt.filter(\"psimodId = 'MOD:00267'\").count())\n",
    "print(\"   L-cysteine sulfonic acid (RSO3H):\", pt.filter(\"psimodId = 'MOD:00460'\").count())                                                 "
   ]
  },
  {
   "cell_type": "markdown",
   "metadata": {},
   "source": [
    "## Table of oxidized Cysteines in the PDB"
   ]
  },
  {
   "cell_type": "code",
   "execution_count": 3,
   "metadata": {
    "scrolled": true
   },
   "outputs": [
    {
     "data": {
      "text/html": [
       "<div>\n",
       "<style scoped>\n",
       "    .dataframe tbody tr th:only-of-type {\n",
       "        vertical-align: middle;\n",
       "    }\n",
       "\n",
       "    .dataframe tbody tr th {\n",
       "        vertical-align: top;\n",
       "    }\n",
       "\n",
       "    .dataframe thead th {\n",
       "        text-align: right;\n",
       "    }\n",
       "</style>\n",
       "<table border=\"1\" class=\"dataframe\">\n",
       "  <thead>\n",
       "    <tr style=\"text-align: right;\">\n",
       "      <th></th>\n",
       "      <th>pdbChainId</th>\n",
       "      <th>pdbResNum</th>\n",
       "      <th>residue</th>\n",
       "      <th>psimodId</th>\n",
       "      <th>residId</th>\n",
       "      <th>ccId</th>\n",
       "      <th>category</th>\n",
       "      <th>modificationId</th>\n",
       "    </tr>\n",
       "  </thead>\n",
       "  <tbody>\n",
       "    <tr>\n",
       "      <th>0</th>\n",
       "      <td>1ACD.A</td>\n",
       "      <td>117</td>\n",
       "      <td>CSD</td>\n",
       "      <td>MOD:00267</td>\n",
       "      <td>AA0262</td>\n",
       "      <td>CSD</td>\n",
       "      <td>modified residue</td>\n",
       "      <td>119</td>\n",
       "    </tr>\n",
       "    <tr>\n",
       "      <th>1</th>\n",
       "      <td>1ACD.A</td>\n",
       "      <td>117</td>\n",
       "      <td>CSD</td>\n",
       "      <td>MOD:00267</td>\n",
       "      <td>AA0262</td>\n",
       "      <td>CSD</td>\n",
       "      <td>modified residue</td>\n",
       "      <td>120</td>\n",
       "    </tr>\n",
       "    <tr>\n",
       "      <th>2</th>\n",
       "      <td>1BI5.A</td>\n",
       "      <td>164</td>\n",
       "      <td>CSD</td>\n",
       "      <td>MOD:00267</td>\n",
       "      <td>AA0262</td>\n",
       "      <td>CSD</td>\n",
       "      <td>modified residue</td>\n",
       "      <td>119</td>\n",
       "    </tr>\n",
       "    <tr>\n",
       "      <th>3</th>\n",
       "      <td>1BI5.A</td>\n",
       "      <td>164</td>\n",
       "      <td>CSD</td>\n",
       "      <td>MOD:00267</td>\n",
       "      <td>AA0262</td>\n",
       "      <td>CSD</td>\n",
       "      <td>modified residue</td>\n",
       "      <td>120</td>\n",
       "    </tr>\n",
       "    <tr>\n",
       "      <th>4</th>\n",
       "      <td>1BQ6.A</td>\n",
       "      <td>164</td>\n",
       "      <td>CSD</td>\n",
       "      <td>MOD:00267</td>\n",
       "      <td>AA0262</td>\n",
       "      <td>CSD</td>\n",
       "      <td>modified residue</td>\n",
       "      <td>119</td>\n",
       "    </tr>\n",
       "  </tbody>\n",
       "</table>\n",
       "</div>"
      ],
      "text/plain": [
       "  pdbChainId pdbResNum residue   psimodId residId ccId          category  \\\n",
       "0     1ACD.A       117     CSD  MOD:00267  AA0262  CSD  modified residue   \n",
       "1     1ACD.A       117     CSD  MOD:00267  AA0262  CSD  modified residue   \n",
       "2     1BI5.A       164     CSD  MOD:00267  AA0262  CSD  modified residue   \n",
       "3     1BI5.A       164     CSD  MOD:00267  AA0262  CSD  modified residue   \n",
       "4     1BQ6.A       164     CSD  MOD:00267  AA0262  CSD  modified residue   \n",
       "\n",
       "   modificationId  \n",
       "0             119  \n",
       "1             120  \n",
       "2             119  \n",
       "3             120  \n",
       "4             119  "
      ]
     },
     "execution_count": 3,
     "metadata": {},
     "output_type": "execute_result"
    }
   ],
   "source": [
    "pd.options.display.max_rows = None # show all rows\n",
    "pt.limit(5).toPandas()"
   ]
  },
  {
   "cell_type": "markdown",
   "metadata": {},
   "source": [
    "Download PDB to UniProt mappings and filter out residues that were not observed in the 3D structure."
   ]
  },
  {
   "cell_type": "code",
   "execution_count": 4,
   "metadata": {},
   "outputs": [],
   "source": [
    "up = pdbToUniProt.get_cached_residue_mappings().filter(\"pdbResNum IS NOT NULL\")"
   ]
  },
  {
   "cell_type": "markdown",
   "metadata": {},
   "source": [
    "Joint PTM data with UniProt data if the UniProt Id and UniProt residue numbers match"
   ]
  },
  {
   "cell_type": "code",
   "execution_count": 5,
   "metadata": {
    "code_folding": []
   },
   "outputs": [],
   "source": [
    "# join datasets\n",
    "pt = pt.withColumnRenamed(\"pdbResNum\", \"resNum\") # avoid two columns with identical names\n",
    "pt = pt.withColumnRenamed(\"psimodId\", \"ptms\")\n",
    "st = up.join(pt, (up.pdbResNum == pt.resNum) & (up.structureChainId == pt.pdbChainId))\n",
    "st = st.sort(st.uniprotId, st.uniprotNum)"
   ]
  },
  {
   "cell_type": "markdown",
   "metadata": {},
   "source": [
    "## Aggregate PTM data on a per residue and per chain basis"
   ]
  },
  {
   "cell_type": "code",
   "execution_count": 6,
   "metadata": {
    "code_folding": []
   },
   "outputs": [],
   "source": [
    "# Aggregate data\n",
    "st = st.groupBy(\"structureChainId\",\"pdbResNum\",\"uniprotId\",\"uniprotNum\").agg(collect_set(\"ptms\").alias(\"ptms\"))\n",
    "st = st.withColumn(\"ptms\", concat_ws((\",\"), col(\"ptms\")))\n",
    "st = st.groupBy(\"structureChainId\",\"uniprotId\").agg(collect_list(\"ptms\").alias(\"ptms\"), collect_list(\"pdbResNum\").alias(\"pdbResNum\"),  collect_list(\"uniprotNum\").alias(\"uniprotNum\"))"
   ]
  },
  {
   "cell_type": "markdown",
   "metadata": {
    "code_folding": []
   },
   "source": [
    "Keep only a single structural representative"
   ]
  },
  {
   "cell_type": "code",
   "execution_count": 7,
   "metadata": {},
   "outputs": [],
   "source": [
    "st = st.drop_duplicates([\"uniprotId\",\"uniprotNum\"])"
   ]
  },
  {
   "cell_type": "markdown",
   "metadata": {},
   "source": [
    "## Show Table with PDB mappings"
   ]
  },
  {
   "cell_type": "markdown",
   "metadata": {},
   "source": [
    "PDB residue numbers do not always match UniProt residue numbers. The table below shows the mapping for each protein chain."
   ]
  },
  {
   "cell_type": "code",
   "execution_count": 8,
   "metadata": {
    "code_folding": [
     0
    ]
   },
   "outputs": [
    {
     "data": {
      "text/html": [
       "<div>\n",
       "<style scoped>\n",
       "    .dataframe tbody tr th:only-of-type {\n",
       "        vertical-align: middle;\n",
       "    }\n",
       "\n",
       "    .dataframe tbody tr th {\n",
       "        vertical-align: top;\n",
       "    }\n",
       "\n",
       "    .dataframe thead th {\n",
       "        text-align: right;\n",
       "    }\n",
       "</style>\n",
       "<table border=\"1\" class=\"dataframe\">\n",
       "  <thead>\n",
       "    <tr style=\"text-align: right;\">\n",
       "      <th></th>\n",
       "      <th>structureChainId</th>\n",
       "      <th>uniprotId</th>\n",
       "      <th>ptms</th>\n",
       "      <th>pdbResNum</th>\n",
       "      <th>uniprotNum</th>\n",
       "    </tr>\n",
       "  </thead>\n",
       "  <tbody>\n",
       "    <tr>\n",
       "      <th>0</th>\n",
       "      <td>1MJB.A</td>\n",
       "      <td>Q08649</td>\n",
       "      <td>[MOD:00210]</td>\n",
       "      <td>[304]</td>\n",
       "      <td>[304]</td>\n",
       "    </tr>\n",
       "    <tr>\n",
       "      <th>1</th>\n",
       "      <td>4YKG.A</td>\n",
       "      <td>P35340</td>\n",
       "      <td>[MOD:00267]</td>\n",
       "      <td>[345]</td>\n",
       "      <td>[345]</td>\n",
       "    </tr>\n",
       "    <tr>\n",
       "      <th>2</th>\n",
       "      <td>2ID4.A</td>\n",
       "      <td>P13134</td>\n",
       "      <td>[MOD:00210]</td>\n",
       "      <td>[190]</td>\n",
       "      <td>[190]</td>\n",
       "    </tr>\n",
       "    <tr>\n",
       "      <th>3</th>\n",
       "      <td>2VH3.B</td>\n",
       "      <td>P85511</td>\n",
       "      <td>[MOD:00210]</td>\n",
       "      <td>[65]</td>\n",
       "      <td>[65]</td>\n",
       "    </tr>\n",
       "    <tr>\n",
       "      <th>4</th>\n",
       "      <td>4IZJ.D</td>\n",
       "      <td>P89521</td>\n",
       "      <td>[MOD:00210]</td>\n",
       "      <td>[669]</td>\n",
       "      <td>[669]</td>\n",
       "    </tr>\n",
       "  </tbody>\n",
       "</table>\n",
       "</div>"
      ],
      "text/plain": [
       "  structureChainId uniprotId         ptms pdbResNum uniprotNum\n",
       "0           1MJB.A    Q08649  [MOD:00210]     [304]      [304]\n",
       "1           4YKG.A    P35340  [MOD:00267]     [345]      [345]\n",
       "2           2ID4.A    P13134  [MOD:00210]     [190]      [190]\n",
       "3           2VH3.B    P85511  [MOD:00210]      [65]       [65]\n",
       "4           4IZJ.D    P89521  [MOD:00210]     [669]      [669]"
      ]
     },
     "execution_count": 8,
     "metadata": {},
     "output_type": "execute_result"
    }
   ],
   "source": [
    "# convert Spark dataframe back to a Pandas dataframe\n",
    "sp = st.toPandas()\n",
    "sp.head()"
   ]
  },
  {
   "cell_type": "code",
   "execution_count": 9,
   "metadata": {
    "code_folding": [
     0
    ],
    "jupyter": {
     "source_hidden": true
    }
   },
   "outputs": [],
   "source": [
    "def view_modifications(df, cutoff_distance, *args):\n",
    "\n",
    "    def view3d(show_labels=True,show_bio_assembly=False, show_surface=False, i=0):\n",
    "        pdb_id, chain_id = df.iloc[i]['structureChainId'].split('.')\n",
    "        res_num = df.iloc[i]['pdbResNum']\n",
    "        labels = df.iloc[i]['ptms']\n",
    "        \n",
    "        # print header\n",
    "        print (\"PDB Id: \" + pdb_id + \" chain Id: \" + chain_id)\n",
    "        \n",
    "        # print any specified additional columns from the dataframe\n",
    "        for a in args:\n",
    "            print(a + \": \" + df.iloc[i][a])\n",
    "        \n",
    "        mod_res = {'chain': chain_id, 'resi': res_num}  \n",
    "        \n",
    "        # select neigboring residues by distance\n",
    "        surroundings = {'chain': chain_id, 'resi': res_num, 'byres': True, 'expand': cutoff_distance}\n",
    "        \n",
    "        viewer = py3Dmol.view(query='pdb:' + pdb_id, options={'doAssembly': show_bio_assembly})\n",
    "    \n",
    "        # polymer style\n",
    "        viewer.setStyle({'cartoon': {'color': 'spectrum', 'width': 0.6, 'opacity':0.8}})\n",
    "        # non-polymer style\n",
    "        viewer.setStyle({'hetflag': True}, {'stick':{'radius': 0.3, 'singleBond': False}})\n",
    "        \n",
    "        # style for modifications\n",
    "        viewer.addStyle(surroundings,{'stick':{'colorscheme':'orangeCarbon', 'radius': 0.15}})\n",
    "        viewer.addStyle(mod_res, {'stick':{'colorscheme':'redCarbon', 'radius': 0.4}})\n",
    "        viewer.addStyle(mod_res, {'sphere':{'colorscheme':'gray', 'opacity': 0.7}})\n",
    "        \n",
    "        # set residue labels    \n",
    "        if show_labels:\n",
    "            for residue, label in zip(res_num, labels):\n",
    "                viewer.addLabel(residue + \": \" + label, \\\n",
    "                                {'fontColor':'black', 'fontSize': 9, 'backgroundColor': 'lightgray'}, \\\n",
    "                                {'chain': chain_id, 'resi': residue})\n",
    "\n",
    "        viewer.zoomTo(surroundings)\n",
    "        \n",
    "        if show_surface:\n",
    "            viewer.addSurface(py3Dmol.SES,{'opacity':0.8,'color':'lightblue'})\n",
    "\n",
    "        return viewer.show()\n",
    "       \n",
    "    s_widget = IntSlider(min=0, max=len(df)-1, description='Structure', continuous_update=False)\n",
    "    \n",
    "    return interact(view3d, show_labels=True, show_bio_assembly=False, show_surface=False, i=s_widget)"
   ]
  },
  {
   "cell_type": "markdown",
   "metadata": {},
   "source": [
    "## Visualize Results\n",
    "Residues with reported modifications are shown in an all atom prepresentation as red sticks with transparent spheres. Each modified residue position is labeled by the PDB residue number and the type of the modification. Residues surrounding modified residue (within 6 A) are highlighted as yellow sticks. Small molecules within the structure are rendered as gray sticks.\n",
    "\n",
    "* Move slider to browse through the results\n",
    "* To rotate the structure, hold down the left mouse button and move the mouse."
   ]
  },
  {
   "cell_type": "code",
   "execution_count": 10,
   "metadata": {},
   "outputs": [
    {
     "name": "stdout",
     "output_type": "stream",
     "text": [
      "PDB Id: 1MJB chain Id: A\n",
      "uniprotId: Q08649\n"
     ]
    },
    {
     "data": {
      "application/3dmoljs_load.v0": "<div id=\"3dmolviewer_1579303767532137\"  style=\"position: relative; width: 640px; height: 480px\">\n        <p id=\"3dmolwarning_1579303767532137\" style=\"background-color:#ffcccc;color:black\">You appear to be running in JupyterLab (or JavaScript failed to load for some other reason).  You need to install the 3dmol extension: <br>\n        <tt>jupyter labextension install jupyterlab_3dmol</tt></p>\n        </div>\n<script>\n\nvar loadScriptAsync = function(uri){\n  return new Promise((resolve, reject) => {\n    var tag = document.createElement('script');\n    tag.src = uri;\n    tag.async = true;\n    tag.onload = () => {\n      resolve();\n    };\n  var firstScriptTag = document.getElementsByTagName('script')[0];\n  firstScriptTag.parentNode.insertBefore(tag, firstScriptTag);\n});\n};\n\nif(typeof $3Dmolpromise === 'undefined') {\n$3Dmolpromise = null;\n  $3Dmolpromise = loadScriptAsync('https://3dmol.csb.pitt.edu/build/3Dmol.js');\n}\n\nvar viewer_1579303767532137 = null;\nvar warn = document.getElementById(\"3dmolwarning_1579303767532137\");\nif(warn) {\n    warn.parentNode.removeChild(warn);\n}\n$3Dmolpromise.then(function() {\nviewer_1579303767532137 = $3Dmol.createViewer($(\"#3dmolviewer_1579303767532137\"),{backgroundColor:\"white\"});\n$3Dmol.download(\"pdb:1MJB\", viewer_1579303767532137, {\"doAssembly\": false}, function() {\n\tviewer_1579303767532137.setStyle({\"cartoon\": {\"color\": \"spectrum\", \"width\": 0.6, \"opacity\": 0.8}});\n\tviewer_1579303767532137.setStyle({\"hetflag\": true},{\"stick\": {\"radius\": 0.3, \"singleBond\": false}});\n\tviewer_1579303767532137.addStyle({\"chain\": \"A\", \"resi\": [\"304\"], \"byres\": true, \"expand\": 6},{\"stick\": {\"colorscheme\": \"orangeCarbon\", \"radius\": 0.15}});\n\tviewer_1579303767532137.addStyle({\"chain\": \"A\", \"resi\": [\"304\"]},{\"stick\": {\"colorscheme\": \"redCarbon\", \"radius\": 0.4}});\n\tviewer_1579303767532137.addStyle({\"chain\": \"A\", \"resi\": [\"304\"]},{\"sphere\": {\"colorscheme\": \"gray\", \"opacity\": 0.7}});\n\tviewer_1579303767532137.addLabel(\"304: MOD:00210\",{\"fontColor\": \"black\", \"fontSize\": 9, \"backgroundColor\": \"lightgray\"},{\"chain\": \"A\", \"resi\": \"304\"});\n\tviewer_1579303767532137.zoomTo({\"chain\": \"A\", \"resi\": [\"304\"], \"byres\": true, \"expand\": 6});\nviewer_1579303767532137.render();\n})\n});\n</script>",
      "text/html": [
       "<div id=\"3dmolviewer_1579303767532137\"  style=\"position: relative; width: 640px; height: 480px\">\n",
       "        <p id=\"3dmolwarning_1579303767532137\" style=\"background-color:#ffcccc;color:black\">You appear to be running in JupyterLab (or JavaScript failed to load for some other reason).  You need to install the 3dmol extension: <br>\n",
       "        <tt>jupyter labextension install jupyterlab_3dmol</tt></p>\n",
       "        </div>\n",
       "<script>\n",
       "\n",
       "var loadScriptAsync = function(uri){\n",
       "  return new Promise((resolve, reject) => {\n",
       "    var tag = document.createElement('script');\n",
       "    tag.src = uri;\n",
       "    tag.async = true;\n",
       "    tag.onload = () => {\n",
       "      resolve();\n",
       "    };\n",
       "  var firstScriptTag = document.getElementsByTagName('script')[0];\n",
       "  firstScriptTag.parentNode.insertBefore(tag, firstScriptTag);\n",
       "});\n",
       "};\n",
       "\n",
       "if(typeof $3Dmolpromise === 'undefined') {\n",
       "$3Dmolpromise = null;\n",
       "  $3Dmolpromise = loadScriptAsync('https://3dmol.csb.pitt.edu/build/3Dmol.js');\n",
       "}\n",
       "\n",
       "var viewer_1579303767532137 = null;\n",
       "var warn = document.getElementById(\"3dmolwarning_1579303767532137\");\n",
       "if(warn) {\n",
       "    warn.parentNode.removeChild(warn);\n",
       "}\n",
       "$3Dmolpromise.then(function() {\n",
       "viewer_1579303767532137 = $3Dmol.createViewer($(\"#3dmolviewer_1579303767532137\"),{backgroundColor:\"white\"});\n",
       "$3Dmol.download(\"pdb:1MJB\", viewer_1579303767532137, {\"doAssembly\": false}, function() {\n",
       "\tviewer_1579303767532137.setStyle({\"cartoon\": {\"color\": \"spectrum\", \"width\": 0.6, \"opacity\": 0.8}});\n",
       "\tviewer_1579303767532137.setStyle({\"hetflag\": true},{\"stick\": {\"radius\": 0.3, \"singleBond\": false}});\n",
       "\tviewer_1579303767532137.addStyle({\"chain\": \"A\", \"resi\": [\"304\"], \"byres\": true, \"expand\": 6},{\"stick\": {\"colorscheme\": \"orangeCarbon\", \"radius\": 0.15}});\n",
       "\tviewer_1579303767532137.addStyle({\"chain\": \"A\", \"resi\": [\"304\"]},{\"stick\": {\"colorscheme\": \"redCarbon\", \"radius\": 0.4}});\n",
       "\tviewer_1579303767532137.addStyle({\"chain\": \"A\", \"resi\": [\"304\"]},{\"sphere\": {\"colorscheme\": \"gray\", \"opacity\": 0.7}});\n",
       "\tviewer_1579303767532137.addLabel(\"304: MOD:00210\",{\"fontColor\": \"black\", \"fontSize\": 9, \"backgroundColor\": \"lightgray\"},{\"chain\": \"A\", \"resi\": \"304\"});\n",
       "\tviewer_1579303767532137.zoomTo({\"chain\": \"A\", \"resi\": [\"304\"], \"byres\": true, \"expand\": 6});\n",
       "viewer_1579303767532137.render();\n",
       "})\n",
       "});\n",
       "</script>"
      ]
     },
     "metadata": {},
     "output_type": "display_data"
    }
   ],
   "source": [
    "view_modifications(sp, 6, 'uniprotId');"
   ]
  },
  {
   "cell_type": "markdown",
   "metadata": {},
   "source": [
    "## List set of UniProt Ids for proteins with Cysteine oxidations in PDB"
   ]
  },
  {
   "cell_type": "code",
   "execution_count": 11,
   "metadata": {},
   "outputs": [
    {
     "data": {
      "text/html": [
       "<div>\n",
       "<style scoped>\n",
       "    .dataframe tbody tr th:only-of-type {\n",
       "        vertical-align: middle;\n",
       "    }\n",
       "\n",
       "    .dataframe tbody tr th {\n",
       "        vertical-align: top;\n",
       "    }\n",
       "\n",
       "    .dataframe thead th {\n",
       "        text-align: right;\n",
       "    }\n",
       "</style>\n",
       "<table border=\"1\" class=\"dataframe\">\n",
       "  <thead>\n",
       "    <tr style=\"text-align: right;\">\n",
       "      <th></th>\n",
       "      <th>uniprotId</th>\n",
       "    </tr>\n",
       "  </thead>\n",
       "  <tbody>\n",
       "    <tr>\n",
       "      <th>0</th>\n",
       "      <td>Q08649</td>\n",
       "    </tr>\n",
       "    <tr>\n",
       "      <th>1</th>\n",
       "      <td>P35340</td>\n",
       "    </tr>\n",
       "    <tr>\n",
       "      <th>2</th>\n",
       "      <td>P13134</td>\n",
       "    </tr>\n",
       "    <tr>\n",
       "      <th>3</th>\n",
       "      <td>P85511</td>\n",
       "    </tr>\n",
       "    <tr>\n",
       "      <th>4</th>\n",
       "      <td>P89521</td>\n",
       "    </tr>\n",
       "  </tbody>\n",
       "</table>\n",
       "</div>"
      ],
      "text/plain": [
       "  uniprotId\n",
       "0    Q08649\n",
       "1    P35340\n",
       "2    P13134\n",
       "3    P85511\n",
       "4    P89521"
      ]
     },
     "execution_count": 11,
     "metadata": {},
     "output_type": "execute_result"
    }
   ],
   "source": [
    "rs = sp[['uniprotId']].drop_duplicates()\n",
    "rs.head()"
   ]
  },
  {
   "cell_type": "code",
   "execution_count": 12,
   "metadata": {},
   "outputs": [],
   "source": [
    "spark.stop()"
   ]
  }
 ],
 "metadata": {
  "kernelspec": {
   "display_name": "Python 3",
   "language": "python",
   "name": "python3"
  },
  "language_info": {
   "codemirror_mode": {
    "name": "ipython",
    "version": 3
   },
   "file_extension": ".py",
   "mimetype": "text/x-python",
   "name": "python",
   "nbconvert_exporter": "python",
   "pygments_lexer": "ipython3",
   "version": "3.7.3"
  },
  "widgets": {
   "application/vnd.jupyter.widget-state+json": {
    "state": {
     "025a61c83a294bd4a427446c95c956f8": {
      "model_module": "@jupyter-widgets/controls",
      "model_module_version": "1.4.0",
      "model_name": "DescriptionStyleModel",
      "state": {
       "description_width": ""
      }
     },
     "0394ace7a4594df28fbdf2f2dfb35c16": {
      "model_module": "@jupyter-widgets/controls",
      "model_module_version": "1.4.0",
      "model_name": "CheckboxModel",
      "state": {
       "description": "show_bio_assembly",
       "disabled": false,
       "layout": "IPY_MODEL_ea5adc9853e84d9ea684d2fbe56637c0",
       "style": "IPY_MODEL_60f48b9bcd424531a18980e57f9068cc",
       "value": false
      }
     },
     "03a6fe6e9da8498c978c4aa36834fa56": {
      "model_module": "@jupyter-widgets/controls",
      "model_module_version": "1.4.0",
      "model_name": "DescriptionStyleModel",
      "state": {
       "description_width": ""
      }
     },
     "0482e83f4986468cbd5569884f4c718b": {
      "model_module": "@jupyter-widgets/base",
      "model_module_version": "1.1.0",
      "model_name": "LayoutModel",
      "state": {}
     },
     "051944591e3040d38d5202b471ee02e8": {
      "model_module": "@jupyter-widgets/controls",
      "model_module_version": "1.4.0",
      "model_name": "DescriptionStyleModel",
      "state": {
       "description_width": ""
      }
     },
     "0579a400276f457795228fc4b86f4b65": {
      "model_module": "@jupyter-widgets/controls",
      "model_module_version": "1.4.0",
      "model_name": "CheckboxModel",
      "state": {
       "description": "show_labels",
       "disabled": false,
       "layout": "IPY_MODEL_34deb9c1071c4485afbf083c69aab252",
       "style": "IPY_MODEL_4815e61ebd0f4b1bb615b11d751b0714",
       "value": true
      }
     },
     "065b1331660147daac35815779a8fa5d": {
      "model_module": "@jupyter-widgets/controls",
      "model_module_version": "1.4.0",
      "model_name": "CheckboxModel",
      "state": {
       "description": "A549-RSOH",
       "disabled": false,
       "layout": "IPY_MODEL_a16a92e50e4949df8ad8ae7de7b93296",
       "style": "IPY_MODEL_fca8f935246e46f6af21862675fe5480",
       "value": true
      }
     },
     "0ae5d1a64c0a4c9b85ebf0d610d68bdb": {
      "model_module": "@jupyter-widgets/controls",
      "model_module_version": "1.4.0",
      "model_name": "CheckboxModel",
      "state": {
       "description": "A549-RSO2H",
       "disabled": false,
       "layout": "IPY_MODEL_91df0fcff7604efd9a2481fbf393c638",
       "style": "IPY_MODEL_4b2f7ac899234f878add09438480f186",
       "value": true
      }
     },
     "0bf52c6888964ab092ea7153f815b355": {
      "model_module": "@jupyter-widgets/controls",
      "model_module_version": "1.4.0",
      "model_name": "DescriptionStyleModel",
      "state": {
       "description_width": ""
      }
     },
     "0d7dcebe6e834981a3338734191760ee": {
      "model_module": "@jupyter-widgets/base",
      "model_module_version": "1.1.0",
      "model_name": "LayoutModel",
      "state": {}
     },
     "0e73d931002544138e5e635977ec6fc4": {
      "model_module": "@jupyter-widgets/base",
      "model_module_version": "1.1.0",
      "model_name": "LayoutModel",
      "state": {}
     },
     "0f29d8bede884a9fb36ac44374621ff9": {
      "model_module": "@jupyter-widgets/controls",
      "model_module_version": "1.4.0",
      "model_name": "VBoxModel",
      "state": {
       "_dom_classes": [
        "widget-interact"
       ],
       "children": [
        "IPY_MODEL_37ef31179a5649ee83c159693c34159b",
        "IPY_MODEL_0394ace7a4594df28fbdf2f2dfb35c16",
        "IPY_MODEL_6610ff6e5ab44e0e96f8e44d94d85051",
        "IPY_MODEL_b07eace20a10420e87a23cbd362dca60",
        "IPY_MODEL_ad7e5c457b8947a4b11deebfb409d29b"
       ],
       "layout": "IPY_MODEL_f6b6328b4418430e97ef85ac94eff007"
      }
     },
     "0f9cc4a2e04749fba4495525d304a93d": {
      "model_module": "@jupyter-widgets/base",
      "model_module_version": "1.1.0",
      "model_name": "LayoutModel",
      "state": {}
     },
     "13161cefcc12413fa346bf526858f800": {
      "model_module": "@jupyter-widgets/controls",
      "model_module_version": "1.4.0",
      "model_name": "DescriptionStyleModel",
      "state": {
       "description_width": ""
      }
     },
     "1329953239174d64ba661f3fe92409ed": {
      "model_module": "@jupyter-widgets/controls",
      "model_module_version": "1.4.0",
      "model_name": "DescriptionStyleModel",
      "state": {
       "description_width": ""
      }
     },
     "13bbcd5f38e9405a9138a0d6972dd7d7": {
      "model_module": "@jupyter-widgets/controls",
      "model_module_version": "1.4.0",
      "model_name": "DescriptionStyleModel",
      "state": {
       "description_width": ""
      }
     },
     "13f07072e4a84ad9882cce6753564b20": {
      "model_module": "@jupyter-widgets/controls",
      "model_module_version": "1.4.0",
      "model_name": "DescriptionStyleModel",
      "state": {
       "description_width": ""
      }
     },
     "140ac521bd364e238780d67967c5e62b": {
      "model_module": "@jupyter-widgets/controls",
      "model_module_version": "1.4.0",
      "model_name": "CheckboxModel",
      "state": {
       "description": "show_surface",
       "disabled": false,
       "layout": "IPY_MODEL_214f1a9d1d58483793cc601d5a3e9535",
       "style": "IPY_MODEL_3e1e339e07b34ada99dcd93b86424969",
       "value": false
      }
     },
     "14a4ecb7c72a4257bfa66800b07b1fb5": {
      "model_module": "@jupyter-widgets/controls",
      "model_module_version": "1.4.0",
      "model_name": "DescriptionStyleModel",
      "state": {
       "description_width": ""
      }
     },
     "15030ecaef484c2daaa1e4d44e885256": {
      "model_module": "@jupyter-widgets/base",
      "model_module_version": "1.1.0",
      "model_name": "LayoutModel",
      "state": {}
     },
     "156bf878f4c4480faabd0ede93809cc0": {
      "model_module": "@jupyter-widgets/controls",
      "model_module_version": "1.4.0",
      "model_name": "CheckboxModel",
      "state": {
       "description": "A549-RSOH",
       "disabled": false,
       "layout": "IPY_MODEL_0482e83f4986468cbd5569884f4c718b",
       "style": "IPY_MODEL_f3f872dd61a44106aab373bc774808b8",
       "value": true
      }
     },
     "169d72d3f0f74ce683113f1f9fd99a8c": {
      "model_module": "@jupyter-widgets/base",
      "model_module_version": "1.1.0",
      "model_name": "LayoutModel",
      "state": {}
     },
     "16ad61d1e1f64dfbaecdc00fbad86b7c": {
      "model_module": "@jupyter-widgets/controls",
      "model_module_version": "1.4.0",
      "model_name": "DescriptionStyleModel",
      "state": {
       "description_width": ""
      }
     },
     "16c111da17dd4e8aaf67dfcd82f68561": {
      "model_module": "@jupyter-widgets/base",
      "model_module_version": "1.1.0",
      "model_name": "LayoutModel",
      "state": {}
     },
     "17b452f982d4472bb1ba73840e98b068": {
      "model_module": "@jupyter-widgets/controls",
      "model_module_version": "1.4.0",
      "model_name": "DescriptionStyleModel",
      "state": {
       "description_width": ""
      }
     },
     "1a3bc02e92534ecfacb358f1c1538a22": {
      "model_module": "@jupyter-widgets/base",
      "model_module_version": "1.1.0",
      "model_name": "LayoutModel",
      "state": {}
     },
     "1aa6eaabb2854565952c929838844321": {
      "model_module": "@jupyter-widgets/base",
      "model_module_version": "1.1.0",
      "model_name": "LayoutModel",
      "state": {}
     },
     "1c57e8a6f88f4f1cbc5bb2a2d69c0016": {
      "model_module": "@jupyter-widgets/base",
      "model_module_version": "1.1.0",
      "model_name": "LayoutModel",
      "state": {}
     },
     "1ced832495bc47f48a891870d0136f23": {
      "model_module": "@jupyter-widgets/base",
      "model_module_version": "1.1.0",
      "model_name": "LayoutModel",
      "state": {}
     },
     "1e1189b6fd5945caafcb7a2ab434f78e": {
      "model_module": "@jupyter-widgets/base",
      "model_module_version": "1.1.0",
      "model_name": "LayoutModel",
      "state": {}
     },
     "214f1a9d1d58483793cc601d5a3e9535": {
      "model_module": "@jupyter-widgets/base",
      "model_module_version": "1.1.0",
      "model_name": "LayoutModel",
      "state": {}
     },
     "228b56dec50e4283a7b6ed6e1883f190": {
      "model_module": "@jupyter-widgets/controls",
      "model_module_version": "1.4.0",
      "model_name": "CheckboxModel",
      "state": {
       "description": "show_surface",
       "disabled": false,
       "layout": "IPY_MODEL_1ced832495bc47f48a891870d0136f23",
       "style": "IPY_MODEL_ae633ad940754758a9406887b8b1d9b8",
       "value": false
      }
     },
     "22958713c1eb40f4bd1c0d19a48a8cfd": {
      "model_module": "@jupyter-widgets/controls",
      "model_module_version": "1.4.0",
      "model_name": "DescriptionStyleModel",
      "state": {
       "description_width": ""
      }
     },
     "2414dbf672a84873bea2e88ea8c3e3ed": {
      "model_module": "@jupyter-widgets/controls",
      "model_module_version": "1.4.0",
      "model_name": "CheckboxModel",
      "state": {
       "description": "A549-RSOH",
       "disabled": false,
       "layout": "IPY_MODEL_26e8c3448fc54cc2a22ed280559c89d1",
       "style": "IPY_MODEL_13bbcd5f38e9405a9138a0d6972dd7d7",
       "value": true
      }
     },
     "26a011dd3818470da17aa48c68a8a610": {
      "model_module": "@jupyter-widgets/base",
      "model_module_version": "1.1.0",
      "model_name": "LayoutModel",
      "state": {}
     },
     "26e8c3448fc54cc2a22ed280559c89d1": {
      "model_module": "@jupyter-widgets/base",
      "model_module_version": "1.1.0",
      "model_name": "LayoutModel",
      "state": {}
     },
     "2835a8764c0f4c67a23af077a323eea0": {
      "model_module": "@jupyter-widgets/controls",
      "model_module_version": "1.4.0",
      "model_name": "SliderStyleModel",
      "state": {
       "description_width": ""
      }
     },
     "2a5a0a324e4d4d5ebc25fcfe21a94952": {
      "model_module": "@jupyter-widgets/controls",
      "model_module_version": "1.4.0",
      "model_name": "CheckboxModel",
      "state": {
       "description": "HeLa-RSOH",
       "disabled": false,
       "layout": "IPY_MODEL_e82117e5f2434f5589ca080604b61725",
       "style": "IPY_MODEL_4d446ca539f64f0cb06c8f5e13c9a2b9",
       "value": true
      }
     },
     "2a825b054a534f2793380f215d787c63": {
      "model_module": "@jupyter-widgets/controls",
      "model_module_version": "1.4.0",
      "model_name": "DescriptionStyleModel",
      "state": {
       "description_width": ""
      }
     },
     "2c7dd2b03f8045c58b585b0fa5842289": {
      "model_module": "@jupyter-widgets/base",
      "model_module_version": "1.1.0",
      "model_name": "LayoutModel",
      "state": {}
     },
     "2d7981f8c6e94a5ba75c3ea446991a3c": {
      "model_module": "@jupyter-widgets/base",
      "model_module_version": "1.1.0",
      "model_name": "LayoutModel",
      "state": {}
     },
     "2de0db917b24400ca5b6d9a4be0d945f": {
      "model_module": "@jupyter-widgets/base",
      "model_module_version": "1.1.0",
      "model_name": "LayoutModel",
      "state": {}
     },
     "2df93cdbafbe4f90bb0f5dae0492c24f": {
      "model_module": "@jupyter-widgets/controls",
      "model_module_version": "1.4.0",
      "model_name": "CheckboxModel",
      "state": {
       "description": "A549-RSOH",
       "disabled": false,
       "layout": "IPY_MODEL_a18e02c430114714994fbe828140f0a4",
       "style": "IPY_MODEL_77c1656eaf8b4c459600f453038b5600",
       "value": true
      }
     },
     "2f77cada7e7e479b86173c5dde6389ff": {
      "model_module": "@jupyter-widgets/controls",
      "model_module_version": "1.4.0",
      "model_name": "DescriptionStyleModel",
      "state": {
       "description_width": ""
      }
     },
     "2fbdbc7ed2f443c2884e3975072205ce": {
      "model_module": "@jupyter-widgets/controls",
      "model_module_version": "1.4.0",
      "model_name": "CheckboxModel",
      "state": {
       "description": "show_labels",
       "disabled": false,
       "layout": "IPY_MODEL_95611dac491242aa8d40097aa736ad06",
       "style": "IPY_MODEL_fd4c9debaa9e4d90ae0060c839d39772",
       "value": true
      }
     },
     "304130816e614ce7bc943de6cbf61aba": {
      "model_module": "@jupyter-widgets/controls",
      "model_module_version": "1.4.0",
      "model_name": "CheckboxModel",
      "state": {
       "description": "A549-RSO2H",
       "disabled": false,
       "layout": "IPY_MODEL_1aa6eaabb2854565952c929838844321",
       "style": "IPY_MODEL_051944591e3040d38d5202b471ee02e8",
       "value": true
      }
     },
     "329803c474824181931359a8bc09fa08": {
      "model_module": "@jupyter-widgets/controls",
      "model_module_version": "1.4.0",
      "model_name": "DescriptionStyleModel",
      "state": {
       "description_width": ""
      }
     },
     "32daf1b5acf24741a8502319c0eb0632": {
      "model_module": "@jupyter-widgets/base",
      "model_module_version": "1.1.0",
      "model_name": "LayoutModel",
      "state": {}
     },
     "32dd1182f0b648e692407c28e6d24f8e": {
      "model_module": "@jupyter-widgets/output",
      "model_module_version": "1.0.0",
      "model_name": "OutputModel",
      "state": {
       "layout": "IPY_MODEL_89a677d59e5f4c9090d159e2e1a7d2f0",
       "outputs": [
        {
         "name": "stdout",
         "output_type": "stream",
         "text": "PDB Id: 4Y1V chain Id: A\nuniprotAccession: P09382\nDescription: Galectin-1 OS=Homo sapiens GN=LGALS1 PE=1 SV=2\n"
        },
        {
         "data": {
          "application/3dmoljs_load.v0": "<div id=\"3dmolviewer_1536706926196629\"  style=\"position: relative; width: 640px; height: 480px\">\n        <p id=\"3dmolwarning_1536706926196629\" style=\"background-color:#ffcccc;color:black\">You appear to be running in JupyterLab (or JavaScript failed to load for some other reason).  You need to install the 3dmol extension: <br>\n        <tt>jupyter labextension install jupyterlab_3dmol</tt></p>\n        </div>\n<script>\n\nvar loadScriptAsync = function(uri){\n  return new Promise((resolve, reject) => {\n    var tag = document.createElement('script');\n    tag.src = uri;\n    tag.async = true;\n    tag.onload = () => {\n      resolve();\n    };\n  var firstScriptTag = document.getElementsByTagName('script')[0];\n  firstScriptTag.parentNode.insertBefore(tag, firstScriptTag);\n});\n};\n\nif(typeof $3Dmolpromise === 'undefined') {\n$3Dmolpromise = null;\n  $3Dmolpromise = loadScriptAsync('https://3dmol.csb.pitt.edu/build/3Dmol.js');\n}\n\nvar viewer_1536706926196629 = null;\nvar warn = document.getElementById(\"3dmolwarning_1536706926196629\");\nif(warn) {\n    warn.parentNode.removeChild(warn);\n}\n$3Dmolpromise.then(function() {\nviewer_1536706926196629 = $3Dmol.createViewer($(\"#3dmolviewer_1536706926196629\"),{backgroundColor:\"white\"});\n$3Dmol.download(\"pdb:4Y1V\", viewer_1536706926196629, {\"doAssembly\": false}, function() {\n\tviewer_1536706926196629.setStyle({\"cartoon\": {\"color\": \"spectrum\", \"width\": 0.6, \"opacity\": 0.8}});\n\tviewer_1536706926196629.setStyle({\"hetflag\": true},{\"stick\": {\"radius\": 0.3, \"singleBond\": false}});\n\tviewer_1536706926196629.addStyle({\"chain\": \"A\", \"resi\": [\"16\", \"42\", \"60\"], \"byres\": true, \"expand\": 6},{\"stick\": {\"colorscheme\": \"orangeCarbon\", \"radius\": 0.15}});\n\tviewer_1536706926196629.addStyle({\"chain\": \"A\", \"resi\": [\"16\", \"42\", \"60\"]},{\"stick\": {\"colorscheme\": \"redCarbon\", \"radius\": 0.4}});\n\tviewer_1536706926196629.addStyle({\"chain\": \"A\", \"resi\": [\"16\", \"42\", \"60\"]},{\"sphere\": {\"colorscheme\": \"gray\", \"opacity\": 0.7}});\n\tviewer_1536706926196629.addLabel(\"16: A549-RSOH\",{\"fontColor\": \"black\", \"fontSize\": 9, \"backgroundColor\": \"lightgray\"},{\"chain\": \"A\", \"resi\": \"16\"});\n\tviewer_1536706926196629.addLabel(\"42: A549-RSOH\",{\"fontColor\": \"black\", \"fontSize\": 9, \"backgroundColor\": \"lightgray\"},{\"chain\": \"A\", \"resi\": \"42\"});\n\tviewer_1536706926196629.addLabel(\"60: A549-RSO2H,A549-RSOH\",{\"fontColor\": \"black\", \"fontSize\": 9, \"backgroundColor\": \"lightgray\"},{\"chain\": \"A\", \"resi\": \"60\"});\n\tviewer_1536706926196629.zoomTo({\"chain\": \"A\", \"resi\": [\"16\", \"42\", \"60\"], \"byres\": true, \"expand\": 6});\nviewer_1536706926196629.render();\n})\n});\n</script>",
          "text/html": "<div id=\"3dmolviewer_1536706926196629\"  style=\"position: relative; width: 640px; height: 480px\">\n        <p id=\"3dmolwarning_1536706926196629\" style=\"background-color:#ffcccc;color:black\">You appear to be running in JupyterLab (or JavaScript failed to load for some other reason).  You need to install the 3dmol extension: <br>\n        <tt>jupyter labextension install jupyterlab_3dmol</tt></p>\n        </div>\n<script>\n\nvar loadScriptAsync = function(uri){\n  return new Promise((resolve, reject) => {\n    var tag = document.createElement('script');\n    tag.src = uri;\n    tag.async = true;\n    tag.onload = () => {\n      resolve();\n    };\n  var firstScriptTag = document.getElementsByTagName('script')[0];\n  firstScriptTag.parentNode.insertBefore(tag, firstScriptTag);\n});\n};\n\nif(typeof $3Dmolpromise === 'undefined') {\n$3Dmolpromise = null;\n  $3Dmolpromise = loadScriptAsync('https://3dmol.csb.pitt.edu/build/3Dmol.js');\n}\n\nvar viewer_1536706926196629 = null;\nvar warn = document.getElementById(\"3dmolwarning_1536706926196629\");\nif(warn) {\n    warn.parentNode.removeChild(warn);\n}\n$3Dmolpromise.then(function() {\nviewer_1536706926196629 = $3Dmol.createViewer($(\"#3dmolviewer_1536706926196629\"),{backgroundColor:\"white\"});\n$3Dmol.download(\"pdb:4Y1V\", viewer_1536706926196629, {\"doAssembly\": false}, function() {\n\tviewer_1536706926196629.setStyle({\"cartoon\": {\"color\": \"spectrum\", \"width\": 0.6, \"opacity\": 0.8}});\n\tviewer_1536706926196629.setStyle({\"hetflag\": true},{\"stick\": {\"radius\": 0.3, \"singleBond\": false}});\n\tviewer_1536706926196629.addStyle({\"chain\": \"A\", \"resi\": [\"16\", \"42\", \"60\"], \"byres\": true, \"expand\": 6},{\"stick\": {\"colorscheme\": \"orangeCarbon\", \"radius\": 0.15}});\n\tviewer_1536706926196629.addStyle({\"chain\": \"A\", \"resi\": [\"16\", \"42\", \"60\"]},{\"stick\": {\"colorscheme\": \"redCarbon\", \"radius\": 0.4}});\n\tviewer_1536706926196629.addStyle({\"chain\": \"A\", \"resi\": [\"16\", \"42\", \"60\"]},{\"sphere\": {\"colorscheme\": \"gray\", \"opacity\": 0.7}});\n\tviewer_1536706926196629.addLabel(\"16: A549-RSOH\",{\"fontColor\": \"black\", \"fontSize\": 9, \"backgroundColor\": \"lightgray\"},{\"chain\": \"A\", \"resi\": \"16\"});\n\tviewer_1536706926196629.addLabel(\"42: A549-RSOH\",{\"fontColor\": \"black\", \"fontSize\": 9, \"backgroundColor\": \"lightgray\"},{\"chain\": \"A\", \"resi\": \"42\"});\n\tviewer_1536706926196629.addLabel(\"60: A549-RSO2H,A549-RSOH\",{\"fontColor\": \"black\", \"fontSize\": 9, \"backgroundColor\": \"lightgray\"},{\"chain\": \"A\", \"resi\": \"60\"});\n\tviewer_1536706926196629.zoomTo({\"chain\": \"A\", \"resi\": [\"16\", \"42\", \"60\"], \"byres\": true, \"expand\": 6});\nviewer_1536706926196629.render();\n})\n});\n</script>"
         },
         "metadata": {},
         "output_type": "display_data"
        }
       ]
      }
     },
     "3496149bc9f144949d0ea4ca9d574626": {
      "model_module": "@jupyter-widgets/base",
      "model_module_version": "1.1.0",
      "model_name": "LayoutModel",
      "state": {}
     },
     "34dd929d0b0a4674b3a37067adc9c21a": {
      "model_module": "@jupyter-widgets/base",
      "model_module_version": "1.1.0",
      "model_name": "LayoutModel",
      "state": {}
     },
     "34deb9c1071c4485afbf083c69aab252": {
      "model_module": "@jupyter-widgets/base",
      "model_module_version": "1.1.0",
      "model_name": "LayoutModel",
      "state": {}
     },
     "36fc1c2bbc3e43d68df8d7fb9e3b447b": {
      "model_module": "@jupyter-widgets/controls",
      "model_module_version": "1.4.0",
      "model_name": "CheckboxModel",
      "state": {
       "description": "show_surface",
       "disabled": false,
       "layout": "IPY_MODEL_b495f94314d2479e850066cc8e09676f",
       "style": "IPY_MODEL_4c2b0d29129242bcb1842ce32d4aad69",
       "value": false
      }
     },
     "3779790f17854f5180c23592dca0f730": {
      "model_module": "@jupyter-widgets/base",
      "model_module_version": "1.1.0",
      "model_name": "LayoutModel",
      "state": {}
     },
     "37ef31179a5649ee83c159693c34159b": {
      "model_module": "@jupyter-widgets/controls",
      "model_module_version": "1.4.0",
      "model_name": "CheckboxModel",
      "state": {
       "description": "show_labels",
       "disabled": false,
       "layout": "IPY_MODEL_0e73d931002544138e5e635977ec6fc4",
       "style": "IPY_MODEL_8a2fa0b9c6414f2eb5ec6c9ed37ca62d",
       "value": true
      }
     },
     "381ec1fb147b4c59b86aac2e9d3d5b33": {
      "model_module": "@jupyter-widgets/controls",
      "model_module_version": "1.4.0",
      "model_name": "CheckboxModel",
      "state": {
       "description": "show_surface",
       "disabled": false,
       "layout": "IPY_MODEL_a9207b038d2c4a8cab193e96bf27efb2",
       "style": "IPY_MODEL_a1e8581c26b64b2f8bee77934b4e8685",
       "value": false
      }
     },
     "39701589c0014789874737df205787fd": {
      "model_module": "@jupyter-widgets/controls",
      "model_module_version": "1.4.0",
      "model_name": "CheckboxModel",
      "state": {
       "description": "show_bio_assembly",
       "disabled": false,
       "layout": "IPY_MODEL_e9d1fd9cad5746ddb70733a5d5ecddff",
       "style": "IPY_MODEL_e622bc2526a342d080ce3c8a5827a8e9",
       "value": false
      }
     },
     "3a421354873e4f30872cf1c38f2b8f23": {
      "model_module": "@jupyter-widgets/controls",
      "model_module_version": "1.4.0",
      "model_name": "CheckboxModel",
      "state": {
       "description": "A549-RSO2H",
       "disabled": false,
       "layout": "IPY_MODEL_71d0537641dc4137998f72a0c3fe0d13",
       "style": "IPY_MODEL_73157c3691274e2ba1b5c5774e93db75",
       "value": true
      }
     },
     "3db9c92e05bb4727afc7db8512cd8da7": {
      "model_module": "@jupyter-widgets/controls",
      "model_module_version": "1.4.0",
      "model_name": "SliderStyleModel",
      "state": {
       "description_width": ""
      }
     },
     "3e1e339e07b34ada99dcd93b86424969": {
      "model_module": "@jupyter-widgets/controls",
      "model_module_version": "1.4.0",
      "model_name": "DescriptionStyleModel",
      "state": {
       "description_width": ""
      }
     },
     "447b7b2b27a349168161c48197c93a57": {
      "model_module": "@jupyter-widgets/controls",
      "model_module_version": "1.4.0",
      "model_name": "DescriptionStyleModel",
      "state": {
       "description_width": ""
      }
     },
     "447c48285c6a43caaa37b1c6d57040ed": {
      "model_module": "@jupyter-widgets/controls",
      "model_module_version": "1.4.0",
      "model_name": "CheckboxModel",
      "state": {
       "description": "show_bio_assembly",
       "disabled": false,
       "layout": "IPY_MODEL_55ddfb774d974190a98dc6ff47c4c9e7",
       "style": "IPY_MODEL_329803c474824181931359a8bc09fa08",
       "value": false
      }
     },
     "4815e61ebd0f4b1bb615b11d751b0714": {
      "model_module": "@jupyter-widgets/controls",
      "model_module_version": "1.4.0",
      "model_name": "DescriptionStyleModel",
      "state": {
       "description_width": ""
      }
     },
     "48b72e6f258542118236778cb93b4ba0": {
      "model_module": "@jupyter-widgets/controls",
      "model_module_version": "1.4.0",
      "model_name": "SliderStyleModel",
      "state": {
       "description_width": ""
      }
     },
     "4b2f7ac899234f878add09438480f186": {
      "model_module": "@jupyter-widgets/controls",
      "model_module_version": "1.4.0",
      "model_name": "DescriptionStyleModel",
      "state": {
       "description_width": ""
      }
     },
     "4c2b0d29129242bcb1842ce32d4aad69": {
      "model_module": "@jupyter-widgets/controls",
      "model_module_version": "1.4.0",
      "model_name": "DescriptionStyleModel",
      "state": {
       "description_width": ""
      }
     },
     "4c5cc1b4b9ce42758b08aa2f9ff7f55f": {
      "model_module": "@jupyter-widgets/base",
      "model_module_version": "1.1.0",
      "model_name": "LayoutModel",
      "state": {}
     },
     "4d233fd4316a4f7db36a0ac1324d6250": {
      "model_module": "@jupyter-widgets/controls",
      "model_module_version": "1.4.0",
      "model_name": "DescriptionStyleModel",
      "state": {
       "description_width": ""
      }
     },
     "4d446ca539f64f0cb06c8f5e13c9a2b9": {
      "model_module": "@jupyter-widgets/controls",
      "model_module_version": "1.4.0",
      "model_name": "DescriptionStyleModel",
      "state": {
       "description_width": ""
      }
     },
     "4d9276771c9342dda3835495410b829f": {
      "model_module": "@jupyter-widgets/base",
      "model_module_version": "1.1.0",
      "model_name": "LayoutModel",
      "state": {}
     },
     "4ff029275b984bc7b8d753a3cf51beef": {
      "model_module": "@jupyter-widgets/controls",
      "model_module_version": "1.4.0",
      "model_name": "CheckboxModel",
      "state": {
       "description": "show_labels",
       "disabled": false,
       "layout": "IPY_MODEL_c195ab9232e74496805371c6a6ca63a8",
       "style": "IPY_MODEL_4d233fd4316a4f7db36a0ac1324d6250",
       "value": true
      }
     },
     "53f13f2561c84c55be39f121ebedd091": {
      "model_module": "@jupyter-widgets/controls",
      "model_module_version": "1.4.0",
      "model_name": "CheckboxModel",
      "state": {
       "description": "HeLa-RSOH",
       "disabled": false,
       "layout": "IPY_MODEL_86b0226714724fbe9adce77d54f680bf",
       "style": "IPY_MODEL_82cd132ca5a5439886a0edd045f210d5",
       "value": false
      }
     },
     "541068b699aa4553b81bd228c19997b5": {
      "model_module": "@jupyter-widgets/controls",
      "model_module_version": "1.4.0",
      "model_name": "CheckboxModel",
      "state": {
       "description": "show_surface",
       "disabled": false,
       "layout": "IPY_MODEL_8f9eb816d3fc47948cf429eedb162b2c",
       "style": "IPY_MODEL_b138a4b826164f968975c5ddb516aa2e",
       "value": false
      }
     },
     "541b6a3194df4a3594e9bb04e90fc3eb": {
      "model_module": "@jupyter-widgets/controls",
      "model_module_version": "1.4.0",
      "model_name": "IntSliderModel",
      "state": {
       "continuous_update": false,
       "description": "Structure",
       "layout": "IPY_MODEL_26a011dd3818470da17aa48c68a8a610",
       "max": 946,
       "style": "IPY_MODEL_77b94a7a8f424b8294e12886f5f9244a",
       "value": 19
      }
     },
     "54c99cca3a164fb598f184ffc42227a8": {
      "model_module": "@jupyter-widgets/controls",
      "model_module_version": "1.4.0",
      "model_name": "CheckboxModel",
      "state": {
       "description": "show_bio_assembly",
       "disabled": false,
       "layout": "IPY_MODEL_ca3255864d42449c80ff2529fb1c7787",
       "style": "IPY_MODEL_c83f24cecbbc46d39f1bc646bc2b7255",
       "value": false
      }
     },
     "5540b57c512846efaec261d1ed726f30": {
      "model_module": "@jupyter-widgets/controls",
      "model_module_version": "1.4.0",
      "model_name": "DescriptionStyleModel",
      "state": {
       "description_width": ""
      }
     },
     "55ddfb774d974190a98dc6ff47c4c9e7": {
      "model_module": "@jupyter-widgets/base",
      "model_module_version": "1.1.0",
      "model_name": "LayoutModel",
      "state": {}
     },
     "5a919aa0f7334c86b08c379dc8fd68b5": {
      "model_module": "@jupyter-widgets/base",
      "model_module_version": "1.1.0",
      "model_name": "LayoutModel",
      "state": {}
     },
     "5a926156f1ea43428981aa49860b2ab8": {
      "model_module": "@jupyter-widgets/controls",
      "model_module_version": "1.4.0",
      "model_name": "DescriptionStyleModel",
      "state": {
       "description_width": ""
      }
     },
     "5c020d42dd1b47ae81e9ab96f78c8b5d": {
      "model_module": "@jupyter-widgets/output",
      "model_module_version": "1.0.0",
      "model_name": "OutputModel",
      "state": {
       "layout": "IPY_MODEL_9174fc98cf0a4076aebd89e860b3ae1d",
       "outputs": [
        {
         "name": "stdout",
         "output_type": "stream",
         "text": "PDB Id: 1K4Q chain Id: A\nuniprotAccession: P00390\nDescription: Glutathione reductase, mitochondrial OS=Homo sapiens GN=GSR PE=1 SV=2\n"
        },
        {
         "data": {
          "application/3dmoljs_load.v0": "<div id=\"3dmolviewer_15366932193119009\"  style=\"position: relative; width: 640px; height: 480px\">\n        <p id=\"3dmolwarning_15366932193119009\" style=\"background-color:#ffcccc;color:black\">You appear to be running in JupyterLab (or JavaScript failed to load for some other reason).  You need to install the 3dmol extension: <br>\n        <tt>jupyter labextension install jupyterlab_3dmol</tt></p>\n        </div>\n<script>\n\nvar loadScriptAsync = function(uri){\n  return new Promise((resolve, reject) => {\n    var tag = document.createElement('script');\n    tag.src = uri;\n    tag.async = true;\n    tag.onload = () => {\n      resolve();\n    };\n  var firstScriptTag = document.getElementsByTagName('script')[0];\n  firstScriptTag.parentNode.insertBefore(tag, firstScriptTag);\n});\n};\n\nif(typeof $3Dmolpromise === 'undefined') {\n$3Dmolpromise = null;\n  $3Dmolpromise = loadScriptAsync('https://3dmol.csb.pitt.edu/build/3Dmol.js');\n}\n\nvar viewer_15366932193119009 = null;\nvar warn = document.getElementById(\"3dmolwarning_15366932193119009\");\nif(warn) {\n    warn.parentNode.removeChild(warn);\n}\n$3Dmolpromise.then(function() {\nviewer_15366932193119009 = $3Dmol.createViewer($(\"#3dmolviewer_15366932193119009\"),{backgroundColor:\"white\"});\n$3Dmol.download(\"pdb:1K4Q\", viewer_15366932193119009, {\"doAssembly\": false}, function() {\n\tviewer_15366932193119009.setStyle({\"cartoon\": {\"color\": \"spectrum\", \"width\": 0.6, \"opacity\": 0.8}});\n\tviewer_15366932193119009.setStyle({\"hetflag\": true},{\"stick\": {\"radius\": 0.3, \"singleBond\": false}});\n\tviewer_15366932193119009.addStyle({\"chain\": \"A\", \"resi\": [\"63\", \"417\", \"423\"], \"byres\": true, \"expand\": 6},{\"stick\": {\"colorscheme\": \"orangeCarbon\", \"radius\": 0.15}});\n\tviewer_15366932193119009.addStyle({\"chain\": \"A\", \"resi\": [\"63\", \"417\", \"423\"]},{\"stick\": {\"colorscheme\": \"redCarbon\", \"radius\": 0.4}});\n\tviewer_15366932193119009.addStyle({\"chain\": \"A\", \"resi\": [\"63\", \"417\", \"423\"]},{\"sphere\": {\"colorscheme\": \"gray\", \"opacity\": 0.7}});\n\tviewer_15366932193119009.addLabel(\"63: A549-RSOH\",{\"fontColor\": \"black\", \"fontSize\": 9, \"backgroundColor\": \"lightgray\"},{\"chain\": \"A\", \"resi\": \"63\"});\n\tviewer_15366932193119009.addLabel(\"417: A549-RSOH\",{\"fontColor\": \"black\", \"fontSize\": 9, \"backgroundColor\": \"lightgray\"},{\"chain\": \"A\", \"resi\": \"417\"});\n\tviewer_15366932193119009.addLabel(\"423: A549-RSOH\",{\"fontColor\": \"black\", \"fontSize\": 9, \"backgroundColor\": \"lightgray\"},{\"chain\": \"A\", \"resi\": \"423\"});\n\tviewer_15366932193119009.zoomTo({\"chain\": \"A\", \"resi\": [\"63\", \"417\", \"423\"], \"byres\": true, \"expand\": 6});\nviewer_15366932193119009.render();\n})\n});\n</script>",
          "text/html": "<div id=\"3dmolviewer_15366932193119009\"  style=\"position: relative; width: 640px; height: 480px\">\n        <p id=\"3dmolwarning_15366932193119009\" style=\"background-color:#ffcccc;color:black\">You appear to be running in JupyterLab (or JavaScript failed to load for some other reason).  You need to install the 3dmol extension: <br>\n        <tt>jupyter labextension install jupyterlab_3dmol</tt></p>\n        </div>\n<script>\n\nvar loadScriptAsync = function(uri){\n  return new Promise((resolve, reject) => {\n    var tag = document.createElement('script');\n    tag.src = uri;\n    tag.async = true;\n    tag.onload = () => {\n      resolve();\n    };\n  var firstScriptTag = document.getElementsByTagName('script')[0];\n  firstScriptTag.parentNode.insertBefore(tag, firstScriptTag);\n});\n};\n\nif(typeof $3Dmolpromise === 'undefined') {\n$3Dmolpromise = null;\n  $3Dmolpromise = loadScriptAsync('https://3dmol.csb.pitt.edu/build/3Dmol.js');\n}\n\nvar viewer_15366932193119009 = null;\nvar warn = document.getElementById(\"3dmolwarning_15366932193119009\");\nif(warn) {\n    warn.parentNode.removeChild(warn);\n}\n$3Dmolpromise.then(function() {\nviewer_15366932193119009 = $3Dmol.createViewer($(\"#3dmolviewer_15366932193119009\"),{backgroundColor:\"white\"});\n$3Dmol.download(\"pdb:1K4Q\", viewer_15366932193119009, {\"doAssembly\": false}, function() {\n\tviewer_15366932193119009.setStyle({\"cartoon\": {\"color\": \"spectrum\", \"width\": 0.6, \"opacity\": 0.8}});\n\tviewer_15366932193119009.setStyle({\"hetflag\": true},{\"stick\": {\"radius\": 0.3, \"singleBond\": false}});\n\tviewer_15366932193119009.addStyle({\"chain\": \"A\", \"resi\": [\"63\", \"417\", \"423\"], \"byres\": true, \"expand\": 6},{\"stick\": {\"colorscheme\": \"orangeCarbon\", \"radius\": 0.15}});\n\tviewer_15366932193119009.addStyle({\"chain\": \"A\", \"resi\": [\"63\", \"417\", \"423\"]},{\"stick\": {\"colorscheme\": \"redCarbon\", \"radius\": 0.4}});\n\tviewer_15366932193119009.addStyle({\"chain\": \"A\", \"resi\": [\"63\", \"417\", \"423\"]},{\"sphere\": {\"colorscheme\": \"gray\", \"opacity\": 0.7}});\n\tviewer_15366932193119009.addLabel(\"63: A549-RSOH\",{\"fontColor\": \"black\", \"fontSize\": 9, \"backgroundColor\": \"lightgray\"},{\"chain\": \"A\", \"resi\": \"63\"});\n\tviewer_15366932193119009.addLabel(\"417: A549-RSOH\",{\"fontColor\": \"black\", \"fontSize\": 9, \"backgroundColor\": \"lightgray\"},{\"chain\": \"A\", \"resi\": \"417\"});\n\tviewer_15366932193119009.addLabel(\"423: A549-RSOH\",{\"fontColor\": \"black\", \"fontSize\": 9, \"backgroundColor\": \"lightgray\"},{\"chain\": \"A\", \"resi\": \"423\"});\n\tviewer_15366932193119009.zoomTo({\"chain\": \"A\", \"resi\": [\"63\", \"417\", \"423\"], \"byres\": true, \"expand\": 6});\nviewer_15366932193119009.render();\n})\n});\n</script>"
         },
         "metadata": {},
         "output_type": "display_data"
        }
       ]
      }
     },
     "5c141377f628454497a33fd253cd9cce": {
      "model_module": "@jupyter-widgets/base",
      "model_module_version": "1.1.0",
      "model_name": "LayoutModel",
      "state": {}
     },
     "5c8057f5caa649108278a758b4214453": {
      "model_module": "@jupyter-widgets/controls",
      "model_module_version": "1.4.0",
      "model_name": "DescriptionStyleModel",
      "state": {
       "description_width": ""
      }
     },
     "5cc2ead94da74bb8ae102e038db5c0eb": {
      "model_module": "@jupyter-widgets/base",
      "model_module_version": "1.1.0",
      "model_name": "LayoutModel",
      "state": {}
     },
     "5e9cbbb44a1f4725af98c395c053631c": {
      "model_module": "@jupyter-widgets/controls",
      "model_module_version": "1.4.0",
      "model_name": "DescriptionStyleModel",
      "state": {
       "description_width": ""
      }
     },
     "60f48b9bcd424531a18980e57f9068cc": {
      "model_module": "@jupyter-widgets/controls",
      "model_module_version": "1.4.0",
      "model_name": "DescriptionStyleModel",
      "state": {
       "description_width": ""
      }
     },
     "618ae422e4f146cd96d7fe47eb7fad57": {
      "model_module": "@jupyter-widgets/controls",
      "model_module_version": "1.4.0",
      "model_name": "SliderStyleModel",
      "state": {
       "description_width": ""
      }
     },
     "61c50b1957194a0c859b860ff1964c44": {
      "model_module": "@jupyter-widgets/base",
      "model_module_version": "1.1.0",
      "model_name": "LayoutModel",
      "state": {}
     },
     "61e1d62bfd7241d390e9224489f263ac": {
      "model_module": "@jupyter-widgets/base",
      "model_module_version": "1.1.0",
      "model_name": "LayoutModel",
      "state": {}
     },
     "6239a1864d47488280b309317706392f": {
      "model_module": "@jupyter-widgets/controls",
      "model_module_version": "1.4.0",
      "model_name": "DescriptionStyleModel",
      "state": {
       "description_width": ""
      }
     },
     "632fb6fcd6e64f69b89c27be0e918f85": {
      "model_module": "@jupyter-widgets/controls",
      "model_module_version": "1.4.0",
      "model_name": "DescriptionStyleModel",
      "state": {
       "description_width": ""
      }
     },
     "64cf18ee95b94ab9bc2d51200bd0d974": {
      "model_module": "@jupyter-widgets/controls",
      "model_module_version": "1.4.0",
      "model_name": "CheckboxModel",
      "state": {
       "description": "show_surface",
       "disabled": false,
       "layout": "IPY_MODEL_d8b60e29cffa475c8dbd1425a2171b7b",
       "style": "IPY_MODEL_1329953239174d64ba661f3fe92409ed",
       "value": false
      }
     },
     "6610ff6e5ab44e0e96f8e44d94d85051": {
      "model_module": "@jupyter-widgets/controls",
      "model_module_version": "1.4.0",
      "model_name": "CheckboxModel",
      "state": {
       "description": "show_surface",
       "disabled": false,
       "layout": "IPY_MODEL_1e1189b6fd5945caafcb7a2ab434f78e",
       "style": "IPY_MODEL_b625056d57bb498fbd6ed824de2e59bb",
       "value": false
      }
     },
     "685ea99457d747209f2d1d8aed72c9ec": {
      "model_module": "@jupyter-widgets/controls",
      "model_module_version": "1.4.0",
      "model_name": "DescriptionStyleModel",
      "state": {
       "description_width": ""
      }
     },
     "6f11146fc1d145de8bf5e9b4d1ab6910": {
      "model_module": "@jupyter-widgets/base",
      "model_module_version": "1.1.0",
      "model_name": "LayoutModel",
      "state": {}
     },
     "6fc48036191f4639af43aa5c27a00a23": {
      "model_module": "@jupyter-widgets/controls",
      "model_module_version": "1.4.0",
      "model_name": "CheckboxModel",
      "state": {
       "description": "A549-RSOH",
       "disabled": false,
       "layout": "IPY_MODEL_2c7dd2b03f8045c58b585b0fa5842289",
       "style": "IPY_MODEL_5e9cbbb44a1f4725af98c395c053631c",
       "value": true
      }
     },
     "70c6ac81fb04419fbdcbdd5ab9d41ad0": {
      "model_module": "@jupyter-widgets/controls",
      "model_module_version": "1.4.0",
      "model_name": "CheckboxModel",
      "state": {
       "description": "HeLa-RSO2H",
       "disabled": false,
       "layout": "IPY_MODEL_16c111da17dd4e8aaf67dfcd82f68561",
       "style": "IPY_MODEL_16ad61d1e1f64dfbaecdc00fbad86b7c",
       "value": false
      }
     },
     "710eb854d3e34d678df7e0d90483dc3f": {
      "model_module": "@jupyter-widgets/controls",
      "model_module_version": "1.4.0",
      "model_name": "DescriptionStyleModel",
      "state": {
       "description_width": ""
      }
     },
     "71d0537641dc4137998f72a0c3fe0d13": {
      "model_module": "@jupyter-widgets/base",
      "model_module_version": "1.1.0",
      "model_name": "LayoutModel",
      "state": {}
     },
     "71d6103b0d5044f5bc33885e01e9a0e0": {
      "model_module": "@jupyter-widgets/controls",
      "model_module_version": "1.4.0",
      "model_name": "CheckboxModel",
      "state": {
       "description": "HeLa-RSO2H",
       "disabled": false,
       "layout": "IPY_MODEL_cd4fcdd606944251a5d3f033e291d511",
       "style": "IPY_MODEL_2a825b054a534f2793380f215d787c63",
       "value": false
      }
     },
     "72a74434ec62445584954155cbecccde": {
      "model_module": "@jupyter-widgets/base",
      "model_module_version": "1.1.0",
      "model_name": "LayoutModel",
      "state": {}
     },
     "72f49bf91a36459b8361f134a25ee1a7": {
      "model_module": "@jupyter-widgets/controls",
      "model_module_version": "1.4.0",
      "model_name": "DescriptionStyleModel",
      "state": {
       "description_width": ""
      }
     },
     "7307bd72e92a407f895b2065c5540d95": {
      "model_module": "@jupyter-widgets/controls",
      "model_module_version": "1.4.0",
      "model_name": "SliderStyleModel",
      "state": {
       "description_width": ""
      }
     },
     "73157c3691274e2ba1b5c5774e93db75": {
      "model_module": "@jupyter-widgets/controls",
      "model_module_version": "1.4.0",
      "model_name": "DescriptionStyleModel",
      "state": {
       "description_width": ""
      }
     },
     "77b94a7a8f424b8294e12886f5f9244a": {
      "model_module": "@jupyter-widgets/controls",
      "model_module_version": "1.4.0",
      "model_name": "SliderStyleModel",
      "state": {
       "description_width": ""
      }
     },
     "77c1656eaf8b4c459600f453038b5600": {
      "model_module": "@jupyter-widgets/controls",
      "model_module_version": "1.4.0",
      "model_name": "DescriptionStyleModel",
      "state": {
       "description_width": ""
      }
     },
     "7d517b9c6f2a4f7da0c151eb83481cca": {
      "model_module": "@jupyter-widgets/controls",
      "model_module_version": "1.4.0",
      "model_name": "DescriptionStyleModel",
      "state": {
       "description_width": ""
      }
     },
     "7db913b0d05c4bb7a6a2dfdfe62f0361": {
      "model_module": "@jupyter-widgets/controls",
      "model_module_version": "1.4.0",
      "model_name": "CheckboxModel",
      "state": {
       "description": "HeLa-RSOH",
       "disabled": false,
       "layout": "IPY_MODEL_e432b9ec91b24775b0447bd909aaa763",
       "style": "IPY_MODEL_d199f0ed2a154ca6a8e2ff1b809cb3c4",
       "value": false
      }
     },
     "7e1c3a6656ff46faa0c5538b4c080ac0": {
      "model_module": "@jupyter-widgets/base",
      "model_module_version": "1.1.0",
      "model_name": "LayoutModel",
      "state": {}
     },
     "7ebd391819804cf3aa467c213dc67962": {
      "model_module": "@jupyter-widgets/base",
      "model_module_version": "1.1.0",
      "model_name": "LayoutModel",
      "state": {}
     },
     "81152f523116476d85bdae6a849cf31b": {
      "model_module": "@jupyter-widgets/controls",
      "model_module_version": "1.4.0",
      "model_name": "CheckboxModel",
      "state": {
       "description": "A549-RSO2H",
       "disabled": false,
       "layout": "IPY_MODEL_2d7981f8c6e94a5ba75c3ea446991a3c",
       "style": "IPY_MODEL_ac13f25d0c2842468282876a4dcacdb7",
       "value": true
      }
     },
     "81c775f89a7b4941952e906b1aff9b62": {
      "model_module": "@jupyter-widgets/base",
      "model_module_version": "1.1.0",
      "model_name": "LayoutModel",
      "state": {}
     },
     "8233f2abdea74bb2a93bfeb73c72d0f3": {
      "model_module": "@jupyter-widgets/controls",
      "model_module_version": "1.4.0",
      "model_name": "CheckboxModel",
      "state": {
       "description": "HeLa-RSOH",
       "disabled": false,
       "layout": "IPY_MODEL_2de0db917b24400ca5b6d9a4be0d945f",
       "style": "IPY_MODEL_447b7b2b27a349168161c48197c93a57",
       "value": false
      }
     },
     "82cd132ca5a5439886a0edd045f210d5": {
      "model_module": "@jupyter-widgets/controls",
      "model_module_version": "1.4.0",
      "model_name": "DescriptionStyleModel",
      "state": {
       "description_width": ""
      }
     },
     "86b0226714724fbe9adce77d54f680bf": {
      "model_module": "@jupyter-widgets/base",
      "model_module_version": "1.1.0",
      "model_name": "LayoutModel",
      "state": {}
     },
     "888318087c4544108d3d385d0edcf5be": {
      "model_module": "@jupyter-widgets/controls",
      "model_module_version": "1.4.0",
      "model_name": "SliderStyleModel",
      "state": {
       "description_width": ""
      }
     },
     "895982192e87401eb2d1157e8c55a955": {
      "model_module": "@jupyter-widgets/controls",
      "model_module_version": "1.4.0",
      "model_name": "DescriptionStyleModel",
      "state": {
       "description_width": ""
      }
     },
     "89a677d59e5f4c9090d159e2e1a7d2f0": {
      "model_module": "@jupyter-widgets/base",
      "model_module_version": "1.1.0",
      "model_name": "LayoutModel",
      "state": {}
     },
     "89f4e79132cf4c0899a837e9cbdc85a5": {
      "model_module": "@jupyter-widgets/base",
      "model_module_version": "1.1.0",
      "model_name": "LayoutModel",
      "state": {}
     },
     "8a26cf7ec79745dda6b43711b371a5c3": {
      "model_module": "@jupyter-widgets/base",
      "model_module_version": "1.1.0",
      "model_name": "LayoutModel",
      "state": {}
     },
     "8a2fa0b9c6414f2eb5ec6c9ed37ca62d": {
      "model_module": "@jupyter-widgets/controls",
      "model_module_version": "1.4.0",
      "model_name": "DescriptionStyleModel",
      "state": {
       "description_width": ""
      }
     },
     "8c23a512d9f14561ab7bd9c8c32a1426": {
      "model_module": "@jupyter-widgets/controls",
      "model_module_version": "1.4.0",
      "model_name": "DescriptionStyleModel",
      "state": {
       "description_width": ""
      }
     },
     "8def9f06f75d4d7fbe66057553f65bbd": {
      "model_module": "@jupyter-widgets/controls",
      "model_module_version": "1.4.0",
      "model_name": "CheckboxModel",
      "state": {
       "description": "show_labels",
       "disabled": false,
       "layout": "IPY_MODEL_7e1c3a6656ff46faa0c5538b4c080ac0",
       "style": "IPY_MODEL_b1ba603b38934fb8896ede102a476bef",
       "value": true
      }
     },
     "8e31f9fb2f67450f9ec85de09cfef750": {
      "model_module": "@jupyter-widgets/controls",
      "model_module_version": "1.4.0",
      "model_name": "DescriptionStyleModel",
      "state": {
       "description_width": ""
      }
     },
     "8f576fedbb614244adc36225a41695c3": {
      "model_module": "@jupyter-widgets/base",
      "model_module_version": "1.1.0",
      "model_name": "LayoutModel",
      "state": {}
     },
     "8f9eb816d3fc47948cf429eedb162b2c": {
      "model_module": "@jupyter-widgets/base",
      "model_module_version": "1.1.0",
      "model_name": "LayoutModel",
      "state": {}
     },
     "9174fc98cf0a4076aebd89e860b3ae1d": {
      "model_module": "@jupyter-widgets/base",
      "model_module_version": "1.1.0",
      "model_name": "LayoutModel",
      "state": {}
     },
     "91df0fcff7604efd9a2481fbf393c638": {
      "model_module": "@jupyter-widgets/base",
      "model_module_version": "1.1.0",
      "model_name": "LayoutModel",
      "state": {}
     },
     "948b00d2f45d46a58462ab16fcd59230": {
      "model_module": "@jupyter-widgets/controls",
      "model_module_version": "1.4.0",
      "model_name": "CheckboxModel",
      "state": {
       "description": "HeLa-RSOH",
       "disabled": false,
       "layout": "IPY_MODEL_0d7dcebe6e834981a3338734191760ee",
       "style": "IPY_MODEL_632fb6fcd6e64f69b89c27be0e918f85",
       "value": true
      }
     },
     "95611dac491242aa8d40097aa736ad06": {
      "model_module": "@jupyter-widgets/base",
      "model_module_version": "1.1.0",
      "model_name": "LayoutModel",
      "state": {}
     },
     "95e8ba3b007842978226734ae0713130": {
      "model_module": "@jupyter-widgets/controls",
      "model_module_version": "1.4.0",
      "model_name": "IntSliderModel",
      "state": {
       "continuous_update": false,
       "description": "Structure",
       "layout": "IPY_MODEL_9cfeecdb347542e1b5b755a0e9db4e66",
       "max": 13,
       "style": "IPY_MODEL_7307bd72e92a407f895b2065c5540d95"
      }
     },
     "95e8dba2831148d9b94032ac68b0892b": {
      "model_module": "@jupyter-widgets/controls",
      "model_module_version": "1.4.0",
      "model_name": "IntSliderModel",
      "state": {
       "continuous_update": false,
       "description": "Structure",
       "layout": "IPY_MODEL_15030ecaef484c2daaa1e4d44e885256",
       "max": 15,
       "style": "IPY_MODEL_48b72e6f258542118236778cb93b4ba0",
       "value": 15
      }
     },
     "964fcb11195b442f97dce598d1760e36": {
      "model_module": "@jupyter-widgets/controls",
      "model_module_version": "1.4.0",
      "model_name": "CheckboxModel",
      "state": {
       "description": "A549-RSO2H",
       "disabled": false,
       "layout": "IPY_MODEL_4d9276771c9342dda3835495410b829f",
       "style": "IPY_MODEL_c65ba7679a9d498281bbe28be003a560",
       "value": true
      }
     },
     "9ace33b9882b45d2a421da36436cf2aa": {
      "model_module": "@jupyter-widgets/base",
      "model_module_version": "1.1.0",
      "model_name": "LayoutModel",
      "state": {}
     },
     "9c49935f00a449e89b6ef9e642fa9dfd": {
      "model_module": "@jupyter-widgets/controls",
      "model_module_version": "1.4.0",
      "model_name": "VBoxModel",
      "state": {
       "_dom_classes": [
        "widget-interact"
       ],
       "children": [
        "IPY_MODEL_fd09bd628b674b64913854d8ef3a1b0b",
        "IPY_MODEL_fa7d5ab9b06b4da2930892e3c94eadb7",
        "IPY_MODEL_36fc1c2bbc3e43d68df8d7fb9e3b447b",
        "IPY_MODEL_95e8ba3b007842978226734ae0713130",
        "IPY_MODEL_a2190282062b42c6bcb1a39b6244772c"
       ],
       "layout": "IPY_MODEL_4c5cc1b4b9ce42758b08aa2f9ff7f55f"
      }
     },
     "9cfeecdb347542e1b5b755a0e9db4e66": {
      "model_module": "@jupyter-widgets/base",
      "model_module_version": "1.1.0",
      "model_name": "LayoutModel",
      "state": {}
     },
     "9d447fceb04843d7a07a640cbbbe3fab": {
      "model_module": "@jupyter-widgets/controls",
      "model_module_version": "1.4.0",
      "model_name": "DescriptionStyleModel",
      "state": {
       "description_width": ""
      }
     },
     "9d73f1d65654426b820c132cd7f789e7": {
      "model_module": "@jupyter-widgets/controls",
      "model_module_version": "1.4.0",
      "model_name": "VBoxModel",
      "state": {
       "_dom_classes": [
        "widget-interact"
       ],
       "children": [
        "IPY_MODEL_8def9f06f75d4d7fbe66057553f65bbd",
        "IPY_MODEL_39701589c0014789874737df205787fd",
        "IPY_MODEL_541068b699aa4553b81bd228c19997b5",
        "IPY_MODEL_c39263724151482a8cf25711d846d122",
        "IPY_MODEL_32dd1182f0b648e692407c28e6d24f8e"
       ],
       "layout": "IPY_MODEL_8a26cf7ec79745dda6b43711b371a5c3"
      }
     },
     "9ed4403b5581475b99f836763b4b4c8d": {
      "model_module": "@jupyter-widgets/base",
      "model_module_version": "1.1.0",
      "model_name": "LayoutModel",
      "state": {}
     },
     "9f5f23d73fe44606b56b4f497a7dbbb3": {
      "model_module": "@jupyter-widgets/controls",
      "model_module_version": "1.4.0",
      "model_name": "CheckboxModel",
      "state": {
       "description": "show_labels",
       "disabled": false,
       "layout": "IPY_MODEL_b3e853bd73024fafa029c257eca29fb6",
       "style": "IPY_MODEL_025a61c83a294bd4a427446c95c956f8",
       "value": true
      }
     },
     "9fb9204cf4fb4a9aa6ef6f46a875b44f": {
      "model_module": "@jupyter-widgets/controls",
      "model_module_version": "1.4.0",
      "model_name": "CheckboxModel",
      "state": {
       "description": "A549-RSOH",
       "disabled": false,
       "layout": "IPY_MODEL_34dd929d0b0a4674b3a37067adc9c21a",
       "style": "IPY_MODEL_17b452f982d4472bb1ba73840e98b068",
       "value": true
      }
     },
     "a1123cefa98d40cfa2caa77ded9ccac0": {
      "model_module": "@jupyter-widgets/controls",
      "model_module_version": "1.4.0",
      "model_name": "VBoxModel",
      "state": {
       "_dom_classes": [
        "widget-interact"
       ],
       "children": [
        "IPY_MODEL_0579a400276f457795228fc4b86f4b65",
        "IPY_MODEL_447c48285c6a43caaa37b1c6d57040ed",
        "IPY_MODEL_381ec1fb147b4c59b86aac2e9d3d5b33",
        "IPY_MODEL_f154cf3343004497811a07b8f29a1ad9",
        "IPY_MODEL_5c020d42dd1b47ae81e9ab96f78c8b5d"
       ],
       "layout": "IPY_MODEL_e1d2a36b36ac4d02b1c21025519aebe6"
      }
     },
     "a16a92e50e4949df8ad8ae7de7b93296": {
      "model_module": "@jupyter-widgets/base",
      "model_module_version": "1.1.0",
      "model_name": "LayoutModel",
      "state": {}
     },
     "a18e02c430114714994fbe828140f0a4": {
      "model_module": "@jupyter-widgets/base",
      "model_module_version": "1.1.0",
      "model_name": "LayoutModel",
      "state": {}
     },
     "a1e8581c26b64b2f8bee77934b4e8685": {
      "model_module": "@jupyter-widgets/controls",
      "model_module_version": "1.4.0",
      "model_name": "DescriptionStyleModel",
      "state": {
       "description_width": ""
      }
     },
     "a2190282062b42c6bcb1a39b6244772c": {
      "model_module": "@jupyter-widgets/output",
      "model_module_version": "1.0.0",
      "model_name": "OutputModel",
      "state": {
       "layout": "IPY_MODEL_cb4ecea3adc8431282640e34874809d4",
       "outputs": [
        {
         "name": "stdout",
         "output_type": "stream",
         "text": "PDB Id: 1W6N chain Id: A\nuniprotAccession: P09382\nDescription: Galectin-1 OS=Homo sapiens GN=LGALS1 PE=1 SV=2\n"
        },
        {
         "data": {
          "application/3dmoljs_load.v0": "<div id=\"3dmolviewer_1536707849348072\"  style=\"position: relative; width: 640px; height: 480px\">\n        <p id=\"3dmolwarning_1536707849348072\" style=\"background-color:#ffcccc;color:black\">You appear to be running in JupyterLab (or JavaScript failed to load for some other reason).  You need to install the 3dmol extension: <br>\n        <tt>jupyter labextension install jupyterlab_3dmol</tt></p>\n        </div>\n<script>\n\nvar loadScriptAsync = function(uri){\n  return new Promise((resolve, reject) => {\n    var tag = document.createElement('script');\n    tag.src = uri;\n    tag.async = true;\n    tag.onload = () => {\n      resolve();\n    };\n  var firstScriptTag = document.getElementsByTagName('script')[0];\n  firstScriptTag.parentNode.insertBefore(tag, firstScriptTag);\n});\n};\n\nif(typeof $3Dmolpromise === 'undefined') {\n$3Dmolpromise = null;\n  $3Dmolpromise = loadScriptAsync('https://3dmol.csb.pitt.edu/build/3Dmol.js');\n}\n\nvar viewer_1536707849348072 = null;\nvar warn = document.getElementById(\"3dmolwarning_1536707849348072\");\nif(warn) {\n    warn.parentNode.removeChild(warn);\n}\n$3Dmolpromise.then(function() {\nviewer_1536707849348072 = $3Dmol.createViewer($(\"#3dmolviewer_1536707849348072\"),{backgroundColor:\"white\"});\n$3Dmol.download(\"pdb:1W6N\", viewer_1536707849348072, {\"doAssembly\": false}, function() {\n\tviewer_1536707849348072.setStyle({\"cartoon\": {\"color\": \"spectrum\", \"width\": 0.6, \"opacity\": 0.8}});\n\tviewer_1536707849348072.setStyle({\"hetflag\": true},{\"stick\": {\"radius\": 0.3, \"singleBond\": false}});\n\tviewer_1536707849348072.addStyle({\"chain\": \"A\", \"resi\": [\"1016\"], \"byres\": true, \"expand\": 6},{\"stick\": {\"colorscheme\": \"orangeCarbon\", \"radius\": 0.15}});\n\tviewer_1536707849348072.addStyle({\"chain\": \"A\", \"resi\": [\"1016\"]},{\"stick\": {\"colorscheme\": \"redCarbon\", \"radius\": 0.4}});\n\tviewer_1536707849348072.addStyle({\"chain\": \"A\", \"resi\": [\"1016\"]},{\"sphere\": {\"colorscheme\": \"gray\", \"opacity\": 0.7}});\n\tviewer_1536707849348072.addLabel(\"1016: HeLa-RSOH\",{\"fontColor\": \"black\", \"fontSize\": 9, \"backgroundColor\": \"lightgray\"},{\"chain\": \"A\", \"resi\": \"1016\"});\n\tviewer_1536707849348072.zoomTo({\"chain\": \"A\", \"resi\": [\"1016\"], \"byres\": true, \"expand\": 6});\nviewer_1536707849348072.render();\n})\n});\n</script>",
          "text/html": "<div id=\"3dmolviewer_1536707849348072\"  style=\"position: relative; width: 640px; height: 480px\">\n        <p id=\"3dmolwarning_1536707849348072\" style=\"background-color:#ffcccc;color:black\">You appear to be running in JupyterLab (or JavaScript failed to load for some other reason).  You need to install the 3dmol extension: <br>\n        <tt>jupyter labextension install jupyterlab_3dmol</tt></p>\n        </div>\n<script>\n\nvar loadScriptAsync = function(uri){\n  return new Promise((resolve, reject) => {\n    var tag = document.createElement('script');\n    tag.src = uri;\n    tag.async = true;\n    tag.onload = () => {\n      resolve();\n    };\n  var firstScriptTag = document.getElementsByTagName('script')[0];\n  firstScriptTag.parentNode.insertBefore(tag, firstScriptTag);\n});\n};\n\nif(typeof $3Dmolpromise === 'undefined') {\n$3Dmolpromise = null;\n  $3Dmolpromise = loadScriptAsync('https://3dmol.csb.pitt.edu/build/3Dmol.js');\n}\n\nvar viewer_1536707849348072 = null;\nvar warn = document.getElementById(\"3dmolwarning_1536707849348072\");\nif(warn) {\n    warn.parentNode.removeChild(warn);\n}\n$3Dmolpromise.then(function() {\nviewer_1536707849348072 = $3Dmol.createViewer($(\"#3dmolviewer_1536707849348072\"),{backgroundColor:\"white\"});\n$3Dmol.download(\"pdb:1W6N\", viewer_1536707849348072, {\"doAssembly\": false}, function() {\n\tviewer_1536707849348072.setStyle({\"cartoon\": {\"color\": \"spectrum\", \"width\": 0.6, \"opacity\": 0.8}});\n\tviewer_1536707849348072.setStyle({\"hetflag\": true},{\"stick\": {\"radius\": 0.3, \"singleBond\": false}});\n\tviewer_1536707849348072.addStyle({\"chain\": \"A\", \"resi\": [\"1016\"], \"byres\": true, \"expand\": 6},{\"stick\": {\"colorscheme\": \"orangeCarbon\", \"radius\": 0.15}});\n\tviewer_1536707849348072.addStyle({\"chain\": \"A\", \"resi\": [\"1016\"]},{\"stick\": {\"colorscheme\": \"redCarbon\", \"radius\": 0.4}});\n\tviewer_1536707849348072.addStyle({\"chain\": \"A\", \"resi\": [\"1016\"]},{\"sphere\": {\"colorscheme\": \"gray\", \"opacity\": 0.7}});\n\tviewer_1536707849348072.addLabel(\"1016: HeLa-RSOH\",{\"fontColor\": \"black\", \"fontSize\": 9, \"backgroundColor\": \"lightgray\"},{\"chain\": \"A\", \"resi\": \"1016\"});\n\tviewer_1536707849348072.zoomTo({\"chain\": \"A\", \"resi\": [\"1016\"], \"byres\": true, \"expand\": 6});\nviewer_1536707849348072.render();\n})\n});\n</script>"
         },
         "metadata": {},
         "output_type": "display_data"
        }
       ]
      }
     },
     "a28b6ccc849642349f3460a8a5788d43": {
      "model_module": "@jupyter-widgets/controls",
      "model_module_version": "1.4.0",
      "model_name": "DescriptionStyleModel",
      "state": {
       "description_width": ""
      }
     },
     "a3aba7aa0d0540c489f7b81fb8d84b55": {
      "model_module": "@jupyter-widgets/controls",
      "model_module_version": "1.4.0",
      "model_name": "CheckboxModel",
      "state": {
       "description": "A549-RSO2H",
       "disabled": false,
       "layout": "IPY_MODEL_dff8bfcc05d64f2b8441c8ff573d6f6a",
       "style": "IPY_MODEL_710eb854d3e34d678df7e0d90483dc3f",
       "value": true
      }
     },
     "a544e9b8fb004121b029fbde08f030ca": {
      "model_module": "@jupyter-widgets/controls",
      "model_module_version": "1.4.0",
      "model_name": "CheckboxModel",
      "state": {
       "description": "show_bio_assembly",
       "disabled": false,
       "layout": "IPY_MODEL_169d72d3f0f74ce683113f1f9fd99a8c",
       "style": "IPY_MODEL_72f49bf91a36459b8361f134a25ee1a7",
       "value": false
      }
     },
     "a5ff104f48ee42d09f9d4e43a6524cdb": {
      "model_module": "@jupyter-widgets/controls",
      "model_module_version": "1.4.0",
      "model_name": "CheckboxModel",
      "state": {
       "description": "A549-RSO2H",
       "disabled": false,
       "layout": "IPY_MODEL_1a3bc02e92534ecfacb358f1c1538a22",
       "style": "IPY_MODEL_c51d02593a014136863eecc2f98e1fc1",
       "value": true
      }
     },
     "a9207b038d2c4a8cab193e96bf27efb2": {
      "model_module": "@jupyter-widgets/base",
      "model_module_version": "1.1.0",
      "model_name": "LayoutModel",
      "state": {}
     },
     "aaa12b387bdb4166a7371a03a59c99ca": {
      "model_module": "@jupyter-widgets/controls",
      "model_module_version": "1.4.0",
      "model_name": "VBoxModel",
      "state": {
       "_dom_classes": [
        "widget-interact"
       ],
       "children": [
        "IPY_MODEL_9f5f23d73fe44606b56b4f497a7dbbb3",
        "IPY_MODEL_a544e9b8fb004121b029fbde08f030ca",
        "IPY_MODEL_140ac521bd364e238780d67967c5e62b",
        "IPY_MODEL_541b6a3194df4a3594e9bb04e90fc3eb",
        "IPY_MODEL_e5d1136f67d74a0c882d3ed58183b2d1"
       ],
       "layout": "IPY_MODEL_9ed4403b5581475b99f836763b4b4c8d"
      }
     },
     "ac13f25d0c2842468282876a4dcacdb7": {
      "model_module": "@jupyter-widgets/controls",
      "model_module_version": "1.4.0",
      "model_name": "DescriptionStyleModel",
      "state": {
       "description_width": ""
      }
     },
     "ad4c966a2fc64f14aed00eef4e8a9759": {
      "model_module": "@jupyter-widgets/base",
      "model_module_version": "1.1.0",
      "model_name": "LayoutModel",
      "state": {}
     },
     "ad7e5c457b8947a4b11deebfb409d29b": {
      "model_module": "@jupyter-widgets/output",
      "model_module_version": "1.0.0",
      "model_name": "OutputModel",
      "state": {
       "layout": "IPY_MODEL_ad4c966a2fc64f14aed00eef4e8a9759",
       "outputs": [
        {
         "name": "stdout",
         "output_type": "stream",
         "text": "PDB Id: 1K4Q chain Id: A\nuniprotAccession: P00390\nDescription: Glutathione reductase, mitochondrial OS=Homo sapiens GN=GSR PE=1 SV=2\n"
        },
        {
         "data": {
          "application/3dmoljs_load.v0": "<div id=\"3dmolviewer_1536692789494029\"  style=\"position: relative; width: 640px; height: 480px\">\n        <p id=\"3dmolwarning_1536692789494029\" style=\"background-color:#ffcccc;color:black\">You appear to be running in JupyterLab (or JavaScript failed to load for some other reason).  You need to install the 3dmol extension: <br>\n        <tt>jupyter labextension install jupyterlab_3dmol</tt></p>\n        </div>\n<script>\n\nvar loadScriptAsync = function(uri){\n  return new Promise((resolve, reject) => {\n    var tag = document.createElement('script');\n    tag.src = uri;\n    tag.async = true;\n    tag.onload = () => {\n      resolve();\n    };\n  var firstScriptTag = document.getElementsByTagName('script')[0];\n  firstScriptTag.parentNode.insertBefore(tag, firstScriptTag);\n});\n};\n\nif(typeof $3Dmolpromise === 'undefined') {\n$3Dmolpromise = null;\n  $3Dmolpromise = loadScriptAsync('https://3dmol.csb.pitt.edu/build/3Dmol.js');\n}\n\nvar viewer_1536692789494029 = null;\nvar warn = document.getElementById(\"3dmolwarning_1536692789494029\");\nif(warn) {\n    warn.parentNode.removeChild(warn);\n}\n$3Dmolpromise.then(function() {\nviewer_1536692789494029 = $3Dmol.createViewer($(\"#3dmolviewer_1536692789494029\"),{backgroundColor:\"white\"});\n$3Dmol.download(\"pdb:1K4Q\", viewer_1536692789494029, {\"doAssembly\": false}, function() {\n\tviewer_1536692789494029.setStyle({\"cartoon\": {\"color\": \"spectrum\", \"width\": 0.6, \"opacity\": 0.8}});\n\tviewer_1536692789494029.setStyle({\"hetflag\": true},{\"stick\": {\"radius\": 0.3, \"singleBond\": false}});\n\tviewer_1536692789494029.addStyle({\"chain\": \"A\", \"resi\": [\"63\", \"417\", \"423\"], \"byres\": true, \"expand\": 6},{\"stick\": {\"colorscheme\": \"orangeCarbon\", \"radius\": 0.15}});\n\tviewer_1536692789494029.addStyle({\"chain\": \"A\", \"resi\": [\"63\", \"417\", \"423\"]},{\"stick\": {\"colorscheme\": \"redCarbon\", \"radius\": 0.4}});\n\tviewer_1536692789494029.addStyle({\"chain\": \"A\", \"resi\": [\"63\", \"417\", \"423\"]},{\"sphere\": {\"colorscheme\": \"gray\", \"opacity\": 0.7}});\n\tviewer_1536692789494029.addLabel(\"63: A549-RSOH\",{\"fontColor\": \"black\", \"fontSize\": 9, \"backgroundColor\": \"lightgray\"},{\"chain\": \"A\", \"resi\": \"63\"});\n\tviewer_1536692789494029.addLabel(\"417: A549-RSOH\",{\"fontColor\": \"black\", \"fontSize\": 9, \"backgroundColor\": \"lightgray\"},{\"chain\": \"A\", \"resi\": \"417\"});\n\tviewer_1536692789494029.addLabel(\"423: A549-RSOH\",{\"fontColor\": \"black\", \"fontSize\": 9, \"backgroundColor\": \"lightgray\"},{\"chain\": \"A\", \"resi\": \"423\"});\n\tviewer_1536692789494029.zoomTo({\"chain\": \"A\", \"resi\": [\"63\", \"417\", \"423\"], \"byres\": true, \"expand\": 6});\nviewer_1536692789494029.render();\n})\n});\n</script>",
          "text/html": "<div id=\"3dmolviewer_1536692789494029\"  style=\"position: relative; width: 640px; height: 480px\">\n        <p id=\"3dmolwarning_1536692789494029\" style=\"background-color:#ffcccc;color:black\">You appear to be running in JupyterLab (or JavaScript failed to load for some other reason).  You need to install the 3dmol extension: <br>\n        <tt>jupyter labextension install jupyterlab_3dmol</tt></p>\n        </div>\n<script>\n\nvar loadScriptAsync = function(uri){\n  return new Promise((resolve, reject) => {\n    var tag = document.createElement('script');\n    tag.src = uri;\n    tag.async = true;\n    tag.onload = () => {\n      resolve();\n    };\n  var firstScriptTag = document.getElementsByTagName('script')[0];\n  firstScriptTag.parentNode.insertBefore(tag, firstScriptTag);\n});\n};\n\nif(typeof $3Dmolpromise === 'undefined') {\n$3Dmolpromise = null;\n  $3Dmolpromise = loadScriptAsync('https://3dmol.csb.pitt.edu/build/3Dmol.js');\n}\n\nvar viewer_1536692789494029 = null;\nvar warn = document.getElementById(\"3dmolwarning_1536692789494029\");\nif(warn) {\n    warn.parentNode.removeChild(warn);\n}\n$3Dmolpromise.then(function() {\nviewer_1536692789494029 = $3Dmol.createViewer($(\"#3dmolviewer_1536692789494029\"),{backgroundColor:\"white\"});\n$3Dmol.download(\"pdb:1K4Q\", viewer_1536692789494029, {\"doAssembly\": false}, function() {\n\tviewer_1536692789494029.setStyle({\"cartoon\": {\"color\": \"spectrum\", \"width\": 0.6, \"opacity\": 0.8}});\n\tviewer_1536692789494029.setStyle({\"hetflag\": true},{\"stick\": {\"radius\": 0.3, \"singleBond\": false}});\n\tviewer_1536692789494029.addStyle({\"chain\": \"A\", \"resi\": [\"63\", \"417\", \"423\"], \"byres\": true, \"expand\": 6},{\"stick\": {\"colorscheme\": \"orangeCarbon\", \"radius\": 0.15}});\n\tviewer_1536692789494029.addStyle({\"chain\": \"A\", \"resi\": [\"63\", \"417\", \"423\"]},{\"stick\": {\"colorscheme\": \"redCarbon\", \"radius\": 0.4}});\n\tviewer_1536692789494029.addStyle({\"chain\": \"A\", \"resi\": [\"63\", \"417\", \"423\"]},{\"sphere\": {\"colorscheme\": \"gray\", \"opacity\": 0.7}});\n\tviewer_1536692789494029.addLabel(\"63: A549-RSOH\",{\"fontColor\": \"black\", \"fontSize\": 9, \"backgroundColor\": \"lightgray\"},{\"chain\": \"A\", \"resi\": \"63\"});\n\tviewer_1536692789494029.addLabel(\"417: A549-RSOH\",{\"fontColor\": \"black\", \"fontSize\": 9, \"backgroundColor\": \"lightgray\"},{\"chain\": \"A\", \"resi\": \"417\"});\n\tviewer_1536692789494029.addLabel(\"423: A549-RSOH\",{\"fontColor\": \"black\", \"fontSize\": 9, \"backgroundColor\": \"lightgray\"},{\"chain\": \"A\", \"resi\": \"423\"});\n\tviewer_1536692789494029.zoomTo({\"chain\": \"A\", \"resi\": [\"63\", \"417\", \"423\"], \"byres\": true, \"expand\": 6});\nviewer_1536692789494029.render();\n})\n});\n</script>"
         },
         "metadata": {},
         "output_type": "display_data"
        }
       ]
      }
     },
     "ae633ad940754758a9406887b8b1d9b8": {
      "model_module": "@jupyter-widgets/controls",
      "model_module_version": "1.4.0",
      "model_name": "DescriptionStyleModel",
      "state": {
       "description_width": ""
      }
     },
     "aeea1aa2a3f4467283aefa08504bea55": {
      "model_module": "@jupyter-widgets/controls",
      "model_module_version": "1.4.0",
      "model_name": "CheckboxModel",
      "state": {
       "description": "A549-RSOH",
       "disabled": false,
       "layout": "IPY_MODEL_cc0319ad142e47a68201abe9ba9ed198",
       "style": "IPY_MODEL_8e31f9fb2f67450f9ec85de09cfef750",
       "value": true
      }
     },
     "afbcb9ea26f74d6e83dbb66e45cab0c7": {
      "model_module": "@jupyter-widgets/controls",
      "model_module_version": "1.4.0",
      "model_name": "CheckboxModel",
      "state": {
       "description": "HeLa-RSOH",
       "disabled": false,
       "layout": "IPY_MODEL_e04ad6c675d24919a83ff6d2335c7f7d",
       "style": "IPY_MODEL_13f07072e4a84ad9882cce6753564b20",
       "value": false
      }
     },
     "b07eace20a10420e87a23cbd362dca60": {
      "model_module": "@jupyter-widgets/controls",
      "model_module_version": "1.4.0",
      "model_name": "IntSliderModel",
      "state": {
       "continuous_update": false,
       "description": "Structure",
       "layout": "IPY_MODEL_d15eed065fc44e6795d01ee8d5eea40f",
       "max": 946,
       "style": "IPY_MODEL_3db9c92e05bb4727afc7db8512cd8da7"
      }
     },
     "b138a4b826164f968975c5ddb516aa2e": {
      "model_module": "@jupyter-widgets/controls",
      "model_module_version": "1.4.0",
      "model_name": "DescriptionStyleModel",
      "state": {
       "description_width": ""
      }
     },
     "b1ba603b38934fb8896ede102a476bef": {
      "model_module": "@jupyter-widgets/controls",
      "model_module_version": "1.4.0",
      "model_name": "DescriptionStyleModel",
      "state": {
       "description_width": ""
      }
     },
     "b3e853bd73024fafa029c257eca29fb6": {
      "model_module": "@jupyter-widgets/base",
      "model_module_version": "1.1.0",
      "model_name": "LayoutModel",
      "state": {}
     },
     "b44763c58cf146c59b705a375cff5bb9": {
      "model_module": "@jupyter-widgets/controls",
      "model_module_version": "1.4.0",
      "model_name": "DescriptionStyleModel",
      "state": {
       "description_width": ""
      }
     },
     "b495f94314d2479e850066cc8e09676f": {
      "model_module": "@jupyter-widgets/base",
      "model_module_version": "1.1.0",
      "model_name": "LayoutModel",
      "state": {}
     },
     "b5e5c6bb59b1487a9c28145e2e1c90c4": {
      "model_module": "@jupyter-widgets/controls",
      "model_module_version": "1.4.0",
      "model_name": "CheckboxModel",
      "state": {
       "description": "A549-RSOH",
       "disabled": false,
       "layout": "IPY_MODEL_5c141377f628454497a33fd253cd9cce",
       "style": "IPY_MODEL_685ea99457d747209f2d1d8aed72c9ec",
       "value": true
      }
     },
     "b625056d57bb498fbd6ed824de2e59bb": {
      "model_module": "@jupyter-widgets/controls",
      "model_module_version": "1.4.0",
      "model_name": "DescriptionStyleModel",
      "state": {
       "description_width": ""
      }
     },
     "b7bf4f5422704c2bbbff41d63557ceb6": {
      "model_module": "@jupyter-widgets/controls",
      "model_module_version": "1.4.0",
      "model_name": "CheckboxModel",
      "state": {
       "description": "HeLa-RSO2H",
       "disabled": false,
       "layout": "IPY_MODEL_0f9cc4a2e04749fba4495525d304a93d",
       "style": "IPY_MODEL_03a6fe6e9da8498c978c4aa36834fa56",
       "value": false
      }
     },
     "b927dea10dac4313aedbbed7ddab7f79": {
      "model_module": "@jupyter-widgets/controls",
      "model_module_version": "1.4.0",
      "model_name": "CheckboxModel",
      "state": {
       "description": "HeLa-RSOH",
       "disabled": false,
       "layout": "IPY_MODEL_8f576fedbb614244adc36225a41695c3",
       "style": "IPY_MODEL_2f77cada7e7e479b86173c5dde6389ff",
       "value": false
      }
     },
     "b965e71b6bfb48728a09bd47c3292cbd": {
      "model_module": "@jupyter-widgets/controls",
      "model_module_version": "1.4.0",
      "model_name": "DescriptionStyleModel",
      "state": {
       "description_width": ""
      }
     },
     "b9660d1ba93043fda30c90650ceee239": {
      "model_module": "@jupyter-widgets/controls",
      "model_module_version": "1.4.0",
      "model_name": "VBoxModel",
      "state": {
       "_dom_classes": [
        "widget-interact"
       ],
       "children": [
        "IPY_MODEL_2fbdbc7ed2f443c2884e3975072205ce",
        "IPY_MODEL_54c99cca3a164fb598f184ffc42227a8",
        "IPY_MODEL_228b56dec50e4283a7b6ed6e1883f190",
        "IPY_MODEL_e5e77a93e0b241529f2f44aacd6e97b3",
        "IPY_MODEL_ec99bd9b234b49f080f625b903b5d911"
       ],
       "layout": "IPY_MODEL_e5b3313283e84913b185589fe4f98c9b"
      }
     },
     "bc993167a7c541528fc2b9309b3b1b0d": {
      "model_module": "@jupyter-widgets/controls",
      "model_module_version": "1.4.0",
      "model_name": "CheckboxModel",
      "state": {
       "description": "HeLa-RSOH",
       "disabled": false,
       "layout": "IPY_MODEL_9ace33b9882b45d2a421da36436cf2aa",
       "style": "IPY_MODEL_22958713c1eb40f4bd1c0d19a48a8cfd",
       "value": false
      }
     },
     "bd1b8d9b778a4fb3a50e3bc4b14c2444": {
      "model_module": "@jupyter-widgets/controls",
      "model_module_version": "1.4.0",
      "model_name": "CheckboxModel",
      "state": {
       "description": "HeLa-RSO2H",
       "disabled": false,
       "layout": "IPY_MODEL_89f4e79132cf4c0899a837e9cbdc85a5",
       "style": "IPY_MODEL_f1824191663247ab8b55232576bb2161",
       "value": false
      }
     },
     "bda4c52e03944c5b83d8d6e1352a4743": {
      "model_module": "@jupyter-widgets/controls",
      "model_module_version": "1.4.0",
      "model_name": "CheckboxModel",
      "state": {
       "description": "A549-RSO2H",
       "disabled": false,
       "layout": "IPY_MODEL_7ebd391819804cf3aa467c213dc67962",
       "style": "IPY_MODEL_0bf52c6888964ab092ea7153f815b355",
       "value": true
      }
     },
     "bdb1d031bec247ecb791c161bce36ab8": {
      "model_module": "@jupyter-widgets/base",
      "model_module_version": "1.1.0",
      "model_name": "LayoutModel",
      "state": {}
     },
     "beddbdceb1b641f88c9c7515db5bb514": {
      "model_module": "@jupyter-widgets/base",
      "model_module_version": "1.1.0",
      "model_name": "LayoutModel",
      "state": {}
     },
     "c195ab9232e74496805371c6a6ca63a8": {
      "model_module": "@jupyter-widgets/base",
      "model_module_version": "1.1.0",
      "model_name": "LayoutModel",
      "state": {}
     },
     "c1d40bf83a0d4e3b87fdf022a03c8b94": {
      "model_module": "@jupyter-widgets/controls",
      "model_module_version": "1.4.0",
      "model_name": "CheckboxModel",
      "state": {
       "description": "A549-RSOH",
       "disabled": false,
       "layout": "IPY_MODEL_f998aa182bd3494a83d3d818eb693dc3",
       "style": "IPY_MODEL_5540b57c512846efaec261d1ed726f30",
       "value": true
      }
     },
     "c39263724151482a8cf25711d846d122": {
      "model_module": "@jupyter-widgets/controls",
      "model_module_version": "1.4.0",
      "model_name": "IntSliderModel",
      "state": {
       "continuous_update": false,
       "description": "Structure",
       "layout": "IPY_MODEL_3779790f17854f5180c23592dca0f730",
       "max": 15,
       "style": "IPY_MODEL_888318087c4544108d3d385d0edcf5be"
      }
     },
     "c3a791ab6f624fff86cf4e2c81f9b370": {
      "model_module": "@jupyter-widgets/controls",
      "model_module_version": "1.4.0",
      "model_name": "CheckboxModel",
      "state": {
       "description": "HeLa-RSO2H",
       "disabled": false,
       "layout": "IPY_MODEL_e3a0a2f9334c42948ede866582c008b6",
       "style": "IPY_MODEL_b44763c58cf146c59b705a375cff5bb9",
       "value": false
      }
     },
     "c51d02593a014136863eecc2f98e1fc1": {
      "model_module": "@jupyter-widgets/controls",
      "model_module_version": "1.4.0",
      "model_name": "DescriptionStyleModel",
      "state": {
       "description_width": ""
      }
     },
     "c55e61181ee34dfa9f946848aad8e77c": {
      "model_module": "@jupyter-widgets/controls",
      "model_module_version": "1.4.0",
      "model_name": "CheckboxModel",
      "state": {
       "description": "HeLa-RSO2H",
       "disabled": false,
       "layout": "IPY_MODEL_f8b1166950724bffbafa0ac345ae897d",
       "style": "IPY_MODEL_5c8057f5caa649108278a758b4214453",
       "value": false
      }
     },
     "c65ba7679a9d498281bbe28be003a560": {
      "model_module": "@jupyter-widgets/controls",
      "model_module_version": "1.4.0",
      "model_name": "DescriptionStyleModel",
      "state": {
       "description_width": ""
      }
     },
     "c83f24cecbbc46d39f1bc646bc2b7255": {
      "model_module": "@jupyter-widgets/controls",
      "model_module_version": "1.4.0",
      "model_name": "DescriptionStyleModel",
      "state": {
       "description_width": ""
      }
     },
     "ca3255864d42449c80ff2529fb1c7787": {
      "model_module": "@jupyter-widgets/base",
      "model_module_version": "1.1.0",
      "model_name": "LayoutModel",
      "state": {}
     },
     "cb4ecea3adc8431282640e34874809d4": {
      "model_module": "@jupyter-widgets/base",
      "model_module_version": "1.1.0",
      "model_name": "LayoutModel",
      "state": {}
     },
     "cc0319ad142e47a68201abe9ba9ed198": {
      "model_module": "@jupyter-widgets/base",
      "model_module_version": "1.1.0",
      "model_name": "LayoutModel",
      "state": {}
     },
     "cd4fcdd606944251a5d3f033e291d511": {
      "model_module": "@jupyter-widgets/base",
      "model_module_version": "1.1.0",
      "model_name": "LayoutModel",
      "state": {}
     },
     "d15eed065fc44e6795d01ee8d5eea40f": {
      "model_module": "@jupyter-widgets/base",
      "model_module_version": "1.1.0",
      "model_name": "LayoutModel",
      "state": {}
     },
     "d199f0ed2a154ca6a8e2ff1b809cb3c4": {
      "model_module": "@jupyter-widgets/controls",
      "model_module_version": "1.4.0",
      "model_name": "DescriptionStyleModel",
      "state": {
       "description_width": ""
      }
     },
     "d4da932600414f289989b0dc0c0a9c46": {
      "model_module": "@jupyter-widgets/controls",
      "model_module_version": "1.4.0",
      "model_name": "CheckboxModel",
      "state": {
       "description": "HeLa-RSOH",
       "disabled": false,
       "layout": "IPY_MODEL_f556e8b8db244da0b76490642383730c",
       "style": "IPY_MODEL_6239a1864d47488280b309317706392f",
       "value": true
      }
     },
     "d5a0247019b6467e9de9d16bcf3f727b": {
      "model_module": "@jupyter-widgets/base",
      "model_module_version": "1.1.0",
      "model_name": "LayoutModel",
      "state": {}
     },
     "d8b60e29cffa475c8dbd1425a2171b7b": {
      "model_module": "@jupyter-widgets/base",
      "model_module_version": "1.1.0",
      "model_name": "LayoutModel",
      "state": {}
     },
     "dbb9db7dc75343f8acae971d5984a3fb": {
      "model_module": "@jupyter-widgets/controls",
      "model_module_version": "1.4.0",
      "model_name": "CheckboxModel",
      "state": {
       "description": "A549-RSO2H",
       "disabled": false,
       "layout": "IPY_MODEL_61e1d62bfd7241d390e9224489f263ac",
       "style": "IPY_MODEL_f120fc97b9e14cf5859839a5128b98eb",
       "value": true
      }
     },
     "dbfa713a06524d98972986c7d6b0683d": {
      "model_module": "@jupyter-widgets/controls",
      "model_module_version": "1.4.0",
      "model_name": "CheckboxModel",
      "state": {
       "description": "show_bio_assembly",
       "disabled": false,
       "layout": "IPY_MODEL_6f11146fc1d145de8bf5e9b4d1ab6910",
       "style": "IPY_MODEL_7d517b9c6f2a4f7da0c151eb83481cca",
       "value": false
      }
     },
     "dc89810215ad488fa10f1254e20b3730": {
      "model_module": "@jupyter-widgets/controls",
      "model_module_version": "1.4.0",
      "model_name": "CheckboxModel",
      "state": {
       "description": "A549-RSOH",
       "disabled": false,
       "layout": "IPY_MODEL_3496149bc9f144949d0ea4ca9d574626",
       "style": "IPY_MODEL_9d447fceb04843d7a07a640cbbbe3fab",
       "value": true
      }
     },
     "ded53bb55a594e56873034c5f0a21467": {
      "model_module": "@jupyter-widgets/controls",
      "model_module_version": "1.4.0",
      "model_name": "CheckboxModel",
      "state": {
       "description": "HeLa-RSO2H",
       "disabled": false,
       "layout": "IPY_MODEL_d5a0247019b6467e9de9d16bcf3f727b",
       "style": "IPY_MODEL_14a4ecb7c72a4257bfa66800b07b1fb5",
       "value": true
      }
     },
     "dfb26b5d8012465a88e12e333c55fafe": {
      "model_module": "@jupyter-widgets/controls",
      "model_module_version": "1.4.0",
      "model_name": "CheckboxModel",
      "state": {
       "description": "HeLa-RSO2H",
       "disabled": false,
       "layout": "IPY_MODEL_1c57e8a6f88f4f1cbc5bb2a2d69c0016",
       "style": "IPY_MODEL_895982192e87401eb2d1157e8c55a955",
       "value": true
      }
     },
     "dff8bfcc05d64f2b8441c8ff573d6f6a": {
      "model_module": "@jupyter-widgets/base",
      "model_module_version": "1.1.0",
      "model_name": "LayoutModel",
      "state": {}
     },
     "e04ad6c675d24919a83ff6d2335c7f7d": {
      "model_module": "@jupyter-widgets/base",
      "model_module_version": "1.1.0",
      "model_name": "LayoutModel",
      "state": {}
     },
     "e1d2a36b36ac4d02b1c21025519aebe6": {
      "model_module": "@jupyter-widgets/base",
      "model_module_version": "1.1.0",
      "model_name": "LayoutModel",
      "state": {}
     },
     "e3a0a2f9334c42948ede866582c008b6": {
      "model_module": "@jupyter-widgets/base",
      "model_module_version": "1.1.0",
      "model_name": "LayoutModel",
      "state": {}
     },
     "e432b9ec91b24775b0447bd909aaa763": {
      "model_module": "@jupyter-widgets/base",
      "model_module_version": "1.1.0",
      "model_name": "LayoutModel",
      "state": {}
     },
     "e4e6ea941d274d9eba67cdbc8221b027": {
      "model_module": "@jupyter-widgets/base",
      "model_module_version": "1.1.0",
      "model_name": "LayoutModel",
      "state": {}
     },
     "e5b3313283e84913b185589fe4f98c9b": {
      "model_module": "@jupyter-widgets/base",
      "model_module_version": "1.1.0",
      "model_name": "LayoutModel",
      "state": {}
     },
     "e5d1136f67d74a0c882d3ed58183b2d1": {
      "model_module": "@jupyter-widgets/output",
      "model_module_version": "1.0.0",
      "model_name": "OutputModel",
      "state": {
       "layout": "IPY_MODEL_bdb1d031bec247ecb791c161bce36ab8",
       "outputs": [
        {
         "name": "stdout",
         "output_type": "stream",
         "text": "PDB Id: 3IFW chain Id: A\nuniprotAccession: P09936\nDescription: Ubiquitin carboxyl-terminal hydrolase isozyme L1 OS=Homo sapiens GN=UCHL1 PE=1 SV=2\n"
        },
        {
         "data": {
          "application/3dmoljs_load.v0": "<div id=\"3dmolviewer_153669296426285\"  style=\"position: relative; width: 640px; height: 480px\">\n        <p id=\"3dmolwarning_153669296426285\" style=\"background-color:#ffcccc;color:black\">You appear to be running in JupyterLab (or JavaScript failed to load for some other reason).  You need to install the 3dmol extension: <br>\n        <tt>jupyter labextension install jupyterlab_3dmol</tt></p>\n        </div>\n<script>\n\nvar loadScriptAsync = function(uri){\n  return new Promise((resolve, reject) => {\n    var tag = document.createElement('script');\n    tag.src = uri;\n    tag.async = true;\n    tag.onload = () => {\n      resolve();\n    };\n  var firstScriptTag = document.getElementsByTagName('script')[0];\n  firstScriptTag.parentNode.insertBefore(tag, firstScriptTag);\n});\n};\n\nif(typeof $3Dmolpromise === 'undefined') {\n$3Dmolpromise = null;\n  $3Dmolpromise = loadScriptAsync('https://3dmol.csb.pitt.edu/build/3Dmol.js');\n}\n\nvar viewer_153669296426285 = null;\nvar warn = document.getElementById(\"3dmolwarning_153669296426285\");\nif(warn) {\n    warn.parentNode.removeChild(warn);\n}\n$3Dmolpromise.then(function() {\nviewer_153669296426285 = $3Dmol.createViewer($(\"#3dmolviewer_153669296426285\"),{backgroundColor:\"white\"});\n$3Dmol.download(\"pdb:3IFW\", viewer_153669296426285, {\"doAssembly\": false}, function() {\n\tviewer_153669296426285.setStyle({\"cartoon\": {\"color\": \"spectrum\", \"width\": 0.6, \"opacity\": 0.8}});\n\tviewer_153669296426285.setStyle({\"hetflag\": true},{\"stick\": {\"radius\": 0.3, \"singleBond\": false}});\n\tviewer_153669296426285.addStyle({\"chain\": \"A\", \"resi\": [\"220\", \"90\", \"132\", \"152\"], \"byres\": true, \"expand\": 6},{\"stick\": {\"colorscheme\": \"orangeCarbon\", \"radius\": 0.15}});\n\tviewer_153669296426285.addStyle({\"chain\": \"A\", \"resi\": [\"220\", \"90\", \"132\", \"152\"]},{\"stick\": {\"colorscheme\": \"redCarbon\", \"radius\": 0.4}});\n\tviewer_153669296426285.addStyle({\"chain\": \"A\", \"resi\": [\"220\", \"90\", \"132\", \"152\"]},{\"sphere\": {\"colorscheme\": \"gray\", \"opacity\": 0.7}});\n\tviewer_153669296426285.addLabel(\"220: A549-RSOH\",{\"fontColor\": \"black\", \"fontSize\": 9, \"backgroundColor\": \"lightgray\"},{\"chain\": \"A\", \"resi\": \"220\"});\n\tviewer_153669296426285.addLabel(\"90: A549-RSOH\",{\"fontColor\": \"black\", \"fontSize\": 9, \"backgroundColor\": \"lightgray\"},{\"chain\": \"A\", \"resi\": \"90\"});\n\tviewer_153669296426285.addLabel(\"132: A549-RSOH\",{\"fontColor\": \"black\", \"fontSize\": 9, \"backgroundColor\": \"lightgray\"},{\"chain\": \"A\", \"resi\": \"132\"});\n\tviewer_153669296426285.addLabel(\"152: A549-RSO2H,A549-RSOH\",{\"fontColor\": \"black\", \"fontSize\": 9, \"backgroundColor\": \"lightgray\"},{\"chain\": \"A\", \"resi\": \"152\"});\n\tviewer_153669296426285.zoomTo({\"chain\": \"A\", \"resi\": [\"220\", \"90\", \"132\", \"152\"], \"byres\": true, \"expand\": 6});\nviewer_153669296426285.render();\n})\n});\n</script>",
          "text/html": "<div id=\"3dmolviewer_153669296426285\"  style=\"position: relative; width: 640px; height: 480px\">\n        <p id=\"3dmolwarning_153669296426285\" style=\"background-color:#ffcccc;color:black\">You appear to be running in JupyterLab (or JavaScript failed to load for some other reason).  You need to install the 3dmol extension: <br>\n        <tt>jupyter labextension install jupyterlab_3dmol</tt></p>\n        </div>\n<script>\n\nvar loadScriptAsync = function(uri){\n  return new Promise((resolve, reject) => {\n    var tag = document.createElement('script');\n    tag.src = uri;\n    tag.async = true;\n    tag.onload = () => {\n      resolve();\n    };\n  var firstScriptTag = document.getElementsByTagName('script')[0];\n  firstScriptTag.parentNode.insertBefore(tag, firstScriptTag);\n});\n};\n\nif(typeof $3Dmolpromise === 'undefined') {\n$3Dmolpromise = null;\n  $3Dmolpromise = loadScriptAsync('https://3dmol.csb.pitt.edu/build/3Dmol.js');\n}\n\nvar viewer_153669296426285 = null;\nvar warn = document.getElementById(\"3dmolwarning_153669296426285\");\nif(warn) {\n    warn.parentNode.removeChild(warn);\n}\n$3Dmolpromise.then(function() {\nviewer_153669296426285 = $3Dmol.createViewer($(\"#3dmolviewer_153669296426285\"),{backgroundColor:\"white\"});\n$3Dmol.download(\"pdb:3IFW\", viewer_153669296426285, {\"doAssembly\": false}, function() {\n\tviewer_153669296426285.setStyle({\"cartoon\": {\"color\": \"spectrum\", \"width\": 0.6, \"opacity\": 0.8}});\n\tviewer_153669296426285.setStyle({\"hetflag\": true},{\"stick\": {\"radius\": 0.3, \"singleBond\": false}});\n\tviewer_153669296426285.addStyle({\"chain\": \"A\", \"resi\": [\"220\", \"90\", \"132\", \"152\"], \"byres\": true, \"expand\": 6},{\"stick\": {\"colorscheme\": \"orangeCarbon\", \"radius\": 0.15}});\n\tviewer_153669296426285.addStyle({\"chain\": \"A\", \"resi\": [\"220\", \"90\", \"132\", \"152\"]},{\"stick\": {\"colorscheme\": \"redCarbon\", \"radius\": 0.4}});\n\tviewer_153669296426285.addStyle({\"chain\": \"A\", \"resi\": [\"220\", \"90\", \"132\", \"152\"]},{\"sphere\": {\"colorscheme\": \"gray\", \"opacity\": 0.7}});\n\tviewer_153669296426285.addLabel(\"220: A549-RSOH\",{\"fontColor\": \"black\", \"fontSize\": 9, \"backgroundColor\": \"lightgray\"},{\"chain\": \"A\", \"resi\": \"220\"});\n\tviewer_153669296426285.addLabel(\"90: A549-RSOH\",{\"fontColor\": \"black\", \"fontSize\": 9, \"backgroundColor\": \"lightgray\"},{\"chain\": \"A\", \"resi\": \"90\"});\n\tviewer_153669296426285.addLabel(\"132: A549-RSOH\",{\"fontColor\": \"black\", \"fontSize\": 9, \"backgroundColor\": \"lightgray\"},{\"chain\": \"A\", \"resi\": \"132\"});\n\tviewer_153669296426285.addLabel(\"152: A549-RSO2H,A549-RSOH\",{\"fontColor\": \"black\", \"fontSize\": 9, \"backgroundColor\": \"lightgray\"},{\"chain\": \"A\", \"resi\": \"152\"});\n\tviewer_153669296426285.zoomTo({\"chain\": \"A\", \"resi\": [\"220\", \"90\", \"132\", \"152\"], \"byres\": true, \"expand\": 6});\nviewer_153669296426285.render();\n})\n});\n</script>"
         },
         "metadata": {},
         "output_type": "display_data"
        }
       ]
      }
     },
     "e5e77a93e0b241529f2f44aacd6e97b3": {
      "model_module": "@jupyter-widgets/controls",
      "model_module_version": "1.4.0",
      "model_name": "IntSliderModel",
      "state": {
       "continuous_update": false,
       "description": "Structure",
       "layout": "IPY_MODEL_61c50b1957194a0c859b860ff1964c44",
       "max": 15,
       "style": "IPY_MODEL_618ae422e4f146cd96d7fe47eb7fad57"
      }
     },
     "e622bc2526a342d080ce3c8a5827a8e9": {
      "model_module": "@jupyter-widgets/controls",
      "model_module_version": "1.4.0",
      "model_name": "DescriptionStyleModel",
      "state": {
       "description_width": ""
      }
     },
     "e82117e5f2434f5589ca080604b61725": {
      "model_module": "@jupyter-widgets/base",
      "model_module_version": "1.1.0",
      "model_name": "LayoutModel",
      "state": {}
     },
     "e8f42bd816474067ad4eee495cbbb02a": {
      "model_module": "@jupyter-widgets/controls",
      "model_module_version": "1.4.0",
      "model_name": "CheckboxModel",
      "state": {
       "description": "HeLa-RSOH",
       "disabled": false,
       "layout": "IPY_MODEL_32daf1b5acf24741a8502319c0eb0632",
       "style": "IPY_MODEL_a28b6ccc849642349f3460a8a5788d43",
       "value": false
      }
     },
     "e9d1fd9cad5746ddb70733a5d5ecddff": {
      "model_module": "@jupyter-widgets/base",
      "model_module_version": "1.1.0",
      "model_name": "LayoutModel",
      "state": {}
     },
     "ea5adc9853e84d9ea684d2fbe56637c0": {
      "model_module": "@jupyter-widgets/base",
      "model_module_version": "1.1.0",
      "model_name": "LayoutModel",
      "state": {}
     },
     "ec6d488da3ea47299f0ea3a8a90d11f3": {
      "model_module": "@jupyter-widgets/controls",
      "model_module_version": "1.4.0",
      "model_name": "CheckboxModel",
      "state": {
       "description": "A549-RSO2H",
       "disabled": false,
       "layout": "IPY_MODEL_81c775f89a7b4941952e906b1aff9b62",
       "style": "IPY_MODEL_8c23a512d9f14561ab7bd9c8c32a1426",
       "value": true
      }
     },
     "ec99bd9b234b49f080f625b903b5d911": {
      "model_module": "@jupyter-widgets/output",
      "model_module_version": "1.0.0",
      "model_name": "OutputModel",
      "state": {
       "layout": "IPY_MODEL_5cc2ead94da74bb8ae102e038db5c0eb",
       "outputs": [
        {
         "name": "stdout",
         "output_type": "stream",
         "text": "PDB Id: 4Y1V chain Id: A\nuniprotAccession: P09382\nDescription: Galectin-1 OS=Homo sapiens GN=LGALS1 PE=1 SV=2\n"
        },
        {
         "data": {
          "application/3dmoljs_load.v0": "<div id=\"3dmolviewer_15367067030780659\"  style=\"position: relative; width: 640px; height: 480px\">\n        <p id=\"3dmolwarning_15367067030780659\" style=\"background-color:#ffcccc;color:black\">You appear to be running in JupyterLab (or JavaScript failed to load for some other reason).  You need to install the 3dmol extension: <br>\n        <tt>jupyter labextension install jupyterlab_3dmol</tt></p>\n        </div>\n<script>\n\nvar loadScriptAsync = function(uri){\n  return new Promise((resolve, reject) => {\n    var tag = document.createElement('script');\n    tag.src = uri;\n    tag.async = true;\n    tag.onload = () => {\n      resolve();\n    };\n  var firstScriptTag = document.getElementsByTagName('script')[0];\n  firstScriptTag.parentNode.insertBefore(tag, firstScriptTag);\n});\n};\n\nif(typeof $3Dmolpromise === 'undefined') {\n$3Dmolpromise = null;\n  $3Dmolpromise = loadScriptAsync('https://3dmol.csb.pitt.edu/build/3Dmol.js');\n}\n\nvar viewer_15367067030780659 = null;\nvar warn = document.getElementById(\"3dmolwarning_15367067030780659\");\nif(warn) {\n    warn.parentNode.removeChild(warn);\n}\n$3Dmolpromise.then(function() {\nviewer_15367067030780659 = $3Dmol.createViewer($(\"#3dmolviewer_15367067030780659\"),{backgroundColor:\"white\"});\n$3Dmol.download(\"pdb:4Y1V\", viewer_15367067030780659, {\"doAssembly\": false}, function() {\n\tviewer_15367067030780659.setStyle({\"cartoon\": {\"color\": \"spectrum\", \"width\": 0.6, \"opacity\": 0.8}});\n\tviewer_15367067030780659.setStyle({\"hetflag\": true},{\"stick\": {\"radius\": 0.3, \"singleBond\": false}});\n\tviewer_15367067030780659.addStyle({\"chain\": \"A\", \"resi\": [\"16\", \"42\", \"60\"], \"byres\": true, \"expand\": 6},{\"stick\": {\"colorscheme\": \"orangeCarbon\", \"radius\": 0.15}});\n\tviewer_15367067030780659.addStyle({\"chain\": \"A\", \"resi\": [\"16\", \"42\", \"60\"]},{\"stick\": {\"colorscheme\": \"redCarbon\", \"radius\": 0.4}});\n\tviewer_15367067030780659.addStyle({\"chain\": \"A\", \"resi\": [\"16\", \"42\", \"60\"]},{\"sphere\": {\"colorscheme\": \"gray\", \"opacity\": 0.7}});\n\tviewer_15367067030780659.addLabel(\"16: A549-RSOH\",{\"fontColor\": \"black\", \"fontSize\": 9, \"backgroundColor\": \"lightgray\"},{\"chain\": \"A\", \"resi\": \"16\"});\n\tviewer_15367067030780659.addLabel(\"42: A549-RSOH\",{\"fontColor\": \"black\", \"fontSize\": 9, \"backgroundColor\": \"lightgray\"},{\"chain\": \"A\", \"resi\": \"42\"});\n\tviewer_15367067030780659.addLabel(\"60: A549-RSO2H,A549-RSOH\",{\"fontColor\": \"black\", \"fontSize\": 9, \"backgroundColor\": \"lightgray\"},{\"chain\": \"A\", \"resi\": \"60\"});\n\tviewer_15367067030780659.zoomTo({\"chain\": \"A\", \"resi\": [\"16\", \"42\", \"60\"], \"byres\": true, \"expand\": 6});\nviewer_15367067030780659.render();\n})\n});\n</script>",
          "text/html": "<div id=\"3dmolviewer_15367067030780659\"  style=\"position: relative; width: 640px; height: 480px\">\n        <p id=\"3dmolwarning_15367067030780659\" style=\"background-color:#ffcccc;color:black\">You appear to be running in JupyterLab (or JavaScript failed to load for some other reason).  You need to install the 3dmol extension: <br>\n        <tt>jupyter labextension install jupyterlab_3dmol</tt></p>\n        </div>\n<script>\n\nvar loadScriptAsync = function(uri){\n  return new Promise((resolve, reject) => {\n    var tag = document.createElement('script');\n    tag.src = uri;\n    tag.async = true;\n    tag.onload = () => {\n      resolve();\n    };\n  var firstScriptTag = document.getElementsByTagName('script')[0];\n  firstScriptTag.parentNode.insertBefore(tag, firstScriptTag);\n});\n};\n\nif(typeof $3Dmolpromise === 'undefined') {\n$3Dmolpromise = null;\n  $3Dmolpromise = loadScriptAsync('https://3dmol.csb.pitt.edu/build/3Dmol.js');\n}\n\nvar viewer_15367067030780659 = null;\nvar warn = document.getElementById(\"3dmolwarning_15367067030780659\");\nif(warn) {\n    warn.parentNode.removeChild(warn);\n}\n$3Dmolpromise.then(function() {\nviewer_15367067030780659 = $3Dmol.createViewer($(\"#3dmolviewer_15367067030780659\"),{backgroundColor:\"white\"});\n$3Dmol.download(\"pdb:4Y1V\", viewer_15367067030780659, {\"doAssembly\": false}, function() {\n\tviewer_15367067030780659.setStyle({\"cartoon\": {\"color\": \"spectrum\", \"width\": 0.6, \"opacity\": 0.8}});\n\tviewer_15367067030780659.setStyle({\"hetflag\": true},{\"stick\": {\"radius\": 0.3, \"singleBond\": false}});\n\tviewer_15367067030780659.addStyle({\"chain\": \"A\", \"resi\": [\"16\", \"42\", \"60\"], \"byres\": true, \"expand\": 6},{\"stick\": {\"colorscheme\": \"orangeCarbon\", \"radius\": 0.15}});\n\tviewer_15367067030780659.addStyle({\"chain\": \"A\", \"resi\": [\"16\", \"42\", \"60\"]},{\"stick\": {\"colorscheme\": \"redCarbon\", \"radius\": 0.4}});\n\tviewer_15367067030780659.addStyle({\"chain\": \"A\", \"resi\": [\"16\", \"42\", \"60\"]},{\"sphere\": {\"colorscheme\": \"gray\", \"opacity\": 0.7}});\n\tviewer_15367067030780659.addLabel(\"16: A549-RSOH\",{\"fontColor\": \"black\", \"fontSize\": 9, \"backgroundColor\": \"lightgray\"},{\"chain\": \"A\", \"resi\": \"16\"});\n\tviewer_15367067030780659.addLabel(\"42: A549-RSOH\",{\"fontColor\": \"black\", \"fontSize\": 9, \"backgroundColor\": \"lightgray\"},{\"chain\": \"A\", \"resi\": \"42\"});\n\tviewer_15367067030780659.addLabel(\"60: A549-RSO2H,A549-RSOH\",{\"fontColor\": \"black\", \"fontSize\": 9, \"backgroundColor\": \"lightgray\"},{\"chain\": \"A\", \"resi\": \"60\"});\n\tviewer_15367067030780659.zoomTo({\"chain\": \"A\", \"resi\": [\"16\", \"42\", \"60\"], \"byres\": true, \"expand\": 6});\nviewer_15367067030780659.render();\n})\n});\n</script>"
         },
         "metadata": {},
         "output_type": "display_data"
        }
       ]
      }
     },
     "eccb7da0b7f841b8b1966b2d56f4b820": {
      "model_module": "@jupyter-widgets/base",
      "model_module_version": "1.1.0",
      "model_name": "LayoutModel",
      "state": {}
     },
     "ed36cd52af0f438fb989222144c6b965": {
      "model_module": "@jupyter-widgets/controls",
      "model_module_version": "1.4.0",
      "model_name": "VBoxModel",
      "state": {
       "_dom_classes": [
        "widget-interact"
       ],
       "children": [
        "IPY_MODEL_4ff029275b984bc7b8d753a3cf51beef",
        "IPY_MODEL_dbfa713a06524d98972986c7d6b0683d",
        "IPY_MODEL_64cf18ee95b94ab9bc2d51200bd0d974",
        "IPY_MODEL_95e8dba2831148d9b94032ac68b0892b",
        "IPY_MODEL_f3b27ae1d7ea4a9b9c6d2637b41bf546"
       ],
       "layout": "IPY_MODEL_ffcd87ac20b248edad4b3baf8f58a2a5"
      }
     },
     "f120fc97b9e14cf5859839a5128b98eb": {
      "model_module": "@jupyter-widgets/controls",
      "model_module_version": "1.4.0",
      "model_name": "DescriptionStyleModel",
      "state": {
       "description_width": ""
      }
     },
     "f154cf3343004497811a07b8f29a1ad9": {
      "model_module": "@jupyter-widgets/controls",
      "model_module_version": "1.4.0",
      "model_name": "IntSliderModel",
      "state": {
       "continuous_update": false,
       "description": "Structure",
       "layout": "IPY_MODEL_72a74434ec62445584954155cbecccde",
       "max": 946,
       "style": "IPY_MODEL_2835a8764c0f4c67a23af077a323eea0"
      }
     },
     "f1824191663247ab8b55232576bb2161": {
      "model_module": "@jupyter-widgets/controls",
      "model_module_version": "1.4.0",
      "model_name": "DescriptionStyleModel",
      "state": {
       "description_width": ""
      }
     },
     "f35c020a08b9469da5743ba9b2cbecea": {
      "model_module": "@jupyter-widgets/controls",
      "model_module_version": "1.4.0",
      "model_name": "CheckboxModel",
      "state": {
       "description": "HeLa-RSO2H",
       "disabled": false,
       "layout": "IPY_MODEL_beddbdceb1b641f88c9c7515db5bb514",
       "style": "IPY_MODEL_b965e71b6bfb48728a09bd47c3292cbd",
       "value": false
      }
     },
     "f3b27ae1d7ea4a9b9c6d2637b41bf546": {
      "model_module": "@jupyter-widgets/output",
      "model_module_version": "1.0.0",
      "model_name": "OutputModel",
      "state": {
       "layout": "IPY_MODEL_5a919aa0f7334c86b08c379dc8fd68b5",
       "outputs": [
        {
         "name": "stdout",
         "output_type": "stream",
         "text": "PDB Id: 6GG6 chain Id: C\nuniprotAccession: P14618\nDescription: Pyruvate kinase PKM OS=Homo sapiens GN=PKM PE=1 SV=4\n"
        },
        {
         "data": {
          "application/3dmoljs_load.v0": "<div id=\"3dmolviewer_1536708347255289\"  style=\"position: relative; width: 640px; height: 480px\">\n        <p id=\"3dmolwarning_1536708347255289\" style=\"background-color:#ffcccc;color:black\">You appear to be running in JupyterLab (or JavaScript failed to load for some other reason).  You need to install the 3dmol extension: <br>\n        <tt>jupyter labextension install jupyterlab_3dmol</tt></p>\n        </div>\n<script>\n\nvar loadScriptAsync = function(uri){\n  return new Promise((resolve, reject) => {\n    var tag = document.createElement('script');\n    tag.src = uri;\n    tag.async = true;\n    tag.onload = () => {\n      resolve();\n    };\n  var firstScriptTag = document.getElementsByTagName('script')[0];\n  firstScriptTag.parentNode.insertBefore(tag, firstScriptTag);\n});\n};\n\nif(typeof $3Dmolpromise === 'undefined') {\n$3Dmolpromise = null;\n  $3Dmolpromise = loadScriptAsync('https://3dmol.csb.pitt.edu/build/3Dmol.js');\n}\n\nvar viewer_1536708347255289 = null;\nvar warn = document.getElementById(\"3dmolwarning_1536708347255289\");\nif(warn) {\n    warn.parentNode.removeChild(warn);\n}\n$3Dmolpromise.then(function() {\nviewer_1536708347255289 = $3Dmol.createViewer($(\"#3dmolviewer_1536708347255289\"),{backgroundColor:\"white\"});\n$3Dmol.download(\"pdb:6GG6\", viewer_1536708347255289, {\"doAssembly\": false}, function() {\n\tviewer_1536708347255289.setStyle({\"cartoon\": {\"color\": \"spectrum\", \"width\": 0.6, \"opacity\": 0.8}});\n\tviewer_1536708347255289.setStyle({\"hetflag\": true},{\"stick\": {\"radius\": 0.3, \"singleBond\": false}});\n\tviewer_1536708347255289.addStyle({\"chain\": \"C\", \"resi\": [\"474\"], \"byres\": true, \"expand\": 6},{\"stick\": {\"colorscheme\": \"orangeCarbon\", \"radius\": 0.15}});\n\tviewer_1536708347255289.addStyle({\"chain\": \"C\", \"resi\": [\"474\"]},{\"stick\": {\"colorscheme\": \"redCarbon\", \"radius\": 0.4}});\n\tviewer_1536708347255289.addStyle({\"chain\": \"C\", \"resi\": [\"474\"]},{\"sphere\": {\"colorscheme\": \"gray\", \"opacity\": 0.7}});\n\tviewer_1536708347255289.addLabel(\"474: A549-RSOH\",{\"fontColor\": \"black\", \"fontSize\": 9, \"backgroundColor\": \"lightgray\"},{\"chain\": \"C\", \"resi\": \"474\"});\n\tviewer_1536708347255289.zoomTo({\"chain\": \"C\", \"resi\": [\"474\"], \"byres\": true, \"expand\": 6});\nviewer_1536708347255289.render();\n})\n});\n</script>",
          "text/html": "<div id=\"3dmolviewer_1536708347255289\"  style=\"position: relative; width: 640px; height: 480px\">\n        <p id=\"3dmolwarning_1536708347255289\" style=\"background-color:#ffcccc;color:black\">You appear to be running in JupyterLab (or JavaScript failed to load for some other reason).  You need to install the 3dmol extension: <br>\n        <tt>jupyter labextension install jupyterlab_3dmol</tt></p>\n        </div>\n<script>\n\nvar loadScriptAsync = function(uri){\n  return new Promise((resolve, reject) => {\n    var tag = document.createElement('script');\n    tag.src = uri;\n    tag.async = true;\n    tag.onload = () => {\n      resolve();\n    };\n  var firstScriptTag = document.getElementsByTagName('script')[0];\n  firstScriptTag.parentNode.insertBefore(tag, firstScriptTag);\n});\n};\n\nif(typeof $3Dmolpromise === 'undefined') {\n$3Dmolpromise = null;\n  $3Dmolpromise = loadScriptAsync('https://3dmol.csb.pitt.edu/build/3Dmol.js');\n}\n\nvar viewer_1536708347255289 = null;\nvar warn = document.getElementById(\"3dmolwarning_1536708347255289\");\nif(warn) {\n    warn.parentNode.removeChild(warn);\n}\n$3Dmolpromise.then(function() {\nviewer_1536708347255289 = $3Dmol.createViewer($(\"#3dmolviewer_1536708347255289\"),{backgroundColor:\"white\"});\n$3Dmol.download(\"pdb:6GG6\", viewer_1536708347255289, {\"doAssembly\": false}, function() {\n\tviewer_1536708347255289.setStyle({\"cartoon\": {\"color\": \"spectrum\", \"width\": 0.6, \"opacity\": 0.8}});\n\tviewer_1536708347255289.setStyle({\"hetflag\": true},{\"stick\": {\"radius\": 0.3, \"singleBond\": false}});\n\tviewer_1536708347255289.addStyle({\"chain\": \"C\", \"resi\": [\"474\"], \"byres\": true, \"expand\": 6},{\"stick\": {\"colorscheme\": \"orangeCarbon\", \"radius\": 0.15}});\n\tviewer_1536708347255289.addStyle({\"chain\": \"C\", \"resi\": [\"474\"]},{\"stick\": {\"colorscheme\": \"redCarbon\", \"radius\": 0.4}});\n\tviewer_1536708347255289.addStyle({\"chain\": \"C\", \"resi\": [\"474\"]},{\"sphere\": {\"colorscheme\": \"gray\", \"opacity\": 0.7}});\n\tviewer_1536708347255289.addLabel(\"474: A549-RSOH\",{\"fontColor\": \"black\", \"fontSize\": 9, \"backgroundColor\": \"lightgray\"},{\"chain\": \"C\", \"resi\": \"474\"});\n\tviewer_1536708347255289.zoomTo({\"chain\": \"C\", \"resi\": [\"474\"], \"byres\": true, \"expand\": 6});\nviewer_1536708347255289.render();\n})\n});\n</script>"
         },
         "metadata": {},
         "output_type": "display_data"
        }
       ]
      }
     },
     "f3f872dd61a44106aab373bc774808b8": {
      "model_module": "@jupyter-widgets/controls",
      "model_module_version": "1.4.0",
      "model_name": "DescriptionStyleModel",
      "state": {
       "description_width": ""
      }
     },
     "f556e8b8db244da0b76490642383730c": {
      "model_module": "@jupyter-widgets/base",
      "model_module_version": "1.1.0",
      "model_name": "LayoutModel",
      "state": {}
     },
     "f6b6328b4418430e97ef85ac94eff007": {
      "model_module": "@jupyter-widgets/base",
      "model_module_version": "1.1.0",
      "model_name": "LayoutModel",
      "state": {}
     },
     "f77f3ae4633349768dfd3a3907d42b31": {
      "model_module": "@jupyter-widgets/controls",
      "model_module_version": "1.4.0",
      "model_name": "CheckboxModel",
      "state": {
       "description": "HeLa-RSO2H",
       "disabled": false,
       "layout": "IPY_MODEL_ff958e4e42ba4cdaa9216dd2abe0748d",
       "style": "IPY_MODEL_13161cefcc12413fa346bf526858f800",
       "value": true
      }
     },
     "f8b1166950724bffbafa0ac345ae897d": {
      "model_module": "@jupyter-widgets/base",
      "model_module_version": "1.1.0",
      "model_name": "LayoutModel",
      "state": {}
     },
     "f998aa182bd3494a83d3d818eb693dc3": {
      "model_module": "@jupyter-widgets/base",
      "model_module_version": "1.1.0",
      "model_name": "LayoutModel",
      "state": {}
     },
     "fa7d5ab9b06b4da2930892e3c94eadb7": {
      "model_module": "@jupyter-widgets/controls",
      "model_module_version": "1.4.0",
      "model_name": "CheckboxModel",
      "state": {
       "description": "show_bio_assembly",
       "disabled": false,
       "layout": "IPY_MODEL_e4e6ea941d274d9eba67cdbc8221b027",
       "style": "IPY_MODEL_5a926156f1ea43428981aa49860b2ab8",
       "value": false
      }
     },
     "fca8f935246e46f6af21862675fe5480": {
      "model_module": "@jupyter-widgets/controls",
      "model_module_version": "1.4.0",
      "model_name": "DescriptionStyleModel",
      "state": {
       "description_width": ""
      }
     },
     "fd09bd628b674b64913854d8ef3a1b0b": {
      "model_module": "@jupyter-widgets/controls",
      "model_module_version": "1.4.0",
      "model_name": "CheckboxModel",
      "state": {
       "description": "show_labels",
       "disabled": false,
       "layout": "IPY_MODEL_eccb7da0b7f841b8b1966b2d56f4b820",
       "style": "IPY_MODEL_ffad6a1dbdd04954a0bb6dd8f0965ccc",
       "value": true
      }
     },
     "fd4c9debaa9e4d90ae0060c839d39772": {
      "model_module": "@jupyter-widgets/controls",
      "model_module_version": "1.4.0",
      "model_name": "DescriptionStyleModel",
      "state": {
       "description_width": ""
      }
     },
     "ff958e4e42ba4cdaa9216dd2abe0748d": {
      "model_module": "@jupyter-widgets/base",
      "model_module_version": "1.1.0",
      "model_name": "LayoutModel",
      "state": {}
     },
     "ffad6a1dbdd04954a0bb6dd8f0965ccc": {
      "model_module": "@jupyter-widgets/controls",
      "model_module_version": "1.4.0",
      "model_name": "DescriptionStyleModel",
      "state": {
       "description_width": ""
      }
     },
     "ffcd87ac20b248edad4b3baf8f58a2a5": {
      "model_module": "@jupyter-widgets/base",
      "model_module_version": "1.1.0",
      "model_name": "LayoutModel",
      "state": {}
     }
    },
    "version_major": 2,
    "version_minor": 0
   }
  }
 },
 "nbformat": 4,
 "nbformat_minor": 4
}

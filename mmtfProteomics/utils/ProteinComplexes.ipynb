{
 "cells": [
  {
   "cell_type": "markdown",
   "metadata": {},
   "source": [
    "# Mine for Protein Complexes in the PDB\n",
    "This notebook creates a list of UniProt Id of protein involved in protein-protein interactions of homomer/heteromers."
   ]
  },
  {
   "cell_type": "code",
   "execution_count": 1,
   "metadata": {},
   "outputs": [],
   "source": [
    "from pyspark import SparkConf, SparkContext\n",
    "from mmtfPyspark.webfilters import AdvancedQuery, PdbjMineSearch\n",
    "from mmtfPyspark.mappers import StructureToPolymerChains\n",
    "from mmtfPyspark.datasets import polymerSequenceExtractor, pdbjMineDataset\n",
    "from mmtfPyspark.io import mmtfReader"
   ]
  },
  {
   "cell_type": "markdown",
   "metadata": {},
   "source": [
    "### Configure Spark Context"
   ]
  },
  {
   "cell_type": "code",
   "execution_count": 2,
   "metadata": {},
   "outputs": [],
   "source": [
    "conf = SparkConf().setMaster(\"local[*]\").setAppName(\"proteinComplexes\")\n",
    "sc = SparkContext(conf = conf)"
   ]
  },
  {
   "cell_type": "markdown",
   "metadata": {},
   "source": [
    "## Read PDB"
   ]
  },
  {
   "cell_type": "code",
   "execution_count": 3,
   "metadata": {},
   "outputs": [
    {
     "name": "stdout",
     "output_type": "stream",
     "text": [
      "Hadoop Sequence file path: MMTF_REDUCED=/Users/peter/MMTF_Files/reduced\n"
     ]
    }
   ],
   "source": [
    "pdb = mmtfReader.read_reduced_sequence_file(sc)"
   ]
  },
  {
   "cell_type": "markdown",
   "metadata": {},
   "source": [
    "## Filter by type of complex"
   ]
  },
  {
   "cell_type": "code",
   "execution_count": 4,
   "metadata": {},
   "outputs": [],
   "source": [
    "#complexType = \"homomer\"\n",
    "complexType = \"heteromer\""
   ]
  },
  {
   "cell_type": "code",
   "execution_count": 5,
   "metadata": {},
   "outputs": [],
   "source": [
    "query = (\n",
    "    \"<orgPdbQuery>\"\n",
    "        \"<queryType>org.pdb.query.simple.StoichiometryQuery</queryType>\"\n",
    "        \"<stoichiometry>\" + complexType + \"</stoichiometry>\"\n",
    "    \"</orgPdbQuery>\"\n",
    ")\n",
    "\n",
    "pdb = pdb.filter(AdvancedQuery(query));"
   ]
  },
  {
   "cell_type": "markdown",
   "metadata": {},
   "source": [
    "## Split PDB structures into polymer chains"
   ]
  },
  {
   "cell_type": "code",
   "execution_count": 6,
   "metadata": {},
   "outputs": [
    {
     "data": {
      "text/plain": [
       "82525"
      ]
     },
     "execution_count": 6,
     "metadata": {},
     "output_type": "execute_result"
    }
   ],
   "source": [
    "pdb = pdb.flatMap(StructureToPolymerChains(excludeDuplicates=True))\n",
    "\n",
    "pdb.cache()\n",
    "pdb.count()"
   ]
  },
  {
   "cell_type": "markdown",
   "metadata": {},
   "source": [
    "## Filter chains by taxonomy"
   ]
  },
  {
   "cell_type": "code",
   "execution_count": 7,
   "metadata": {},
   "outputs": [],
   "source": [
    "taxonomyQuery = \"SELECT * FROM sifts.pdb_chain_taxonomy WHERE scientific_name = 'Homo sampiens'\""
   ]
  },
  {
   "cell_type": "code",
   "execution_count": 8,
   "metadata": {},
   "outputs": [],
   "source": [
    "pdb = pdb.filter(PdbjMineSearch(taxonomyQuery))"
   ]
  },
  {
   "cell_type": "markdown",
   "metadata": {},
   "source": [
    "## Extract dataset with chain ids"
   ]
  },
  {
   "cell_type": "code",
   "execution_count": 9,
   "metadata": {},
   "outputs": [],
   "source": [
    "chains = polymerSequenceExtractor.get_dataset(pdb).select(\"structureChainId\")"
   ]
  },
  {
   "cell_type": "markdown",
   "metadata": {},
   "source": [
    "## Get list of chain ids with UniProt Id mappings"
   ]
  },
  {
   "cell_type": "code",
   "execution_count": 10,
   "metadata": {
    "scrolled": false
   },
   "outputs": [],
   "source": [
    "uniprotQuery = \"SELECT * FROM sifts.pdb_chain_uniprot\"\n",
    "uniprot = pdbjMineDataset.get_dataset(uniprotQuery)\n",
    "uniprot = uniprot.select(\"structureChainId\", \"sp_primary\").withColumnRenamed(\"structureChainId\", \"id\")"
   ]
  },
  {
   "cell_type": "markdown",
   "metadata": {},
   "source": [
    "## Join the homomer/heteromer chains with the UniProt ids"
   ]
  },
  {
   "cell_type": "code",
   "execution_count": 11,
   "metadata": {},
   "outputs": [],
   "source": [
    "chains = chains.join(uniprot, chains.structureChainId == uniprot.id).drop(\"id\").cache()"
   ]
  },
  {
   "cell_type": "code",
   "execution_count": 12,
   "metadata": {},
   "outputs": [
    {
     "data": {
      "text/plain": [
       "16886"
      ]
     },
     "execution_count": 12,
     "metadata": {},
     "output_type": "execute_result"
    }
   ],
   "source": [
    "chains.count()"
   ]
  },
  {
   "cell_type": "code",
   "execution_count": 13,
   "metadata": {
    "scrolled": true
   },
   "outputs": [
    {
     "name": "stdout",
     "output_type": "stream",
     "text": [
      "+----------------+----------+\n",
      "|structureChainId|sp_primary|\n",
      "+----------------+----------+\n",
      "|          4WMI.D|    P00740|\n",
      "|          4WMK.D|    P00740|\n",
      "|          4WN2.D|    P00740|\n",
      "|          4WND.A|    P81274|\n",
      "|          4WND.B|    Q14CM0|\n",
      "|          4WNH.D|    P00740|\n",
      "|          4WRL.A|    P07333|\n",
      "|          4WRL.B|    P09603|\n",
      "|          4WRM.A|    P07333|\n",
      "|          4WRM.B|    P09603|\n",
      "|          1GXD.A|    P08253|\n",
      "|          1GXD.C|    P16035|\n",
      "|          1GY3.A|    P24941|\n",
      "|          1GY3.B|    P20248|\n",
      "|          1GZH.A|    P04637|\n",
      "|          1GZH.B|    Q12888|\n",
      "|          1GZH.C|    P04637|\n",
      "|          1GZS.A|    P60953|\n",
      "|          1GZX.A|    P69905|\n",
      "|          1GZX.B|    P68871|\n",
      "+----------------+----------+\n",
      "only showing top 20 rows\n",
      "\n"
     ]
    }
   ],
   "source": [
    "chains.show()"
   ]
  },
  {
   "cell_type": "code",
   "execution_count": 14,
   "metadata": {},
   "outputs": [],
   "source": [
    "chains.select(\"sp_primary\").distinct().toPandas().to_csv(\"../../data/\" + complexType + \".csv\")"
   ]
  },
  {
   "cell_type": "code",
   "execution_count": 15,
   "metadata": {},
   "outputs": [],
   "source": [
    "sc.stop()"
   ]
  },
  {
   "cell_type": "code",
   "execution_count": null,
   "metadata": {},
   "outputs": [],
   "source": []
  }
 ],
 "metadata": {
  "kernelspec": {
   "display_name": "Python 3",
   "language": "python",
   "name": "python3"
  },
  "language_info": {
   "codemirror_mode": {
    "name": "ipython",
    "version": 3
   },
   "file_extension": ".py",
   "mimetype": "text/x-python",
   "name": "python",
   "nbconvert_exporter": "python",
   "pygments_lexer": "ipython3",
   "version": "3.6.3"
  }
 },
 "nbformat": 4,
 "nbformat_minor": 2
}

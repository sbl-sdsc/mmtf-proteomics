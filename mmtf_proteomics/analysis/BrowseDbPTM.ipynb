{
 "cells": [
  {
   "cell_type": "markdown",
   "metadata": {},
   "source": [
    "## Browse Post-translational Modifications from dbPTM mapped onto 3D Structure\n",
    "\n",
    "Post-translational modifications (PTMs) modulate protein function. By mapping the locations of modified amino acid residues onto 3D protein structures, insights into the effect of PTMs can be obtained.\n",
    "\n",
    "This notebook retrieves about 30 types of PTMs (~900,000 residues) from [dbPTM](http://dbptm.mbc.nctu.edu.tw/) and maps them to 3D Protein Structures from the [Protein Data Bank](https://www.wwpdb.org/).\n",
    "\n",
    "To visualize the results, run the notebook all the way past the spark.stop command.\n",
    "\n",
    "The dataset used in this notebook is a compressed and indexed version of the data from:\n",
    "\n",
    "dbPTM 2016: 10-year anniversary of a resource for post-translational modification of proteins.\n",
    "Huang KY, Su MG, Kao HJ, Hsieh YC, Jhong JH, Cheng KH, Huang HD, Lee TY.\n",
    "Nucleic Acids Res. (2016) 44(D1):D435-46. [doi: 10.1093/nar/gkv1240](https://doi.org/10.1093/nar/gkv1240)."
   ]
  },
  {
   "cell_type": "code",
   "execution_count": 1,
   "metadata": {},
   "outputs": [],
   "source": [
    "import warnings\n",
    "warnings.filterwarnings(\"ignore\") # numpy version issue?\n",
    "from pyspark.sql import Row, SparkSession\n",
    "from pyspark.sql.functions import collect_set, collect_list, col, concat_ws\n",
    "from ipywidgets import interact, IntSlider, widgets\n",
    "from IPython.display import display\n",
    "from mmtfPyspark.datasets import pdbToUniProt, dbPtmDataset\n",
    "import py3Dmol\n",
    "import timeit"
   ]
  },
  {
   "cell_type": "code",
   "execution_count": 2,
   "metadata": {},
   "outputs": [],
   "source": [
    "start_time = timeit.default_timer()"
   ]
  },
  {
   "cell_type": "code",
   "execution_count": 3,
   "metadata": {},
   "outputs": [],
   "source": [
    "spark = SparkSession.builder.master(\"local[4]\").appName(\"dbSNPTo3D\").getOrCreate()"
   ]
  },
  {
   "cell_type": "markdown",
   "metadata": {},
   "source": [
    "## Read dbPTM dataset"
   ]
  },
  {
   "cell_type": "code",
   "execution_count": 4,
   "metadata": {},
   "outputs": [
    {
     "name": "stdout",
     "output_type": "stream",
     "text": [
      "Total number of PTMs: 906354\n",
      "+-----------+---------+-------------+---------------+--------------------+--------------------+\n",
      "|uniProtName|uniProtId|uniProtSeqNum|        ptmType|           pubMedIds|     sequenceSegment|\n",
      "+-----------+---------+-------------+---------------+--------------------+--------------------+\n",
      "|14310_ARATH|   P48347|          209|Phosphorylation|[23328941, 23572148]|AFDDAIAELDSLNEESY...|\n",
      "|14310_ARATH|   P48347|          233|Phosphorylation|          [23572148]|QLLRDNLTLWTSDLNEE...|\n",
      "|14310_ARATH|   P48347|          234|Phosphorylation|          [18463617]|LLRDNLTLWTSDLNEEG...|\n",
      "|14310_ARATH|   P48347|          244|Phosphorylation|[23572148, 204668...|SDLNEEGDERTKGADEP...|\n",
      "|14312_ARATH|   Q9C5W6|           41|Phosphorylation|[22631563, 242438...|ETMKKVARVNSELTVEE...|\n",
      "+-----------+---------+-------------+---------------+--------------------+--------------------+\n",
      "only showing top 5 rows\n",
      "\n"
     ]
    }
   ],
   "source": [
    "db_ptm = dbPtmDataset.get_ptm_dataset()\n",
    "print(\"Total number of PTMs:\", db_ptm.count())\n",
    "db_ptm.show(5)"
   ]
  },
  {
   "cell_type": "markdown",
   "metadata": {},
   "source": [
    "#### Create a unique list of all PTM types and an \"All\" type to represent all PTM types"
   ]
  },
  {
   "cell_type": "code",
   "execution_count": 5,
   "metadata": {},
   "outputs": [],
   "source": [
    "ptm_types = db_ptm.select('ptmType').distinct().sort('ptmType').toPandas()['ptmType'].tolist()\n",
    "ptm_types = ['All'] + ptm_types"
   ]
  },
  {
   "cell_type": "markdown",
   "metadata": {},
   "source": [
    "## Select PTM Type\n",
    "The default is set to N-linked Glycosylation. To rerun this notebook with a different PTM type, rerun this notebook from the top!"
   ]
  },
  {
   "cell_type": "code",
   "execution_count": 6,
   "metadata": {},
   "outputs": [],
   "source": [
    "field = widgets.Dropdown(options=ptm_types,description='Select PTM:',value='N-linked Glycosylation')"
   ]
  },
  {
   "cell_type": "code",
   "execution_count": 7,
   "metadata": {},
   "outputs": [
    {
     "data": {
      "application/vnd.jupyter.widget-view+json": {
       "model_id": "b8f74aa4734f429d83a4c81bbc55f1fe",
       "version_major": 2,
       "version_minor": 0
      },
      "text/plain": [
       "Dropdown(description='Select PTM:', index=15, options=('All', 'Acetylation', 'Amidation', 'C-linked Glycosylat…"
      ]
     },
     "metadata": {},
     "output_type": "display_data"
    }
   ],
   "source": [
    "display(field)"
   ]
  },
  {
   "cell_type": "code",
   "execution_count": 8,
   "metadata": {},
   "outputs": [
    {
     "name": "stdout",
     "output_type": "stream",
     "text": [
      "query: ptmType = 'N-linked Glycosylation'\n",
      "Number of PTMs that match query: 7915\n"
     ]
    }
   ],
   "source": [
    "if field.value == 'All':\n",
    "    df = db_ptm\n",
    "else:\n",
    "    query = \"ptmType = '\" + field.value + \"'\"\n",
    "    print(\"query:\", query)\n",
    "    df = db_ptm.filter(query)\n",
    "    print(\"Number of PTMs that match query:\", df.count())"
   ]
  },
  {
   "cell_type": "markdown",
   "metadata": {},
   "source": [
    "## Get PDB to UniProt Residue Mappings"
   ]
  },
  {
   "cell_type": "markdown",
   "metadata": {},
   "source": [
    "Download PDB to UniProt mappings and filter out residues that were not observed in the 3D structure."
   ]
  },
  {
   "cell_type": "code",
   "execution_count": 9,
   "metadata": {},
   "outputs": [],
   "source": [
    "up = pdbToUniProt.get_cached_residue_mappings().filter(\"pdbResNum IS NOT NULL\")"
   ]
  },
  {
   "cell_type": "markdown",
   "metadata": {},
   "source": [
    "Show some sample data"
   ]
  },
  {
   "cell_type": "code",
   "execution_count": 10,
   "metadata": {},
   "outputs": [
    {
     "name": "stdout",
     "output_type": "stream",
     "text": [
      "Mappings: 98498569\n"
     ]
    },
    {
     "data": {
      "text/html": [
       "<div>\n",
       "<style scoped>\n",
       "    .dataframe tbody tr th:only-of-type {\n",
       "        vertical-align: middle;\n",
       "    }\n",
       "\n",
       "    .dataframe tbody tr th {\n",
       "        vertical-align: top;\n",
       "    }\n",
       "\n",
       "    .dataframe thead th {\n",
       "        text-align: right;\n",
       "    }\n",
       "</style>\n",
       "<table border=\"1\" class=\"dataframe\">\n",
       "  <thead>\n",
       "    <tr style=\"text-align: right;\">\n",
       "      <th></th>\n",
       "      <th>structureChainId</th>\n",
       "      <th>pdbResNum</th>\n",
       "      <th>pdbSeqNum</th>\n",
       "      <th>uniprotId</th>\n",
       "      <th>uniprotNum</th>\n",
       "    </tr>\n",
       "  </thead>\n",
       "  <tbody>\n",
       "    <tr>\n",
       "      <th>0</th>\n",
       "      <td>3Q2K.D</td>\n",
       "      <td>34</td>\n",
       "      <td>54</td>\n",
       "      <td>Q79H45</td>\n",
       "      <td>34.0</td>\n",
       "    </tr>\n",
       "    <tr>\n",
       "      <th>1</th>\n",
       "      <td>3MSU.A</td>\n",
       "      <td>423</td>\n",
       "      <td>426</td>\n",
       "      <td>Q5NIJ6</td>\n",
       "      <td>423.0</td>\n",
       "    </tr>\n",
       "    <tr>\n",
       "      <th>2</th>\n",
       "      <td>2O30.A</td>\n",
       "      <td>17</td>\n",
       "      <td>17</td>\n",
       "      <td>Q8SSJ3</td>\n",
       "      <td>17.0</td>\n",
       "    </tr>\n",
       "    <tr>\n",
       "      <th>3</th>\n",
       "      <td>5PX0.A</td>\n",
       "      <td>872</td>\n",
       "      <td>173</td>\n",
       "      <td>None</td>\n",
       "      <td>NaN</td>\n",
       "    </tr>\n",
       "    <tr>\n",
       "      <th>4</th>\n",
       "      <td>5OE5.A</td>\n",
       "      <td>129</td>\n",
       "      <td>129</td>\n",
       "      <td>Q9I4X3</td>\n",
       "      <td>129.0</td>\n",
       "    </tr>\n",
       "  </tbody>\n",
       "</table>\n",
       "</div>"
      ],
      "text/plain": [
       "  structureChainId pdbResNum  pdbSeqNum uniprotId  uniprotNum\n",
       "0           3Q2K.D        34         54    Q79H45        34.0\n",
       "1           3MSU.A       423        426    Q5NIJ6       423.0\n",
       "2           2O30.A        17         17    Q8SSJ3        17.0\n",
       "3           5PX0.A       872        173      None         NaN\n",
       "4           5OE5.A       129        129    Q9I4X3       129.0"
      ]
     },
     "execution_count": 10,
     "metadata": {},
     "output_type": "execute_result"
    }
   ],
   "source": [
    "mappings = up.count()\n",
    "print(\"Mappings:\", mappings)\n",
    "up.sample(False, 5/mappings).toPandas().head()"
   ]
  },
  {
   "cell_type": "markdown",
   "metadata": {},
   "source": [
    "Find the intersection between the PTM dataset and PDB to UniProt mappings"
   ]
  },
  {
   "cell_type": "code",
   "execution_count": 11,
   "metadata": {},
   "outputs": [],
   "source": [
    "up = up.withColumnRenamed(\"uniprotId\",\"unpId\")\n",
    "st = up.join(df, (up.unpId == df.uniProtId) & (up.uniprotNum == df.uniProtSeqNum)).drop(\"unpId\")"
   ]
  },
  {
   "cell_type": "markdown",
   "metadata": {},
   "source": [
    "## Aggregate PTM data on a per residue and per chain basis"
   ]
  },
  {
   "cell_type": "code",
   "execution_count": 12,
   "metadata": {},
   "outputs": [],
   "source": [
    "st = st.groupBy(\"structureChainId\",\"pdbResNum\",\"uniProtId\",\"uniProtName\").agg(collect_set(\"ptmType\").alias(\"ptms\"))\n",
    "st = st.withColumn(\"ptms\", concat_ws((\",\"), col(\"ptms\")))\n",
    "st = st.groupBy(\"structureChainId\",\"uniProtId\",\"uniProtName\").agg(collect_list(\"pdbResNum\").alias(\"pdbResNum\"), collect_list(\"ptms\").alias(\"ptms\"))"
   ]
  },
  {
   "cell_type": "markdown",
   "metadata": {},
   "source": [
    "Convert aggregated data to Pandas and display some results"
   ]
  },
  {
   "cell_type": "code",
   "execution_count": 13,
   "metadata": {},
   "outputs": [
    {
     "data": {
      "text/html": [
       "<div>\n",
       "<style scoped>\n",
       "    .dataframe tbody tr th:only-of-type {\n",
       "        vertical-align: middle;\n",
       "    }\n",
       "\n",
       "    .dataframe tbody tr th {\n",
       "        vertical-align: top;\n",
       "    }\n",
       "\n",
       "    .dataframe thead th {\n",
       "        text-align: right;\n",
       "    }\n",
       "</style>\n",
       "<table border=\"1\" class=\"dataframe\">\n",
       "  <thead>\n",
       "    <tr style=\"text-align: right;\">\n",
       "      <th></th>\n",
       "      <th>structureChainId</th>\n",
       "      <th>uniProtId</th>\n",
       "      <th>uniProtName</th>\n",
       "      <th>pdbResNum</th>\n",
       "      <th>ptms</th>\n",
       "    </tr>\n",
       "  </thead>\n",
       "  <tbody>\n",
       "    <tr>\n",
       "      <th>0</th>\n",
       "      <td>4WJL.B</td>\n",
       "      <td>Q8N608</td>\n",
       "      <td>DPP10_HUMAN</td>\n",
       "      <td>[748, 90, 119, 342, 257, 111]</td>\n",
       "      <td>[N-linked Glycosylation, N-linked Glycosylatio...</td>\n",
       "    </tr>\n",
       "    <tr>\n",
       "      <th>1</th>\n",
       "      <td>1XKU.A</td>\n",
       "      <td>P21793</td>\n",
       "      <td>PGS2_BOVIN</td>\n",
       "      <td>[274, 182, 233]</td>\n",
       "      <td>[N-linked Glycosylation, N-linked Glycosylatio...</td>\n",
       "    </tr>\n",
       "    <tr>\n",
       "      <th>2</th>\n",
       "      <td>2Q7N.B</td>\n",
       "      <td>P15018</td>\n",
       "      <td>LIF_HUMAN</td>\n",
       "      <td>[34, 116, 96, 73, 9, 63]</td>\n",
       "      <td>[N-linked Glycosylation, N-linked Glycosylatio...</td>\n",
       "    </tr>\n",
       "    <tr>\n",
       "      <th>3</th>\n",
       "      <td>1E4M.M</td>\n",
       "      <td>P29736</td>\n",
       "      <td>MYRA_SINAL</td>\n",
       "      <td>[482, 361, 346, 244, 60, 292, 343, 90, 265, 21...</td>\n",
       "      <td>[N-linked Glycosylation, N-linked Glycosylatio...</td>\n",
       "    </tr>\n",
       "    <tr>\n",
       "      <th>4</th>\n",
       "      <td>3Q7D.A</td>\n",
       "      <td>Q05769</td>\n",
       "      <td>PGH2_MOUSE</td>\n",
       "      <td>[68, 144, 410]</td>\n",
       "      <td>[N-linked Glycosylation, N-linked Glycosylatio...</td>\n",
       "    </tr>\n",
       "  </tbody>\n",
       "</table>\n",
       "</div>"
      ],
      "text/plain": [
       "  structureChainId uniProtId  uniProtName  \\\n",
       "0           4WJL.B    Q8N608  DPP10_HUMAN   \n",
       "1           1XKU.A    P21793   PGS2_BOVIN   \n",
       "2           2Q7N.B    P15018    LIF_HUMAN   \n",
       "3           1E4M.M    P29736   MYRA_SINAL   \n",
       "4           3Q7D.A    Q05769   PGH2_MOUSE   \n",
       "\n",
       "                                           pdbResNum  \\\n",
       "0                      [748, 90, 119, 342, 257, 111]   \n",
       "1                                    [274, 182, 233]   \n",
       "2                           [34, 116, 96, 73, 9, 63]   \n",
       "3  [482, 361, 346, 244, 60, 292, 343, 90, 265, 21...   \n",
       "4                                     [68, 144, 410]   \n",
       "\n",
       "                                                ptms  \n",
       "0  [N-linked Glycosylation, N-linked Glycosylatio...  \n",
       "1  [N-linked Glycosylation, N-linked Glycosylatio...  \n",
       "2  [N-linked Glycosylation, N-linked Glycosylatio...  \n",
       "3  [N-linked Glycosylation, N-linked Glycosylatio...  \n",
       "4  [N-linked Glycosylation, N-linked Glycosylatio...  "
      ]
     },
     "execution_count": 13,
     "metadata": {},
     "output_type": "execute_result"
    }
   ],
   "source": [
    "pst = st.toPandas()\n",
    "pst.head()"
   ]
  },
  {
   "cell_type": "code",
   "execution_count": 14,
   "metadata": {},
   "outputs": [
    {
     "name": "stdout",
     "output_type": "stream",
     "text": [
      "Time to process data: 169 seconds\n"
     ]
    }
   ],
   "source": [
    "print(\"Time to process data:\", int(round(timeit.default_timer() - start_time,0)), \"seconds\")"
   ]
  },
  {
   "cell_type": "markdown",
   "metadata": {},
   "source": [
    "Setup custom visualization"
   ]
  },
  {
   "cell_type": "code",
   "execution_count": 15,
   "metadata": {},
   "outputs": [],
   "source": [
    "def view_modifications(df, cutoff_distance, *args):\n",
    "\n",
    "    def view3d(show_labels=True,show_bio_assembly=False, show_surface=False, i=0):\n",
    "        pdb_id, chain_id = df.iloc[i]['structureChainId'].split('.')\n",
    "        res_num = df.iloc[i]['pdbResNum']\n",
    "        labels = df.iloc[i]['ptms']\n",
    "        \n",
    "        # print header\n",
    "        print (\"PDB Id: \" + pdb_id + \" chain Id: \" + chain_id)\n",
    "        \n",
    "        # print any specified additional columns from the dataframe\n",
    "        for a in args:\n",
    "            print(a + \": \" + df.iloc[i][a])\n",
    "        \n",
    "        mod_res = {'chain': chain_id, 'resi': res_num}  \n",
    "        \n",
    "        # select neigboring residues by distance\n",
    "        surroundings = {'chain': chain_id, 'resi': res_num, 'byres': True, 'expand': cutoff_distance}\n",
    "        \n",
    "        viewer = py3Dmol.view(query='pdb:' + pdb_id, options={'doAssembly': show_bio_assembly})\n",
    "    \n",
    "        # polymer style\n",
    "        viewer.setStyle({'cartoon': {'color': 'spectrum', 'width': 0.6, 'opacity':0.8}})\n",
    "        # non-polymer style\n",
    "        viewer.setStyle({'hetflag': True}, {'stick':{'radius': 0.3, 'singleBond': False}})\n",
    "        \n",
    "        # style for modifications\n",
    "        viewer.addStyle(surroundings,{'stick':{'colorscheme':'orangeCarbon', 'radius': 0.15}})\n",
    "        viewer.addStyle(mod_res, {'stick':{'colorscheme':'redCarbon', 'radius': 0.4}})\n",
    "        viewer.addStyle(mod_res, {'sphere':{'colorscheme':'gray', 'opacity': 0.7}})\n",
    "        \n",
    "        # set residue labels    \n",
    "        if show_labels:\n",
    "            for residue, label in zip(res_num, labels):\n",
    "                viewer.addLabel(residue + \": \" + label, \\\n",
    "                                {'fontColor':'black', 'fontSize': 8, 'backgroundColor': 'lightgray'}, \\\n",
    "                                {'chain': chain_id, 'resi': residue})\n",
    "\n",
    "        viewer.zoomTo(surroundings)\n",
    "        \n",
    "        if show_surface:\n",
    "            viewer.addSurface(py3Dmol.SES,{'opacity':0.8,'color':'lightblue'})\n",
    "\n",
    "        return viewer.show()\n",
    "       \n",
    "    s_widget = IntSlider(min=0, max=len(df)-1, description='Structure', continuous_update=False)\n",
    "    \n",
    "    return interact(view3d, show_labels=True, show_bio_assembly=False, show_surface=False, i=s_widget)"
   ]
  },
  {
   "cell_type": "markdown",
   "metadata": {},
   "source": [
    "## Visualize Results\n",
    "Residues with reported modifications are shown in an all atom prepresentation as red sticks with transparent spheres. Each modified residue position is labeled by the PDB residue number and the type of the modification. Residues surrounding modified residue (within 6 A) are highlighted as yellow sticks. Small molecules within the structure are rendered as gray sticks."
   ]
  },
  {
   "cell_type": "code",
   "execution_count": 16,
   "metadata": {},
   "outputs": [
    {
     "data": {
      "application/vnd.jupyter.widget-view+json": {
       "model_id": "8c098e83226a498e9ce99a0589253563",
       "version_major": 2,
       "version_minor": 0
      },
      "text/plain": [
       "interactive(children=(Checkbox(value=True, description='show_labels'), Checkbox(value=False, description='show…"
      ]
     },
     "metadata": {},
     "output_type": "display_data"
    }
   ],
   "source": [
    "view_modifications(pst, 6, 'uniProtId', 'uniProtName');"
   ]
  },
  {
   "cell_type": "markdown",
   "metadata": {},
   "source": [
    "Most PTMs occur at the protein surface. To visualize the surface, check the show_surface checkbox above."
   ]
  },
  {
   "cell_type": "code",
   "execution_count": 17,
   "metadata": {},
   "outputs": [],
   "source": [
    "spark.stop()"
   ]
  },
  {
   "cell_type": "code",
   "execution_count": null,
   "metadata": {},
   "outputs": [],
   "source": []
  }
 ],
 "metadata": {
  "kernelspec": {
   "display_name": "Python 3",
   "language": "python",
   "name": "python3"
  },
  "language_info": {
   "codemirror_mode": {
    "name": "ipython",
    "version": 3
   },
   "file_extension": ".py",
   "mimetype": "text/x-python",
   "name": "python",
   "nbconvert_exporter": "python",
   "pygments_lexer": "ipython3",
   "version": "3.6.3"
  }
 },
 "nbformat": 4,
 "nbformat_minor": 2
}

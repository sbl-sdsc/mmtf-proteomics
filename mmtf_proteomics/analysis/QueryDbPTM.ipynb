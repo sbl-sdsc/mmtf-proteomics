{
 "cells": [
  {
   "cell_type": "markdown",
   "metadata": {},
   "source": [
    "## Query Post-translational Modifications from dbPTM and map to 3D Structure\n",
    "\n",
    "Post-translational modifications (PTMs) modulate protein function. By mapping the locations of modified amino acid residues onto 3D protein structures, insights into the effect of PTMs can be obtained.\n",
    "\n",
    "The user can query PTMs from the [dbPTM](http://dbptm.mbc.nctu.edu.tw/) database using a list of UniProt Ids (P13569), UniProt Name (CFTR_HUMAN), or PDB Id.ChainIds (5UAK.A) and map the hits onto 3D structures in the PDB.\n",
    "\n",
    "This notebook uses a compressed and indexed version of data from dbPTM in the ORC file format for fast data queries, retrieval, and parallel processing with [mmtf-pyspark](https://github.com/sbl-sdsc/mmtf-pyspark).\n",
    "\n",
    "[dbPTM](http://dbptm.mbc.nctu.edu.tw/) contains about 30 types of PTMs for more than 900,000 amino acid residues.\n",
    "\n",
    "Reference:\n",
    "\n",
    "dbPTM 2016: 10-year anniversary of a resource for post-translational modification of proteins.\n",
    "Huang KY, Su MG, Kao HJ, Hsieh YC, Jhong JH, Cheng KH, Huang HD, Lee TY.\n",
    "Nucleic Acids Res. (2016) 44(D1):D435-46. [doi: 10.1093/nar/gkv1240](https://doi.org/10.1093/nar/gkv1240)."
   ]
  },
  {
   "cell_type": "code",
   "execution_count": 1,
   "metadata": {},
   "outputs": [],
   "source": [
    "import warnings\n",
    "warnings.filterwarnings(\"ignore\") # numpy version issue?\n",
    "from pyspark.sql import SparkSession\n",
    "from pyspark.sql.functions import collect_set, collect_list, col, concat_ws\n",
    "from ipywidgets import interact, IntSlider, widgets\n",
    "from IPython.display import display\n",
    "from mmtfPyspark.datasets import pdbToUniProt, dbPtmDataset\n",
    "import py3Dmol\n",
    "import timeit"
   ]
  },
  {
   "cell_type": "code",
   "execution_count": 2,
   "metadata": {},
   "outputs": [],
   "source": [
    "start_time = timeit.default_timer()"
   ]
  },
  {
   "cell_type": "code",
   "execution_count": 3,
   "metadata": {},
   "outputs": [],
   "source": [
    "spark = SparkSession.builder.master(\"local[4]\").appName(\"dbSNPTo3D\").getOrCreate()"
   ]
  },
  {
   "cell_type": "markdown",
   "metadata": {},
   "source": [
    "## Query PTMs by an Identifier"
   ]
  },
  {
   "cell_type": "code",
   "execution_count": 4,
   "metadata": {},
   "outputs": [],
   "source": [
    "field = widgets.Dropdown(options=['uniProtId','uniProtName','structureChainId'],description='Select field:')\n",
    "selection = widgets.Textarea(description='Enter id(s):', value='P13569')"
   ]
  },
  {
   "cell_type": "markdown",
   "metadata": {},
   "source": [
    "Select query field and enter a comma separated list of ids.\n",
    "\n",
    "uniProtId: P13569\n",
    "\n",
    "uniProtName: CFTR_HUMAN\n",
    "\n",
    "structureChainId: 5UAK.A, 5TFB.A"
   ]
  },
  {
   "cell_type": "code",
   "execution_count": 5,
   "metadata": {},
   "outputs": [
    {
     "data": {
      "application/vnd.jupyter.widget-view+json": {
       "model_id": "2b6768d5b1ad4d2caaf80745fde74492",
       "version_major": 2,
       "version_minor": 0
      },
      "text/plain": [
       "Dropdown(description='Select field:', options=('uniProtId', 'uniProtName', 'structureChainId'), value='uniProt…"
      ]
     },
     "metadata": {},
     "output_type": "display_data"
    },
    {
     "data": {
      "application/vnd.jupyter.widget-view+json": {
       "model_id": "147655236750437a9d13b3e5a55ef59b",
       "version_major": 2,
       "version_minor": 0
      },
      "text/plain": [
       "Textarea(value='P13569', description='Enter id(s):')"
      ]
     },
     "metadata": {},
     "output_type": "display_data"
    }
   ],
   "source": [
    "display(field)\n",
    "display(selection)"
   ]
  },
  {
   "cell_type": "markdown",
   "metadata": {},
   "source": [
    "## Create query string"
   ]
  },
  {
   "cell_type": "code",
   "execution_count": 6,
   "metadata": {},
   "outputs": [
    {
     "name": "stdout",
     "output_type": "stream",
     "text": [
      "Query: uniProtId IN ('P13569')\n"
     ]
    }
   ],
   "source": [
    "query = field.value + \" IN \" + str(selection.value.split(',')).replace(\"[\",'(').replace(\"]\",')').replace(\" \", \"\")\n",
    "print(\"Query: \" + query)"
   ]
  },
  {
   "cell_type": "markdown",
   "metadata": {},
   "source": [
    "## Read dbPTM dataset"
   ]
  },
  {
   "cell_type": "code",
   "execution_count": 7,
   "metadata": {},
   "outputs": [
    {
     "name": "stdout",
     "output_type": "stream",
     "text": [
      "Total number of PTMs:  906354\n",
      "+-----------+---------+-------------+---------------+--------------------+--------------------+\n",
      "|uniProtName|uniProtId|uniProtSeqNum|        ptmType|           pubMedIds|     sequenceSegment|\n",
      "+-----------+---------+-------------+---------------+--------------------+--------------------+\n",
      "|14310_ARATH|   P48347|          209|Phosphorylation|[23328941, 23572148]|AFDDAIAELDSLNEESY...|\n",
      "|14310_ARATH|   P48347|          233|Phosphorylation|          [23572148]|QLLRDNLTLWTSDLNEE...|\n",
      "|14310_ARATH|   P48347|          234|Phosphorylation|          [18463617]|LLRDNLTLWTSDLNEEG...|\n",
      "|14310_ARATH|   P48347|          244|Phosphorylation|[23572148, 204668...|SDLNEEGDERTKGADEP...|\n",
      "|14312_ARATH|   Q9C5W6|           41|Phosphorylation|[22631563, 242438...|ETMKKVARVNSELTVEE...|\n",
      "+-----------+---------+-------------+---------------+--------------------+--------------------+\n",
      "only showing top 5 rows\n",
      "\n"
     ]
    }
   ],
   "source": [
    "db_ptm = dbPtmDataset.get_ptm_dataset()\n",
    "print(\"Total number of PTMs: \", db_ptm.count())\n",
    "db_ptm.show(5)"
   ]
  },
  {
   "cell_type": "markdown",
   "metadata": {},
   "source": [
    "Filter by UniProt identifiers"
   ]
  },
  {
   "cell_type": "code",
   "execution_count": 8,
   "metadata": {},
   "outputs": [
    {
     "name": "stdout",
     "output_type": "stream",
     "text": [
      "Filtered by query: uniProtId IN ('P13569')\n",
      "Number of PTMs after query: 45\n"
     ]
    }
   ],
   "source": [
    "if field.value in ['uniProtId','uniProtName']:\n",
    "    df = db_ptm.filter(query)\n",
    "    print(\"Filtered by query:\", query)\n",
    "    print(\"Number of PTMs matching query:\", df.count())\n",
    "else:\n",
    "    df = db_ptm"
   ]
  },
  {
   "cell_type": "markdown",
   "metadata": {},
   "source": [
    "## Get PDB to UniProt Residue Mappings"
   ]
  },
  {
   "cell_type": "raw",
   "metadata": {},
   "source": [
    "Download PDB to UniProt mappings and filter out residues that were not observed in the 3D structure."
   ]
  },
  {
   "cell_type": "code",
   "execution_count": 9,
   "metadata": {},
   "outputs": [
    {
     "name": "stdout",
     "output_type": "stream",
     "text": [
      "Number of PDB to UniProt mappings: 98498569\n",
      "+----------------+---------+---------+---------+----------+\n",
      "|structureChainId|pdbResNum|pdbSeqNum|uniprotId|uniprotNum|\n",
      "+----------------+---------+---------+---------+----------+\n",
      "|          1A5E.A|        1|        1|   P42771|         1|\n",
      "|          1A5E.A|        2|        2|   P42771|         2|\n",
      "|          1A5E.A|        3|        3|   P42771|         3|\n",
      "|          1A5E.A|        4|        4|   P42771|         4|\n",
      "|          1A5E.A|        5|        5|   P42771|         5|\n",
      "+----------------+---------+---------+---------+----------+\n",
      "only showing top 5 rows\n",
      "\n"
     ]
    }
   ],
   "source": [
    "up = pdbToUniProt.get_cached_residue_mappings().filter(\"pdbResNum IS NOT NULL\")\n",
    "print(\"Number of PDB to UniProt mappings:\", up.count())\n",
    "up.show(5)"
   ]
  },
  {
   "cell_type": "markdown",
   "metadata": {},
   "source": [
    "Filter by structureChainIds"
   ]
  },
  {
   "cell_type": "code",
   "execution_count": 10,
   "metadata": {},
   "outputs": [],
   "source": [
    "if field.value == 'structureChainId':\n",
    "    print(\"Filtered by query: \", query)\n",
    "    up = up.filter(query)"
   ]
  },
  {
   "cell_type": "markdown",
   "metadata": {},
   "source": [
    "Find the intersection between the PTM dataset and PDB to UniProt mappings"
   ]
  },
  {
   "cell_type": "code",
   "execution_count": 11,
   "metadata": {},
   "outputs": [],
   "source": [
    "up = up.withColumnRenamed(\"uniprotId\",\"unpId\")\n",
    "st = up.join(df, (up.unpId == df.uniProtId) & (up.uniprotNum == df.uniProtSeqNum)).drop(\"unpId\")"
   ]
  },
  {
   "cell_type": "markdown",
   "metadata": {},
   "source": [
    "Show some sample data"
   ]
  },
  {
   "cell_type": "code",
   "execution_count": 12,
   "metadata": {},
   "outputs": [
    {
     "name": "stdout",
     "output_type": "stream",
     "text": [
      "Hits: 317\n"
     ]
    },
    {
     "data": {
      "text/html": [
       "<div>\n",
       "<style scoped>\n",
       "    .dataframe tbody tr th:only-of-type {\n",
       "        vertical-align: middle;\n",
       "    }\n",
       "\n",
       "    .dataframe tbody tr th {\n",
       "        vertical-align: top;\n",
       "    }\n",
       "\n",
       "    .dataframe thead th {\n",
       "        text-align: right;\n",
       "    }\n",
       "</style>\n",
       "<table border=\"1\" class=\"dataframe\">\n",
       "  <thead>\n",
       "    <tr style=\"text-align: right;\">\n",
       "      <th></th>\n",
       "      <th>structureChainId</th>\n",
       "      <th>pdbResNum</th>\n",
       "      <th>pdbSeqNum</th>\n",
       "      <th>uniprotNum</th>\n",
       "      <th>uniProtName</th>\n",
       "      <th>uniProtId</th>\n",
       "      <th>uniProtSeqNum</th>\n",
       "      <th>ptmType</th>\n",
       "      <th>pubMedIds</th>\n",
       "      <th>sequenceSegment</th>\n",
       "    </tr>\n",
       "  </thead>\n",
       "  <tbody>\n",
       "    <tr>\n",
       "      <th>0</th>\n",
       "      <td>2PZG.B</td>\n",
       "      <td>604</td>\n",
       "      <td>199</td>\n",
       "      <td>604</td>\n",
       "      <td>CFTR_HUMAN</td>\n",
       "      <td>P13569</td>\n",
       "      <td>604</td>\n",
       "      <td>Phosphorylation</td>\n",
       "      <td>[12588899, 14695900, 16381945, 23193290, 22135...</td>\n",
       "      <td>LMANKTRILVTSKMEHLKKAD</td>\n",
       "    </tr>\n",
       "    <tr>\n",
       "      <th>1</th>\n",
       "      <td>2BBT.A</td>\n",
       "      <td>604</td>\n",
       "      <td>216</td>\n",
       "      <td>604</td>\n",
       "      <td>CFTR_HUMAN</td>\n",
       "      <td>P13569</td>\n",
       "      <td>604</td>\n",
       "      <td>Phosphorylation</td>\n",
       "      <td>[12588899, 14695900, 16381945, 23193290, 22135...</td>\n",
       "      <td>LMANKTRILVTSKMEHLKKAD</td>\n",
       "    </tr>\n",
       "    <tr>\n",
       "      <th>2</th>\n",
       "      <td>5TFG.A</td>\n",
       "      <td>582</td>\n",
       "      <td>165</td>\n",
       "      <td>582</td>\n",
       "      <td>CFTR_HUMAN</td>\n",
       "      <td>P13569</td>\n",
       "      <td>582</td>\n",
       "      <td>Phosphorylation</td>\n",
       "      <td>[12588899, 14695900, 16381945, 23193290, 22135...</td>\n",
       "      <td>DSPFGYLDVLTEKEIFESCVC</td>\n",
       "    </tr>\n",
       "    <tr>\n",
       "      <th>3</th>\n",
       "      <td>5UAK.A</td>\n",
       "      <td>549</td>\n",
       "      <td>549</td>\n",
       "      <td>549</td>\n",
       "      <td>CFTR_HUMAN</td>\n",
       "      <td>P13569</td>\n",
       "      <td>549</td>\n",
       "      <td>Phosphorylation</td>\n",
       "      <td>[20068231]</td>\n",
       "      <td>IVLGEGGITLSGGQRARISLA</td>\n",
       "    </tr>\n",
       "    <tr>\n",
       "      <th>4</th>\n",
       "      <td>5TFI.A</td>\n",
       "      <td>605</td>\n",
       "      <td>188</td>\n",
       "      <td>605</td>\n",
       "      <td>CFTR_HUMAN</td>\n",
       "      <td>P13569</td>\n",
       "      <td>605</td>\n",
       "      <td>Phosphorylation</td>\n",
       "      <td>[22135298]</td>\n",
       "      <td>MANKTRILVTSKMEHLKKADK</td>\n",
       "    </tr>\n",
       "  </tbody>\n",
       "</table>\n",
       "</div>"
      ],
      "text/plain": [
       "  structureChainId pdbResNum  pdbSeqNum  uniprotNum uniProtName uniProtId  \\\n",
       "0           2PZG.B       604        199         604  CFTR_HUMAN    P13569   \n",
       "1           2BBT.A       604        216         604  CFTR_HUMAN    P13569   \n",
       "2           5TFG.A       582        165         582  CFTR_HUMAN    P13569   \n",
       "3           5UAK.A       549        549         549  CFTR_HUMAN    P13569   \n",
       "4           5TFI.A       605        188         605  CFTR_HUMAN    P13569   \n",
       "\n",
       "   uniProtSeqNum          ptmType  \\\n",
       "0            604  Phosphorylation   \n",
       "1            604  Phosphorylation   \n",
       "2            582  Phosphorylation   \n",
       "3            549  Phosphorylation   \n",
       "4            605  Phosphorylation   \n",
       "\n",
       "                                           pubMedIds        sequenceSegment  \n",
       "0  [12588899, 14695900, 16381945, 23193290, 22135...  LMANKTRILVTSKMEHLKKAD  \n",
       "1  [12588899, 14695900, 16381945, 23193290, 22135...  LMANKTRILVTSKMEHLKKAD  \n",
       "2  [12588899, 14695900, 16381945, 23193290, 22135...  DSPFGYLDVLTEKEIFESCVC  \n",
       "3                                         [20068231]  IVLGEGGITLSGGQRARISLA  \n",
       "4                                         [22135298]  MANKTRILVTSKMEHLKKADK  "
      ]
     },
     "execution_count": 12,
     "metadata": {},
     "output_type": "execute_result"
    }
   ],
   "source": [
    "hits = st.count()\n",
    "print(\"Hits:\", hits)\n",
    "st.sample(False, 5/hits).toPandas().head()"
   ]
  },
  {
   "cell_type": "markdown",
   "metadata": {},
   "source": [
    "## Aggregate PTM data on a residue- and chain-level"
   ]
  },
  {
   "cell_type": "code",
   "execution_count": 13,
   "metadata": {},
   "outputs": [],
   "source": [
    "st = st.groupBy(\"structureChainId\",\"pdbResNum\",\"uniProtId\",\"uniProtName\").agg(collect_set(\"ptmType\").alias(\"ptms\"))\n",
    "st = st.withColumn(\"ptms\", concat_ws((\",\"), col(\"ptms\")))\n",
    "st = st.groupBy(\"structureChainId\",\"uniProtId\",\"uniProtName\").agg(collect_list(\"pdbResNum\").alias(\"pdbResNum\"), collect_list(\"ptms\").alias(\"ptms\"))"
   ]
  },
  {
   "cell_type": "markdown",
   "metadata": {},
   "source": [
    "Convert aggregated data to Pandas and display some results"
   ]
  },
  {
   "cell_type": "code",
   "execution_count": 14,
   "metadata": {},
   "outputs": [
    {
     "data": {
      "text/html": [
       "<div>\n",
       "<style scoped>\n",
       "    .dataframe tbody tr th:only-of-type {\n",
       "        vertical-align: middle;\n",
       "    }\n",
       "\n",
       "    .dataframe tbody tr th {\n",
       "        vertical-align: top;\n",
       "    }\n",
       "\n",
       "    .dataframe thead th {\n",
       "        text-align: right;\n",
       "    }\n",
       "</style>\n",
       "<table border=\"1\" class=\"dataframe\">\n",
       "  <thead>\n",
       "    <tr style=\"text-align: right;\">\n",
       "      <th></th>\n",
       "      <th>structureChainId</th>\n",
       "      <th>uniProtId</th>\n",
       "      <th>uniProtName</th>\n",
       "      <th>pdbResNum</th>\n",
       "      <th>ptms</th>\n",
       "    </tr>\n",
       "  </thead>\n",
       "  <tbody>\n",
       "    <tr>\n",
       "      <th>0</th>\n",
       "      <td>5TFB.A</td>\n",
       "      <td>P13569</td>\n",
       "      <td>CFTR_HUMAN</td>\n",
       "      <td>[582, 604, 515, 511, 549, 524, 512, 605]</td>\n",
       "      <td>[Phosphorylation, Phosphorylation, Phosphoryla...</td>\n",
       "    </tr>\n",
       "    <tr>\n",
       "      <th>1</th>\n",
       "      <td>2PZE.A</td>\n",
       "      <td>P13569</td>\n",
       "      <td>CFTR_HUMAN</td>\n",
       "      <td>[524, 512, 511, 515, 641, 549, 582, 605, 604]</td>\n",
       "      <td>[Palmitoylation, Phosphorylation, Phosphorylat...</td>\n",
       "    </tr>\n",
       "    <tr>\n",
       "      <th>2</th>\n",
       "      <td>2PZF.B</td>\n",
       "      <td>P13569</td>\n",
       "      <td>CFTR_HUMAN</td>\n",
       "      <td>[604, 605, 511, 549, 582, 515, 524, 512]</td>\n",
       "      <td>[Phosphorylation, Phosphorylation, Phosphoryla...</td>\n",
       "    </tr>\n",
       "    <tr>\n",
       "      <th>3</th>\n",
       "      <td>4WZ6.A</td>\n",
       "      <td>P13569</td>\n",
       "      <td>CFTR_HUMAN</td>\n",
       "      <td>[603, 581, 659, 510, 669, 548, 604, 640, 523, ...</td>\n",
       "      <td>[Phosphorylation, Phosphorylation, Phosphoryla...</td>\n",
       "    </tr>\n",
       "    <tr>\n",
       "      <th>4</th>\n",
       "      <td>5TFI.A</td>\n",
       "      <td>P13569</td>\n",
       "      <td>CFTR_HUMAN</td>\n",
       "      <td>[511, 582, 515, 605, 604, 549, 524, 512]</td>\n",
       "      <td>[Phosphorylation, Phosphorylation, Phosphoryla...</td>\n",
       "    </tr>\n",
       "  </tbody>\n",
       "</table>\n",
       "</div>"
      ],
      "text/plain": [
       "  structureChainId uniProtId uniProtName  \\\n",
       "0           5TFB.A    P13569  CFTR_HUMAN   \n",
       "1           2PZE.A    P13569  CFTR_HUMAN   \n",
       "2           2PZF.B    P13569  CFTR_HUMAN   \n",
       "3           4WZ6.A    P13569  CFTR_HUMAN   \n",
       "4           5TFI.A    P13569  CFTR_HUMAN   \n",
       "\n",
       "                                           pdbResNum  \\\n",
       "0           [582, 604, 515, 511, 549, 524, 512, 605]   \n",
       "1      [524, 512, 511, 515, 641, 549, 582, 605, 604]   \n",
       "2           [604, 605, 511, 549, 582, 515, 524, 512]   \n",
       "3  [603, 581, 659, 510, 669, 548, 604, 640, 523, ...   \n",
       "4           [511, 582, 515, 605, 604, 549, 524, 512]   \n",
       "\n",
       "                                                ptms  \n",
       "0  [Phosphorylation, Phosphorylation, Phosphoryla...  \n",
       "1  [Palmitoylation, Phosphorylation, Phosphorylat...  \n",
       "2  [Phosphorylation, Phosphorylation, Phosphoryla...  \n",
       "3  [Phosphorylation, Phosphorylation, Phosphoryla...  \n",
       "4  [Phosphorylation, Phosphorylation, Phosphoryla...  "
      ]
     },
     "execution_count": 14,
     "metadata": {},
     "output_type": "execute_result"
    }
   ],
   "source": [
    "pst = st.toPandas()\n",
    "pst.head()"
   ]
  },
  {
   "cell_type": "code",
   "execution_count": 15,
   "metadata": {},
   "outputs": [
    {
     "name": "stdout",
     "output_type": "stream",
     "text": [
      "Time to process data: 87 seconds\n"
     ]
    }
   ],
   "source": [
    "print(\"Time to process data:\", int(round(timeit.default_timer() - start_time,0)), \"seconds\")"
   ]
  },
  {
   "cell_type": "markdown",
   "metadata": {},
   "source": [
    "Setup custom visualization"
   ]
  },
  {
   "cell_type": "code",
   "execution_count": 16,
   "metadata": {},
   "outputs": [],
   "source": [
    "def view_modifications(df, cutoff_distance, *args):\n",
    "\n",
    "    def view3d(show_labels=True,show_bio_assembly=False, show_surface=False, i=0):\n",
    "        pdb_id, chain_id = df.iloc[i]['structureChainId'].split('.')\n",
    "        res_num = df.iloc[i]['pdbResNum']\n",
    "        labels = df.iloc[i]['ptms']\n",
    "        \n",
    "        # print header\n",
    "        print (\"PDB Id: \" + pdb_id + \" chain Id: \" + chain_id)\n",
    "        \n",
    "        # print any specified additional columns from the dataframe\n",
    "        for a in args:\n",
    "            print(a + \": \" + df.iloc[i][a])\n",
    "        \n",
    "        mod_res = {'chain': chain_id, 'resi': res_num}  \n",
    "        \n",
    "        # select neigboring residues by distance\n",
    "        surroundings = {'chain': chain_id, 'resi': res_num, 'byres': True, 'expand': cutoff_distance}\n",
    "        \n",
    "        viewer = py3Dmol.view(query='pdb:' + pdb_id, options={'doAssembly': show_bio_assembly})\n",
    "    \n",
    "        # polymer style\n",
    "        viewer.setStyle({'cartoon': {'color': 'spectrum', 'width': 0.6, 'opacity':0.8}})\n",
    "        # non-polymer style\n",
    "        viewer.setStyle({'hetflag': True}, {'stick':{'radius': 0.3, 'singleBond': False}})\n",
    "        \n",
    "        # style for modifications\n",
    "        viewer.addStyle(surroundings,{'stick':{'colorscheme':'orangeCarbon', 'radius': 0.15}})\n",
    "        viewer.addStyle(mod_res, {'stick':{'colorscheme':'redCarbon', 'radius': 0.4}})\n",
    "        viewer.addStyle(mod_res, {'sphere':{'colorscheme':'gray', 'opacity': 0.7}})\n",
    "        \n",
    "        # set residue labels    \n",
    "        if show_labels:\n",
    "            for residue, label in zip(res_num, labels):\n",
    "                viewer.addLabel(residue + label, \\\n",
    "                                {'fontColor':'black', 'fontSize': 8, 'backgroundColor': 'lightgray'}, \\\n",
    "                                {'chain': chain_id, 'resi': residue})\n",
    "\n",
    "        viewer.zoomTo(surroundings)\n",
    "        \n",
    "        if show_surface:\n",
    "            viewer.addSurface(py3Dmol.SES,{'opacity':0.8,'color':'lightblue'})\n",
    "\n",
    "        return viewer.show()\n",
    "       \n",
    "    s_widget = IntSlider(min=0, max=len(df)-1, description='Structure', continuous_update=False)\n",
    "    \n",
    "    return interact(view3d, show_labels=True, show_bio_assembly=False, show_surface=False, i=s_widget)"
   ]
  },
  {
   "cell_type": "markdown",
   "metadata": {},
   "source": [
    "## Visualize Results\n",
    "Residues with reported modifications are shown in an all atom prepresentation as read sticks with transparent spheres. Each modified residue position is labeled by the PDB residue number and the type of the modification. Residues surrounding modified residue (within 6 A) are highlighted as yellow sticks. Small molecules within the structure are rendered as gray sticks."
   ]
  },
  {
   "cell_type": "code",
   "execution_count": 17,
   "metadata": {},
   "outputs": [
    {
     "data": {
      "application/vnd.jupyter.widget-view+json": {
       "model_id": "d6b2d11efa79458eb54cbeffb1d75ad6",
       "version_major": 2,
       "version_minor": 0
      },
      "text/plain": [
       "interactive(children=(Checkbox(value=True, description='show_labels'), Checkbox(value=False, description='show…"
      ]
     },
     "metadata": {},
     "output_type": "display_data"
    }
   ],
   "source": [
    "view_modifications(pst, 6, 'uniProtId', 'uniProtName');"
   ]
  },
  {
   "cell_type": "markdown",
   "metadata": {},
   "source": [
    "Most PTMs occur at the protein surface. To visualize the surface, check the show_surface checkbox above."
   ]
  },
  {
   "cell_type": "code",
   "execution_count": 18,
   "metadata": {},
   "outputs": [],
   "source": [
    "spark.stop()"
   ]
  },
  {
   "cell_type": "code",
   "execution_count": null,
   "metadata": {},
   "outputs": [],
   "source": []
  }
 ],
 "metadata": {
  "kernelspec": {
   "display_name": "Python 3",
   "language": "python",
   "name": "python3"
  },
  "language_info": {
   "codemirror_mode": {
    "name": "ipython",
    "version": 3
   },
   "file_extension": ".py",
   "mimetype": "text/x-python",
   "name": "python",
   "nbconvert_exporter": "python",
   "pygments_lexer": "ipython3",
   "version": "3.6.3"
  }
 },
 "nbformat": 4,
 "nbformat_minor": 2
}

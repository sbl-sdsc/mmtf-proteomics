{
 "cells": [
  {
   "cell_type": "markdown",
   "metadata": {},
   "source": [
    "## Query Post-translational Modifications present in 3D Structures of the PDB.\n",
    "\n",
    "Post-translational modifications (PTMs) modulate protein function. By mapping the locations of modified amino acid residues onto 3D protein structures, insights into the effect of PTMs can be obtained.\n",
    "\n",
    "In this notebook PTMs present in PDB structures can be queried by residId, psimodId, uniprotId, and structureChainId. See examples below.\n",
    "\n",
    "Reference:\n",
    "\n",
    "BioJava-ModFinder: identification of protein modifications in 3D structures from the Protein Data Bank (2017) Bioinformatics 33: 2047–2049. [doi: doi.org/10.1093/bioinformatics/btx101](https://doi.org/10.1093/bioinformatics/btx101)"
   ]
  },
  {
   "cell_type": "code",
   "execution_count": 1,
   "metadata": {},
   "outputs": [],
   "source": [
    "import warnings\n",
    "warnings.filterwarnings(\"ignore\") # numpy version issue?\n",
    "from pyspark.sql import SparkSession\n",
    "from pyspark.sql.functions import collect_set, collect_list, col, concat_ws\n",
    "from ipywidgets import interact, IntSlider, widgets\n",
    "from IPython.display import display\n",
    "from mmtfPyspark.datasets import pdbToUniProt, pdbPtmDataset\n",
    "import py3Dmol\n",
    "import timeit"
   ]
  },
  {
   "cell_type": "code",
   "execution_count": 2,
   "metadata": {},
   "outputs": [],
   "source": [
    "start_time = timeit.default_timer()"
   ]
  },
  {
   "cell_type": "code",
   "execution_count": 3,
   "metadata": {},
   "outputs": [],
   "source": [
    "spark = SparkSession.builder.master(\"local[4]\").appName(\"QueryPdbPtm\").getOrCreate()"
   ]
  },
  {
   "cell_type": "markdown",
   "metadata": {},
   "source": [
    "## Query PTMs by an Identifier"
   ]
  },
  {
   "cell_type": "code",
   "execution_count": 4,
   "metadata": {},
   "outputs": [],
   "source": [
    "field = widgets.Dropdown(options=['residId', 'psimodId','uniProtId','structureChainId','all'],description='Select field:')\n",
    "selection = widgets.Textarea(description='Enter id(s):', value='AA0151')"
   ]
  },
  {
   "cell_type": "markdown",
   "metadata": {},
   "source": [
    "Select query field and enter a comma separated list of ids. Examples:\n",
    "\n",
    "residId: AA0151 (N4-(N-acetylamino)glucosyl-L-asparagine)\n",
    "\n",
    "psimodId: MOD:00046, MOD:00047, MOD:00048 (O-phospho-L-serine, O-phospho-L-threonine, O4'-phospho-L-tyrosine)\n",
    "\n",
    "uniProtId: P13569\n",
    "\n",
    "structureChainId: 4ZTN.C"
   ]
  },
  {
   "cell_type": "code",
   "execution_count": 19,
   "metadata": {},
   "outputs": [
    {
     "data": {
      "application/vnd.jupyter.widget-view+json": {
       "model_id": "702b80eedf194b6f9305b54aedfa67de",
       "version_major": 2,
       "version_minor": 0
      },
      "text/plain": [
       "Dropdown(description='Select field:', index=1, options=('residId', 'psimodId', 'uniProtId', 'structureChainId'…"
      ]
     },
     "metadata": {},
     "output_type": "display_data"
    },
    {
     "data": {
      "application/vnd.jupyter.widget-view+json": {
       "model_id": "9adab5da3db345538a7599ad46138426",
       "version_major": 2,
       "version_minor": 0
      },
      "text/plain": [
       "Textarea(value='MOD:00046, MOD:00047, MOD:00048', description='Enter id(s):')"
      ]
     },
     "metadata": {},
     "output_type": "display_data"
    }
   ],
   "source": [
    "display(field)\n",
    "display(selection)"
   ]
  },
  {
   "cell_type": "markdown",
   "metadata": {},
   "source": [
    "## Create query string"
   ]
  },
  {
   "cell_type": "code",
   "execution_count": 20,
   "metadata": {},
   "outputs": [
    {
     "name": "stdout",
     "output_type": "stream",
     "text": [
      "Query: psimodId IN ('MOD:00046','MOD:00047','MOD:00048')\n"
     ]
    }
   ],
   "source": [
    "query = field.value + \" IN \" + str(selection.value.split(',')).replace(\"[\",'(').replace(\"]\",')').replace(\" \", \"\")\n",
    "print(\"Query: \" + query)"
   ]
  },
  {
   "cell_type": "markdown",
   "metadata": {},
   "source": [
    "## Read dataset of PTMs present in PDB"
   ]
  },
  {
   "cell_type": "code",
   "execution_count": 21,
   "metadata": {},
   "outputs": [
    {
     "name": "stdout",
     "output_type": "stream",
     "text": [
      "Total number of PTM records:  1101048\n"
     ]
    }
   ],
   "source": [
    "db_ptm = pdbPtmDataset.get_ptm_dataset()\n",
    "print(\"Total number of PTM records: \", db_ptm.count())"
   ]
  },
  {
   "cell_type": "markdown",
   "metadata": {},
   "source": [
    "Filter by PTM identifiers"
   ]
  },
  {
   "cell_type": "code",
   "execution_count": 22,
   "metadata": {},
   "outputs": [
    {
     "name": "stdout",
     "output_type": "stream",
     "text": [
      "Filtered by query: psimodId IN ('MOD:00046','MOD:00047','MOD:00048')\n",
      "Number of PTMs matching query: 4570\n",
      "+----------+---------+-------+---------+-------+----+----------------+--------------+\n",
      "|pdbChainId|pdbResNum|residue| psimodId|residId|ccId|        category|modificationId|\n",
      "+----------+---------+-------+---------+-------+----+----------------+--------------+\n",
      "|    1A07.C|      101|    PTR|MOD:00048| AA0039| PTR|modified residue|             8|\n",
      "|    1A07.D|      101|    PTR|MOD:00048| AA0039| PTR|modified residue|             8|\n",
      "|    1A1B.C|      101|    PTR|MOD:00048| AA0039| PTR|modified residue|             8|\n",
      "|    1A1B.D|      101|    PTR|MOD:00048| AA0039| PTR|modified residue|             8|\n",
      "|    1A1C.C|      101|    PTR|MOD:00048| AA0039| PTR|modified residue|             8|\n",
      "+----------+---------+-------+---------+-------+----+----------------+--------------+\n",
      "only showing top 5 rows\n",
      "\n"
     ]
    }
   ],
   "source": [
    "if field.value in ['residId','psimodId']:\n",
    "    df = db_ptm.filter(query)\n",
    "    print(\"Filtered by query:\", query)\n",
    "    print(\"Number of PTMs matching query:\", df.count())\n",
    "    df.show(5)\n",
    "else:\n",
    "    df = db_ptm"
   ]
  },
  {
   "cell_type": "markdown",
   "metadata": {},
   "source": [
    "## Get PDB to UniProt Residue Mappings"
   ]
  },
  {
   "cell_type": "raw",
   "metadata": {},
   "source": [
    "Download PDB to UniProt mappings and filter out residues that were not observed in the 3D structure."
   ]
  },
  {
   "cell_type": "code",
   "execution_count": 23,
   "metadata": {},
   "outputs": [
    {
     "name": "stdout",
     "output_type": "stream",
     "text": [
      "Number of PDB to UniProt mappings: 98498569\n"
     ]
    }
   ],
   "source": [
    "up = pdbToUniProt.get_cached_residue_mappings().filter(\"pdbResNum IS NOT NULL\")\n",
    "print(\"Number of PDB to UniProt mappings:\", up.count())"
   ]
  },
  {
   "cell_type": "markdown",
   "metadata": {},
   "source": [
    "Filter by UniProtID or structureChainIds"
   ]
  },
  {
   "cell_type": "code",
   "execution_count": 24,
   "metadata": {},
   "outputs": [],
   "source": [
    "if field.value in ['uniProtId','structureChainId']:\n",
    "    up = up.filter(query)\n",
    "    print(\"Filtered by query: \", query)\n",
    "    print(\"Number of records matching query:\", up.count())"
   ]
  },
  {
   "cell_type": "markdown",
   "metadata": {},
   "source": [
    "Find the intersection between the PTM dataset and PDB to UniProt mappings"
   ]
  },
  {
   "cell_type": "code",
   "execution_count": 25,
   "metadata": {},
   "outputs": [],
   "source": [
    "df = df.withColumnRenamed(\"pdbResNum\",\"resNum\")\n",
    "st = up.join(df, (up.structureChainId == df.pdbChainId) & (up.pdbResNum == df.resNum)).drop(\"pdbChainId\").drop(\"resNum\")"
   ]
  },
  {
   "cell_type": "markdown",
   "metadata": {},
   "source": [
    "Show some sample data"
   ]
  },
  {
   "cell_type": "code",
   "execution_count": 26,
   "metadata": {},
   "outputs": [
    {
     "name": "stdout",
     "output_type": "stream",
     "text": [
      "Hits: 4481\n"
     ]
    },
    {
     "data": {
      "text/html": [
       "<div>\n",
       "<style scoped>\n",
       "    .dataframe tbody tr th:only-of-type {\n",
       "        vertical-align: middle;\n",
       "    }\n",
       "\n",
       "    .dataframe tbody tr th {\n",
       "        vertical-align: top;\n",
       "    }\n",
       "\n",
       "    .dataframe thead th {\n",
       "        text-align: right;\n",
       "    }\n",
       "</style>\n",
       "<table border=\"1\" class=\"dataframe\">\n",
       "  <thead>\n",
       "    <tr style=\"text-align: right;\">\n",
       "      <th></th>\n",
       "      <th>structureChainId</th>\n",
       "      <th>pdbResNum</th>\n",
       "      <th>pdbSeqNum</th>\n",
       "      <th>uniprotId</th>\n",
       "      <th>uniprotNum</th>\n",
       "      <th>residue</th>\n",
       "      <th>psimodId</th>\n",
       "      <th>residId</th>\n",
       "      <th>ccId</th>\n",
       "      <th>category</th>\n",
       "      <th>modificationId</th>\n",
       "    </tr>\n",
       "  </thead>\n",
       "  <tbody>\n",
       "    <tr>\n",
       "      <th>0</th>\n",
       "      <td>3K0K.B</td>\n",
       "      <td>1</td>\n",
       "      <td>1</td>\n",
       "      <td>None</td>\n",
       "      <td>NaN</td>\n",
       "      <td>SEP</td>\n",
       "      <td>MOD:00046</td>\n",
       "      <td>AA0037</td>\n",
       "      <td>SEP</td>\n",
       "      <td>modified residue</td>\n",
       "      <td>6</td>\n",
       "    </tr>\n",
       "    <tr>\n",
       "      <th>1</th>\n",
       "      <td>2VAG.A</td>\n",
       "      <td>342</td>\n",
       "      <td>197</td>\n",
       "      <td>P49759</td>\n",
       "      <td>342.0</td>\n",
       "      <td>TPO</td>\n",
       "      <td>MOD:00047</td>\n",
       "      <td>AA0038</td>\n",
       "      <td>TPO</td>\n",
       "      <td>modified residue</td>\n",
       "      <td>7</td>\n",
       "    </tr>\n",
       "    <tr>\n",
       "      <th>2</th>\n",
       "      <td>3FBV.J</td>\n",
       "      <td>841</td>\n",
       "      <td>202</td>\n",
       "      <td>P32361</td>\n",
       "      <td>841.0</td>\n",
       "      <td>SEP</td>\n",
       "      <td>MOD:00046</td>\n",
       "      <td>AA0037</td>\n",
       "      <td>SEP</td>\n",
       "      <td>modified residue</td>\n",
       "      <td>6</td>\n",
       "    </tr>\n",
       "    <tr>\n",
       "      <th>3</th>\n",
       "      <td>6H0E.J</td>\n",
       "      <td>422</td>\n",
       "      <td>17</td>\n",
       "      <td>P10637</td>\n",
       "      <td>714.0</td>\n",
       "      <td>SEP</td>\n",
       "      <td>MOD:00046</td>\n",
       "      <td>AA0037</td>\n",
       "      <td>SEP</td>\n",
       "      <td>modified residue</td>\n",
       "      <td>6</td>\n",
       "    </tr>\n",
       "    <tr>\n",
       "      <th>4</th>\n",
       "      <td>1UU7.A</td>\n",
       "      <td>241</td>\n",
       "      <td>191</td>\n",
       "      <td>O15530</td>\n",
       "      <td>241.0</td>\n",
       "      <td>SEP</td>\n",
       "      <td>MOD:00046</td>\n",
       "      <td>AA0037</td>\n",
       "      <td>SEP</td>\n",
       "      <td>modified residue</td>\n",
       "      <td>6</td>\n",
       "    </tr>\n",
       "  </tbody>\n",
       "</table>\n",
       "</div>"
      ],
      "text/plain": [
       "  structureChainId pdbResNum  pdbSeqNum uniprotId  uniprotNum residue  \\\n",
       "0           3K0K.B         1          1      None         NaN     SEP   \n",
       "1           2VAG.A       342        197    P49759       342.0     TPO   \n",
       "2           3FBV.J       841        202    P32361       841.0     SEP   \n",
       "3           6H0E.J       422         17    P10637       714.0     SEP   \n",
       "4           1UU7.A       241        191    O15530       241.0     SEP   \n",
       "\n",
       "    psimodId residId ccId          category  modificationId  \n",
       "0  MOD:00046  AA0037  SEP  modified residue               6  \n",
       "1  MOD:00047  AA0038  TPO  modified residue               7  \n",
       "2  MOD:00046  AA0037  SEP  modified residue               6  \n",
       "3  MOD:00046  AA0037  SEP  modified residue               6  \n",
       "4  MOD:00046  AA0037  SEP  modified residue               6  "
      ]
     },
     "execution_count": 26,
     "metadata": {},
     "output_type": "execute_result"
    }
   ],
   "source": [
    "hits = st.count()\n",
    "print(\"Hits:\", hits)\n",
    "fraction = min(10/hits, 1.0)\n",
    "st.sample(False, fraction).toPandas().head()"
   ]
  },
  {
   "cell_type": "markdown",
   "metadata": {},
   "source": [
    "## Aggregate PTM data by chain-level"
   ]
  },
  {
   "cell_type": "code",
   "execution_count": 27,
   "metadata": {},
   "outputs": [],
   "source": [
    "st = st.groupBy(\"structureChainId\",\"uniprotId\").agg(collect_list(\"pdbResNum\").alias(\"pdbResNum\"), \\\n",
    "                                                    collect_list(\"residId\").alias(\"residId\"), \\\n",
    "                                                    collect_list(\"psimodId\").alias(\"psimodId\"), \\\n",
    "                                                    collect_list(\"ccId\").alias(\"ccId\"))"
   ]
  },
  {
   "cell_type": "markdown",
   "metadata": {},
   "source": [
    "Convert aggregated data to Pandas and display some results"
   ]
  },
  {
   "cell_type": "code",
   "execution_count": 28,
   "metadata": {},
   "outputs": [
    {
     "data": {
      "text/html": [
       "<div>\n",
       "<style scoped>\n",
       "    .dataframe tbody tr th:only-of-type {\n",
       "        vertical-align: middle;\n",
       "    }\n",
       "\n",
       "    .dataframe tbody tr th {\n",
       "        vertical-align: top;\n",
       "    }\n",
       "\n",
       "    .dataframe thead th {\n",
       "        text-align: right;\n",
       "    }\n",
       "</style>\n",
       "<table border=\"1\" class=\"dataframe\">\n",
       "  <thead>\n",
       "    <tr style=\"text-align: right;\">\n",
       "      <th></th>\n",
       "      <th>structureChainId</th>\n",
       "      <th>uniprotId</th>\n",
       "      <th>pdbResNum</th>\n",
       "      <th>residId</th>\n",
       "      <th>psimodId</th>\n",
       "      <th>ccId</th>\n",
       "    </tr>\n",
       "  </thead>\n",
       "  <tbody>\n",
       "    <tr>\n",
       "      <th>0</th>\n",
       "      <td>1P7D.A</td>\n",
       "      <td>P03700</td>\n",
       "      <td>[342]</td>\n",
       "      <td>[AA0039]</td>\n",
       "      <td>[MOD:00048]</td>\n",
       "      <td>[PTR]</td>\n",
       "    </tr>\n",
       "    <tr>\n",
       "      <th>1</th>\n",
       "      <td>2R5L.A</td>\n",
       "      <td>A3F9D6</td>\n",
       "      <td>[198]</td>\n",
       "      <td>[AA0037]</td>\n",
       "      <td>[MOD:00046]</td>\n",
       "      <td>[SEP]</td>\n",
       "    </tr>\n",
       "    <tr>\n",
       "      <th>2</th>\n",
       "      <td>3D9P.Y</td>\n",
       "      <td>P24928</td>\n",
       "      <td>[2]</td>\n",
       "      <td>[AA0037]</td>\n",
       "      <td>[MOD:00046]</td>\n",
       "      <td>[SEP]</td>\n",
       "    </tr>\n",
       "    <tr>\n",
       "      <th>3</th>\n",
       "      <td>4EOP.A</td>\n",
       "      <td>P24941</td>\n",
       "      <td>[160]</td>\n",
       "      <td>[AA0038]</td>\n",
       "      <td>[MOD:00047]</td>\n",
       "      <td>[TPO]</td>\n",
       "    </tr>\n",
       "    <tr>\n",
       "      <th>4</th>\n",
       "      <td>4IB1.S</td>\n",
       "      <td>P61925</td>\n",
       "      <td>[621]</td>\n",
       "      <td>[AA0037]</td>\n",
       "      <td>[MOD:00046]</td>\n",
       "      <td>[SEP]</td>\n",
       "    </tr>\n",
       "    <tr>\n",
       "      <th>5</th>\n",
       "      <td>4O46.H</td>\n",
       "      <td>Q9YP60</td>\n",
       "      <td>[228]</td>\n",
       "      <td>[AA0037]</td>\n",
       "      <td>[MOD:00046]</td>\n",
       "      <td>[SEP]</td>\n",
       "    </tr>\n",
       "    <tr>\n",
       "      <th>6</th>\n",
       "      <td>4YLJ.C</td>\n",
       "      <td>Q13627</td>\n",
       "      <td>[321]</td>\n",
       "      <td>[AA0039]</td>\n",
       "      <td>[MOD:00048]</td>\n",
       "      <td>[PTR]</td>\n",
       "    </tr>\n",
       "    <tr>\n",
       "      <th>7</th>\n",
       "      <td>3F5P.G</td>\n",
       "      <td>P08069</td>\n",
       "      <td>[1161, 1165, 1166]</td>\n",
       "      <td>[AA0039, AA0039, AA0039]</td>\n",
       "      <td>[MOD:00048, MOD:00048, MOD:00048]</td>\n",
       "      <td>[PTR, PTR, PTR]</td>\n",
       "    </tr>\n",
       "    <tr>\n",
       "      <th>8</th>\n",
       "      <td>3ORX.B</td>\n",
       "      <td>O15530</td>\n",
       "      <td>[241]</td>\n",
       "      <td>[AA0037]</td>\n",
       "      <td>[MOD:00046]</td>\n",
       "      <td>[SEP]</td>\n",
       "    </tr>\n",
       "    <tr>\n",
       "      <th>9</th>\n",
       "      <td>3Q32.B</td>\n",
       "      <td>O60674</td>\n",
       "      <td>[1007, 1008]</td>\n",
       "      <td>[AA0039, AA0039]</td>\n",
       "      <td>[MOD:00048, MOD:00048]</td>\n",
       "      <td>[PTR, PTR]</td>\n",
       "    </tr>\n",
       "  </tbody>\n",
       "</table>\n",
       "</div>"
      ],
      "text/plain": [
       "  structureChainId uniprotId           pdbResNum                   residId  \\\n",
       "0           1P7D.A    P03700               [342]                  [AA0039]   \n",
       "1           2R5L.A    A3F9D6               [198]                  [AA0037]   \n",
       "2           3D9P.Y    P24928                 [2]                  [AA0037]   \n",
       "3           4EOP.A    P24941               [160]                  [AA0038]   \n",
       "4           4IB1.S    P61925               [621]                  [AA0037]   \n",
       "5           4O46.H    Q9YP60               [228]                  [AA0037]   \n",
       "6           4YLJ.C    Q13627               [321]                  [AA0039]   \n",
       "7           3F5P.G    P08069  [1161, 1165, 1166]  [AA0039, AA0039, AA0039]   \n",
       "8           3ORX.B    O15530               [241]                  [AA0037]   \n",
       "9           3Q32.B    O60674        [1007, 1008]          [AA0039, AA0039]   \n",
       "\n",
       "                            psimodId             ccId  \n",
       "0                        [MOD:00048]            [PTR]  \n",
       "1                        [MOD:00046]            [SEP]  \n",
       "2                        [MOD:00046]            [SEP]  \n",
       "3                        [MOD:00047]            [TPO]  \n",
       "4                        [MOD:00046]            [SEP]  \n",
       "5                        [MOD:00046]            [SEP]  \n",
       "6                        [MOD:00048]            [PTR]  \n",
       "7  [MOD:00048, MOD:00048, MOD:00048]  [PTR, PTR, PTR]  \n",
       "8                        [MOD:00046]            [SEP]  \n",
       "9             [MOD:00048, MOD:00048]       [PTR, PTR]  "
      ]
     },
     "execution_count": 28,
     "metadata": {},
     "output_type": "execute_result"
    }
   ],
   "source": [
    "pst = st.toPandas()\n",
    "pst.head(10)"
   ]
  },
  {
   "cell_type": "code",
   "execution_count": 29,
   "metadata": {},
   "outputs": [
    {
     "name": "stdout",
     "output_type": "stream",
     "text": [
      "Time to process data: 1756 seconds\n"
     ]
    }
   ],
   "source": [
    "print(\"Time to process data:\", int(round(timeit.default_timer() - start_time,0)), \"seconds\")"
   ]
  },
  {
   "cell_type": "markdown",
   "metadata": {},
   "source": [
    "Setup custom visualization"
   ]
  },
  {
   "cell_type": "code",
   "execution_count": 30,
   "metadata": {},
   "outputs": [],
   "source": [
    "def view_modifications(df, cutoff_distance, *args):\n",
    "\n",
    "    def view3d(show_labels=True,show_bio_assembly=False, show_surface=False, i=0):\n",
    "        pdb_id, chain_id = df.iloc[i]['structureChainId'].split('.')\n",
    "        res_num = df.iloc[i]['pdbResNum']\n",
    "        lab1 = df.iloc[i]['residId']\n",
    "        lab2 = df.iloc[i]['psimodId']\n",
    "        lab3 = df.iloc[i]['ccId']\n",
    "        \n",
    "        # print header\n",
    "        print (\"PDB Id: \" + pdb_id + \" chain Id: \" + chain_id)\n",
    "        \n",
    "        # print any specified additional columns from the dataframe\n",
    "        for a in args:\n",
    "            if df.iloc[i][a]:\n",
    "                print(a + \": \" + df.iloc[i][a])\n",
    "        \n",
    "        mod_res = {'chain': chain_id, 'resi': res_num}  \n",
    "        \n",
    "        # select neigboring residues by distance\n",
    "        surroundings = {'chain': chain_id, 'resi': res_num, 'byres': True, 'expand': cutoff_distance}\n",
    "        \n",
    "        viewer = py3Dmol.view(query='pdb:' + pdb_id, options={'doAssembly': show_bio_assembly})\n",
    "    \n",
    "        # polymer style\n",
    "        viewer.setStyle({'cartoon': {'color': 'spectrum', 'width': 0.6, 'opacity':0.8}})\n",
    "        # non-polymer style\n",
    "        viewer.setStyle({'hetflag': True}, {'stick':{'radius': 0.3, 'singleBond': False}})\n",
    "        \n",
    "        # style for modifications\n",
    "        viewer.addStyle(surroundings,{'stick':{'colorscheme':'orangeCarbon', 'radius': 0.15}})\n",
    "        viewer.addStyle(mod_res, {'stick':{'colorscheme':'redCarbon', 'radius': 0.4}})\n",
    "        viewer.addStyle(mod_res, {'sphere':{'colorscheme':'gray', 'opacity': 0.7}})\n",
    "        \n",
    "        # set residue labels    \n",
    "        if show_labels:\n",
    "            for residue, l1, l2, l3 in zip(res_num, lab1, lab2, lab3):\n",
    "                viewer.addLabel(residue + \": \" + l1 + \" \" + l2 + \" \" + l3, \\\n",
    "                                {'fontColor':'black', 'fontSize': 10, 'backgroundColor': 'lightgray'}, \\\n",
    "                                {'chain': chain_id, 'resi': residue})\n",
    "\n",
    "        viewer.zoomTo(surroundings)\n",
    "        \n",
    "        if show_surface:\n",
    "            viewer.addSurface(py3Dmol.SES,{'opacity':0.8,'color':'lightblue'})\n",
    "\n",
    "        return viewer.show()\n",
    "       \n",
    "    s_widget = IntSlider(min=0, max=len(df)-1, description='Structure', continuous_update=False)\n",
    "    \n",
    "    return interact(view3d, show_labels=True, show_bio_assembly=False, show_surface=False, i=s_widget)"
   ]
  },
  {
   "cell_type": "markdown",
   "metadata": {},
   "source": [
    "## Visualize Results\n",
    "Residues with reported modifications are shown in an all atom prepresentation as red sticks with transparent spheres. Each modified residue position is labeled by the PDB residue number and the type of the modification. Residues surrounding modified residue (within 6 A) are highlighted as yellow sticks. Small molecules within the structure are rendered as gray sticks."
   ]
  },
  {
   "cell_type": "code",
   "execution_count": 31,
   "metadata": {},
   "outputs": [
    {
     "data": {
      "application/vnd.jupyter.widget-view+json": {
       "model_id": "ee553aca5a0b4ff1af2d60451eec2812",
       "version_major": 2,
       "version_minor": 0
      },
      "text/plain": [
       "interactive(children=(Checkbox(value=True, description='show_labels'), Checkbox(value=False, description='show…"
      ]
     },
     "metadata": {},
     "output_type": "display_data"
    }
   ],
   "source": [
    "view_modifications(pst, 6, 'uniprotId');"
   ]
  },
  {
   "cell_type": "markdown",
   "metadata": {},
   "source": [
    "Most PTMs occur at the protein surface. To visualize the surface, check the show_surface checkbox above."
   ]
  },
  {
   "cell_type": "code",
   "execution_count": 32,
   "metadata": {},
   "outputs": [],
   "source": [
    "spark.stop()"
   ]
  },
  {
   "cell_type": "code",
   "execution_count": null,
   "metadata": {},
   "outputs": [],
   "source": []
  }
 ],
 "metadata": {
  "kernelspec": {
   "display_name": "Python 3",
   "language": "python",
   "name": "python3"
  },
  "language_info": {
   "codemirror_mode": {
    "name": "ipython",
    "version": 3
   },
   "file_extension": ".py",
   "mimetype": "text/x-python",
   "name": "python",
   "nbconvert_exporter": "python",
   "pygments_lexer": "ipython3",
   "version": "3.6.3"
  }
 },
 "nbformat": 4,
 "nbformat_minor": 2
}
